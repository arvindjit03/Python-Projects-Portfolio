{
 "cells": [
  {
   "cell_type": "code",
   "execution_count": 1,
   "metadata": {
    "collapsed": true
   },
   "outputs": [
    {
     "name": "stderr",
     "output_type": "stream",
     "text": [
      "\n",
      "Bad key text.latex.unicode in file C:\\Users\\Arvind Maan\\Anaconda3\\lib\\site-packages\\matplotlib\\mpl-data\\stylelib\\_classic_test.mplstyle, line 112 ('text.latex.unicode : False # use \"ucs\" and \"inputenc\" LaTeX packages for handling')\n",
      "You probably need to get an updated matplotlibrc file from\n",
      "https://github.com/matplotlib/matplotlib/blob/v3.3.4/matplotlibrc.template\n",
      "or from the matplotlib source distribution\n",
      "\n",
      "Bad key savefig.frameon in file C:\\Users\\Arvind Maan\\Anaconda3\\lib\\site-packages\\matplotlib\\mpl-data\\stylelib\\_classic_test.mplstyle, line 423 ('savefig.frameon : True')\n",
      "You probably need to get an updated matplotlibrc file from\n",
      "https://github.com/matplotlib/matplotlib/blob/v3.3.4/matplotlibrc.template\n",
      "or from the matplotlib source distribution\n",
      "\n",
      "Bad key pgf.debug in file C:\\Users\\Arvind Maan\\Anaconda3\\lib\\site-packages\\matplotlib\\mpl-data\\stylelib\\_classic_test.mplstyle, line 444 ('pgf.debug           : False')\n",
      "You probably need to get an updated matplotlibrc file from\n",
      "https://github.com/matplotlib/matplotlib/blob/v3.3.4/matplotlibrc.template\n",
      "or from the matplotlib source distribution\n",
      "\n",
      "Bad key verbose.level in file C:\\Users\\Arvind Maan\\Anaconda3\\lib\\site-packages\\matplotlib\\mpl-data\\stylelib\\_classic_test.mplstyle, line 475 ('verbose.level  : silent      # one of silent, helpful, debug, debug-annoying')\n",
      "You probably need to get an updated matplotlibrc file from\n",
      "https://github.com/matplotlib/matplotlib/blob/v3.3.4/matplotlibrc.template\n",
      "or from the matplotlib source distribution\n",
      "\n",
      "Bad key verbose.fileo in file C:\\Users\\Arvind Maan\\Anaconda3\\lib\\site-packages\\matplotlib\\mpl-data\\stylelib\\_classic_test.mplstyle, line 476 ('verbose.fileo  : sys.stdout  # a log filename, sys.stdout or sys.stderr')\n",
      "You probably need to get an updated matplotlibrc file from\n",
      "https://github.com/matplotlib/matplotlib/blob/v3.3.4/matplotlibrc.template\n",
      "or from the matplotlib source distribution\n",
      "In C:\\Users\\Arvind Maan\\Anaconda3\\lib\\site-packages\\matplotlib\\mpl-data\\stylelib\\_classic_test.mplstyle: \n",
      "The text.latex.preview rcparam was deprecated in Matplotlib 3.3 and will be removed two minor releases later.\n",
      "In C:\\Users\\Arvind Maan\\Anaconda3\\lib\\site-packages\\matplotlib\\mpl-data\\stylelib\\_classic_test.mplstyle: \n",
      "The mathtext.fallback_to_cm rcparam was deprecated in Matplotlib 3.3 and will be removed two minor releases later.\n",
      "In C:\\Users\\Arvind Maan\\Anaconda3\\lib\\site-packages\\matplotlib\\mpl-data\\stylelib\\_classic_test.mplstyle: Support for setting the 'mathtext.fallback_to_cm' rcParam is deprecated since 3.3 and will be removed two minor releases later; use 'mathtext.fallback : 'cm' instead.\n",
      "In C:\\Users\\Arvind Maan\\Anaconda3\\lib\\site-packages\\matplotlib\\mpl-data\\stylelib\\_classic_test.mplstyle: \n",
      "The validate_bool_maybe_none function was deprecated in Matplotlib 3.3 and will be removed two minor releases later.\n",
      "In C:\\Users\\Arvind Maan\\Anaconda3\\lib\\site-packages\\matplotlib\\mpl-data\\stylelib\\_classic_test.mplstyle: \n",
      "The savefig.jpeg_quality rcparam was deprecated in Matplotlib 3.3 and will be removed two minor releases later.\n",
      "In C:\\Users\\Arvind Maan\\Anaconda3\\lib\\site-packages\\matplotlib\\mpl-data\\stylelib\\_classic_test.mplstyle: \n",
      "The keymap.all_axes rcparam was deprecated in Matplotlib 3.3 and will be removed two minor releases later.\n",
      "In C:\\Users\\Arvind Maan\\Anaconda3\\lib\\site-packages\\matplotlib\\mpl-data\\stylelib\\_classic_test.mplstyle: \n",
      "The animation.avconv_path rcparam was deprecated in Matplotlib 3.3 and will be removed two minor releases later.\n",
      "In C:\\Users\\Arvind Maan\\Anaconda3\\lib\\site-packages\\matplotlib\\mpl-data\\stylelib\\_classic_test.mplstyle: \n",
      "The animation.avconv_args rcparam was deprecated in Matplotlib 3.3 and will be removed two minor releases later.\n"
     ]
    }
   ],
   "source": [
    "# Importing the libraries\n",
    "import pandas as pd\n",
    "import numpy as np\n",
    "import matplotlib.pyplot as plt\n",
    "import seaborn as sns\n",
    "\n",
    "\n",
    "# importing the models\n",
    "\n",
    "from sklearn.linear_model import LinearRegression, LogisticRegression\n",
    "from sklearn.svm  import SVC\n",
    "from sklearn.neighbors import KNeighborsClassifier\n",
    "from sklearn.metrics import confusion_matrix, classification_report, accuracy_score\n",
    "from sklearn.model_selection import train_test_split\n",
    "from sklearn.tree import DecisionTreeClassifier\n",
    "from sklearn.ensemble import RandomForestClassifier\n",
    "\n",
    "import warnings\n",
    "warnings.filterwarnings('ignore')"
   ]
  },
  {
   "cell_type": "code",
   "execution_count": 5,
   "metadata": {},
   "outputs": [],
   "source": [
    "# Dataset\n",
    "\n",
    "df = pd.read_csv('D:/Kaggle/heart_failure_clinical_records_dataset.csv')"
   ]
  },
  {
   "cell_type": "markdown",
   "metadata": {},
   "source": [
    "**Data Preprocessing**"
   ]
  },
  {
   "cell_type": "code",
   "execution_count": 6,
   "metadata": {},
   "outputs": [
    {
     "name": "stdout",
     "output_type": "stream",
     "text": [
      "Number Of Rows : 299\n",
      "Number Of Columns : 13\n"
     ]
    }
   ],
   "source": [
    "row, column = df.shape\n",
    "\n",
    "print(f\"Number Of Rows : {row}\")\n",
    "print(f\"Number Of Columns : {column}\")"
   ]
  },
  {
   "cell_type": "code",
   "execution_count": 7,
   "metadata": {},
   "outputs": [
    {
     "name": "stdout",
     "output_type": "stream",
     "text": [
      "<class 'pandas.core.frame.DataFrame'>\n",
      "RangeIndex: 299 entries, 0 to 298\n",
      "Data columns (total 13 columns):\n",
      " #   Column                    Non-Null Count  Dtype  \n",
      "---  ------                    --------------  -----  \n",
      " 0   age                       299 non-null    float64\n",
      " 1   anaemia                   299 non-null    int64  \n",
      " 2   creatinine_phosphokinase  299 non-null    int64  \n",
      " 3   diabetes                  299 non-null    int64  \n",
      " 4   ejection_fraction         299 non-null    int64  \n",
      " 5   high_blood_pressure       299 non-null    int64  \n",
      " 6   platelets                 299 non-null    float64\n",
      " 7   serum_creatinine          299 non-null    float64\n",
      " 8   serum_sodium              299 non-null    int64  \n",
      " 9   sex                       299 non-null    int64  \n",
      " 10  smoking                   299 non-null    int64  \n",
      " 11  time                      299 non-null    int64  \n",
      " 12  DEATH_EVENT               299 non-null    int64  \n",
      "dtypes: float64(3), int64(10)\n",
      "memory usage: 30.5 KB\n"
     ]
    }
   ],
   "source": [
    "# Getting Information About Data\n",
    "\n",
    "df.info()"
   ]
  },
  {
   "cell_type": "code",
   "execution_count": 8,
   "metadata": {},
   "outputs": [
    {
     "data": {
      "text/html": [
       "<div>\n",
       "<style scoped>\n",
       "    .dataframe tbody tr th:only-of-type {\n",
       "        vertical-align: middle;\n",
       "    }\n",
       "\n",
       "    .dataframe tbody tr th {\n",
       "        vertical-align: top;\n",
       "    }\n",
       "\n",
       "    .dataframe thead th {\n",
       "        text-align: right;\n",
       "    }\n",
       "</style>\n",
       "<table border=\"1\" class=\"dataframe\">\n",
       "  <thead>\n",
       "    <tr style=\"text-align: right;\">\n",
       "      <th></th>\n",
       "      <th>age</th>\n",
       "      <th>anaemia</th>\n",
       "      <th>creatinine_phosphokinase</th>\n",
       "      <th>diabetes</th>\n",
       "      <th>ejection_fraction</th>\n",
       "      <th>high_blood_pressure</th>\n",
       "      <th>platelets</th>\n",
       "      <th>serum_creatinine</th>\n",
       "      <th>serum_sodium</th>\n",
       "      <th>sex</th>\n",
       "      <th>smoking</th>\n",
       "      <th>time</th>\n",
       "      <th>DEATH_EVENT</th>\n",
       "    </tr>\n",
       "  </thead>\n",
       "  <tbody>\n",
       "    <tr>\n",
       "      <th>count</th>\n",
       "      <td>299.000000</td>\n",
       "      <td>299.000000</td>\n",
       "      <td>299.000000</td>\n",
       "      <td>299.000000</td>\n",
       "      <td>299.000000</td>\n",
       "      <td>299.000000</td>\n",
       "      <td>299.000000</td>\n",
       "      <td>299.00000</td>\n",
       "      <td>299.000000</td>\n",
       "      <td>299.000000</td>\n",
       "      <td>299.00000</td>\n",
       "      <td>299.000000</td>\n",
       "      <td>299.00000</td>\n",
       "    </tr>\n",
       "    <tr>\n",
       "      <th>mean</th>\n",
       "      <td>60.833893</td>\n",
       "      <td>0.431438</td>\n",
       "      <td>581.839465</td>\n",
       "      <td>0.418060</td>\n",
       "      <td>38.083612</td>\n",
       "      <td>0.351171</td>\n",
       "      <td>263358.029264</td>\n",
       "      <td>1.39388</td>\n",
       "      <td>136.625418</td>\n",
       "      <td>0.648829</td>\n",
       "      <td>0.32107</td>\n",
       "      <td>130.260870</td>\n",
       "      <td>0.32107</td>\n",
       "    </tr>\n",
       "    <tr>\n",
       "      <th>std</th>\n",
       "      <td>11.894809</td>\n",
       "      <td>0.496107</td>\n",
       "      <td>970.287881</td>\n",
       "      <td>0.494067</td>\n",
       "      <td>11.834841</td>\n",
       "      <td>0.478136</td>\n",
       "      <td>97804.236869</td>\n",
       "      <td>1.03451</td>\n",
       "      <td>4.412477</td>\n",
       "      <td>0.478136</td>\n",
       "      <td>0.46767</td>\n",
       "      <td>77.614208</td>\n",
       "      <td>0.46767</td>\n",
       "    </tr>\n",
       "    <tr>\n",
       "      <th>min</th>\n",
       "      <td>40.000000</td>\n",
       "      <td>0.000000</td>\n",
       "      <td>23.000000</td>\n",
       "      <td>0.000000</td>\n",
       "      <td>14.000000</td>\n",
       "      <td>0.000000</td>\n",
       "      <td>25100.000000</td>\n",
       "      <td>0.50000</td>\n",
       "      <td>113.000000</td>\n",
       "      <td>0.000000</td>\n",
       "      <td>0.00000</td>\n",
       "      <td>4.000000</td>\n",
       "      <td>0.00000</td>\n",
       "    </tr>\n",
       "    <tr>\n",
       "      <th>25%</th>\n",
       "      <td>51.000000</td>\n",
       "      <td>0.000000</td>\n",
       "      <td>116.500000</td>\n",
       "      <td>0.000000</td>\n",
       "      <td>30.000000</td>\n",
       "      <td>0.000000</td>\n",
       "      <td>212500.000000</td>\n",
       "      <td>0.90000</td>\n",
       "      <td>134.000000</td>\n",
       "      <td>0.000000</td>\n",
       "      <td>0.00000</td>\n",
       "      <td>73.000000</td>\n",
       "      <td>0.00000</td>\n",
       "    </tr>\n",
       "    <tr>\n",
       "      <th>50%</th>\n",
       "      <td>60.000000</td>\n",
       "      <td>0.000000</td>\n",
       "      <td>250.000000</td>\n",
       "      <td>0.000000</td>\n",
       "      <td>38.000000</td>\n",
       "      <td>0.000000</td>\n",
       "      <td>262000.000000</td>\n",
       "      <td>1.10000</td>\n",
       "      <td>137.000000</td>\n",
       "      <td>1.000000</td>\n",
       "      <td>0.00000</td>\n",
       "      <td>115.000000</td>\n",
       "      <td>0.00000</td>\n",
       "    </tr>\n",
       "    <tr>\n",
       "      <th>75%</th>\n",
       "      <td>70.000000</td>\n",
       "      <td>1.000000</td>\n",
       "      <td>582.000000</td>\n",
       "      <td>1.000000</td>\n",
       "      <td>45.000000</td>\n",
       "      <td>1.000000</td>\n",
       "      <td>303500.000000</td>\n",
       "      <td>1.40000</td>\n",
       "      <td>140.000000</td>\n",
       "      <td>1.000000</td>\n",
       "      <td>1.00000</td>\n",
       "      <td>203.000000</td>\n",
       "      <td>1.00000</td>\n",
       "    </tr>\n",
       "    <tr>\n",
       "      <th>max</th>\n",
       "      <td>95.000000</td>\n",
       "      <td>1.000000</td>\n",
       "      <td>7861.000000</td>\n",
       "      <td>1.000000</td>\n",
       "      <td>80.000000</td>\n",
       "      <td>1.000000</td>\n",
       "      <td>850000.000000</td>\n",
       "      <td>9.40000</td>\n",
       "      <td>148.000000</td>\n",
       "      <td>1.000000</td>\n",
       "      <td>1.00000</td>\n",
       "      <td>285.000000</td>\n",
       "      <td>1.00000</td>\n",
       "    </tr>\n",
       "  </tbody>\n",
       "</table>\n",
       "</div>"
      ],
      "text/plain": [
       "              age     anaemia  creatinine_phosphokinase    diabetes  \\\n",
       "count  299.000000  299.000000                299.000000  299.000000   \n",
       "mean    60.833893    0.431438                581.839465    0.418060   \n",
       "std     11.894809    0.496107                970.287881    0.494067   \n",
       "min     40.000000    0.000000                 23.000000    0.000000   \n",
       "25%     51.000000    0.000000                116.500000    0.000000   \n",
       "50%     60.000000    0.000000                250.000000    0.000000   \n",
       "75%     70.000000    1.000000                582.000000    1.000000   \n",
       "max     95.000000    1.000000               7861.000000    1.000000   \n",
       "\n",
       "       ejection_fraction  high_blood_pressure      platelets  \\\n",
       "count         299.000000           299.000000     299.000000   \n",
       "mean           38.083612             0.351171  263358.029264   \n",
       "std            11.834841             0.478136   97804.236869   \n",
       "min            14.000000             0.000000   25100.000000   \n",
       "25%            30.000000             0.000000  212500.000000   \n",
       "50%            38.000000             0.000000  262000.000000   \n",
       "75%            45.000000             1.000000  303500.000000   \n",
       "max            80.000000             1.000000  850000.000000   \n",
       "\n",
       "       serum_creatinine  serum_sodium         sex    smoking        time  \\\n",
       "count         299.00000    299.000000  299.000000  299.00000  299.000000   \n",
       "mean            1.39388    136.625418    0.648829    0.32107  130.260870   \n",
       "std             1.03451      4.412477    0.478136    0.46767   77.614208   \n",
       "min             0.50000    113.000000    0.000000    0.00000    4.000000   \n",
       "25%             0.90000    134.000000    0.000000    0.00000   73.000000   \n",
       "50%             1.10000    137.000000    1.000000    0.00000  115.000000   \n",
       "75%             1.40000    140.000000    1.000000    1.00000  203.000000   \n",
       "max             9.40000    148.000000    1.000000    1.00000  285.000000   \n",
       "\n",
       "       DEATH_EVENT  \n",
       "count    299.00000  \n",
       "mean       0.32107  \n",
       "std        0.46767  \n",
       "min        0.00000  \n",
       "25%        0.00000  \n",
       "50%        0.00000  \n",
       "75%        1.00000  \n",
       "max        1.00000  "
      ]
     },
     "execution_count": 8,
     "metadata": {},
     "output_type": "execute_result"
    }
   ],
   "source": [
    "df.describe()"
   ]
  },
  {
   "cell_type": "code",
   "execution_count": 9,
   "metadata": {},
   "outputs": [
    {
     "data": {
      "text/plain": [
       "age                          47\n",
       "anaemia                       2\n",
       "creatinine_phosphokinase    208\n",
       "diabetes                      2\n",
       "ejection_fraction            17\n",
       "high_blood_pressure           2\n",
       "platelets                   176\n",
       "serum_creatinine             40\n",
       "serum_sodium                 27\n",
       "sex                           2\n",
       "smoking                       2\n",
       "time                        148\n",
       "DEATH_EVENT                   2\n",
       "dtype: int64"
      ]
     },
     "execution_count": 9,
     "metadata": {},
     "output_type": "execute_result"
    }
   ],
   "source": [
    "# Number of unique values present in the data\n",
    "\n",
    "df.nunique()"
   ]
  },
  {
   "cell_type": "code",
   "execution_count": 10,
   "metadata": {},
   "outputs": [
    {
     "data": {
      "text/html": [
       "<div>\n",
       "<style scoped>\n",
       "    .dataframe tbody tr th:only-of-type {\n",
       "        vertical-align: middle;\n",
       "    }\n",
       "\n",
       "    .dataframe tbody tr th {\n",
       "        vertical-align: top;\n",
       "    }\n",
       "\n",
       "    .dataframe thead th {\n",
       "        text-align: right;\n",
       "    }\n",
       "</style>\n",
       "<table border=\"1\" class=\"dataframe\">\n",
       "  <thead>\n",
       "    <tr style=\"text-align: right;\">\n",
       "      <th></th>\n",
       "      <th>age</th>\n",
       "      <th>anaemia</th>\n",
       "      <th>creatinine_phosphokinase</th>\n",
       "      <th>diabetes</th>\n",
       "      <th>ejection_fraction</th>\n",
       "      <th>high_blood_pressure</th>\n",
       "      <th>platelets</th>\n",
       "      <th>serum_creatinine</th>\n",
       "      <th>serum_sodium</th>\n",
       "      <th>sex</th>\n",
       "      <th>smoking</th>\n",
       "      <th>time</th>\n",
       "      <th>DEATH_EVENT</th>\n",
       "    </tr>\n",
       "  </thead>\n",
       "  <tbody>\n",
       "    <tr>\n",
       "      <th>0</th>\n",
       "      <td>75.0</td>\n",
       "      <td>0</td>\n",
       "      <td>582</td>\n",
       "      <td>0</td>\n",
       "      <td>20</td>\n",
       "      <td>1</td>\n",
       "      <td>265000.00</td>\n",
       "      <td>1.9</td>\n",
       "      <td>130</td>\n",
       "      <td>1</td>\n",
       "      <td>0</td>\n",
       "      <td>4</td>\n",
       "      <td>1</td>\n",
       "    </tr>\n",
       "    <tr>\n",
       "      <th>1</th>\n",
       "      <td>55.0</td>\n",
       "      <td>0</td>\n",
       "      <td>7861</td>\n",
       "      <td>0</td>\n",
       "      <td>38</td>\n",
       "      <td>0</td>\n",
       "      <td>263358.03</td>\n",
       "      <td>1.1</td>\n",
       "      <td>136</td>\n",
       "      <td>1</td>\n",
       "      <td>0</td>\n",
       "      <td>6</td>\n",
       "      <td>1</td>\n",
       "    </tr>\n",
       "    <tr>\n",
       "      <th>2</th>\n",
       "      <td>65.0</td>\n",
       "      <td>0</td>\n",
       "      <td>146</td>\n",
       "      <td>0</td>\n",
       "      <td>20</td>\n",
       "      <td>0</td>\n",
       "      <td>162000.00</td>\n",
       "      <td>1.3</td>\n",
       "      <td>129</td>\n",
       "      <td>1</td>\n",
       "      <td>1</td>\n",
       "      <td>7</td>\n",
       "      <td>1</td>\n",
       "    </tr>\n",
       "    <tr>\n",
       "      <th>3</th>\n",
       "      <td>50.0</td>\n",
       "      <td>1</td>\n",
       "      <td>111</td>\n",
       "      <td>0</td>\n",
       "      <td>20</td>\n",
       "      <td>0</td>\n",
       "      <td>210000.00</td>\n",
       "      <td>1.9</td>\n",
       "      <td>137</td>\n",
       "      <td>1</td>\n",
       "      <td>0</td>\n",
       "      <td>7</td>\n",
       "      <td>1</td>\n",
       "    </tr>\n",
       "    <tr>\n",
       "      <th>4</th>\n",
       "      <td>65.0</td>\n",
       "      <td>1</td>\n",
       "      <td>160</td>\n",
       "      <td>1</td>\n",
       "      <td>20</td>\n",
       "      <td>0</td>\n",
       "      <td>327000.00</td>\n",
       "      <td>2.7</td>\n",
       "      <td>116</td>\n",
       "      <td>0</td>\n",
       "      <td>0</td>\n",
       "      <td>8</td>\n",
       "      <td>1</td>\n",
       "    </tr>\n",
       "  </tbody>\n",
       "</table>\n",
       "</div>"
      ],
      "text/plain": [
       "    age  anaemia  creatinine_phosphokinase  diabetes  ejection_fraction  \\\n",
       "0  75.0        0                       582         0                 20   \n",
       "1  55.0        0                      7861         0                 38   \n",
       "2  65.0        0                       146         0                 20   \n",
       "3  50.0        1                       111         0                 20   \n",
       "4  65.0        1                       160         1                 20   \n",
       "\n",
       "   high_blood_pressure  platelets  serum_creatinine  serum_sodium  sex  \\\n",
       "0                    1  265000.00               1.9           130    1   \n",
       "1                    0  263358.03               1.1           136    1   \n",
       "2                    0  162000.00               1.3           129    1   \n",
       "3                    0  210000.00               1.9           137    1   \n",
       "4                    0  327000.00               2.7           116    0   \n",
       "\n",
       "   smoking  time  DEATH_EVENT  \n",
       "0        0     4            1  \n",
       "1        0     6            1  \n",
       "2        1     7            1  \n",
       "3        0     7            1  \n",
       "4        0     8            1  "
      ]
     },
     "execution_count": 10,
     "metadata": {},
     "output_type": "execute_result"
    }
   ],
   "source": [
    "# Top 5 rows of data\n",
    "\n",
    "df.head()"
   ]
  },
  {
   "cell_type": "code",
   "execution_count": 11,
   "metadata": {},
   "outputs": [
    {
     "data": {
      "text/html": [
       "<div>\n",
       "<style scoped>\n",
       "    .dataframe tbody tr th:only-of-type {\n",
       "        vertical-align: middle;\n",
       "    }\n",
       "\n",
       "    .dataframe tbody tr th {\n",
       "        vertical-align: top;\n",
       "    }\n",
       "\n",
       "    .dataframe thead th {\n",
       "        text-align: right;\n",
       "    }\n",
       "</style>\n",
       "<table border=\"1\" class=\"dataframe\">\n",
       "  <thead>\n",
       "    <tr style=\"text-align: right;\">\n",
       "      <th></th>\n",
       "      <th>age</th>\n",
       "      <th>anaemia</th>\n",
       "      <th>creatinine_phosphokinase</th>\n",
       "      <th>diabetes</th>\n",
       "      <th>ejection_fraction</th>\n",
       "      <th>high_blood_pressure</th>\n",
       "      <th>platelets</th>\n",
       "      <th>serum_creatinine</th>\n",
       "      <th>serum_sodium</th>\n",
       "      <th>sex</th>\n",
       "      <th>smoking</th>\n",
       "      <th>time</th>\n",
       "      <th>DEATH_EVENT</th>\n",
       "    </tr>\n",
       "  </thead>\n",
       "  <tbody>\n",
       "    <tr>\n",
       "      <th>age</th>\n",
       "      <td>1.000000</td>\n",
       "      <td>0.088006</td>\n",
       "      <td>-0.081584</td>\n",
       "      <td>-0.101012</td>\n",
       "      <td>0.060098</td>\n",
       "      <td>0.093289</td>\n",
       "      <td>-0.052354</td>\n",
       "      <td>0.159187</td>\n",
       "      <td>-0.045966</td>\n",
       "      <td>0.065430</td>\n",
       "      <td>0.018668</td>\n",
       "      <td>-0.224068</td>\n",
       "      <td>0.253729</td>\n",
       "    </tr>\n",
       "    <tr>\n",
       "      <th>anaemia</th>\n",
       "      <td>0.088006</td>\n",
       "      <td>1.000000</td>\n",
       "      <td>-0.190741</td>\n",
       "      <td>-0.012729</td>\n",
       "      <td>0.031557</td>\n",
       "      <td>0.038182</td>\n",
       "      <td>-0.043786</td>\n",
       "      <td>0.052174</td>\n",
       "      <td>0.041882</td>\n",
       "      <td>-0.094769</td>\n",
       "      <td>-0.107290</td>\n",
       "      <td>-0.141414</td>\n",
       "      <td>0.066270</td>\n",
       "    </tr>\n",
       "    <tr>\n",
       "      <th>creatinine_phosphokinase</th>\n",
       "      <td>-0.081584</td>\n",
       "      <td>-0.190741</td>\n",
       "      <td>1.000000</td>\n",
       "      <td>-0.009639</td>\n",
       "      <td>-0.044080</td>\n",
       "      <td>-0.070590</td>\n",
       "      <td>0.024463</td>\n",
       "      <td>-0.016408</td>\n",
       "      <td>0.059550</td>\n",
       "      <td>0.079791</td>\n",
       "      <td>0.002421</td>\n",
       "      <td>-0.009346</td>\n",
       "      <td>0.062728</td>\n",
       "    </tr>\n",
       "    <tr>\n",
       "      <th>diabetes</th>\n",
       "      <td>-0.101012</td>\n",
       "      <td>-0.012729</td>\n",
       "      <td>-0.009639</td>\n",
       "      <td>1.000000</td>\n",
       "      <td>-0.004850</td>\n",
       "      <td>-0.012732</td>\n",
       "      <td>0.092193</td>\n",
       "      <td>-0.046975</td>\n",
       "      <td>-0.089551</td>\n",
       "      <td>-0.157730</td>\n",
       "      <td>-0.147173</td>\n",
       "      <td>0.033726</td>\n",
       "      <td>-0.001943</td>\n",
       "    </tr>\n",
       "    <tr>\n",
       "      <th>ejection_fraction</th>\n",
       "      <td>0.060098</td>\n",
       "      <td>0.031557</td>\n",
       "      <td>-0.044080</td>\n",
       "      <td>-0.004850</td>\n",
       "      <td>1.000000</td>\n",
       "      <td>0.024445</td>\n",
       "      <td>0.072177</td>\n",
       "      <td>-0.011302</td>\n",
       "      <td>0.175902</td>\n",
       "      <td>-0.148386</td>\n",
       "      <td>-0.067315</td>\n",
       "      <td>0.041729</td>\n",
       "      <td>-0.268603</td>\n",
       "    </tr>\n",
       "    <tr>\n",
       "      <th>high_blood_pressure</th>\n",
       "      <td>0.093289</td>\n",
       "      <td>0.038182</td>\n",
       "      <td>-0.070590</td>\n",
       "      <td>-0.012732</td>\n",
       "      <td>0.024445</td>\n",
       "      <td>1.000000</td>\n",
       "      <td>0.049963</td>\n",
       "      <td>-0.004935</td>\n",
       "      <td>0.037109</td>\n",
       "      <td>-0.104615</td>\n",
       "      <td>-0.055711</td>\n",
       "      <td>-0.196439</td>\n",
       "      <td>0.079351</td>\n",
       "    </tr>\n",
       "    <tr>\n",
       "      <th>platelets</th>\n",
       "      <td>-0.052354</td>\n",
       "      <td>-0.043786</td>\n",
       "      <td>0.024463</td>\n",
       "      <td>0.092193</td>\n",
       "      <td>0.072177</td>\n",
       "      <td>0.049963</td>\n",
       "      <td>1.000000</td>\n",
       "      <td>-0.041198</td>\n",
       "      <td>0.062125</td>\n",
       "      <td>-0.125120</td>\n",
       "      <td>0.028234</td>\n",
       "      <td>0.010514</td>\n",
       "      <td>-0.049139</td>\n",
       "    </tr>\n",
       "    <tr>\n",
       "      <th>serum_creatinine</th>\n",
       "      <td>0.159187</td>\n",
       "      <td>0.052174</td>\n",
       "      <td>-0.016408</td>\n",
       "      <td>-0.046975</td>\n",
       "      <td>-0.011302</td>\n",
       "      <td>-0.004935</td>\n",
       "      <td>-0.041198</td>\n",
       "      <td>1.000000</td>\n",
       "      <td>-0.189095</td>\n",
       "      <td>0.006970</td>\n",
       "      <td>-0.027414</td>\n",
       "      <td>-0.149315</td>\n",
       "      <td>0.294278</td>\n",
       "    </tr>\n",
       "    <tr>\n",
       "      <th>serum_sodium</th>\n",
       "      <td>-0.045966</td>\n",
       "      <td>0.041882</td>\n",
       "      <td>0.059550</td>\n",
       "      <td>-0.089551</td>\n",
       "      <td>0.175902</td>\n",
       "      <td>0.037109</td>\n",
       "      <td>0.062125</td>\n",
       "      <td>-0.189095</td>\n",
       "      <td>1.000000</td>\n",
       "      <td>-0.027566</td>\n",
       "      <td>0.004813</td>\n",
       "      <td>0.087640</td>\n",
       "      <td>-0.195204</td>\n",
       "    </tr>\n",
       "    <tr>\n",
       "      <th>sex</th>\n",
       "      <td>0.065430</td>\n",
       "      <td>-0.094769</td>\n",
       "      <td>0.079791</td>\n",
       "      <td>-0.157730</td>\n",
       "      <td>-0.148386</td>\n",
       "      <td>-0.104615</td>\n",
       "      <td>-0.125120</td>\n",
       "      <td>0.006970</td>\n",
       "      <td>-0.027566</td>\n",
       "      <td>1.000000</td>\n",
       "      <td>0.445892</td>\n",
       "      <td>-0.015608</td>\n",
       "      <td>-0.004316</td>\n",
       "    </tr>\n",
       "    <tr>\n",
       "      <th>smoking</th>\n",
       "      <td>0.018668</td>\n",
       "      <td>-0.107290</td>\n",
       "      <td>0.002421</td>\n",
       "      <td>-0.147173</td>\n",
       "      <td>-0.067315</td>\n",
       "      <td>-0.055711</td>\n",
       "      <td>0.028234</td>\n",
       "      <td>-0.027414</td>\n",
       "      <td>0.004813</td>\n",
       "      <td>0.445892</td>\n",
       "      <td>1.000000</td>\n",
       "      <td>-0.022839</td>\n",
       "      <td>-0.012623</td>\n",
       "    </tr>\n",
       "    <tr>\n",
       "      <th>time</th>\n",
       "      <td>-0.224068</td>\n",
       "      <td>-0.141414</td>\n",
       "      <td>-0.009346</td>\n",
       "      <td>0.033726</td>\n",
       "      <td>0.041729</td>\n",
       "      <td>-0.196439</td>\n",
       "      <td>0.010514</td>\n",
       "      <td>-0.149315</td>\n",
       "      <td>0.087640</td>\n",
       "      <td>-0.015608</td>\n",
       "      <td>-0.022839</td>\n",
       "      <td>1.000000</td>\n",
       "      <td>-0.526964</td>\n",
       "    </tr>\n",
       "    <tr>\n",
       "      <th>DEATH_EVENT</th>\n",
       "      <td>0.253729</td>\n",
       "      <td>0.066270</td>\n",
       "      <td>0.062728</td>\n",
       "      <td>-0.001943</td>\n",
       "      <td>-0.268603</td>\n",
       "      <td>0.079351</td>\n",
       "      <td>-0.049139</td>\n",
       "      <td>0.294278</td>\n",
       "      <td>-0.195204</td>\n",
       "      <td>-0.004316</td>\n",
       "      <td>-0.012623</td>\n",
       "      <td>-0.526964</td>\n",
       "      <td>1.000000</td>\n",
       "    </tr>\n",
       "  </tbody>\n",
       "</table>\n",
       "</div>"
      ],
      "text/plain": [
       "                               age   anaemia  creatinine_phosphokinase  \\\n",
       "age                       1.000000  0.088006                 -0.081584   \n",
       "anaemia                   0.088006  1.000000                 -0.190741   \n",
       "creatinine_phosphokinase -0.081584 -0.190741                  1.000000   \n",
       "diabetes                 -0.101012 -0.012729                 -0.009639   \n",
       "ejection_fraction         0.060098  0.031557                 -0.044080   \n",
       "high_blood_pressure       0.093289  0.038182                 -0.070590   \n",
       "platelets                -0.052354 -0.043786                  0.024463   \n",
       "serum_creatinine          0.159187  0.052174                 -0.016408   \n",
       "serum_sodium             -0.045966  0.041882                  0.059550   \n",
       "sex                       0.065430 -0.094769                  0.079791   \n",
       "smoking                   0.018668 -0.107290                  0.002421   \n",
       "time                     -0.224068 -0.141414                 -0.009346   \n",
       "DEATH_EVENT               0.253729  0.066270                  0.062728   \n",
       "\n",
       "                          diabetes  ejection_fraction  high_blood_pressure  \\\n",
       "age                      -0.101012           0.060098             0.093289   \n",
       "anaemia                  -0.012729           0.031557             0.038182   \n",
       "creatinine_phosphokinase -0.009639          -0.044080            -0.070590   \n",
       "diabetes                  1.000000          -0.004850            -0.012732   \n",
       "ejection_fraction        -0.004850           1.000000             0.024445   \n",
       "high_blood_pressure      -0.012732           0.024445             1.000000   \n",
       "platelets                 0.092193           0.072177             0.049963   \n",
       "serum_creatinine         -0.046975          -0.011302            -0.004935   \n",
       "serum_sodium             -0.089551           0.175902             0.037109   \n",
       "sex                      -0.157730          -0.148386            -0.104615   \n",
       "smoking                  -0.147173          -0.067315            -0.055711   \n",
       "time                      0.033726           0.041729            -0.196439   \n",
       "DEATH_EVENT              -0.001943          -0.268603             0.079351   \n",
       "\n",
       "                          platelets  serum_creatinine  serum_sodium       sex  \\\n",
       "age                       -0.052354          0.159187     -0.045966  0.065430   \n",
       "anaemia                   -0.043786          0.052174      0.041882 -0.094769   \n",
       "creatinine_phosphokinase   0.024463         -0.016408      0.059550  0.079791   \n",
       "diabetes                   0.092193         -0.046975     -0.089551 -0.157730   \n",
       "ejection_fraction          0.072177         -0.011302      0.175902 -0.148386   \n",
       "high_blood_pressure        0.049963         -0.004935      0.037109 -0.104615   \n",
       "platelets                  1.000000         -0.041198      0.062125 -0.125120   \n",
       "serum_creatinine          -0.041198          1.000000     -0.189095  0.006970   \n",
       "serum_sodium               0.062125         -0.189095      1.000000 -0.027566   \n",
       "sex                       -0.125120          0.006970     -0.027566  1.000000   \n",
       "smoking                    0.028234         -0.027414      0.004813  0.445892   \n",
       "time                       0.010514         -0.149315      0.087640 -0.015608   \n",
       "DEATH_EVENT               -0.049139          0.294278     -0.195204 -0.004316   \n",
       "\n",
       "                           smoking      time  DEATH_EVENT  \n",
       "age                       0.018668 -0.224068     0.253729  \n",
       "anaemia                  -0.107290 -0.141414     0.066270  \n",
       "creatinine_phosphokinase  0.002421 -0.009346     0.062728  \n",
       "diabetes                 -0.147173  0.033726    -0.001943  \n",
       "ejection_fraction        -0.067315  0.041729    -0.268603  \n",
       "high_blood_pressure      -0.055711 -0.196439     0.079351  \n",
       "platelets                 0.028234  0.010514    -0.049139  \n",
       "serum_creatinine         -0.027414 -0.149315     0.294278  \n",
       "serum_sodium              0.004813  0.087640    -0.195204  \n",
       "sex                       0.445892 -0.015608    -0.004316  \n",
       "smoking                   1.000000 -0.022839    -0.012623  \n",
       "time                     -0.022839  1.000000    -0.526964  \n",
       "DEATH_EVENT              -0.012623 -0.526964     1.000000  "
      ]
     },
     "execution_count": 11,
     "metadata": {},
     "output_type": "execute_result"
    }
   ],
   "source": [
    "# Correlation amongs the attributes \n",
    "\n",
    "df.corr()"
   ]
  },
  {
   "cell_type": "code",
   "execution_count": 12,
   "metadata": {},
   "outputs": [
    {
     "data": {
      "text/plain": [
       "<AxesSubplot:>"
      ]
     },
     "execution_count": 12,
     "metadata": {},
     "output_type": "execute_result"
    },
    {
     "data": {
      "image/png": "[encoded data removed]",
      "text/plain": [
       "<Figure size 720x576 with 2 Axes>"
      ]
     },
     "metadata": {
      "needs_background": "light"
     },
     "output_type": "display_data"
    }
   ],
   "source": [
    "# Correlation visualization\n",
    "\n",
    "plt.figure(figsize=(10, 8))\n",
    "corr = df.corr()\n",
    "sns.heatmap(corr, annot=True, cmap='Greens')"
   ]
  },
  {
   "cell_type": "code",
   "execution_count": 13,
   "metadata": {},
   "outputs": [
    {
     "data": {
      "text/plain": [
       "age                         0\n",
       "anaemia                     0\n",
       "creatinine_phosphokinase    0\n",
       "diabetes                    0\n",
       "ejection_fraction           0\n",
       "high_blood_pressure         0\n",
       "platelets                   0\n",
       "serum_creatinine            0\n",
       "serum_sodium                0\n",
       "sex                         0\n",
       "smoking                     0\n",
       "time                        0\n",
       "DEATH_EVENT                 0\n",
       "dtype: int64"
      ]
     },
     "execution_count": 13,
     "metadata": {},
     "output_type": "execute_result"
    }
   ],
   "source": [
    "#Checking for null values\n",
    "df.isnull().sum()"
   ]
  },
  {
   "cell_type": "code",
   "execution_count": 15,
   "metadata": {},
   "outputs": [
    {
     "name": "stdout",
     "output_type": "stream",
     "text": [
      "Duplicate values \n"
     ]
    },
    {
     "data": {
      "text/plain": [
       "0"
      ]
     },
     "execution_count": 15,
     "metadata": {},
     "output_type": "execute_result"
    }
   ],
   "source": [
    "# Duplicate values in the data\n",
    "print(\"Duplicate values \")\n",
    "df.duplicated().sum()"
   ]
  },
  {
   "cell_type": "code",
   "execution_count": 16,
   "metadata": {},
   "outputs": [
    {
     "name": "stdout",
     "output_type": "stream",
     "text": [
      "[0.08977399 0.02551953 0.07382814 0.0301421  0.12852057 0.02316798\n",
      " 0.07150043 0.1150795  0.08520587 0.02644485 0.02730209 0.30351494]\n"
     ]
    },
    {
     "data": {
      "image/png": "[encoded data removed]",
      "text/plain": [
       "<Figure size 1080x432 with 1 Axes>"
      ]
     },
     "metadata": {},
     "output_type": "display_data"
    }
   ],
   "source": [
    "# Feature Selection\n",
    "\n",
    "plt.rcParams['figure.figsize']=15,6 \n",
    "sns.set_style(\"darkgrid\")\n",
    "\n",
    "x = df.iloc[:, :-1]\n",
    "y = df.iloc[:,-1]\n",
    "\n",
    "from sklearn.ensemble import ExtraTreesClassifier\n",
    "import matplotlib.pyplot as plt\n",
    "model = ExtraTreesClassifier()\n",
    "model.fit(x,y)\n",
    "print(model.feature_importances_) \n",
    "feat_importances = pd.Series(model.feature_importances_, index=x.columns)\n",
    "feat_importances.nlargest(12).plot(kind='barh', color='teal')\n",
    "plt.show()"
   ]
  },
  {
   "cell_type": "code",
   "execution_count": 17,
   "metadata": {},
   "outputs": [
    {
     "data": {
      "image/png": "[encoded data removed]",
      "text/plain": [
       "<Figure size 1080x432 with 1 Axes>"
      ]
     },
     "metadata": {},
     "output_type": "display_data"
    }
   ],
   "source": [
    "# Outliers : Boxplot for ejection fraction\n",
    "\n",
    "sns.boxplot(x = df.ejection_fraction, color='teal')\n",
    "plt.show()"
   ]
  },
  {
   "cell_type": "markdown",
   "metadata": {},
   "source": [
    " From the box plot we can see there are two outilers present"
   ]
  },
  {
   "cell_type": "code",
   "execution_count": 18,
   "metadata": {},
   "outputs": [
    {
     "data": {
      "text/html": [
       "<div>\n",
       "<style scoped>\n",
       "    .dataframe tbody tr th:only-of-type {\n",
       "        vertical-align: middle;\n",
       "    }\n",
       "\n",
       "    .dataframe tbody tr th {\n",
       "        vertical-align: top;\n",
       "    }\n",
       "\n",
       "    .dataframe thead th {\n",
       "        text-align: right;\n",
       "    }\n",
       "</style>\n",
       "<table border=\"1\" class=\"dataframe\">\n",
       "  <thead>\n",
       "    <tr style=\"text-align: right;\">\n",
       "      <th></th>\n",
       "      <th>age</th>\n",
       "      <th>anaemia</th>\n",
       "      <th>creatinine_phosphokinase</th>\n",
       "      <th>diabetes</th>\n",
       "      <th>ejection_fraction</th>\n",
       "      <th>high_blood_pressure</th>\n",
       "      <th>platelets</th>\n",
       "      <th>serum_creatinine</th>\n",
       "      <th>serum_sodium</th>\n",
       "      <th>sex</th>\n",
       "      <th>smoking</th>\n",
       "      <th>time</th>\n",
       "      <th>DEATH_EVENT</th>\n",
       "    </tr>\n",
       "  </thead>\n",
       "  <tbody>\n",
       "    <tr>\n",
       "      <th>64</th>\n",
       "      <td>45.0</td>\n",
       "      <td>0</td>\n",
       "      <td>582</td>\n",
       "      <td>0</td>\n",
       "      <td>80</td>\n",
       "      <td>0</td>\n",
       "      <td>263358.03</td>\n",
       "      <td>1.18</td>\n",
       "      <td>137</td>\n",
       "      <td>0</td>\n",
       "      <td>0</td>\n",
       "      <td>63</td>\n",
       "      <td>0</td>\n",
       "    </tr>\n",
       "    <tr>\n",
       "      <th>217</th>\n",
       "      <td>54.0</td>\n",
       "      <td>1</td>\n",
       "      <td>427</td>\n",
       "      <td>0</td>\n",
       "      <td>70</td>\n",
       "      <td>1</td>\n",
       "      <td>151000.00</td>\n",
       "      <td>9.00</td>\n",
       "      <td>137</td>\n",
       "      <td>0</td>\n",
       "      <td>0</td>\n",
       "      <td>196</td>\n",
       "      <td>1</td>\n",
       "    </tr>\n",
       "  </tbody>\n",
       "</table>\n",
       "</div>"
      ],
      "text/plain": [
       "      age  anaemia  creatinine_phosphokinase  diabetes  ejection_fraction  \\\n",
       "64   45.0        0                       582         0                 80   \n",
       "217  54.0        1                       427         0                 70   \n",
       "\n",
       "     high_blood_pressure  platelets  serum_creatinine  serum_sodium  sex  \\\n",
       "64                     0  263358.03              1.18           137    0   \n",
       "217                    1  151000.00              9.00           137    0   \n",
       "\n",
       "     smoking  time  DEATH_EVENT  \n",
       "64         0    63            0  \n",
       "217        0   196            1  "
      ]
     },
     "execution_count": 18,
     "metadata": {},
     "output_type": "execute_result"
    }
   ],
   "source": [
    "# Removing outliers\n",
    "\n",
    "df[df['ejection_fraction'] >= 70]"
   ]
  },
  {
   "cell_type": "code",
   "execution_count": 19,
   "metadata": {},
   "outputs": [],
   "source": [
    "df = df[df['ejection_fraction'] < 70] "
   ]
  },
  {
   "cell_type": "code",
   "execution_count": 20,
   "metadata": {},
   "outputs": [
    {
     "data": {
      "image/png": "[encoded data removed]",
      "text/plain": [
       "<Figure size 1080x432 with 1 Axes>"
      ]
     },
     "metadata": {},
     "output_type": "display_data"
    }
   ],
   "source": [
    "# Boxplot for serum_creatinine\n",
    "\n",
    "sns.boxplot(x = df.serum_creatinine, color='teal')\n",
    "plt.show()"
   ]
  },
  {
   "cell_type": "markdown",
   "metadata": {},
   "source": [
    "**Some Insights of the Dataset** "
   ]
  },
  {
   "cell_type": "code",
   "execution_count": 25,
   "metadata": {},
   "outputs": [
    {
     "data": {
      "application/vnd.plotly.v1+json": {
       "config": {
        "plotlyServerURL": "https://plot.ly"
       },
       "data": [
        {
         "marker": {
          "color": "#e8ab60"
         },
         "opacity": 1,
         "type": "histogram",
         "x": [
          75,
          55,
          65,
          50,
          65,
          90,
          75,
          60,
          65,
          80,
          75,
          62,
          45,
          50,
          49,
          82,
          87,
          45,
          70,
          48,
          65,
          65,
          68,
          53,
          75,
          80,
          95,
          70,
          58,
          82,
          94,
          85,
          50,
          50,
          65,
          69,
          90,
          82,
          60,
          60,
          70,
          50,
          70,
          72,
          60,
          50,
          51,
          60,
          80,
          57,
          68,
          53,
          60,
          70,
          60,
          95,
          70,
          60,
          49,
          72,
          45,
          50,
          55,
          45,
          60,
          42,
          72,
          70,
          65,
          41,
          58,
          85,
          65,
          69,
          60,
          70,
          42,
          75,
          55,
          70,
          67,
          60,
          79,
          59,
          51,
          55,
          65,
          44,
          57,
          70,
          60,
          42,
          60,
          58,
          58,
          63,
          70,
          60,
          63,
          65,
          75,
          80,
          42,
          60,
          72,
          55,
          45,
          63,
          45,
          85,
          55,
          50,
          70,
          60,
          58,
          60,
          85,
          65,
          86,
          60,
          66,
          60,
          60,
          60,
          43,
          46,
          58,
          61,
          53,
          53,
          60,
          46,
          63,
          81,
          75,
          65,
          68,
          62,
          50,
          80,
          46,
          50,
          61,
          72,
          50,
          52,
          64,
          75,
          60,
          72,
          62,
          50,
          50,
          65,
          60,
          52,
          50,
          85,
          59,
          66,
          45,
          63,
          50,
          45,
          80,
          53,
          59,
          65,
          70,
          51,
          52,
          70,
          50,
          65,
          60,
          69,
          49,
          63,
          55,
          40,
          59,
          65,
          75,
          58,
          60.667,
          50,
          60,
          60.667,
          40,
          80,
          64,
          50,
          73,
          45,
          77,
          45,
          65,
          50,
          60,
          63,
          45,
          70,
          60,
          78,
          50,
          40,
          85,
          60,
          49,
          70,
          50,
          78,
          48,
          65,
          73,
          70,
          68,
          55,
          73,
          65,
          42,
          47,
          58,
          75,
          58,
          55,
          65,
          72,
          60,
          70,
          40,
          53,
          53,
          77,
          75,
          70,
          65,
          55,
          70,
          65,
          40,
          73,
          54,
          61,
          55,
          64,
          40,
          53,
          50,
          55,
          50,
          70,
          53,
          52,
          65,
          58,
          45,
          53,
          55,
          62,
          65,
          68,
          61,
          50,
          55,
          56,
          45,
          40,
          44,
          51,
          67,
          42,
          60,
          45,
          70,
          70,
          50,
          55,
          70,
          70,
          42,
          65,
          50,
          55,
          60,
          45,
          65,
          90,
          45,
          60,
          52,
          63,
          62,
          55,
          45,
          45,
          50
         ],
         "xbins": {
          "end": 95,
          "size": 2,
          "start": 40
         }
        }
       ],
       "layout": {
        "bargap": 0.05,
        "template": {
         "data": {
          "bar": [
           {
            "error_x": {
             "color": "#2a3f5f"
            },
            "error_y": {
             "color": "#2a3f5f"
            },
            "marker": {
             "line": {
              "color": "#E5ECF6",
              "width": 0.5
             },
             "pattern": {
              "fillmode": "overlay",
              "size": 10,
              "solidity": 0.2
             }
            },
            "type": "bar"
           }
          ],
          "barpolar": [
           {
            "marker": {
             "line": {
              "color": "#E5ECF6",
              "width": 0.5
             },
             "pattern": {
              "fillmode": "overlay",
              "size": 10,
              "solidity": 0.2
             }
            },
            "type": "barpolar"
           }
          ],
          "carpet": [
           {
            "aaxis": {
             "endlinecolor": "#2a3f5f",
             "gridcolor": "white",
             "linecolor": "white",
             "minorgridcolor": "white",
             "startlinecolor": "#2a3f5f"
            },
            "baxis": {
             "endlinecolor": "#2a3f5f",
             "gridcolor": "white",
             "linecolor": "white",
             "minorgridcolor": "white",
             "startlinecolor": "#2a3f5f"
            },
            "type": "carpet"
           }
          ],
          "choropleth": [
           {
            "colorbar": {
             "outlinewidth": 0,
             "ticks": ""
            },
            "type": "choropleth"
           }
          ],
          "contour": [
           {
            "colorbar": {
             "outlinewidth": 0,
             "ticks": ""
            },
            "colorscale": [
             [
              0,
              "#0d0887"
             ],
             [
              0.1111111111111111,
              "#46039f"
             ],
             [
              0.2222222222222222,
              "#7201a8"
             ],
             [
              0.3333333333333333,
              "#9c179e"
             ],
             [
              0.4444444444444444,
              "#bd3786"
             ],
             [
              0.5555555555555556,
              "#d8576b"
             ],
             [
              0.6666666666666666,
              "#ed7953"
             ],
             [
              0.7777777777777778,
              "#fb9f3a"
             ],
             [
              0.8888888888888888,
              "#fdca26"
             ],
             [
              1,
              "#f0f921"
             ]
            ],
            "type": "contour"
           }
          ],
          "contourcarpet": [
           {
            "colorbar": {
             "outlinewidth": 0,
             "ticks": ""
            },
            "type": "contourcarpet"
           }
          ],
          "heatmap": [
           {
            "colorbar": {
             "outlinewidth": 0,
             "ticks": ""
            },
            "colorscale": [
             [
              0,
              "#0d0887"
             ],
             [
              0.1111111111111111,
              "#46039f"
             ],
             [
              0.2222222222222222,
              "#7201a8"
             ],
             [
              0.3333333333333333,
              "#9c179e"
             ],
             [
              0.4444444444444444,
              "#bd3786"
             ],
             [
              0.5555555555555556,
              "#d8576b"
             ],
             [
              0.6666666666666666,
              "#ed7953"
             ],
             [
              0.7777777777777778,
              "#fb9f3a"
             ],
             [
              0.8888888888888888,
              "#fdca26"
             ],
             [
              1,
              "#f0f921"
             ]
            ],
            "type": "heatmap"
           }
          ],
          "heatmapgl": [
           {
            "colorbar": {
             "outlinewidth": 0,
             "ticks": ""
            },
            "colorscale": [
             [
              0,
              "#0d0887"
             ],
             [
              0.1111111111111111,
              "#46039f"
             ],
             [
              0.2222222222222222,
              "#7201a8"
             ],
             [
              0.3333333333333333,
              "#9c179e"
             ],
             [
              0.4444444444444444,
              "#bd3786"
             ],
             [
              0.5555555555555556,
              "#d8576b"
             ],
             [
              0.6666666666666666,
              "#ed7953"
             ],
             [
              0.7777777777777778,
              "#fb9f3a"
             ],
             [
              0.8888888888888888,
              "#fdca26"
             ],
             [
              1,
              "#f0f921"
             ]
            ],
            "type": "heatmapgl"
           }
          ],
          "histogram": [
           {
            "marker": {
             "pattern": {
              "fillmode": "overlay",
              "size": 10,
              "solidity": 0.2
             }
            },
            "type": "histogram"
           }
          ],
          "histogram2d": [
           {
            "colorbar": {
             "outlinewidth": 0,
             "ticks": ""
            },
            "colorscale": [
             [
              0,
              "#0d0887"
             ],
             [
              0.1111111111111111,
              "#46039f"
             ],
             [
              0.2222222222222222,
              "#7201a8"
             ],
             [
              0.3333333333333333,
              "#9c179e"
             ],
             [
              0.4444444444444444,
              "#bd3786"
             ],
             [
              0.5555555555555556,
              "#d8576b"
             ],
             [
              0.6666666666666666,
              "#ed7953"
             ],
             [
              0.7777777777777778,
              "#fb9f3a"
             ],
             [
              0.8888888888888888,
              "#fdca26"
             ],
             [
              1,
              "#f0f921"
             ]
            ],
            "type": "histogram2d"
           }
          ],
          "histogram2dcontour": [
           {
            "colorbar": {
             "outlinewidth": 0,
             "ticks": ""
            },
            "colorscale": [
             [
              0,
              "#0d0887"
             ],
             [
              0.1111111111111111,
              "#46039f"
             ],
             [
              0.2222222222222222,
              "#7201a8"
             ],
             [
              0.3333333333333333,
              "#9c179e"
             ],
             [
              0.4444444444444444,
              "#bd3786"
             ],
             [
              0.5555555555555556,
              "#d8576b"
             ],
             [
              0.6666666666666666,
              "#ed7953"
             ],
             [
              0.7777777777777778,
              "#fb9f3a"
             ],
             [
              0.8888888888888888,
              "#fdca26"
             ],
             [
              1,
              "#f0f921"
             ]
            ],
            "type": "histogram2dcontour"
           }
          ],
          "mesh3d": [
           {
            "colorbar": {
             "outlinewidth": 0,
             "ticks": ""
            },
            "type": "mesh3d"
           }
          ],
          "parcoords": [
           {
            "line": {
             "colorbar": {
              "outlinewidth": 0,
              "ticks": ""
             }
            },
            "type": "parcoords"
           }
          ],
          "pie": [
           {
            "automargin": true,
            "type": "pie"
           }
          ],
          "scatter": [
           {
            "fillpattern": {
             "fillmode": "overlay",
             "size": 10,
             "solidity": 0.2
            },
            "type": "scatter"
           }
          ],
          "scatter3d": [
           {
            "line": {
             "colorbar": {
              "outlinewidth": 0,
              "ticks": ""
             }
            },
            "marker": {
             "colorbar": {
              "outlinewidth": 0,
              "ticks": ""
             }
            },
            "type": "scatter3d"
           }
          ],
          "scattercarpet": [
           {
            "marker": {
             "colorbar": {
              "outlinewidth": 0,
              "ticks": ""
             }
            },
            "type": "scattercarpet"
           }
          ],
          "scattergeo": [
           {
            "marker": {
             "colorbar": {
              "outlinewidth": 0,
              "ticks": ""
             }
            },
            "type": "scattergeo"
           }
          ],
          "scattergl": [
           {
            "marker": {
             "colorbar": {
              "outlinewidth": 0,
              "ticks": ""
             }
            },
            "type": "scattergl"
           }
          ],
          "scattermapbox": [
           {
            "marker": {
             "colorbar": {
              "outlinewidth": 0,
              "ticks": ""
             }
            },
            "type": "scattermapbox"
           }
          ],
          "scatterpolar": [
           {
            "marker": {
             "colorbar": {
              "outlinewidth": 0,
              "ticks": ""
             }
            },
            "type": "scatterpolar"
           }
          ],
          "scatterpolargl": [
           {
            "marker": {
             "colorbar": {
              "outlinewidth": 0,
              "ticks": ""
             }
            },
            "type": "scatterpolargl"
           }
          ],
          "scatterternary": [
           {
            "marker": {
             "colorbar": {
              "outlinewidth": 0,
              "ticks": ""
             }
            },
            "type": "scatterternary"
           }
          ],
          "surface": [
           {
            "colorbar": {
             "outlinewidth": 0,
             "ticks": ""
            },
            "colorscale": [
             [
              0,
              "#0d0887"
             ],
             [
              0.1111111111111111,
              "#46039f"
             ],
             [
              0.2222222222222222,
              "#7201a8"
             ],
             [
              0.3333333333333333,
              "#9c179e"
             ],
             [
              0.4444444444444444,
              "#bd3786"
             ],
             [
              0.5555555555555556,
              "#d8576b"
             ],
             [
              0.6666666666666666,
              "#ed7953"
             ],
             [
              0.7777777777777778,
              "#fb9f3a"
             ],
             [
              0.8888888888888888,
              "#fdca26"
             ],
             [
              1,
              "#f0f921"
             ]
            ],
            "type": "surface"
           }
          ],
          "table": [
           {
            "cells": {
             "fill": {
              "color": "#EBF0F8"
             },
             "line": {
              "color": "white"
             }
            },
            "header": {
             "fill": {
              "color": "#C8D4E3"
             },
             "line": {
              "color": "white"
             }
            },
            "type": "table"
           }
          ]
         },
         "layout": {
          "annotationdefaults": {
           "arrowcolor": "#2a3f5f",
           "arrowhead": 0,
           "arrowwidth": 1
          },
          "autotypenumbers": "strict",
          "coloraxis": {
           "colorbar": {
            "outlinewidth": 0,
            "ticks": ""
           }
          },
          "colorscale": {
           "diverging": [
            [
             0,
             "#8e0152"
            ],
            [
             0.1,
             "#c51b7d"
            ],
            [
             0.2,
             "#de77ae"
            ],
            [
             0.3,
             "#f1b6da"
            ],
            [
             0.4,
             "#fde0ef"
            ],
            [
             0.5,
             "#f7f7f7"
            ],
            [
             0.6,
             "#e6f5d0"
            ],
            [
             0.7,
             "#b8e186"
            ],
            [
             0.8,
             "#7fbc41"
            ],
            [
             0.9,
             "#4d9221"
            ],
            [
             1,
             "#276419"
            ]
           ],
           "sequential": [
            [
             0,
             "#0d0887"
            ],
            [
             0.1111111111111111,
             "#46039f"
            ],
            [
             0.2222222222222222,
             "#7201a8"
            ],
            [
             0.3333333333333333,
             "#9c179e"
            ],
            [
             0.4444444444444444,
             "#bd3786"
            ],
            [
             0.5555555555555556,
             "#d8576b"
            ],
            [
             0.6666666666666666,
             "#ed7953"
            ],
            [
             0.7777777777777778,
             "#fb9f3a"
            ],
            [
             0.8888888888888888,
             "#fdca26"
            ],
            [
             1,
             "#f0f921"
            ]
           ],
           "sequentialminus": [
            [
             0,
             "#0d0887"
            ],
            [
             0.1111111111111111,
             "#46039f"
            ],
            [
             0.2222222222222222,
             "#7201a8"
            ],
            [
             0.3333333333333333,
             "#9c179e"
            ],
            [
             0.4444444444444444,
             "#bd3786"
            ],
            [
             0.5555555555555556,
             "#d8576b"
            ],
            [
             0.6666666666666666,
             "#ed7953"
            ],
            [
             0.7777777777777778,
             "#fb9f3a"
            ],
            [
             0.8888888888888888,
             "#fdca26"
            ],
            [
             1,
             "#f0f921"
            ]
           ]
          },
          "colorway": [
           "#636efa",
           "#EF553B",
           "#00cc96",
           "#ab63fa",
           "#FFA15A",
           "#19d3f3",
           "#FF6692",
           "#B6E880",
           "#FF97FF",
           "#FECB52"
          ],
          "font": {
           "color": "#2a3f5f"
          },
          "geo": {
           "bgcolor": "white",
           "lakecolor": "white",
           "landcolor": "#E5ECF6",
           "showlakes": true,
           "showland": true,
           "subunitcolor": "white"
          },
          "hoverlabel": {
           "align": "left"
          },
          "hovermode": "closest",
          "mapbox": {
           "style": "light"
          },
          "paper_bgcolor": "white",
          "plot_bgcolor": "#E5ECF6",
          "polar": {
           "angularaxis": {
            "gridcolor": "white",
            "linecolor": "white",
            "ticks": ""
           },
           "bgcolor": "#E5ECF6",
           "radialaxis": {
            "gridcolor": "white",
            "linecolor": "white",
            "ticks": ""
           }
          },
          "scene": {
           "xaxis": {
            "backgroundcolor": "#E5ECF6",
            "gridcolor": "white",
            "gridwidth": 2,
            "linecolor": "white",
            "showbackground": true,
            "ticks": "",
            "zerolinecolor": "white"
           },
           "yaxis": {
            "backgroundcolor": "#E5ECF6",
            "gridcolor": "white",
            "gridwidth": 2,
            "linecolor": "white",
            "showbackground": true,
            "ticks": "",
            "zerolinecolor": "white"
           },
           "zaxis": {
            "backgroundcolor": "#E5ECF6",
            "gridcolor": "white",
            "gridwidth": 2,
            "linecolor": "white",
            "showbackground": true,
            "ticks": "",
            "zerolinecolor": "white"
           }
          },
          "shapedefaults": {
           "line": {
            "color": "#2a3f5f"
           }
          },
          "ternary": {
           "aaxis": {
            "gridcolor": "white",
            "linecolor": "white",
            "ticks": ""
           },
           "baxis": {
            "gridcolor": "white",
            "linecolor": "white",
            "ticks": ""
           },
           "bgcolor": "#E5ECF6",
           "caxis": {
            "gridcolor": "white",
            "linecolor": "white",
            "ticks": ""
           }
          },
          "title": {
           "x": 0.05
          },
          "xaxis": {
           "automargin": true,
           "gridcolor": "white",
           "linecolor": "white",
           "ticks": "",
           "title": {
            "standoff": 15
           },
           "zerolinecolor": "white",
           "zerolinewidth": 2
          },
          "yaxis": {
           "automargin": true,
           "gridcolor": "white",
           "linecolor": "white",
           "ticks": "",
           "title": {
            "standoff": 15
           },
           "zerolinecolor": "white",
           "zerolinewidth": 2
          }
         }
        },
        "title": {
         "text": "AGE DISTRIBUTION"
        },
        "xaxis": {
         "showgrid": false,
         "title": {
          "text": "AGE"
         }
        },
        "yaxis": {
         "showgrid": false,
         "title": {
          "text": "COUNT"
         }
        }
       }
      },
      "text/html": [
       "<div>                            <div id=\"923f2824-c166-46b6-acb1-6c06daea2413\" class=\"plotly-graph-div\" style=\"height:525px; width:100%;\"></div>            <script type=\"text/javascript\">                require([\"plotly\"], function(Plotly) {                    window.PLOTLYENV=window.PLOTLYENV || {};                                    if (document.getElementById(\"923f2824-c166-46b6-acb1-6c06daea2413\")) {                    Plotly.newPlot(                        \"923f2824-c166-46b6-acb1-6c06daea2413\",                        [{\"marker\":{\"color\":\"#e8ab60\"},\"opacity\":1,\"x\":[75.0,55.0,65.0,50.0,65.0,90.0,75.0,60.0,65.0,80.0,75.0,62.0,45.0,50.0,49.0,82.0,87.0,45.0,70.0,48.0,65.0,65.0,68.0,53.0,75.0,80.0,95.0,70.0,58.0,82.0,94.0,85.0,50.0,50.0,65.0,69.0,90.0,82.0,60.0,60.0,70.0,50.0,70.0,72.0,60.0,50.0,51.0,60.0,80.0,57.0,68.0,53.0,60.0,70.0,60.0,95.0,70.0,60.0,49.0,72.0,45.0,50.0,55.0,45.0,60.0,42.0,72.0,70.0,65.0,41.0,58.0,85.0,65.0,69.0,60.0,70.0,42.0,75.0,55.0,70.0,67.0,60.0,79.0,59.0,51.0,55.0,65.0,44.0,57.0,70.0,60.0,42.0,60.0,58.0,58.0,63.0,70.0,60.0,63.0,65.0,75.0,80.0,42.0,60.0,72.0,55.0,45.0,63.0,45.0,85.0,55.0,50.0,70.0,60.0,58.0,60.0,85.0,65.0,86.0,60.0,66.0,60.0,60.0,60.0,43.0,46.0,58.0,61.0,53.0,53.0,60.0,46.0,63.0,81.0,75.0,65.0,68.0,62.0,50.0,80.0,46.0,50.0,61.0,72.0,50.0,52.0,64.0,75.0,60.0,72.0,62.0,50.0,50.0,65.0,60.0,52.0,50.0,85.0,59.0,66.0,45.0,63.0,50.0,45.0,80.0,53.0,59.0,65.0,70.0,51.0,52.0,70.0,50.0,65.0,60.0,69.0,49.0,63.0,55.0,40.0,59.0,65.0,75.0,58.0,60.667,50.0,60.0,60.667,40.0,80.0,64.0,50.0,73.0,45.0,77.0,45.0,65.0,50.0,60.0,63.0,45.0,70.0,60.0,78.0,50.0,40.0,85.0,60.0,49.0,70.0,50.0,78.0,48.0,65.0,73.0,70.0,68.0,55.0,73.0,65.0,42.0,47.0,58.0,75.0,58.0,55.0,65.0,72.0,60.0,70.0,40.0,53.0,53.0,77.0,75.0,70.0,65.0,55.0,70.0,65.0,40.0,73.0,54.0,61.0,55.0,64.0,40.0,53.0,50.0,55.0,50.0,70.0,53.0,52.0,65.0,58.0,45.0,53.0,55.0,62.0,65.0,68.0,61.0,50.0,55.0,56.0,45.0,40.0,44.0,51.0,67.0,42.0,60.0,45.0,70.0,70.0,50.0,55.0,70.0,70.0,42.0,65.0,50.0,55.0,60.0,45.0,65.0,90.0,45.0,60.0,52.0,63.0,62.0,55.0,45.0,45.0,50.0],\"xbins\":{\"end\":95,\"size\":2,\"start\":40},\"type\":\"histogram\"}],                        {\"template\":{\"data\":{\"histogram2dcontour\":[{\"type\":\"histogram2dcontour\",\"colorbar\":{\"outlinewidth\":0,\"ticks\":\"\"},\"colorscale\":[[0.0,\"#0d0887\"],[0.1111111111111111,\"#46039f\"],[0.2222222222222222,\"#7201a8\"],[0.3333333333333333,\"#9c179e\"],[0.4444444444444444,\"#bd3786\"],[0.5555555555555556,\"#d8576b\"],[0.6666666666666666,\"#ed7953\"],[0.7777777777777778,\"#fb9f3a\"],[0.8888888888888888,\"#fdca26\"],[1.0,\"#f0f921\"]]}],\"choropleth\":[{\"type\":\"choropleth\",\"colorbar\":{\"outlinewidth\":0,\"ticks\":\"\"}}],\"histogram2d\":[{\"type\":\"histogram2d\",\"colorbar\":{\"outlinewidth\":0,\"ticks\":\"\"},\"colorscale\":[[0.0,\"#0d0887\"],[0.1111111111111111,\"#46039f\"],[0.2222222222222222,\"#7201a8\"],[0.3333333333333333,\"#9c179e\"],[0.4444444444444444,\"#bd3786\"],[0.5555555555555556,\"#d8576b\"],[0.6666666666666666,\"#ed7953\"],[0.7777777777777778,\"#fb9f3a\"],[0.8888888888888888,\"#fdca26\"],[1.0,\"#f0f921\"]]}],\"heatmap\":[{\"type\":\"heatmap\",\"colorbar\":{\"outlinewidth\":0,\"ticks\":\"\"},\"colorscale\":[[0.0,\"#0d0887\"],[0.1111111111111111,\"#46039f\"],[0.2222222222222222,\"#7201a8\"],[0.3333333333333333,\"#9c179e\"],[0.4444444444444444,\"#bd3786\"],[0.5555555555555556,\"#d8576b\"],[0.6666666666666666,\"#ed7953\"],[0.7777777777777778,\"#fb9f3a\"],[0.8888888888888888,\"#fdca26\"],[1.0,\"#f0f921\"]]}],\"heatmapgl\":[{\"type\":\"heatmapgl\",\"colorbar\":{\"outlinewidth\":0,\"ticks\":\"\"},\"colorscale\":[[0.0,\"#0d0887\"],[0.1111111111111111,\"#46039f\"],[0.2222222222222222,\"#7201a8\"],[0.3333333333333333,\"#9c179e\"],[0.4444444444444444,\"#bd3786\"],[0.5555555555555556,\"#d8576b\"],[0.6666666666666666,\"#ed7953\"],[0.7777777777777778,\"#fb9f3a\"],[0.8888888888888888,\"#fdca26\"],[1.0,\"#f0f921\"]]}],\"contourcarpet\":[{\"type\":\"contourcarpet\",\"colorbar\":{\"outlinewidth\":0,\"ticks\":\"\"}}],\"contour\":[{\"type\":\"contour\",\"colorbar\":{\"outlinewidth\":0,\"ticks\":\"\"},\"colorscale\":[[0.0,\"#0d0887\"],[0.1111111111111111,\"#46039f\"],[0.2222222222222222,\"#7201a8\"],[0.3333333333333333,\"#9c179e\"],[0.4444444444444444,\"#bd3786\"],[0.5555555555555556,\"#d8576b\"],[0.6666666666666666,\"#ed7953\"],[0.7777777777777778,\"#fb9f3a\"],[0.8888888888888888,\"#fdca26\"],[1.0,\"#f0f921\"]]}],\"surface\":[{\"type\":\"surface\",\"colorbar\":{\"outlinewidth\":0,\"ticks\":\"\"},\"colorscale\":[[0.0,\"#0d0887\"],[0.1111111111111111,\"#46039f\"],[0.2222222222222222,\"#7201a8\"],[0.3333333333333333,\"#9c179e\"],[0.4444444444444444,\"#bd3786\"],[0.5555555555555556,\"#d8576b\"],[0.6666666666666666,\"#ed7953\"],[0.7777777777777778,\"#fb9f3a\"],[0.8888888888888888,\"#fdca26\"],[1.0,\"#f0f921\"]]}],\"mesh3d\":[{\"type\":\"mesh3d\",\"colorbar\":{\"outlinewidth\":0,\"ticks\":\"\"}}],\"scatter\":[{\"fillpattern\":{\"fillmode\":\"overlay\",\"size\":10,\"solidity\":0.2},\"type\":\"scatter\"}],\"parcoords\":[{\"type\":\"parcoords\",\"line\":{\"colorbar\":{\"outlinewidth\":0,\"ticks\":\"\"}}}],\"scatterpolargl\":[{\"type\":\"scatterpolargl\",\"marker\":{\"colorbar\":{\"outlinewidth\":0,\"ticks\":\"\"}}}],\"bar\":[{\"error_x\":{\"color\":\"#2a3f5f\"},\"error_y\":{\"color\":\"#2a3f5f\"},\"marker\":{\"line\":{\"color\":\"#E5ECF6\",\"width\":0.5},\"pattern\":{\"fillmode\":\"overlay\",\"size\":10,\"solidity\":0.2}},\"type\":\"bar\"}],\"scattergeo\":[{\"type\":\"scattergeo\",\"marker\":{\"colorbar\":{\"outlinewidth\":0,\"ticks\":\"\"}}}],\"scatterpolar\":[{\"type\":\"scatterpolar\",\"marker\":{\"colorbar\":{\"outlinewidth\":0,\"ticks\":\"\"}}}],\"histogram\":[{\"marker\":{\"pattern\":{\"fillmode\":\"overlay\",\"size\":10,\"solidity\":0.2}},\"type\":\"histogram\"}],\"scattergl\":[{\"type\":\"scattergl\",\"marker\":{\"colorbar\":{\"outlinewidth\":0,\"ticks\":\"\"}}}],\"scatter3d\":[{\"type\":\"scatter3d\",\"line\":{\"colorbar\":{\"outlinewidth\":0,\"ticks\":\"\"}},\"marker\":{\"colorbar\":{\"outlinewidth\":0,\"ticks\":\"\"}}}],\"scattermapbox\":[{\"type\":\"scattermapbox\",\"marker\":{\"colorbar\":{\"outlinewidth\":0,\"ticks\":\"\"}}}],\"scatterternary\":[{\"type\":\"scatterternary\",\"marker\":{\"colorbar\":{\"outlinewidth\":0,\"ticks\":\"\"}}}],\"scattercarpet\":[{\"type\":\"scattercarpet\",\"marker\":{\"colorbar\":{\"outlinewidth\":0,\"ticks\":\"\"}}}],\"carpet\":[{\"aaxis\":{\"endlinecolor\":\"#2a3f5f\",\"gridcolor\":\"white\",\"linecolor\":\"white\",\"minorgridcolor\":\"white\",\"startlinecolor\":\"#2a3f5f\"},\"baxis\":{\"endlinecolor\":\"#2a3f5f\",\"gridcolor\":\"white\",\"linecolor\":\"white\",\"minorgridcolor\":\"white\",\"startlinecolor\":\"#2a3f5f\"},\"type\":\"carpet\"}],\"table\":[{\"cells\":{\"fill\":{\"color\":\"#EBF0F8\"},\"line\":{\"color\":\"white\"}},\"header\":{\"fill\":{\"color\":\"#C8D4E3\"},\"line\":{\"color\":\"white\"}},\"type\":\"table\"}],\"barpolar\":[{\"marker\":{\"line\":{\"color\":\"#E5ECF6\",\"width\":0.5},\"pattern\":{\"fillmode\":\"overlay\",\"size\":10,\"solidity\":0.2}},\"type\":\"barpolar\"}],\"pie\":[{\"automargin\":true,\"type\":\"pie\"}]},\"layout\":{\"autotypenumbers\":\"strict\",\"colorway\":[\"#636efa\",\"#EF553B\",\"#00cc96\",\"#ab63fa\",\"#FFA15A\",\"#19d3f3\",\"#FF6692\",\"#B6E880\",\"#FF97FF\",\"#FECB52\"],\"font\":{\"color\":\"#2a3f5f\"},\"hovermode\":\"closest\",\"hoverlabel\":{\"align\":\"left\"},\"paper_bgcolor\":\"white\",\"plot_bgcolor\":\"#E5ECF6\",\"polar\":{\"bgcolor\":\"#E5ECF6\",\"angularaxis\":{\"gridcolor\":\"white\",\"linecolor\":\"white\",\"ticks\":\"\"},\"radialaxis\":{\"gridcolor\":\"white\",\"linecolor\":\"white\",\"ticks\":\"\"}},\"ternary\":{\"bgcolor\":\"#E5ECF6\",\"aaxis\":{\"gridcolor\":\"white\",\"linecolor\":\"white\",\"ticks\":\"\"},\"baxis\":{\"gridcolor\":\"white\",\"linecolor\":\"white\",\"ticks\":\"\"},\"caxis\":{\"gridcolor\":\"white\",\"linecolor\":\"white\",\"ticks\":\"\"}},\"coloraxis\":{\"colorbar\":{\"outlinewidth\":0,\"ticks\":\"\"}},\"colorscale\":{\"sequential\":[[0.0,\"#0d0887\"],[0.1111111111111111,\"#46039f\"],[0.2222222222222222,\"#7201a8\"],[0.3333333333333333,\"#9c179e\"],[0.4444444444444444,\"#bd3786\"],[0.5555555555555556,\"#d8576b\"],[0.6666666666666666,\"#ed7953\"],[0.7777777777777778,\"#fb9f3a\"],[0.8888888888888888,\"#fdca26\"],[1.0,\"#f0f921\"]],\"sequentialminus\":[[0.0,\"#0d0887\"],[0.1111111111111111,\"#46039f\"],[0.2222222222222222,\"#7201a8\"],[0.3333333333333333,\"#9c179e\"],[0.4444444444444444,\"#bd3786\"],[0.5555555555555556,\"#d8576b\"],[0.6666666666666666,\"#ed7953\"],[0.7777777777777778,\"#fb9f3a\"],[0.8888888888888888,\"#fdca26\"],[1.0,\"#f0f921\"]],\"diverging\":[[0,\"#8e0152\"],[0.1,\"#c51b7d\"],[0.2,\"#de77ae\"],[0.3,\"#f1b6da\"],[0.4,\"#fde0ef\"],[0.5,\"#f7f7f7\"],[0.6,\"#e6f5d0\"],[0.7,\"#b8e186\"],[0.8,\"#7fbc41\"],[0.9,\"#4d9221\"],[1,\"#276419\"]]},\"xaxis\":{\"gridcolor\":\"white\",\"linecolor\":\"white\",\"ticks\":\"\",\"title\":{\"standoff\":15},\"zerolinecolor\":\"white\",\"automargin\":true,\"zerolinewidth\":2},\"yaxis\":{\"gridcolor\":\"white\",\"linecolor\":\"white\",\"ticks\":\"\",\"title\":{\"standoff\":15},\"zerolinecolor\":\"white\",\"automargin\":true,\"zerolinewidth\":2},\"scene\":{\"xaxis\":{\"backgroundcolor\":\"#E5ECF6\",\"gridcolor\":\"white\",\"linecolor\":\"white\",\"showbackground\":true,\"ticks\":\"\",\"zerolinecolor\":\"white\",\"gridwidth\":2},\"yaxis\":{\"backgroundcolor\":\"#E5ECF6\",\"gridcolor\":\"white\",\"linecolor\":\"white\",\"showbackground\":true,\"ticks\":\"\",\"zerolinecolor\":\"white\",\"gridwidth\":2},\"zaxis\":{\"backgroundcolor\":\"#E5ECF6\",\"gridcolor\":\"white\",\"linecolor\":\"white\",\"showbackground\":true,\"ticks\":\"\",\"zerolinecolor\":\"white\",\"gridwidth\":2}},\"shapedefaults\":{\"line\":{\"color\":\"#2a3f5f\"}},\"annotationdefaults\":{\"arrowcolor\":\"#2a3f5f\",\"arrowhead\":0,\"arrowwidth\":1},\"geo\":{\"bgcolor\":\"white\",\"landcolor\":\"#E5ECF6\",\"subunitcolor\":\"white\",\"showland\":true,\"showlakes\":true,\"lakecolor\":\"white\"},\"title\":{\"x\":0.05},\"mapbox\":{\"style\":\"light\"}}},\"title\":{\"text\":\"AGE DISTRIBUTION\"},\"xaxis\":{\"title\":{\"text\":\"AGE\"},\"showgrid\":false},\"yaxis\":{\"title\":{\"text\":\"COUNT\"},\"showgrid\":false},\"bargap\":0.05},                        {\"responsive\": true}                    ).then(function(){\n",
       "                            \n",
       "var gd = document.getElementById('923f2824-c166-46b6-acb1-6c06daea2413');\n",
       "var x = new MutationObserver(function (mutations, observer) {{\n",
       "        var display = window.getComputedStyle(gd).display;\n",
       "        if (!display || display === 'none') {{\n",
       "            console.log([gd, 'removed!']);\n",
       "            Plotly.purge(gd);\n",
       "            observer.disconnect();\n",
       "        }}\n",
       "}});\n",
       "\n",
       "// Listen for the removal of the full notebook cells\n",
       "var notebookContainer = gd.closest('#notebook-container');\n",
       "if (notebookContainer) {{\n",
       "    x.observe(notebookContainer, {childList: true});\n",
       "}}\n",
       "\n",
       "// Listen for the clearing of the current output cell\n",
       "var outputEl = gd.closest('.output');\n",
       "if (outputEl) {{\n",
       "    x.observe(outputEl, {childList: true});\n",
       "}}\n",
       "\n",
       "                        })                };                });            </script>        </div>"
      ]
     },
     "metadata": {},
     "output_type": "display_data"
    }
   ],
   "source": [
    "# Distribution of Age\n",
    "\n",
    "import plotly.graph_objects as go\n",
    "\n",
    "fig = go.Figure()\n",
    "fig.add_trace(go.Histogram(\n",
    "    x = df['age'],\n",
    "    xbins=dict( # bins for histogram\n",
    "        start=40,\n",
    "        end=95,\n",
    "        size=2\n",
    "    ),\n",
    "    marker_color='#e8ab60',\n",
    "    opacity=1\n",
    "))\n",
    "\n",
    "fig.update_layout(\n",
    "    title_text='AGE DISTRIBUTION',\n",
    "    xaxis_title_text='AGE',\n",
    "    yaxis_title_text='COUNT', \n",
    "    bargap=0.05, # gap between bars of adjacent location coordinates\n",
    "    xaxis =  {'showgrid': False },\n",
    "    yaxis = {'showgrid': False },\n",
    "    template = 'plotly'\n",
    ")\n",
    "\n",
    "fig.show()"
   ]
  },
  {
   "cell_type": "code",
   "execution_count": 33,
   "metadata": {},
   "outputs": [
    {
     "data": {
      "application/vnd.plotly.v1+json": {
       "config": {
        "plotlyServerURL": "https://plot.ly"
       },
       "data": [
        {
         "alignmentgroup": "True",
         "bingroup": "x",
         "hovertemplate": "DEATH_EVENT=1<br>AGE=%{x}<br>count=%{y}<extra></extra>",
         "legendgroup": "1",
         "marker": {
          "color": "#00cc96",
          "pattern": {
           "shape": ""
          }
         },
         "name": "1",
         "offsetgroup": "1",
         "orientation": "v",
         "showlegend": true,
         "type": "histogram",
         "x": [
          75,
          55,
          65,
          50,
          65,
          90,
          75,
          60,
          65,
          80,
          75,
          62,
          45,
          50,
          82,
          87,
          45,
          70,
          48,
          65,
          68,
          75,
          80,
          95,
          70,
          58,
          82,
          94,
          85,
          50,
          65,
          69,
          90,
          82,
          60,
          70,
          50,
          70,
          60,
          50,
          51,
          60,
          80,
          57,
          68,
          53,
          60,
          70,
          60,
          95,
          49,
          72,
          45,
          50,
          45,
          60,
          42,
          72,
          70,
          65,
          85,
          69,
          60,
          60,
          59,
          60,
          72,
          85,
          70,
          86,
          60,
          46,
          80,
          72,
          75,
          72,
          50,
          45,
          80,
          59,
          59,
          65,
          75,
          58,
          60.667,
          50,
          60,
          45,
          77,
          48,
          73,
          60,
          55,
          65,
          55
         ],
         "xaxis": "x",
         "yaxis": "y"
        },
        {
         "alignmentgroup": "True",
         "customdata": [
          [
           0,
           582,
           0,
           20,
           1,
           265000,
           1.9,
           130,
           1,
           0,
           4,
           1
          ],
          [
           0,
           7861,
           0,
           38,
           0,
           263358.03,
           1.1,
           136,
           1,
           0,
           6,
           1
          ],
          [
           0,
           146,
           0,
           20,
           0,
           162000,
           1.3,
           129,
           1,
           1,
           7,
           1
          ],
          [
           1,
           111,
           0,
           20,
           0,
           210000,
           1.9,
           137,
           1,
           0,
           7,
           1
          ],
          [
           1,
           160,
           1,
           20,
           0,
           327000,
           2.7,
           116,
           0,
           0,
           8,
           1
          ],
          [
           1,
           47,
           0,
           40,
           1,
           204000,
           2.1,
           132,
           1,
           1,
           8,
           1
          ],
          [
           1,
           246,
           0,
           15,
           0,
           127000,
           1.2,
           137,
           1,
           0,
           10,
           1
          ],
          [
           1,
           315,
           1,
           60,
           0,
           454000,
           1.1,
           131,
           1,
           1,
           10,
           1
          ],
          [
           0,
           157,
           0,
           65,
           0,
           263358.03,
           1.5,
           138,
           0,
           0,
           10,
           1
          ],
          [
           1,
           123,
           0,
           35,
           1,
           388000,
           9.4,
           133,
           1,
           1,
           10,
           1
          ],
          [
           1,
           81,
           0,
           38,
           1,
           368000,
           4,
           131,
           1,
           1,
           10,
           1
          ],
          [
           0,
           231,
           0,
           25,
           1,
           253000,
           0.9,
           140,
           1,
           1,
           10,
           1
          ],
          [
           1,
           981,
           0,
           30,
           0,
           136000,
           1.1,
           137,
           1,
           0,
           11,
           1
          ],
          [
           1,
           168,
           0,
           38,
           1,
           276000,
           1.1,
           137,
           1,
           0,
           11,
           1
          ],
          [
           1,
           379,
           0,
           50,
           0,
           47000,
           1.3,
           136,
           1,
           0,
           13,
           1
          ],
          [
           1,
           149,
           0,
           38,
           0,
           262000,
           0.9,
           140,
           1,
           0,
           14,
           1
          ],
          [
           0,
           582,
           0,
           14,
           0,
           166000,
           0.8,
           127,
           1,
           0,
           14,
           1
          ],
          [
           1,
           125,
           0,
           25,
           1,
           237000,
           1,
           140,
           0,
           0,
           15,
           1
          ],
          [
           1,
           582,
           1,
           55,
           0,
           87000,
           1.9,
           121,
           0,
           0,
           15,
           1
          ],
          [
           1,
           128,
           1,
           30,
           1,
           297000,
           1.6,
           136,
           0,
           0,
           20,
           1
          ],
          [
           1,
           220,
           0,
           35,
           1,
           289000,
           0.9,
           140,
           1,
           1,
           20,
           1
          ],
          [
           0,
           582,
           1,
           30,
           1,
           263358.03,
           1.83,
           134,
           0,
           0,
           23,
           1
          ],
          [
           0,
           148,
           1,
           38,
           0,
           149000,
           1.9,
           144,
           1,
           1,
           23,
           1
          ],
          [
           1,
           112,
           0,
           40,
           1,
           196000,
           1,
           138,
           0,
           0,
           24,
           1
          ],
          [
           0,
           122,
           1,
           45,
           1,
           284000,
           1.3,
           136,
           1,
           1,
           26,
           1
          ],
          [
           1,
           60,
           0,
           38,
           0,
           153000,
           5.8,
           134,
           1,
           0,
           26,
           1
          ],
          [
           0,
           70,
           1,
           30,
           0,
           200000,
           1.2,
           132,
           1,
           1,
           26,
           1
          ],
          [
           0,
           582,
           1,
           38,
           1,
           263358.03,
           1.83,
           134,
           1,
           0,
           27,
           1
          ],
          [
           0,
           23,
           0,
           45,
           0,
           360000,
           3,
           132,
           1,
           0,
           28,
           1
          ],
          [
           1,
           249,
           1,
           35,
           1,
           319000,
           1,
           128,
           0,
           0,
           28,
           1
          ],
          [
           0,
           94,
           1,
           50,
           1,
           188000,
           1,
           140,
           1,
           0,
           29,
           1
          ],
          [
           0,
           582,
           1,
           35,
           0,
           228000,
           3.5,
           134,
           1,
           0,
           30,
           1
          ],
          [
           1,
           60,
           1,
           50,
           0,
           226000,
           1,
           134,
           1,
           0,
           30,
           1
          ],
          [
           1,
           855,
           1,
           50,
           1,
           321000,
           1,
           145,
           0,
           0,
           30,
           1
          ],
          [
           0,
           235,
           1,
           38,
           0,
           329000,
           3,
           142,
           0,
           0,
           30,
           1
          ],
          [
           0,
           582,
           0,
           20,
           1,
           263358.03,
           1.83,
           134,
           1,
           1,
           31,
           1
          ],
          [
           0,
           124,
           1,
           30,
           1,
           153000,
           1.2,
           136,
           0,
           1,
           32,
           1
          ],
          [
           0,
           571,
           1,
           45,
           1,
           185000,
           1.2,
           139,
           1,
           1,
           33,
           1
          ],
          [
           1,
           588,
           1,
           60,
           0,
           194000,
           1.1,
           142,
           0,
           0,
           33,
           1
          ],
          [
           0,
           582,
           1,
           38,
           0,
           310000,
           1.9,
           135,
           1,
           1,
           35,
           1
          ],
          [
           0,
           1380,
           0,
           25,
           1,
           271000,
           0.9,
           130,
           1,
           0,
           38,
           1
          ],
          [
           0,
           582,
           1,
           38,
           1,
           451000,
           0.6,
           138,
           1,
           1,
           40,
           1
          ],
          [
           1,
           553,
           0,
           20,
           1,
           140000,
           4.4,
           133,
           1,
           0,
           41,
           1
          ],
          [
           1,
           129,
           0,
           30,
           0,
           395000,
           1,
           140,
           0,
           0,
           42,
           1
          ],
          [
           1,
           577,
           0,
           25,
           1,
           166000,
           1,
           138,
           1,
           0,
           43,
           1
          ],
          [
           1,
           91,
           0,
           20,
           1,
           418000,
           1.4,
           139,
           0,
           0,
           43,
           1
          ],
          [
           0,
           3964,
           1,
           62,
           0,
           263358.03,
           6.8,
           146,
           0,
           0,
           43,
           1
          ],
          [
           1,
           69,
           1,
           50,
           1,
           351000,
           1,
           134,
           0,
           0,
           44,
           1
          ],
          [
           1,
           260,
           1,
           38,
           0,
           255000,
           2.2,
           132,
           0,
           1,
           45,
           1
          ],
          [
           1,
           371,
           0,
           30,
           0,
           461000,
           2,
           132,
           1,
           0,
           50,
           1
          ],
          [
           0,
           789,
           0,
           20,
           1,
           319000,
           1.1,
           136,
           1,
           1,
           55,
           1
          ],
          [
           0,
           364,
           1,
           20,
           1,
           254000,
           1.3,
           136,
           1,
           1,
           59,
           1
          ],
          [
           0,
           7702,
           1,
           25,
           1,
           390000,
           1,
           139,
           1,
           0,
           60,
           1
          ],
          [
           0,
           318,
           0,
           40,
           1,
           216000,
           2.3,
           131,
           0,
           0,
           60,
           1
          ],
          [
           0,
           582,
           0,
           35,
           0,
           385000,
           1,
           145,
           1,
           0,
           61,
           1
          ],
          [
           0,
           68,
           0,
           20,
           0,
           119000,
           2.9,
           127,
           1,
           1,
           64,
           1
          ],
          [
           1,
           250,
           1,
           15,
           0,
           213000,
           1.3,
           136,
           0,
           0,
           65,
           1
          ],
          [
           1,
           110,
           0,
           25,
           0,
           274000,
           1,
           140,
           1,
           1,
           65,
           1
          ],
          [
           0,
           161,
           0,
           25,
           0,
           244000,
           1.2,
           142,
           0,
           0,
           66,
           1
          ],
          [
           0,
           113,
           1,
           25,
           0,
           497000,
           1.83,
           135,
           1,
           0,
           67,
           1
          ],
          [
           0,
           5882,
           0,
           35,
           0,
           243000,
           1,
           132,
           1,
           1,
           72,
           1
          ],
          [
           0,
           582,
           0,
           20,
           0,
           266000,
           1.2,
           134,
           1,
           1,
           73,
           1
          ],
          [
           1,
           47,
           0,
           20,
           0,
           204000,
           0.7,
           139,
           1,
           1,
           73,
           1
          ],
          [
           1,
           76,
           1,
           25,
           0,
           196000,
           2.5,
           132,
           0,
           0,
           77,
           1
          ],
          [
           1,
           280,
           1,
           25,
           1,
           302000,
           1,
           141,
           0,
           0,
           78,
           1
          ],
          [
           1,
           154,
           0,
           25,
           0,
           210000,
           1.7,
           135,
           1,
           0,
           82,
           1
          ],
          [
           1,
           328,
           0,
           30,
           1,
           621000,
           1.7,
           138,
           0,
           1,
           88,
           1
          ],
          [
           0,
           129,
           0,
           60,
           0,
           306000,
           1.2,
           132,
           1,
           1,
           90,
           1
          ],
          [
           1,
           143,
           0,
           60,
           0,
           351000,
           1.3,
           137,
           0,
           0,
           90,
           1
          ],
          [
           0,
           582,
           0,
           38,
           0,
           263358.03,
           1.83,
           134,
           0,
           0,
           95,
           1
          ],
          [
           0,
           582,
           0,
           40,
           0,
           217000,
           3.7,
           134,
           1,
           0,
           96,
           1
          ],
          [
           0,
           168,
           1,
           17,
           1,
           271000,
           2.1,
           124,
           0,
           0,
           100,
           1
          ],
          [
           0,
           805,
           0,
           38,
           0,
           263358.03,
           1.1,
           134,
           1,
           0,
           109,
           1
          ],
          [
           1,
           943,
           0,
           25,
           1,
           338000,
           1.7,
           139,
           1,
           1,
           111,
           1
          ],
          [
           1,
           582,
           0,
           30,
           0,
           225000,
           1.83,
           134,
           1,
           0,
           113,
           1
          ],
          [
           0,
           233,
           0,
           45,
           1,
           235000,
           2.5,
           135,
           0,
           0,
           115,
           1
          ],
          [
           1,
           2334,
           1,
           35,
           0,
           75000,
           0.9,
           142,
           0,
           0,
           126,
           1
          ],
          [
           0,
           2442,
           1,
           30,
           0,
           334000,
           1.1,
           139,
           1,
           0,
           129,
           1
          ],
          [
           0,
           776,
           1,
           38,
           1,
           192000,
           1.3,
           135,
           0,
           0,
           130,
           1
          ],
          [
           0,
           66,
           1,
           20,
           0,
           70000,
           2.4,
           134,
           1,
           0,
           135,
           1
          ],
          [
           1,
           176,
           1,
           25,
           0,
           221000,
           1,
           136,
           1,
           1,
           150,
           1
          ],
          [
           0,
           395,
           1,
           25,
           0,
           265000,
           1.2,
           136,
           1,
           1,
           154,
           1
          ],
          [
           0,
           99,
           0,
           38,
           1,
           224000,
           2.5,
           134,
           1,
           0,
           162,
           1
          ],
          [
           1,
           145,
           0,
           25,
           0,
           219000,
           1.2,
           137,
           1,
           1,
           170,
           1
          ],
          [
           1,
           104,
           1,
           30,
           0,
           389000,
           1.5,
           136,
           1,
           0,
           171,
           1
          ],
          [
           0,
           582,
           0,
           50,
           0,
           153000,
           0.6,
           134,
           0,
           0,
           172,
           1
          ],
          [
           0,
           1896,
           1,
           25,
           0,
           365000,
           2.1,
           144,
           0,
           0,
           172,
           1
          ],
          [
           0,
           582,
           0,
           20,
           1,
           126000,
           1.6,
           135,
           1,
           0,
           180,
           1
          ],
          [
           1,
           418,
           0,
           45,
           0,
           223000,
           1.8,
           145,
           1,
           0,
           180,
           1
          ],
          [
           1,
           131,
           1,
           30,
           1,
           244000,
           1.6,
           130,
           0,
           0,
           193,
           1
          ],
          [
           0,
           582,
           0,
           20,
           0,
           263358.03,
           1.83,
           134,
           1,
           0,
           198,
           1
          ],
          [
           0,
           166,
           0,
           30,
           0,
           62000,
           1.7,
           127,
           0,
           0,
           207,
           1
          ],
          [
           0,
           2017,
           0,
           25,
           0,
           314000,
           1.1,
           138,
           1,
           0,
           214,
           1
          ],
          [
           1,
           258,
           1,
           25,
           0,
           198000,
           1.4,
           129,
           1,
           0,
           235,
           1
          ],
          [
           0,
           1199,
           0,
           20,
           0,
           263358.03,
           1.83,
           134,
           1,
           1,
           241,
           1
          ]
         ],
         "hovertemplate": "DEATH_EVENT=%{customdata[11]}<br>AGE=%{x}<br>anaemia=%{customdata[0]}<br>creatinine_phosphokinase=%{customdata[1]}<br>diabetes=%{customdata[2]}<br>ejection_fraction=%{customdata[3]}<br>high_blood_pressure=%{customdata[4]}<br>platelets=%{customdata[5]}<br>serum_creatinine=%{customdata[6]}<br>serum_sodium=%{customdata[7]}<br>sex=%{customdata[8]}<br>smoking=%{customdata[9]}<br>time=%{customdata[10]}<extra></extra>",
         "legendgroup": "1",
         "marker": {
          "color": "#00cc96"
         },
         "name": "1",
         "offsetgroup": "1",
         "scalegroup": "x",
         "showlegend": false,
         "type": "violin",
         "x": [
          75,
          55,
          65,
          50,
          65,
          90,
          75,
          60,
          65,
          80,
          75,
          62,
          45,
          50,
          82,
          87,
          45,
          70,
          48,
          65,
          68,
          75,
          80,
          95,
          70,
          58,
          82,
          94,
          85,
          50,
          65,
          69,
          90,
          82,
          60,
          70,
          50,
          70,
          60,
          50,
          51,
          60,
          80,
          57,
          68,
          53,
          60,
          70,
          60,
          95,
          49,
          72,
          45,
          50,
          45,
          60,
          42,
          72,
          70,
          65,
          85,
          69,
          60,
          60,
          59,
          60,
          72,
          85,
          70,
          86,
          60,
          46,
          80,
          72,
          75,
          72,
          50,
          45,
          80,
          59,
          59,
          65,
          75,
          58,
          60.667,
          50,
          60,
          45,
          77,
          48,
          73,
          60,
          55,
          65,
          55
         ],
         "xaxis": "x2",
         "yaxis": "y2"
        },
        {
         "alignmentgroup": "True",
         "bingroup": "x",
         "hovertemplate": "DEATH_EVENT=0<br>AGE=%{x}<br>count=%{y}<extra></extra>",
         "legendgroup": "0",
         "marker": {
          "color": "#ab63fa",
          "pattern": {
           "shape": ""
          }
         },
         "name": "0",
         "offsetgroup": "0",
         "orientation": "v",
         "showlegend": true,
         "type": "histogram",
         "x": [
          49,
          65,
          53,
          50,
          60,
          72,
          70,
          60,
          55,
          41,
          58,
          65,
          70,
          42,
          75,
          55,
          70,
          67,
          79,
          51,
          55,
          65,
          44,
          57,
          70,
          60,
          42,
          58,
          58,
          63,
          70,
          60,
          63,
          65,
          75,
          80,
          42,
          60,
          55,
          45,
          63,
          45,
          55,
          50,
          60,
          58,
          60,
          85,
          65,
          60,
          66,
          60,
          60,
          43,
          58,
          61,
          53,
          53,
          60,
          46,
          63,
          81,
          75,
          65,
          68,
          62,
          50,
          46,
          50,
          61,
          50,
          52,
          64,
          60,
          62,
          50,
          50,
          65,
          60,
          52,
          50,
          85,
          59,
          66,
          45,
          63,
          53,
          65,
          70,
          51,
          52,
          70,
          50,
          65,
          60,
          69,
          49,
          63,
          55,
          40,
          60.667,
          40,
          80,
          64,
          50,
          73,
          45,
          65,
          50,
          60,
          63,
          45,
          70,
          60,
          78,
          50,
          40,
          85,
          60,
          49,
          70,
          50,
          78,
          65,
          73,
          70,
          68,
          55,
          65,
          42,
          47,
          58,
          75,
          58,
          55,
          65,
          72,
          70,
          40,
          53,
          53,
          77,
          75,
          70,
          65,
          55,
          70,
          65,
          40,
          73,
          54,
          61,
          64,
          40,
          53,
          50,
          55,
          50,
          70,
          53,
          52,
          65,
          58,
          45,
          53,
          55,
          62,
          68,
          61,
          50,
          56,
          45,
          40,
          44,
          51,
          67,
          42,
          60,
          45,
          70,
          70,
          50,
          55,
          70,
          70,
          42,
          65,
          50,
          55,
          60,
          45,
          65,
          90,
          45,
          60,
          52,
          63,
          62,
          55,
          45,
          45,
          50
         ],
         "xaxis": "x",
         "yaxis": "y"
        },
        {
         "alignmentgroup": "True",
         "customdata": [
          [
           1,
           80,
           0,
           30,
           1,
           427000,
           1,
           138,
           0,
           0,
           12,
           0
          ],
          [
           1,
           52,
           0,
           25,
           1,
           276000,
           1.3,
           137,
           0,
           0,
           16,
           0
          ],
          [
           0,
           63,
           1,
           60,
           0,
           368000,
           0.8,
           135,
           1,
           0,
           22,
           0
          ],
          [
           1,
           159,
           1,
           30,
           0,
           302000,
           1.2,
           138,
           0,
           0,
           29,
           0
          ],
          [
           0,
           2656,
           1,
           30,
           0,
           305000,
           2.3,
           137,
           1,
           0,
           30,
           0
          ],
          [
           0,
           127,
           1,
           50,
           1,
           218000,
           1,
           134,
           1,
           0,
           33,
           0
          ],
          [
           1,
           75,
           0,
           35,
           0,
           223000,
           2.7,
           138,
           1,
           1,
           54,
           0
          ],
          [
           1,
           607,
           0,
           40,
           0,
           216000,
           0.6,
           138,
           1,
           1,
           54,
           0
          ],
          [
           0,
           109,
           0,
           35,
           0,
           254000,
           1.1,
           139,
           1,
           1,
           60,
           0
          ],
          [
           0,
           148,
           0,
           40,
           0,
           374000,
           0.8,
           140,
           1,
           1,
           68,
           0
          ],
          [
           0,
           582,
           1,
           35,
           0,
           122000,
           0.9,
           139,
           1,
           1,
           71,
           0
          ],
          [
           0,
           224,
           1,
           50,
           0,
           149000,
           1.3,
           137,
           1,
           1,
           72,
           0
          ],
          [
           0,
           92,
           0,
           60,
           1,
           317000,
           0.8,
           140,
           0,
           1,
           74,
           0
          ],
          [
           0,
           102,
           1,
           40,
           0,
           237000,
           1.2,
           140,
           1,
           0,
           74,
           0
          ],
          [
           1,
           203,
           1,
           38,
           1,
           283000,
           0.6,
           131,
           1,
           1,
           74,
           0
          ],
          [
           0,
           336,
           0,
           45,
           1,
           324000,
           0.9,
           140,
           0,
           0,
           74,
           0
          ],
          [
           0,
           69,
           0,
           40,
           0,
           293000,
           1.7,
           136,
           0,
           0,
           75,
           0
          ],
          [
           0,
           582,
           0,
           50,
           0,
           263358.03,
           1.18,
           137,
           1,
           1,
           76,
           0
          ],
          [
           1,
           55,
           0,
           50,
           1,
           172000,
           1.8,
           133,
           1,
           0,
           78,
           0
          ],
          [
           0,
           78,
           0,
           50,
           0,
           406000,
           0.7,
           140,
           1,
           0,
           79,
           0
          ],
          [
           0,
           47,
           0,
           35,
           1,
           173000,
           1.1,
           137,
           1,
           0,
           79,
           0
          ],
          [
           1,
           68,
           1,
           60,
           1,
           304000,
           0.8,
           140,
           1,
           0,
           79,
           0
          ],
          [
           0,
           84,
           1,
           40,
           1,
           235000,
           0.7,
           139,
           1,
           0,
           79,
           0
          ],
          [
           1,
           115,
           0,
           25,
           1,
           181000,
           1.1,
           144,
           1,
           0,
           79,
           0
          ],
          [
           0,
           66,
           1,
           45,
           0,
           249000,
           0.8,
           136,
           1,
           1,
           80,
           0
          ],
          [
           0,
           897,
           1,
           45,
           0,
           297000,
           1,
           133,
           1,
           0,
           80,
           0
          ],
          [
           0,
           582,
           0,
           60,
           0,
           263358.03,
           1.18,
           137,
           0,
           0,
           82,
           0
          ],
          [
           0,
           144,
           1,
           38,
           1,
           327000,
           0.7,
           142,
           0,
           0,
           83,
           0
          ],
          [
           1,
           133,
           0,
           60,
           1,
           219000,
           1,
           141,
           1,
           0,
           83,
           0
          ],
          [
           1,
           514,
           1,
           25,
           1,
           254000,
           1.3,
           134,
           1,
           0,
           83,
           0
          ],
          [
           1,
           59,
           0,
           60,
           0,
           255000,
           1.1,
           136,
           0,
           0,
           85,
           0
          ],
          [
           1,
           156,
           1,
           25,
           1,
           318000,
           1.2,
           137,
           0,
           0,
           85,
           0
          ],
          [
           1,
           61,
           1,
           40,
           0,
           221000,
           1.1,
           140,
           0,
           0,
           86,
           0
          ],
          [
           1,
           305,
           0,
           25,
           0,
           298000,
           1.1,
           141,
           1,
           0,
           87,
           0
          ],
          [
           0,
           582,
           0,
           45,
           1,
           263358.03,
           1.18,
           137,
           1,
           0,
           87,
           0
          ],
          [
           0,
           898,
           0,
           25,
           0,
           149000,
           1.1,
           144,
           1,
           1,
           87,
           0
          ],
          [
           0,
           5209,
           0,
           30,
           0,
           226000,
           1,
           140,
           1,
           1,
           87,
           0
          ],
          [
           0,
           53,
           0,
           50,
           1,
           286000,
           2.3,
           143,
           0,
           0,
           87,
           0
          ],
          [
           0,
           748,
           0,
           45,
           0,
           263000,
           1.3,
           137,
           1,
           0,
           88,
           0
          ],
          [
           1,
           1876,
           1,
           35,
           0,
           226000,
           0.9,
           138,
           1,
           0,
           88,
           0
          ],
          [
           0,
           936,
           0,
           38,
           0,
           304000,
           1.1,
           133,
           1,
           1,
           88,
           0
          ],
          [
           0,
           292,
           1,
           35,
           0,
           850000,
           1.3,
           142,
           1,
           1,
           88,
           0
          ],
          [
           0,
           60,
           0,
           35,
           0,
           228000,
           1.2,
           135,
           1,
           1,
           90,
           0
          ],
          [
           0,
           369,
           1,
           25,
           0,
           252000,
           1.6,
           136,
           1,
           0,
           90,
           0
          ],
          [
           1,
           754,
           1,
           40,
           1,
           328000,
           1.2,
           126,
           1,
           0,
           91,
           0
          ],
          [
           1,
           400,
           0,
           40,
           0,
           164000,
           1,
           139,
           0,
           0,
           91,
           0
          ],
          [
           1,
           96,
           1,
           60,
           1,
           271000,
           0.7,
           136,
           0,
           0,
           94,
           0
          ],
          [
           1,
           102,
           0,
           60,
           0,
           507000,
           3.2,
           138,
           0,
           0,
           94,
           0
          ],
          [
           1,
           113,
           1,
           60,
           1,
           203000,
           0.9,
           140,
           0,
           0,
           94,
           0
          ],
          [
           1,
           737,
           0,
           60,
           1,
           210000,
           1.5,
           135,
           1,
           1,
           95,
           0
          ],
          [
           1,
           68,
           1,
           38,
           1,
           162000,
           1,
           136,
           0,
           0,
           95,
           0
          ],
          [
           0,
           96,
           1,
           38,
           0,
           228000,
           0.75,
           140,
           0,
           0,
           95,
           0
          ],
          [
           1,
           582,
           0,
           30,
           1,
           127000,
           0.9,
           145,
           0,
           0,
           95,
           0
          ],
          [
           1,
           358,
           0,
           50,
           0,
           237000,
           1.3,
           135,
           0,
           0,
           97,
           0
          ],
          [
           1,
           200,
           1,
           60,
           0,
           300000,
           0.8,
           137,
           0,
           0,
           104,
           0
          ],
          [
           0,
           248,
           0,
           30,
           1,
           267000,
           0.7,
           136,
           1,
           1,
           104,
           0
          ],
          [
           1,
           270,
           1,
           35,
           0,
           227000,
           3.4,
           145,
           1,
           0,
           105,
           0
          ],
          [
           1,
           1808,
           0,
           60,
           1,
           249000,
           0.7,
           138,
           1,
           1,
           106,
           0
          ],
          [
           1,
           1082,
           1,
           45,
           0,
           250000,
           6.1,
           131,
           1,
           0,
           107,
           0
          ],
          [
           0,
           719,
           0,
           40,
           1,
           263358.03,
           1.18,
           137,
           0,
           0,
           107,
           0
          ],
          [
           0,
           193,
           0,
           60,
           1,
           295000,
           1.3,
           145,
           1,
           1,
           107,
           0
          ],
          [
           0,
           4540,
           0,
           35,
           0,
           231000,
           1.18,
           137,
           1,
           1,
           107,
           0
          ],
          [
           0,
           582,
           0,
           40,
           0,
           263358.03,
           1.18,
           137,
           1,
           0,
           107,
           0
          ],
          [
           1,
           59,
           1,
           60,
           0,
           172000,
           0.9,
           137,
           0,
           0,
           107,
           0
          ],
          [
           1,
           646,
           0,
           25,
           0,
           305000,
           2.1,
           130,
           1,
           0,
           108,
           0
          ],
          [
           0,
           281,
           1,
           35,
           0,
           221000,
           1,
           136,
           0,
           0,
           108,
           0
          ],
          [
           0,
           1548,
           0,
           30,
           1,
           211000,
           0.8,
           138,
           1,
           0,
           108,
           0
          ],
          [
           1,
           291,
           0,
           35,
           0,
           348000,
           0.9,
           140,
           0,
           0,
           109,
           0
          ],
          [
           0,
           482,
           1,
           30,
           0,
           329000,
           0.9,
           132,
           0,
           0,
           109,
           0
          ],
          [
           1,
           84,
           0,
           40,
           1,
           229000,
           0.9,
           141,
           0,
           0,
           110,
           0
          ],
          [
           0,
           185,
           0,
           30,
           0,
           266000,
           0.7,
           141,
           1,
           1,
           112,
           0
          ],
          [
           0,
           132,
           0,
           30,
           0,
           218000,
           0.7,
           136,
           1,
           1,
           112,
           0
          ],
          [
           0,
           1610,
           0,
           60,
           0,
           242000,
           1,
           137,
           1,
           0,
           113,
           0
          ],
          [
           0,
           2261,
           0,
           35,
           1,
           228000,
           0.9,
           136,
           1,
           0,
           115,
           0
          ],
          [
           0,
           30,
           1,
           60,
           1,
           244000,
           0.9,
           139,
           1,
           0,
           117,
           0
          ],
          [
           0,
           115,
           0,
           45,
           1,
           184000,
           0.9,
           134,
           1,
           1,
           118,
           0
          ],
          [
           0,
           1846,
           1,
           35,
           0,
           263358.03,
           1.18,
           137,
           1,
           1,
           119,
           0
          ],
          [
           1,
           335,
           0,
           35,
           1,
           235000,
           0.8,
           136,
           0,
           0,
           120,
           0
          ],
          [
           1,
           231,
           1,
           25,
           0,
           194000,
           1.7,
           140,
           1,
           0,
           120,
           0
          ],
          [
           1,
           58,
           0,
           35,
           0,
           277000,
           1.4,
           136,
           0,
           0,
           120,
           0
          ],
          [
           0,
           250,
           0,
           25,
           0,
           262000,
           1,
           136,
           1,
           1,
           120,
           0
          ],
          [
           1,
           910,
           0,
           50,
           0,
           235000,
           1.3,
           134,
           1,
           0,
           121,
           0
          ],
          [
           1,
           129,
           0,
           45,
           1,
           362000,
           1.1,
           139,
           1,
           1,
           121,
           0
          ],
          [
           1,
           72,
           0,
           40,
           1,
           242000,
           1.2,
           134,
           1,
           0,
           121,
           0
          ],
          [
           1,
           130,
           0,
           35,
           0,
           174000,
           0.8,
           139,
           1,
           1,
           121,
           0
          ],
          [
           1,
           582,
           0,
           40,
           0,
           448000,
           0.9,
           137,
           1,
           1,
           123,
           0
          ],
          [
           0,
           196,
           0,
           60,
           0,
           220000,
           0.7,
           133,
           1,
           1,
           134,
           0
          ],
          [
           0,
           582,
           1,
           40,
           0,
           270000,
           1,
           138,
           0,
           0,
           140,
           0
          ],
          [
           0,
           835,
           0,
           35,
           1,
           305000,
           0.8,
           133,
           0,
           0,
           145,
           0
          ],
          [
           1,
           582,
           1,
           35,
           0,
           263358.03,
           1.5,
           136,
           1,
           1,
           145,
           0
          ],
          [
           0,
           3966,
           0,
           40,
           0,
           325000,
           0.9,
           140,
           1,
           1,
           146,
           0
          ],
          [
           1,
           171,
           0,
           60,
           1,
           176000,
           1.1,
           145,
           1,
           1,
           146,
           0
          ],
          [
           1,
           115,
           0,
           20,
           0,
           189000,
           0.8,
           139,
           1,
           0,
           146,
           0
          ],
          [
           0,
           198,
           1,
           35,
           1,
           281000,
           0.9,
           137,
           1,
           1,
           146,
           0
          ],
          [
           1,
           95,
           0,
           60,
           0,
           337000,
           1,
           138,
           1,
           1,
           146,
           0
          ],
          [
           0,
           1419,
           0,
           40,
           0,
           105000,
           1,
           135,
           1,
           1,
           147,
           0
          ],
          [
           1,
           69,
           0,
           50,
           0,
           132000,
           1,
           140,
           0,
           0,
           147,
           0
          ],
          [
           1,
           122,
           1,
           60,
           0,
           267000,
           1.2,
           145,
           1,
           0,
           147,
           0
          ],
          [
           0,
           835,
           0,
           40,
           0,
           279000,
           0.7,
           140,
           1,
           1,
           147,
           0
          ],
          [
           0,
           478,
           1,
           30,
           0,
           303000,
           0.9,
           136,
           1,
           0,
           148,
           0
          ],
          [
           1,
           151,
           1,
           40,
           1,
           201000,
           1,
           136,
           0,
           0,
           172,
           0
          ],
          [
           0,
           244,
           0,
           45,
           1,
           275000,
           0.9,
           140,
           0,
           0,
           174,
           0
          ],
          [
           0,
           582,
           1,
           35,
           0,
           350000,
           2.1,
           134,
           1,
           0,
           174,
           0
          ],
          [
           1,
           62,
           0,
           60,
           0,
           309000,
           1.5,
           135,
           0,
           0,
           174,
           0
          ],
          [
           1,
           121,
           1,
           40,
           0,
           260000,
           0.7,
           130,
           1,
           0,
           175,
           0
          ],
          [
           1,
           231,
           1,
           30,
           0,
           160000,
           1.18,
           142,
           1,
           1,
           180,
           0
          ],
          [
           0,
           582,
           1,
           38,
           1,
           263358.03,
           1.18,
           137,
           0,
           0,
           185,
           0
          ],
          [
           0,
           167,
           0,
           30,
           0,
           259000,
           0.8,
           138,
           0,
           0,
           186,
           0
          ],
          [
           1,
           582,
           1,
           20,
           1,
           279000,
           1,
           134,
           0,
           0,
           186,
           0
          ],
          [
           0,
           1211,
           1,
           35,
           0,
           263358.03,
           1.8,
           113,
           1,
           1,
           186,
           0
          ],
          [
           1,
           1767,
           0,
           45,
           0,
           73000,
           0.7,
           137,
           1,
           0,
           186,
           0
          ],
          [
           0,
           308,
           1,
           60,
           1,
           377000,
           1,
           136,
           1,
           0,
           186,
           0
          ],
          [
           0,
           97,
           0,
           60,
           1,
           220000,
           0.9,
           138,
           1,
           0,
           186,
           0
          ],
          [
           0,
           59,
           0,
           25,
           1,
           212000,
           3.5,
           136,
           1,
           1,
           187,
           0
          ],
          [
           1,
           64,
           0,
           40,
           0,
           277000,
           0.7,
           137,
           1,
           1,
           187,
           0
          ],
          [
           1,
           167,
           1,
           45,
           0,
           362000,
           1,
           136,
           0,
           0,
           187,
           0
          ],
          [
           1,
           101,
           0,
           40,
           0,
           226000,
           0.8,
           141,
           0,
           0,
           187,
           0
          ],
          [
           0,
           212,
           0,
           38,
           0,
           186000,
           0.9,
           136,
           1,
           0,
           187,
           0
          ],
          [
           1,
           2281,
           1,
           40,
           0,
           283000,
           1,
           141,
           0,
           0,
           187,
           0
          ],
          [
           0,
           972,
           1,
           35,
           1,
           268000,
           0.8,
           130,
           0,
           0,
           187,
           0
          ],
          [
           0,
           212,
           1,
           17,
           1,
           389000,
           1,
           136,
           1,
           1,
           188,
           0
          ],
          [
           0,
           582,
           0,
           62,
           1,
           147000,
           0.8,
           140,
           1,
           1,
           192,
           0
          ],
          [
           0,
           224,
           0,
           50,
           0,
           481000,
           1.4,
           138,
           1,
           1,
           192,
           0
          ],
          [
           1,
           135,
           0,
           35,
           1,
           290000,
           0.8,
           134,
           1,
           0,
           194,
           0
          ],
          [
           0,
           582,
           0,
           35,
           1,
           203000,
           1.3,
           134,
           1,
           0,
           195,
           0
          ],
          [
           0,
           1202,
           0,
           50,
           1,
           358000,
           0.9,
           141,
           0,
           0,
           196,
           0
          ],
          [
           1,
           1021,
           1,
           35,
           0,
           271000,
           1.1,
           134,
           1,
           0,
           197,
           0
          ],
          [
           0,
           582,
           1,
           35,
           1,
           371000,
           0.7,
           140,
           0,
           0,
           197,
           0
          ],
          [
           0,
           118,
           0,
           50,
           0,
           194000,
           1.1,
           145,
           1,
           1,
           200,
           0
          ],
          [
           1,
           86,
           0,
           35,
           0,
           365000,
           1.1,
           139,
           1,
           1,
           201,
           0
          ],
          [
           0,
           582,
           0,
           25,
           0,
           130000,
           0.8,
           134,
           1,
           0,
           201,
           0
          ],
          [
           0,
           582,
           1,
           25,
           0,
           504000,
           1,
           138,
           1,
           0,
           205,
           0
          ],
          [
           0,
           675,
           1,
           60,
           0,
           265000,
           1.4,
           125,
           0,
           0,
           205,
           0
          ],
          [
           1,
           57,
           0,
           25,
           0,
           189000,
           1.3,
           132,
           1,
           1,
           205,
           0
          ],
          [
           1,
           2794,
           0,
           35,
           1,
           141000,
           1,
           140,
           1,
           0,
           206,
           0
          ],
          [
           0,
           56,
           0,
           25,
           0,
           237000,
           5,
           130,
           0,
           0,
           207,
           0
          ],
          [
           0,
           211,
           0,
           25,
           0,
           274000,
           1.2,
           134,
           0,
           0,
           207,
           0
          ],
          [
           0,
           93,
           0,
           35,
           0,
           185000,
           1.1,
           134,
           1,
           1,
           208,
           0
          ],
          [
           1,
           129,
           0,
           35,
           0,
           255000,
           0.9,
           137,
           1,
           0,
           209,
           0
          ],
          [
           1,
           707,
           0,
           38,
           0,
           330000,
           1.4,
           137,
           1,
           1,
           209,
           0
          ],
          [
           1,
           582,
           0,
           45,
           0,
           305000,
           1.1,
           137,
           1,
           1,
           209,
           0
          ],
          [
           1,
           109,
           0,
           50,
           1,
           406000,
           1.1,
           137,
           1,
           0,
           209,
           0
          ],
          [
           0,
           119,
           0,
           50,
           1,
           248000,
           1.1,
           148,
           1,
           0,
           209,
           0
          ],
          [
           0,
           232,
           0,
           30,
           0,
           173000,
           1.2,
           132,
           1,
           0,
           210,
           0
          ],
          [
           1,
           720,
           1,
           40,
           0,
           257000,
           1,
           136,
           0,
           0,
           210,
           0
          ],
          [
           1,
           180,
           0,
           45,
           0,
           263358.03,
           1.18,
           137,
           1,
           1,
           211,
           0
          ],
          [
           0,
           81,
           1,
           35,
           1,
           533000,
           1.3,
           139,
           0,
           0,
           212,
           0
          ],
          [
           0,
           582,
           1,
           30,
           0,
           249000,
           1.3,
           136,
           1,
           1,
           212,
           0
          ],
          [
           0,
           90,
           0,
           35,
           0,
           255000,
           1.1,
           136,
           1,
           1,
           212,
           0
          ],
          [
           1,
           1185,
           0,
           40,
           1,
           220000,
           0.9,
           141,
           0,
           0,
           213,
           0
          ],
          [
           0,
           582,
           1,
           38,
           0,
           264000,
           1.8,
           134,
           1,
           0,
           213,
           0
          ],
          [
           1,
           80,
           1,
           38,
           0,
           282000,
           1.4,
           137,
           1,
           0,
           213,
           0
          ],
          [
           0,
           143,
           0,
           25,
           0,
           246000,
           2.4,
           135,
           1,
           0,
           214,
           0
          ],
          [
           0,
           624,
           0,
           35,
           0,
           301000,
           1,
           142,
           1,
           1,
           214,
           0
          ],
          [
           0,
           207,
           1,
           40,
           0,
           223000,
           1.2,
           130,
           0,
           0,
           214,
           0
          ],
          [
           0,
           2522,
           0,
           30,
           1,
           404000,
           0.5,
           139,
           0,
           0,
           214,
           0
          ],
          [
           0,
           572,
           1,
           35,
           0,
           231000,
           0.8,
           143,
           0,
           0,
           215,
           0
          ],
          [
           0,
           245,
           0,
           45,
           1,
           274000,
           1,
           133,
           1,
           0,
           215,
           0
          ],
          [
           0,
           88,
           1,
           35,
           1,
           236000,
           1.2,
           132,
           0,
           0,
           215,
           0
          ],
          [
           1,
           446,
           0,
           60,
           1,
           263358.03,
           1,
           139,
           1,
           0,
           215,
           0
          ],
          [
           1,
           191,
           1,
           30,
           1,
           334000,
           1,
           142,
           1,
           1,
           216,
           0
          ],
          [
           0,
           326,
           0,
           38,
           0,
           294000,
           1.7,
           139,
           0,
           0,
           220,
           0
          ],
          [
           0,
           132,
           1,
           38,
           1,
           253000,
           1,
           139,
           1,
           0,
           230,
           0
          ],
          [
           1,
           66,
           1,
           25,
           0,
           233000,
           0.8,
           135,
           1,
           0,
           230,
           0
          ],
          [
           0,
           56,
           0,
           50,
           0,
           308000,
           0.7,
           135,
           1,
           1,
           231,
           0
          ],
          [
           0,
           66,
           0,
           40,
           0,
           203000,
           1,
           138,
           1,
           0,
           233,
           0
          ],
          [
           1,
           655,
           0,
           40,
           0,
           283000,
           0.7,
           133,
           0,
           0,
           233,
           0
          ],
          [
           1,
           157,
           1,
           60,
           0,
           208000,
           1,
           140,
           0,
           0,
           237,
           0
          ],
          [
           0,
           582,
           1,
           38,
           0,
           147000,
           1.2,
           141,
           1,
           0,
           237,
           0
          ],
          [
           1,
           298,
           0,
           35,
           0,
           362000,
           0.9,
           140,
           1,
           1,
           240,
           0
          ],
          [
           1,
           135,
           1,
           38,
           0,
           133000,
           1.7,
           140,
           1,
           0,
           244,
           0
          ],
          [
           0,
           582,
           1,
           38,
           0,
           302000,
           0.9,
           140,
           0,
           0,
           244,
           0
          ],
          [
           0,
           582,
           1,
           35,
           0,
           222000,
           1,
           132,
           1,
           0,
           244,
           0
          ],
          [
           0,
           582,
           1,
           30,
           1,
           263358.03,
           1.6,
           130,
           1,
           1,
           244,
           0
          ],
          [
           0,
           582,
           1,
           40,
           0,
           221000,
           0.9,
           134,
           0,
           0,
           244,
           0
          ],
          [
           0,
           213,
           0,
           38,
           0,
           215000,
           1.2,
           133,
           0,
           0,
           245,
           0
          ],
          [
           0,
           64,
           0,
           40,
           0,
           189000,
           0.7,
           140,
           1,
           0,
           245,
           0
          ],
          [
           1,
           257,
           1,
           30,
           0,
           150000,
           1,
           137,
           1,
           1,
           245,
           0
          ],
          [
           0,
           582,
           0,
           38,
           1,
           422000,
           0.8,
           137,
           0,
           0,
           245,
           0
          ],
          [
           0,
           618,
           0,
           35,
           0,
           327000,
           1.1,
           142,
           0,
           0,
           245,
           0
          ],
          [
           0,
           582,
           1,
           38,
           0,
           25100,
           1.1,
           140,
           1,
           0,
           246,
           0
          ],
          [
           1,
           1051,
           1,
           30,
           0,
           232000,
           0.7,
           136,
           0,
           0,
           246,
           0
          ],
          [
           0,
           84,
           1,
           38,
           0,
           451000,
           1.3,
           136,
           0,
           0,
           246,
           0
          ],
          [
           0,
           2695,
           1,
           40,
           0,
           241000,
           1,
           137,
           1,
           0,
           247,
           0
          ],
          [
           0,
           582,
           0,
           40,
           0,
           51000,
           2.7,
           136,
           1,
           1,
           250,
           0
          ],
          [
           0,
           64,
           0,
           30,
           0,
           215000,
           3.8,
           128,
           1,
           1,
           250,
           0
          ],
          [
           0,
           1688,
           0,
           38,
           0,
           263358.03,
           1.1,
           138,
           1,
           1,
           250,
           0
          ],
          [
           1,
           54,
           0,
           40,
           0,
           279000,
           0.8,
           141,
           1,
           0,
           250,
           0
          ],
          [
           1,
           170,
           1,
           40,
           0,
           336000,
           1.2,
           135,
           1,
           0,
           250,
           0
          ],
          [
           0,
           253,
           0,
           35,
           0,
           279000,
           1.7,
           140,
           1,
           0,
           250,
           0
          ],
          [
           0,
           582,
           1,
           55,
           0,
           543000,
           1,
           132,
           0,
           0,
           250,
           0
          ],
          [
           0,
           892,
           1,
           35,
           0,
           263358.03,
           1.1,
           142,
           0,
           0,
           256,
           0
          ],
          [
           1,
           337,
           0,
           38,
           0,
           390000,
           0.9,
           144,
           0,
           0,
           256,
           0
          ],
          [
           0,
           615,
           1,
           55,
           0,
           222000,
           0.8,
           141,
           0,
           0,
           257,
           0
          ],
          [
           0,
           320,
           0,
           35,
           0,
           133000,
           1.4,
           139,
           1,
           0,
           258,
           0
          ],
          [
           0,
           190,
           1,
           38,
           0,
           382000,
           1,
           140,
           1,
           1,
           258,
           0
          ],
          [
           1,
           103,
           1,
           35,
           0,
           179000,
           0.9,
           136,
           1,
           1,
           270,
           0
          ],
          [
           0,
           61,
           1,
           38,
           1,
           155000,
           1.1,
           143,
           1,
           1,
           270,
           0
          ],
          [
           0,
           1820,
           0,
           38,
           0,
           270000,
           1.2,
           139,
           0,
           0,
           271,
           0
          ],
          [
           0,
           2060,
           1,
           60,
           0,
           742000,
           0.8,
           138,
           0,
           0,
           278,
           0
          ],
          [
           0,
           2413,
           0,
           38,
           0,
           140000,
           1.4,
           140,
           1,
           1,
           280,
           0
          ],
          [
           0,
           196,
           0,
           45,
           0,
           395000,
           1.6,
           136,
           1,
           1,
           285,
           0
          ]
         ],
         "hovertemplate": "DEATH_EVENT=%{customdata[11]}<br>AGE=%{x}<br>anaemia=%{customdata[0]}<br>creatinine_phosphokinase=%{customdata[1]}<br>diabetes=%{customdata[2]}<br>ejection_fraction=%{customdata[3]}<br>high_blood_pressure=%{customdata[4]}<br>platelets=%{customdata[5]}<br>serum_creatinine=%{customdata[6]}<br>serum_sodium=%{customdata[7]}<br>sex=%{customdata[8]}<br>smoking=%{customdata[9]}<br>time=%{customdata[10]}<extra></extra>",
         "legendgroup": "0",
         "marker": {
          "color": "#ab63fa"
         },
         "name": "0",
         "offsetgroup": "0",
         "scalegroup": "x",
         "showlegend": false,
         "type": "violin",
         "x": [
          49,
          65,
          53,
          50,
          60,
          72,
          70,
          60,
          55,
          41,
          58,
          65,
          70,
          42,
          75,
          55,
          70,
          67,
          79,
          51,
          55,
          65,
          44,
          57,
          70,
          60,
          42,
          58,
          58,
          63,
          70,
          60,
          63,
          65,
          75,
          80,
          42,
          60,
          55,
          45,
          63,
          45,
          55,
          50,
          60,
          58,
          60,
          85,
          65,
          60,
          66,
          60,
          60,
          43,
          58,
          61,
          53,
          53,
          60,
          46,
          63,
          81,
          75,
          65,
          68,
          62,
          50,
          46,
          50,
          61,
          50,
          52,
          64,
          60,
          62,
          50,
          50,
          65,
          60,
          52,
          50,
          85,
          59,
          66,
          45,
          63,
          53,
          65,
          70,
          51,
          52,
          70,
          50,
          65,
          60,
          69,
          49,
          63,
          55,
          40,
          60.667,
          40,
          80,
          64,
          50,
          73,
          45,
          65,
          50,
          60,
          63,
          45,
          70,
          60,
          78,
          50,
          40,
          85,
          60,
          49,
          70,
          50,
          78,
          65,
          73,
          70,
          68,
          55,
          65,
          42,
          47,
          58,
          75,
          58,
          55,
          65,
          72,
          70,
          40,
          53,
          53,
          77,
          75,
          70,
          65,
          55,
          70,
          65,
          40,
          73,
          54,
          61,
          64,
          40,
          53,
          50,
          55,
          50,
          70,
          53,
          52,
          65,
          58,
          45,
          53,
          55,
          62,
          68,
          61,
          50,
          56,
          45,
          40,
          44,
          51,
          67,
          42,
          60,
          45,
          70,
          70,
          50,
          55,
          70,
          70,
          42,
          65,
          50,
          55,
          60,
          45,
          65,
          90,
          45,
          60,
          52,
          63,
          62,
          55,
          45,
          45,
          50
         ],
         "xaxis": "x2",
         "yaxis": "y2"
        }
       ],
       "layout": {
        "barmode": "relative",
        "legend": {
         "title": {
          "text": "DEATH_EVENT"
         },
         "tracegroupgap": 0
        },
        "template": {
         "data": {
          "bar": [
           {
            "error_x": {
             "color": "#2a3f5f"
            },
            "error_y": {
             "color": "#2a3f5f"
            },
            "marker": {
             "line": {
              "color": "white",
              "width": 0.5
             },
             "pattern": {
              "fillmode": "overlay",
              "size": 10,
              "solidity": 0.2
             }
            },
            "type": "bar"
           }
          ],
          "barpolar": [
           {
            "marker": {
             "line": {
              "color": "white",
              "width": 0.5
             },
             "pattern": {
              "fillmode": "overlay",
              "size": 10,
              "solidity": 0.2
             }
            },
            "type": "barpolar"
           }
          ],
          "carpet": [
           {
            "aaxis": {
             "endlinecolor": "#2a3f5f",
             "gridcolor": "#C8D4E3",
             "linecolor": "#C8D4E3",
             "minorgridcolor": "#C8D4E3",
             "startlinecolor": "#2a3f5f"
            },
            "baxis": {
             "endlinecolor": "#2a3f5f",
             "gridcolor": "#C8D4E3",
             "linecolor": "#C8D4E3",
             "minorgridcolor": "#C8D4E3",
             "startlinecolor": "#2a3f5f"
            },
            "type": "carpet"
           }
          ],
          "choropleth": [
           {
            "colorbar": {
             "outlinewidth": 0,
             "ticks": ""
            },
            "type": "choropleth"
           }
          ],
          "contour": [
           {
            "colorbar": {
             "outlinewidth": 0,
             "ticks": ""
            },
            "colorscale": [
             [
              0,
              "#0d0887"
             ],
             [
              0.1111111111111111,
              "#46039f"
             ],
             [
              0.2222222222222222,
              "#7201a8"
             ],
             [
              0.3333333333333333,
              "#9c179e"
             ],
             [
              0.4444444444444444,
              "#bd3786"
             ],
             [
              0.5555555555555556,
              "#d8576b"
             ],
             [
              0.6666666666666666,
              "#ed7953"
             ],
             [
              0.7777777777777778,
              "#fb9f3a"
             ],
             [
              0.8888888888888888,
              "#fdca26"
             ],
             [
              1,
              "#f0f921"
             ]
            ],
            "type": "contour"
           }
          ],
          "contourcarpet": [
           {
            "colorbar": {
             "outlinewidth": 0,
             "ticks": ""
            },
            "type": "contourcarpet"
           }
          ],
          "heatmap": [
           {
            "colorbar": {
             "outlinewidth": 0,
             "ticks": ""
            },
            "colorscale": [
             [
              0,
              "#0d0887"
             ],
             [
              0.1111111111111111,
              "#46039f"
             ],
             [
              0.2222222222222222,
              "#7201a8"
             ],
             [
              0.3333333333333333,
              "#9c179e"
             ],
             [
              0.4444444444444444,
              "#bd3786"
             ],
             [
              0.5555555555555556,
              "#d8576b"
             ],
             [
              0.6666666666666666,
              "#ed7953"
             ],
             [
              0.7777777777777778,
              "#fb9f3a"
             ],
             [
              0.8888888888888888,
              "#fdca26"
             ],
             [
              1,
              "#f0f921"
             ]
            ],
            "type": "heatmap"
           }
          ],
          "heatmapgl": [
           {
            "colorbar": {
             "outlinewidth": 0,
             "ticks": ""
            },
            "colorscale": [
             [
              0,
              "#0d0887"
             ],
             [
              0.1111111111111111,
              "#46039f"
             ],
             [
              0.2222222222222222,
              "#7201a8"
             ],
             [
              0.3333333333333333,
              "#9c179e"
             ],
             [
              0.4444444444444444,
              "#bd3786"
             ],
             [
              0.5555555555555556,
              "#d8576b"
             ],
             [
              0.6666666666666666,
              "#ed7953"
             ],
             [
              0.7777777777777778,
              "#fb9f3a"
             ],
             [
              0.8888888888888888,
              "#fdca26"
             ],
             [
              1,
              "#f0f921"
             ]
            ],
            "type": "heatmapgl"
           }
          ],
          "histogram": [
           {
            "marker": {
             "pattern": {
              "fillmode": "overlay",
              "size": 10,
              "solidity": 0.2
             }
            },
            "type": "histogram"
           }
          ],
          "histogram2d": [
           {
            "colorbar": {
             "outlinewidth": 0,
             "ticks": ""
            },
            "colorscale": [
             [
              0,
              "#0d0887"
             ],
             [
              0.1111111111111111,
              "#46039f"
             ],
             [
              0.2222222222222222,
              "#7201a8"
             ],
             [
              0.3333333333333333,
              "#9c179e"
             ],
             [
              0.4444444444444444,
              "#bd3786"
             ],
             [
              0.5555555555555556,
              "#d8576b"
             ],
             [
              0.6666666666666666,
              "#ed7953"
             ],
             [
              0.7777777777777778,
              "#fb9f3a"
             ],
             [
              0.8888888888888888,
              "#fdca26"
             ],
             [
              1,
              "#f0f921"
             ]
            ],
            "type": "histogram2d"
           }
          ],
          "histogram2dcontour": [
           {
            "colorbar": {
             "outlinewidth": 0,
             "ticks": ""
            },
            "colorscale": [
             [
              0,
              "#0d0887"
             ],
             [
              0.1111111111111111,
              "#46039f"
             ],
             [
              0.2222222222222222,
              "#7201a8"
             ],
             [
              0.3333333333333333,
              "#9c179e"
             ],
             [
              0.4444444444444444,
              "#bd3786"
             ],
             [
              0.5555555555555556,
              "#d8576b"
             ],
             [
              0.6666666666666666,
              "#ed7953"
             ],
             [
              0.7777777777777778,
              "#fb9f3a"
             ],
             [
              0.8888888888888888,
              "#fdca26"
             ],
             [
              1,
              "#f0f921"
             ]
            ],
            "type": "histogram2dcontour"
           }
          ],
          "mesh3d": [
           {
            "colorbar": {
             "outlinewidth": 0,
             "ticks": ""
            },
            "type": "mesh3d"
           }
          ],
          "parcoords": [
           {
            "line": {
             "colorbar": {
              "outlinewidth": 0,
              "ticks": ""
             }
            },
            "type": "parcoords"
           }
          ],
          "pie": [
           {
            "automargin": true,
            "type": "pie"
           }
          ],
          "scatter": [
           {
            "fillpattern": {
             "fillmode": "overlay",
             "size": 10,
             "solidity": 0.2
            },
            "type": "scatter"
           }
          ],
          "scatter3d": [
           {
            "line": {
             "colorbar": {
              "outlinewidth": 0,
              "ticks": ""
             }
            },
            "marker": {
             "colorbar": {
              "outlinewidth": 0,
              "ticks": ""
             }
            },
            "type": "scatter3d"
           }
          ],
          "scattercarpet": [
           {
            "marker": {
             "colorbar": {
              "outlinewidth": 0,
              "ticks": ""
             }
            },
            "type": "scattercarpet"
           }
          ],
          "scattergeo": [
           {
            "marker": {
             "colorbar": {
              "outlinewidth": 0,
              "ticks": ""
             }
            },
            "type": "scattergeo"
           }
          ],
          "scattergl": [
           {
            "marker": {
             "colorbar": {
              "outlinewidth": 0,
              "ticks": ""
             }
            },
            "type": "scattergl"
           }
          ],
          "scattermapbox": [
           {
            "marker": {
             "colorbar": {
              "outlinewidth": 0,
              "ticks": ""
             }
            },
            "type": "scattermapbox"
           }
          ],
          "scatterpolar": [
           {
            "marker": {
             "colorbar": {
              "outlinewidth": 0,
              "ticks": ""
             }
            },
            "type": "scatterpolar"
           }
          ],
          "scatterpolargl": [
           {
            "marker": {
             "colorbar": {
              "outlinewidth": 0,
              "ticks": ""
             }
            },
            "type": "scatterpolargl"
           }
          ],
          "scatterternary": [
           {
            "marker": {
             "colorbar": {
              "outlinewidth": 0,
              "ticks": ""
             }
            },
            "type": "scatterternary"
           }
          ],
          "surface": [
           {
            "colorbar": {
             "outlinewidth": 0,
             "ticks": ""
            },
            "colorscale": [
             [
              0,
              "#0d0887"
             ],
             [
              0.1111111111111111,
              "#46039f"
             ],
             [
              0.2222222222222222,
              "#7201a8"
             ],
             [
              0.3333333333333333,
              "#9c179e"
             ],
             [
              0.4444444444444444,
              "#bd3786"
             ],
             [
              0.5555555555555556,
              "#d8576b"
             ],
             [
              0.6666666666666666,
              "#ed7953"
             ],
             [
              0.7777777777777778,
              "#fb9f3a"
             ],
             [
              0.8888888888888888,
              "#fdca26"
             ],
             [
              1,
              "#f0f921"
             ]
            ],
            "type": "surface"
           }
          ],
          "table": [
           {
            "cells": {
             "fill": {
              "color": "#EBF0F8"
             },
             "line": {
              "color": "white"
             }
            },
            "header": {
             "fill": {
              "color": "#C8D4E3"
             },
             "line": {
              "color": "white"
             }
            },
            "type": "table"
           }
          ]
         },
         "layout": {
          "annotationdefaults": {
           "arrowcolor": "#2a3f5f",
           "arrowhead": 0,
           "arrowwidth": 1
          },
          "autotypenumbers": "strict",
          "coloraxis": {
           "colorbar": {
            "outlinewidth": 0,
            "ticks": ""
           }
          },
          "colorscale": {
           "diverging": [
            [
             0,
             "#8e0152"
            ],
            [
             0.1,
             "#c51b7d"
            ],
            [
             0.2,
             "#de77ae"
            ],
            [
             0.3,
             "#f1b6da"
            ],
            [
             0.4,
             "#fde0ef"
            ],
            [
             0.5,
             "#f7f7f7"
            ],
            [
             0.6,
             "#e6f5d0"
            ],
            [
             0.7,
             "#b8e186"
            ],
            [
             0.8,
             "#7fbc41"
            ],
            [
             0.9,
             "#4d9221"
            ],
            [
             1,
             "#276419"
            ]
           ],
           "sequential": [
            [
             0,
             "#0d0887"
            ],
            [
             0.1111111111111111,
             "#46039f"
            ],
            [
             0.2222222222222222,
             "#7201a8"
            ],
            [
             0.3333333333333333,
             "#9c179e"
            ],
            [
             0.4444444444444444,
             "#bd3786"
            ],
            [
             0.5555555555555556,
             "#d8576b"
            ],
            [
             0.6666666666666666,
             "#ed7953"
            ],
            [
             0.7777777777777778,
             "#fb9f3a"
            ],
            [
             0.8888888888888888,
             "#fdca26"
            ],
            [
             1,
             "#f0f921"
            ]
           ],
           "sequentialminus": [
            [
             0,
             "#0d0887"
            ],
            [
             0.1111111111111111,
             "#46039f"
            ],
            [
             0.2222222222222222,
             "#7201a8"
            ],
            [
             0.3333333333333333,
             "#9c179e"
            ],
            [
             0.4444444444444444,
             "#bd3786"
            ],
            [
             0.5555555555555556,
             "#d8576b"
            ],
            [
             0.6666666666666666,
             "#ed7953"
            ],
            [
             0.7777777777777778,
             "#fb9f3a"
            ],
            [
             0.8888888888888888,
             "#fdca26"
            ],
            [
             1,
             "#f0f921"
            ]
           ]
          },
          "colorway": [
           "#636efa",
           "#EF553B",
           "#00cc96",
           "#ab63fa",
           "#FFA15A",
           "#19d3f3",
           "#FF6692",
           "#B6E880",
           "#FF97FF",
           "#FECB52"
          ],
          "font": {
           "color": "#2a3f5f"
          },
          "geo": {
           "bgcolor": "white",
           "lakecolor": "white",
           "landcolor": "white",
           "showlakes": true,
           "showland": true,
           "subunitcolor": "#C8D4E3"
          },
          "hoverlabel": {
           "align": "left"
          },
          "hovermode": "closest",
          "mapbox": {
           "style": "light"
          },
          "paper_bgcolor": "white",
          "plot_bgcolor": "white",
          "polar": {
           "angularaxis": {
            "gridcolor": "#EBF0F8",
            "linecolor": "#EBF0F8",
            "ticks": ""
           },
           "bgcolor": "white",
           "radialaxis": {
            "gridcolor": "#EBF0F8",
            "linecolor": "#EBF0F8",
            "ticks": ""
           }
          },
          "scene": {
           "xaxis": {
            "backgroundcolor": "white",
            "gridcolor": "#DFE8F3",
            "gridwidth": 2,
            "linecolor": "#EBF0F8",
            "showbackground": true,
            "ticks": "",
            "zerolinecolor": "#EBF0F8"
           },
           "yaxis": {
            "backgroundcolor": "white",
            "gridcolor": "#DFE8F3",
            "gridwidth": 2,
            "linecolor": "#EBF0F8",
            "showbackground": true,
            "ticks": "",
            "zerolinecolor": "#EBF0F8"
           },
           "zaxis": {
            "backgroundcolor": "white",
            "gridcolor": "#DFE8F3",
            "gridwidth": 2,
            "linecolor": "#EBF0F8",
            "showbackground": true,
            "ticks": "",
            "zerolinecolor": "#EBF0F8"
           }
          },
          "shapedefaults": {
           "line": {
            "color": "#2a3f5f"
           }
          },
          "ternary": {
           "aaxis": {
            "gridcolor": "#DFE8F3",
            "linecolor": "#A2B1C6",
            "ticks": ""
           },
           "baxis": {
            "gridcolor": "#DFE8F3",
            "linecolor": "#A2B1C6",
            "ticks": ""
           },
           "bgcolor": "white",
           "caxis": {
            "gridcolor": "#DFE8F3",
            "linecolor": "#A2B1C6",
            "ticks": ""
           }
          },
          "title": {
           "x": 0.05
          },
          "xaxis": {
           "automargin": true,
           "gridcolor": "#EBF0F8",
           "linecolor": "#EBF0F8",
           "ticks": "",
           "title": {
            "standoff": 15
           },
           "zerolinecolor": "#EBF0F8",
           "zerolinewidth": 2
          },
          "yaxis": {
           "automargin": true,
           "gridcolor": "#EBF0F8",
           "linecolor": "#EBF0F8",
           "ticks": "",
           "title": {
            "standoff": 15
           },
           "zerolinecolor": "#EBF0F8",
           "zerolinewidth": 2
          }
         }
        },
        "title": {
         "text": "Distribution of AGE Vs DEATH_EVENT"
        },
        "xaxis": {
         "anchor": "y",
         "domain": [
          0,
          1
         ],
         "title": {
          "text": "AGE"
         }
        },
        "xaxis2": {
         "anchor": "y2",
         "domain": [
          0,
          1
         ],
         "matches": "x",
         "showgrid": true,
         "showticklabels": false
        },
        "yaxis": {
         "anchor": "x",
         "domain": [
          0,
          0.7326
         ],
         "title": {
          "text": "count"
         }
        },
        "yaxis2": {
         "anchor": "x2",
         "domain": [
          0.7426,
          1
         ],
         "matches": "y2",
         "showgrid": false,
         "showline": false,
         "showticklabels": false,
         "ticks": ""
        }
       }
      },
      "text/html": [
       "<div>                            <div id=\"20c27dcd-c94f-43e7-8b1f-fbebdb2c3719\" class=\"plotly-graph-div\" style=\"height:525px; width:100%;\"></div>            <script type=\"text/javascript\">                require([\"plotly\"], function(Plotly) {                    window.PLOTLYENV=window.PLOTLYENV || {};                                    if (document.getElementById(\"20c27dcd-c94f-43e7-8b1f-fbebdb2c3719\")) {                    Plotly.newPlot(                        \"20c27dcd-c94f-43e7-8b1f-fbebdb2c3719\",                        [{\"alignmentgroup\":\"True\",\"bingroup\":\"x\",\"hovertemplate\":\"DEATH_EVENT=1<br>AGE=%{x}<br>count=%{y}<extra></extra>\",\"legendgroup\":\"1\",\"marker\":{\"color\":\"#00cc96\",\"pattern\":{\"shape\":\"\"}},\"name\":\"1\",\"offsetgroup\":\"1\",\"orientation\":\"v\",\"showlegend\":true,\"x\":[75.0,55.0,65.0,50.0,65.0,90.0,75.0,60.0,65.0,80.0,75.0,62.0,45.0,50.0,82.0,87.0,45.0,70.0,48.0,65.0,68.0,75.0,80.0,95.0,70.0,58.0,82.0,94.0,85.0,50.0,65.0,69.0,90.0,82.0,60.0,70.0,50.0,70.0,60.0,50.0,51.0,60.0,80.0,57.0,68.0,53.0,60.0,70.0,60.0,95.0,49.0,72.0,45.0,50.0,45.0,60.0,42.0,72.0,70.0,65.0,85.0,69.0,60.0,60.0,59.0,60.0,72.0,85.0,70.0,86.0,60.0,46.0,80.0,72.0,75.0,72.0,50.0,45.0,80.0,59.0,59.0,65.0,75.0,58.0,60.667,50.0,60.0,45.0,77.0,48.0,73.0,60.0,55.0,65.0,55.0],\"xaxis\":\"x\",\"yaxis\":\"y\",\"type\":\"histogram\"},{\"alignmentgroup\":\"True\",\"customdata\":[[0.0,582.0,0.0,20.0,1.0,265000.0,1.9,130.0,1.0,0.0,4.0,1.0],[0.0,7861.0,0.0,38.0,0.0,263358.03,1.1,136.0,1.0,0.0,6.0,1.0],[0.0,146.0,0.0,20.0,0.0,162000.0,1.3,129.0,1.0,1.0,7.0,1.0],[1.0,111.0,0.0,20.0,0.0,210000.0,1.9,137.0,1.0,0.0,7.0,1.0],[1.0,160.0,1.0,20.0,0.0,327000.0,2.7,116.0,0.0,0.0,8.0,1.0],[1.0,47.0,0.0,40.0,1.0,204000.0,2.1,132.0,1.0,1.0,8.0,1.0],[1.0,246.0,0.0,15.0,0.0,127000.0,1.2,137.0,1.0,0.0,10.0,1.0],[1.0,315.0,1.0,60.0,0.0,454000.0,1.1,131.0,1.0,1.0,10.0,1.0],[0.0,157.0,0.0,65.0,0.0,263358.03,1.5,138.0,0.0,0.0,10.0,1.0],[1.0,123.0,0.0,35.0,1.0,388000.0,9.4,133.0,1.0,1.0,10.0,1.0],[1.0,81.0,0.0,38.0,1.0,368000.0,4.0,131.0,1.0,1.0,10.0,1.0],[0.0,231.0,0.0,25.0,1.0,253000.0,0.9,140.0,1.0,1.0,10.0,1.0],[1.0,981.0,0.0,30.0,0.0,136000.0,1.1,137.0,1.0,0.0,11.0,1.0],[1.0,168.0,0.0,38.0,1.0,276000.0,1.1,137.0,1.0,0.0,11.0,1.0],[1.0,379.0,0.0,50.0,0.0,47000.0,1.3,136.0,1.0,0.0,13.0,1.0],[1.0,149.0,0.0,38.0,0.0,262000.0,0.9,140.0,1.0,0.0,14.0,1.0],[0.0,582.0,0.0,14.0,0.0,166000.0,0.8,127.0,1.0,0.0,14.0,1.0],[1.0,125.0,0.0,25.0,1.0,237000.0,1.0,140.0,0.0,0.0,15.0,1.0],[1.0,582.0,1.0,55.0,0.0,87000.0,1.9,121.0,0.0,0.0,15.0,1.0],[1.0,128.0,1.0,30.0,1.0,297000.0,1.6,136.0,0.0,0.0,20.0,1.0],[1.0,220.0,0.0,35.0,1.0,289000.0,0.9,140.0,1.0,1.0,20.0,1.0],[0.0,582.0,1.0,30.0,1.0,263358.03,1.83,134.0,0.0,0.0,23.0,1.0],[0.0,148.0,1.0,38.0,0.0,149000.0,1.9,144.0,1.0,1.0,23.0,1.0],[1.0,112.0,0.0,40.0,1.0,196000.0,1.0,138.0,0.0,0.0,24.0,1.0],[0.0,122.0,1.0,45.0,1.0,284000.0,1.3,136.0,1.0,1.0,26.0,1.0],[1.0,60.0,0.0,38.0,0.0,153000.0,5.8,134.0,1.0,0.0,26.0,1.0],[0.0,70.0,1.0,30.0,0.0,200000.0,1.2,132.0,1.0,1.0,26.0,1.0],[0.0,582.0,1.0,38.0,1.0,263358.03,1.83,134.0,1.0,0.0,27.0,1.0],[0.0,23.0,0.0,45.0,0.0,360000.0,3.0,132.0,1.0,0.0,28.0,1.0],[1.0,249.0,1.0,35.0,1.0,319000.0,1.0,128.0,0.0,0.0,28.0,1.0],[0.0,94.0,1.0,50.0,1.0,188000.0,1.0,140.0,1.0,0.0,29.0,1.0],[0.0,582.0,1.0,35.0,0.0,228000.0,3.5,134.0,1.0,0.0,30.0,1.0],[1.0,60.0,1.0,50.0,0.0,226000.0,1.0,134.0,1.0,0.0,30.0,1.0],[1.0,855.0,1.0,50.0,1.0,321000.0,1.0,145.0,0.0,0.0,30.0,1.0],[0.0,235.0,1.0,38.0,0.0,329000.0,3.0,142.0,0.0,0.0,30.0,1.0],[0.0,582.0,0.0,20.0,1.0,263358.03,1.83,134.0,1.0,1.0,31.0,1.0],[0.0,124.0,1.0,30.0,1.0,153000.0,1.2,136.0,0.0,1.0,32.0,1.0],[0.0,571.0,1.0,45.0,1.0,185000.0,1.2,139.0,1.0,1.0,33.0,1.0],[1.0,588.0,1.0,60.0,0.0,194000.0,1.1,142.0,0.0,0.0,33.0,1.0],[0.0,582.0,1.0,38.0,0.0,310000.0,1.9,135.0,1.0,1.0,35.0,1.0],[0.0,1380.0,0.0,25.0,1.0,271000.0,0.9,130.0,1.0,0.0,38.0,1.0],[0.0,582.0,1.0,38.0,1.0,451000.0,0.6,138.0,1.0,1.0,40.0,1.0],[1.0,553.0,0.0,20.0,1.0,140000.0,4.4,133.0,1.0,0.0,41.0,1.0],[1.0,129.0,0.0,30.0,0.0,395000.0,1.0,140.0,0.0,0.0,42.0,1.0],[1.0,577.0,0.0,25.0,1.0,166000.0,1.0,138.0,1.0,0.0,43.0,1.0],[1.0,91.0,0.0,20.0,1.0,418000.0,1.4,139.0,0.0,0.0,43.0,1.0],[0.0,3964.0,1.0,62.0,0.0,263358.03,6.8,146.0,0.0,0.0,43.0,1.0],[1.0,69.0,1.0,50.0,1.0,351000.0,1.0,134.0,0.0,0.0,44.0,1.0],[1.0,260.0,1.0,38.0,0.0,255000.0,2.2,132.0,0.0,1.0,45.0,1.0],[1.0,371.0,0.0,30.0,0.0,461000.0,2.0,132.0,1.0,0.0,50.0,1.0],[0.0,789.0,0.0,20.0,1.0,319000.0,1.1,136.0,1.0,1.0,55.0,1.0],[0.0,364.0,1.0,20.0,1.0,254000.0,1.3,136.0,1.0,1.0,59.0,1.0],[0.0,7702.0,1.0,25.0,1.0,390000.0,1.0,139.0,1.0,0.0,60.0,1.0],[0.0,318.0,0.0,40.0,1.0,216000.0,2.3,131.0,0.0,0.0,60.0,1.0],[0.0,582.0,0.0,35.0,0.0,385000.0,1.0,145.0,1.0,0.0,61.0,1.0],[0.0,68.0,0.0,20.0,0.0,119000.0,2.9,127.0,1.0,1.0,64.0,1.0],[1.0,250.0,1.0,15.0,0.0,213000.0,1.3,136.0,0.0,0.0,65.0,1.0],[1.0,110.0,0.0,25.0,0.0,274000.0,1.0,140.0,1.0,1.0,65.0,1.0],[0.0,161.0,0.0,25.0,0.0,244000.0,1.2,142.0,0.0,0.0,66.0,1.0],[0.0,113.0,1.0,25.0,0.0,497000.0,1.83,135.0,1.0,0.0,67.0,1.0],[0.0,5882.0,0.0,35.0,0.0,243000.0,1.0,132.0,1.0,1.0,72.0,1.0],[0.0,582.0,0.0,20.0,0.0,266000.0,1.2,134.0,1.0,1.0,73.0,1.0],[1.0,47.0,0.0,20.0,0.0,204000.0,0.7,139.0,1.0,1.0,73.0,1.0],[1.0,76.0,1.0,25.0,0.0,196000.0,2.5,132.0,0.0,0.0,77.0,1.0],[1.0,280.0,1.0,25.0,1.0,302000.0,1.0,141.0,0.0,0.0,78.0,1.0],[1.0,154.0,0.0,25.0,0.0,210000.0,1.7,135.0,1.0,0.0,82.0,1.0],[1.0,328.0,0.0,30.0,1.0,621000.0,1.7,138.0,0.0,1.0,88.0,1.0],[0.0,129.0,0.0,60.0,0.0,306000.0,1.2,132.0,1.0,1.0,90.0,1.0],[1.0,143.0,0.0,60.0,0.0,351000.0,1.3,137.0,0.0,0.0,90.0,1.0],[0.0,582.0,0.0,38.0,0.0,263358.03,1.83,134.0,0.0,0.0,95.0,1.0],[0.0,582.0,0.0,40.0,0.0,217000.0,3.7,134.0,1.0,0.0,96.0,1.0],[0.0,168.0,1.0,17.0,1.0,271000.0,2.1,124.0,0.0,0.0,100.0,1.0],[0.0,805.0,0.0,38.0,0.0,263358.03,1.1,134.0,1.0,0.0,109.0,1.0],[1.0,943.0,0.0,25.0,1.0,338000.0,1.7,139.0,1.0,1.0,111.0,1.0],[1.0,582.0,0.0,30.0,0.0,225000.0,1.83,134.0,1.0,0.0,113.0,1.0],[0.0,233.0,0.0,45.0,1.0,235000.0,2.5,135.0,0.0,0.0,115.0,1.0],[1.0,2334.0,1.0,35.0,0.0,75000.0,0.9,142.0,0.0,0.0,126.0,1.0],[0.0,2442.0,1.0,30.0,0.0,334000.0,1.1,139.0,1.0,0.0,129.0,1.0],[0.0,776.0,1.0,38.0,1.0,192000.0,1.3,135.0,0.0,0.0,130.0,1.0],[0.0,66.0,1.0,20.0,0.0,70000.0,2.4,134.0,1.0,0.0,135.0,1.0],[1.0,176.0,1.0,25.0,0.0,221000.0,1.0,136.0,1.0,1.0,150.0,1.0],[0.0,395.0,1.0,25.0,0.0,265000.0,1.2,136.0,1.0,1.0,154.0,1.0],[0.0,99.0,0.0,38.0,1.0,224000.0,2.5,134.0,1.0,0.0,162.0,1.0],[1.0,145.0,0.0,25.0,0.0,219000.0,1.2,137.0,1.0,1.0,170.0,1.0],[1.0,104.0,1.0,30.0,0.0,389000.0,1.5,136.0,1.0,0.0,171.0,1.0],[0.0,582.0,0.0,50.0,0.0,153000.0,0.6,134.0,0.0,0.0,172.0,1.0],[0.0,1896.0,1.0,25.0,0.0,365000.0,2.1,144.0,0.0,0.0,172.0,1.0],[0.0,582.0,0.0,20.0,1.0,126000.0,1.6,135.0,1.0,0.0,180.0,1.0],[1.0,418.0,0.0,45.0,0.0,223000.0,1.8,145.0,1.0,0.0,180.0,1.0],[1.0,131.0,1.0,30.0,1.0,244000.0,1.6,130.0,0.0,0.0,193.0,1.0],[0.0,582.0,0.0,20.0,0.0,263358.03,1.83,134.0,1.0,0.0,198.0,1.0],[0.0,166.0,0.0,30.0,0.0,62000.0,1.7,127.0,0.0,0.0,207.0,1.0],[0.0,2017.0,0.0,25.0,0.0,314000.0,1.1,138.0,1.0,0.0,214.0,1.0],[1.0,258.0,1.0,25.0,0.0,198000.0,1.4,129.0,1.0,0.0,235.0,1.0],[0.0,1199.0,0.0,20.0,0.0,263358.03,1.83,134.0,1.0,1.0,241.0,1.0]],\"hovertemplate\":\"DEATH_EVENT=%{customdata[11]}<br>AGE=%{x}<br>anaemia=%{customdata[0]}<br>creatinine_phosphokinase=%{customdata[1]}<br>diabetes=%{customdata[2]}<br>ejection_fraction=%{customdata[3]}<br>high_blood_pressure=%{customdata[4]}<br>platelets=%{customdata[5]}<br>serum_creatinine=%{customdata[6]}<br>serum_sodium=%{customdata[7]}<br>sex=%{customdata[8]}<br>smoking=%{customdata[9]}<br>time=%{customdata[10]}<extra></extra>\",\"legendgroup\":\"1\",\"marker\":{\"color\":\"#00cc96\"},\"name\":\"1\",\"offsetgroup\":\"1\",\"scalegroup\":\"x\",\"showlegend\":false,\"x\":[75.0,55.0,65.0,50.0,65.0,90.0,75.0,60.0,65.0,80.0,75.0,62.0,45.0,50.0,82.0,87.0,45.0,70.0,48.0,65.0,68.0,75.0,80.0,95.0,70.0,58.0,82.0,94.0,85.0,50.0,65.0,69.0,90.0,82.0,60.0,70.0,50.0,70.0,60.0,50.0,51.0,60.0,80.0,57.0,68.0,53.0,60.0,70.0,60.0,95.0,49.0,72.0,45.0,50.0,45.0,60.0,42.0,72.0,70.0,65.0,85.0,69.0,60.0,60.0,59.0,60.0,72.0,85.0,70.0,86.0,60.0,46.0,80.0,72.0,75.0,72.0,50.0,45.0,80.0,59.0,59.0,65.0,75.0,58.0,60.667,50.0,60.0,45.0,77.0,48.0,73.0,60.0,55.0,65.0,55.0],\"xaxis\":\"x2\",\"yaxis\":\"y2\",\"type\":\"violin\"},{\"alignmentgroup\":\"True\",\"bingroup\":\"x\",\"hovertemplate\":\"DEATH_EVENT=0<br>AGE=%{x}<br>count=%{y}<extra></extra>\",\"legendgroup\":\"0\",\"marker\":{\"color\":\"#ab63fa\",\"pattern\":{\"shape\":\"\"}},\"name\":\"0\",\"offsetgroup\":\"0\",\"orientation\":\"v\",\"showlegend\":true,\"x\":[49.0,65.0,53.0,50.0,60.0,72.0,70.0,60.0,55.0,41.0,58.0,65.0,70.0,42.0,75.0,55.0,70.0,67.0,79.0,51.0,55.0,65.0,44.0,57.0,70.0,60.0,42.0,58.0,58.0,63.0,70.0,60.0,63.0,65.0,75.0,80.0,42.0,60.0,55.0,45.0,63.0,45.0,55.0,50.0,60.0,58.0,60.0,85.0,65.0,60.0,66.0,60.0,60.0,43.0,58.0,61.0,53.0,53.0,60.0,46.0,63.0,81.0,75.0,65.0,68.0,62.0,50.0,46.0,50.0,61.0,50.0,52.0,64.0,60.0,62.0,50.0,50.0,65.0,60.0,52.0,50.0,85.0,59.0,66.0,45.0,63.0,53.0,65.0,70.0,51.0,52.0,70.0,50.0,65.0,60.0,69.0,49.0,63.0,55.0,40.0,60.667,40.0,80.0,64.0,50.0,73.0,45.0,65.0,50.0,60.0,63.0,45.0,70.0,60.0,78.0,50.0,40.0,85.0,60.0,49.0,70.0,50.0,78.0,65.0,73.0,70.0,68.0,55.0,65.0,42.0,47.0,58.0,75.0,58.0,55.0,65.0,72.0,70.0,40.0,53.0,53.0,77.0,75.0,70.0,65.0,55.0,70.0,65.0,40.0,73.0,54.0,61.0,64.0,40.0,53.0,50.0,55.0,50.0,70.0,53.0,52.0,65.0,58.0,45.0,53.0,55.0,62.0,68.0,61.0,50.0,56.0,45.0,40.0,44.0,51.0,67.0,42.0,60.0,45.0,70.0,70.0,50.0,55.0,70.0,70.0,42.0,65.0,50.0,55.0,60.0,45.0,65.0,90.0,45.0,60.0,52.0,63.0,62.0,55.0,45.0,45.0,50.0],\"xaxis\":\"x\",\"yaxis\":\"y\",\"type\":\"histogram\"},{\"alignmentgroup\":\"True\",\"customdata\":[[1.0,80.0,0.0,30.0,1.0,427000.0,1.0,138.0,0.0,0.0,12.0,0.0],[1.0,52.0,0.0,25.0,1.0,276000.0,1.3,137.0,0.0,0.0,16.0,0.0],[0.0,63.0,1.0,60.0,0.0,368000.0,0.8,135.0,1.0,0.0,22.0,0.0],[1.0,159.0,1.0,30.0,0.0,302000.0,1.2,138.0,0.0,0.0,29.0,0.0],[0.0,2656.0,1.0,30.0,0.0,305000.0,2.3,137.0,1.0,0.0,30.0,0.0],[0.0,127.0,1.0,50.0,1.0,218000.0,1.0,134.0,1.0,0.0,33.0,0.0],[1.0,75.0,0.0,35.0,0.0,223000.0,2.7,138.0,1.0,1.0,54.0,0.0],[1.0,607.0,0.0,40.0,0.0,216000.0,0.6,138.0,1.0,1.0,54.0,0.0],[0.0,109.0,0.0,35.0,0.0,254000.0,1.1,139.0,1.0,1.0,60.0,0.0],[0.0,148.0,0.0,40.0,0.0,374000.0,0.8,140.0,1.0,1.0,68.0,0.0],[0.0,582.0,1.0,35.0,0.0,122000.0,0.9,139.0,1.0,1.0,71.0,0.0],[0.0,224.0,1.0,50.0,0.0,149000.0,1.3,137.0,1.0,1.0,72.0,0.0],[0.0,92.0,0.0,60.0,1.0,317000.0,0.8,140.0,0.0,1.0,74.0,0.0],[0.0,102.0,1.0,40.0,0.0,237000.0,1.2,140.0,1.0,0.0,74.0,0.0],[1.0,203.0,1.0,38.0,1.0,283000.0,0.6,131.0,1.0,1.0,74.0,0.0],[0.0,336.0,0.0,45.0,1.0,324000.0,0.9,140.0,0.0,0.0,74.0,0.0],[0.0,69.0,0.0,40.0,0.0,293000.0,1.7,136.0,0.0,0.0,75.0,0.0],[0.0,582.0,0.0,50.0,0.0,263358.03,1.18,137.0,1.0,1.0,76.0,0.0],[1.0,55.0,0.0,50.0,1.0,172000.0,1.8,133.0,1.0,0.0,78.0,0.0],[0.0,78.0,0.0,50.0,0.0,406000.0,0.7,140.0,1.0,0.0,79.0,0.0],[0.0,47.0,0.0,35.0,1.0,173000.0,1.1,137.0,1.0,0.0,79.0,0.0],[1.0,68.0,1.0,60.0,1.0,304000.0,0.8,140.0,1.0,0.0,79.0,0.0],[0.0,84.0,1.0,40.0,1.0,235000.0,0.7,139.0,1.0,0.0,79.0,0.0],[1.0,115.0,0.0,25.0,1.0,181000.0,1.1,144.0,1.0,0.0,79.0,0.0],[0.0,66.0,1.0,45.0,0.0,249000.0,0.8,136.0,1.0,1.0,80.0,0.0],[0.0,897.0,1.0,45.0,0.0,297000.0,1.0,133.0,1.0,0.0,80.0,0.0],[0.0,582.0,0.0,60.0,0.0,263358.03,1.18,137.0,0.0,0.0,82.0,0.0],[0.0,144.0,1.0,38.0,1.0,327000.0,0.7,142.0,0.0,0.0,83.0,0.0],[1.0,133.0,0.0,60.0,1.0,219000.0,1.0,141.0,1.0,0.0,83.0,0.0],[1.0,514.0,1.0,25.0,1.0,254000.0,1.3,134.0,1.0,0.0,83.0,0.0],[1.0,59.0,0.0,60.0,0.0,255000.0,1.1,136.0,0.0,0.0,85.0,0.0],[1.0,156.0,1.0,25.0,1.0,318000.0,1.2,137.0,0.0,0.0,85.0,0.0],[1.0,61.0,1.0,40.0,0.0,221000.0,1.1,140.0,0.0,0.0,86.0,0.0],[1.0,305.0,0.0,25.0,0.0,298000.0,1.1,141.0,1.0,0.0,87.0,0.0],[0.0,582.0,0.0,45.0,1.0,263358.03,1.18,137.0,1.0,0.0,87.0,0.0],[0.0,898.0,0.0,25.0,0.0,149000.0,1.1,144.0,1.0,1.0,87.0,0.0],[0.0,5209.0,0.0,30.0,0.0,226000.0,1.0,140.0,1.0,1.0,87.0,0.0],[0.0,53.0,0.0,50.0,1.0,286000.0,2.3,143.0,0.0,0.0,87.0,0.0],[0.0,748.0,0.0,45.0,0.0,263000.0,1.3,137.0,1.0,0.0,88.0,0.0],[1.0,1876.0,1.0,35.0,0.0,226000.0,0.9,138.0,1.0,0.0,88.0,0.0],[0.0,936.0,0.0,38.0,0.0,304000.0,1.1,133.0,1.0,1.0,88.0,0.0],[0.0,292.0,1.0,35.0,0.0,850000.0,1.3,142.0,1.0,1.0,88.0,0.0],[0.0,60.0,0.0,35.0,0.0,228000.0,1.2,135.0,1.0,1.0,90.0,0.0],[0.0,369.0,1.0,25.0,0.0,252000.0,1.6,136.0,1.0,0.0,90.0,0.0],[1.0,754.0,1.0,40.0,1.0,328000.0,1.2,126.0,1.0,0.0,91.0,0.0],[1.0,400.0,0.0,40.0,0.0,164000.0,1.0,139.0,0.0,0.0,91.0,0.0],[1.0,96.0,1.0,60.0,1.0,271000.0,0.7,136.0,0.0,0.0,94.0,0.0],[1.0,102.0,0.0,60.0,0.0,507000.0,3.2,138.0,0.0,0.0,94.0,0.0],[1.0,113.0,1.0,60.0,1.0,203000.0,0.9,140.0,0.0,0.0,94.0,0.0],[1.0,737.0,0.0,60.0,1.0,210000.0,1.5,135.0,1.0,1.0,95.0,0.0],[1.0,68.0,1.0,38.0,1.0,162000.0,1.0,136.0,0.0,0.0,95.0,0.0],[0.0,96.0,1.0,38.0,0.0,228000.0,0.75,140.0,0.0,0.0,95.0,0.0],[1.0,582.0,0.0,30.0,1.0,127000.0,0.9,145.0,0.0,0.0,95.0,0.0],[1.0,358.0,0.0,50.0,0.0,237000.0,1.3,135.0,0.0,0.0,97.0,0.0],[1.0,200.0,1.0,60.0,0.0,300000.0,0.8,137.0,0.0,0.0,104.0,0.0],[0.0,248.0,0.0,30.0,1.0,267000.0,0.7,136.0,1.0,1.0,104.0,0.0],[1.0,270.0,1.0,35.0,0.0,227000.0,3.4,145.0,1.0,0.0,105.0,0.0],[1.0,1808.0,0.0,60.0,1.0,249000.0,0.7,138.0,1.0,1.0,106.0,0.0],[1.0,1082.0,1.0,45.0,0.0,250000.0,6.1,131.0,1.0,0.0,107.0,0.0],[0.0,719.0,0.0,40.0,1.0,263358.03,1.18,137.0,0.0,0.0,107.0,0.0],[0.0,193.0,0.0,60.0,1.0,295000.0,1.3,145.0,1.0,1.0,107.0,0.0],[0.0,4540.0,0.0,35.0,0.0,231000.0,1.18,137.0,1.0,1.0,107.0,0.0],[0.0,582.0,0.0,40.0,0.0,263358.03,1.18,137.0,1.0,0.0,107.0,0.0],[1.0,59.0,1.0,60.0,0.0,172000.0,0.9,137.0,0.0,0.0,107.0,0.0],[1.0,646.0,0.0,25.0,0.0,305000.0,2.1,130.0,1.0,0.0,108.0,0.0],[0.0,281.0,1.0,35.0,0.0,221000.0,1.0,136.0,0.0,0.0,108.0,0.0],[0.0,1548.0,0.0,30.0,1.0,211000.0,0.8,138.0,1.0,0.0,108.0,0.0],[1.0,291.0,0.0,35.0,0.0,348000.0,0.9,140.0,0.0,0.0,109.0,0.0],[0.0,482.0,1.0,30.0,0.0,329000.0,0.9,132.0,0.0,0.0,109.0,0.0],[1.0,84.0,0.0,40.0,1.0,229000.0,0.9,141.0,0.0,0.0,110.0,0.0],[0.0,185.0,0.0,30.0,0.0,266000.0,0.7,141.0,1.0,1.0,112.0,0.0],[0.0,132.0,0.0,30.0,0.0,218000.0,0.7,136.0,1.0,1.0,112.0,0.0],[0.0,1610.0,0.0,60.0,0.0,242000.0,1.0,137.0,1.0,0.0,113.0,0.0],[0.0,2261.0,0.0,35.0,1.0,228000.0,0.9,136.0,1.0,0.0,115.0,0.0],[0.0,30.0,1.0,60.0,1.0,244000.0,0.9,139.0,1.0,0.0,117.0,0.0],[0.0,115.0,0.0,45.0,1.0,184000.0,0.9,134.0,1.0,1.0,118.0,0.0],[0.0,1846.0,1.0,35.0,0.0,263358.03,1.18,137.0,1.0,1.0,119.0,0.0],[1.0,335.0,0.0,35.0,1.0,235000.0,0.8,136.0,0.0,0.0,120.0,0.0],[1.0,231.0,1.0,25.0,0.0,194000.0,1.7,140.0,1.0,0.0,120.0,0.0],[1.0,58.0,0.0,35.0,0.0,277000.0,1.4,136.0,0.0,0.0,120.0,0.0],[0.0,250.0,0.0,25.0,0.0,262000.0,1.0,136.0,1.0,1.0,120.0,0.0],[1.0,910.0,0.0,50.0,0.0,235000.0,1.3,134.0,1.0,0.0,121.0,0.0],[1.0,129.0,0.0,45.0,1.0,362000.0,1.1,139.0,1.0,1.0,121.0,0.0],[1.0,72.0,0.0,40.0,1.0,242000.0,1.2,134.0,1.0,0.0,121.0,0.0],[1.0,130.0,0.0,35.0,0.0,174000.0,0.8,139.0,1.0,1.0,121.0,0.0],[1.0,582.0,0.0,40.0,0.0,448000.0,0.9,137.0,1.0,1.0,123.0,0.0],[0.0,196.0,0.0,60.0,0.0,220000.0,0.7,133.0,1.0,1.0,134.0,0.0],[0.0,582.0,1.0,40.0,0.0,270000.0,1.0,138.0,0.0,0.0,140.0,0.0],[0.0,835.0,0.0,35.0,1.0,305000.0,0.8,133.0,0.0,0.0,145.0,0.0],[1.0,582.0,1.0,35.0,0.0,263358.03,1.5,136.0,1.0,1.0,145.0,0.0],[0.0,3966.0,0.0,40.0,0.0,325000.0,0.9,140.0,1.0,1.0,146.0,0.0],[1.0,171.0,0.0,60.0,1.0,176000.0,1.1,145.0,1.0,1.0,146.0,0.0],[1.0,115.0,0.0,20.0,0.0,189000.0,0.8,139.0,1.0,0.0,146.0,0.0],[0.0,198.0,1.0,35.0,1.0,281000.0,0.9,137.0,1.0,1.0,146.0,0.0],[1.0,95.0,0.0,60.0,0.0,337000.0,1.0,138.0,1.0,1.0,146.0,0.0],[0.0,1419.0,0.0,40.0,0.0,105000.0,1.0,135.0,1.0,1.0,147.0,0.0],[1.0,69.0,0.0,50.0,0.0,132000.0,1.0,140.0,0.0,0.0,147.0,0.0],[1.0,122.0,1.0,60.0,0.0,267000.0,1.2,145.0,1.0,0.0,147.0,0.0],[0.0,835.0,0.0,40.0,0.0,279000.0,0.7,140.0,1.0,1.0,147.0,0.0],[0.0,478.0,1.0,30.0,0.0,303000.0,0.9,136.0,1.0,0.0,148.0,0.0],[1.0,151.0,1.0,40.0,1.0,201000.0,1.0,136.0,0.0,0.0,172.0,0.0],[0.0,244.0,0.0,45.0,1.0,275000.0,0.9,140.0,0.0,0.0,174.0,0.0],[0.0,582.0,1.0,35.0,0.0,350000.0,2.1,134.0,1.0,0.0,174.0,0.0],[1.0,62.0,0.0,60.0,0.0,309000.0,1.5,135.0,0.0,0.0,174.0,0.0],[1.0,121.0,1.0,40.0,0.0,260000.0,0.7,130.0,1.0,0.0,175.0,0.0],[1.0,231.0,1.0,30.0,0.0,160000.0,1.18,142.0,1.0,1.0,180.0,0.0],[0.0,582.0,1.0,38.0,1.0,263358.03,1.18,137.0,0.0,0.0,185.0,0.0],[0.0,167.0,0.0,30.0,0.0,259000.0,0.8,138.0,0.0,0.0,186.0,0.0],[1.0,582.0,1.0,20.0,1.0,279000.0,1.0,134.0,0.0,0.0,186.0,0.0],[0.0,1211.0,1.0,35.0,0.0,263358.03,1.8,113.0,1.0,1.0,186.0,0.0],[1.0,1767.0,0.0,45.0,0.0,73000.0,0.7,137.0,1.0,0.0,186.0,0.0],[0.0,308.0,1.0,60.0,1.0,377000.0,1.0,136.0,1.0,0.0,186.0,0.0],[0.0,97.0,0.0,60.0,1.0,220000.0,0.9,138.0,1.0,0.0,186.0,0.0],[0.0,59.0,0.0,25.0,1.0,212000.0,3.5,136.0,1.0,1.0,187.0,0.0],[1.0,64.0,0.0,40.0,0.0,277000.0,0.7,137.0,1.0,1.0,187.0,0.0],[1.0,167.0,1.0,45.0,0.0,362000.0,1.0,136.0,0.0,0.0,187.0,0.0],[1.0,101.0,0.0,40.0,0.0,226000.0,0.8,141.0,0.0,0.0,187.0,0.0],[0.0,212.0,0.0,38.0,0.0,186000.0,0.9,136.0,1.0,0.0,187.0,0.0],[1.0,2281.0,1.0,40.0,0.0,283000.0,1.0,141.0,0.0,0.0,187.0,0.0],[0.0,972.0,1.0,35.0,1.0,268000.0,0.8,130.0,0.0,0.0,187.0,0.0],[0.0,212.0,1.0,17.0,1.0,389000.0,1.0,136.0,1.0,1.0,188.0,0.0],[0.0,582.0,0.0,62.0,1.0,147000.0,0.8,140.0,1.0,1.0,192.0,0.0],[0.0,224.0,0.0,50.0,0.0,481000.0,1.4,138.0,1.0,1.0,192.0,0.0],[1.0,135.0,0.0,35.0,1.0,290000.0,0.8,134.0,1.0,0.0,194.0,0.0],[0.0,582.0,0.0,35.0,1.0,203000.0,1.3,134.0,1.0,0.0,195.0,0.0],[0.0,1202.0,0.0,50.0,1.0,358000.0,0.9,141.0,0.0,0.0,196.0,0.0],[1.0,1021.0,1.0,35.0,0.0,271000.0,1.1,134.0,1.0,0.0,197.0,0.0],[0.0,582.0,1.0,35.0,1.0,371000.0,0.7,140.0,0.0,0.0,197.0,0.0],[0.0,118.0,0.0,50.0,0.0,194000.0,1.1,145.0,1.0,1.0,200.0,0.0],[1.0,86.0,0.0,35.0,0.0,365000.0,1.1,139.0,1.0,1.0,201.0,0.0],[0.0,582.0,0.0,25.0,0.0,130000.0,0.8,134.0,1.0,0.0,201.0,0.0],[0.0,582.0,1.0,25.0,0.0,504000.0,1.0,138.0,1.0,0.0,205.0,0.0],[0.0,675.0,1.0,60.0,0.0,265000.0,1.4,125.0,0.0,0.0,205.0,0.0],[1.0,57.0,0.0,25.0,0.0,189000.0,1.3,132.0,1.0,1.0,205.0,0.0],[1.0,2794.0,0.0,35.0,1.0,141000.0,1.0,140.0,1.0,0.0,206.0,0.0],[0.0,56.0,0.0,25.0,0.0,237000.0,5.0,130.0,0.0,0.0,207.0,0.0],[0.0,211.0,0.0,25.0,0.0,274000.0,1.2,134.0,0.0,0.0,207.0,0.0],[0.0,93.0,0.0,35.0,0.0,185000.0,1.1,134.0,1.0,1.0,208.0,0.0],[1.0,129.0,0.0,35.0,0.0,255000.0,0.9,137.0,1.0,0.0,209.0,0.0],[1.0,707.0,0.0,38.0,0.0,330000.0,1.4,137.0,1.0,1.0,209.0,0.0],[1.0,582.0,0.0,45.0,0.0,305000.0,1.1,137.0,1.0,1.0,209.0,0.0],[1.0,109.0,0.0,50.0,1.0,406000.0,1.1,137.0,1.0,0.0,209.0,0.0],[0.0,119.0,0.0,50.0,1.0,248000.0,1.1,148.0,1.0,0.0,209.0,0.0],[0.0,232.0,0.0,30.0,0.0,173000.0,1.2,132.0,1.0,0.0,210.0,0.0],[1.0,720.0,1.0,40.0,0.0,257000.0,1.0,136.0,0.0,0.0,210.0,0.0],[1.0,180.0,0.0,45.0,0.0,263358.03,1.18,137.0,1.0,1.0,211.0,0.0],[0.0,81.0,1.0,35.0,1.0,533000.0,1.3,139.0,0.0,0.0,212.0,0.0],[0.0,582.0,1.0,30.0,0.0,249000.0,1.3,136.0,1.0,1.0,212.0,0.0],[0.0,90.0,0.0,35.0,0.0,255000.0,1.1,136.0,1.0,1.0,212.0,0.0],[1.0,1185.0,0.0,40.0,1.0,220000.0,0.9,141.0,0.0,0.0,213.0,0.0],[0.0,582.0,1.0,38.0,0.0,264000.0,1.8,134.0,1.0,0.0,213.0,0.0],[1.0,80.0,1.0,38.0,0.0,282000.0,1.4,137.0,1.0,0.0,213.0,0.0],[0.0,143.0,0.0,25.0,0.0,246000.0,2.4,135.0,1.0,0.0,214.0,0.0],[0.0,624.0,0.0,35.0,0.0,301000.0,1.0,142.0,1.0,1.0,214.0,0.0],[0.0,207.0,1.0,40.0,0.0,223000.0,1.2,130.0,0.0,0.0,214.0,0.0],[0.0,2522.0,0.0,30.0,1.0,404000.0,0.5,139.0,0.0,0.0,214.0,0.0],[0.0,572.0,1.0,35.0,0.0,231000.0,0.8,143.0,0.0,0.0,215.0,0.0],[0.0,245.0,0.0,45.0,1.0,274000.0,1.0,133.0,1.0,0.0,215.0,0.0],[0.0,88.0,1.0,35.0,1.0,236000.0,1.2,132.0,0.0,0.0,215.0,0.0],[1.0,446.0,0.0,60.0,1.0,263358.03,1.0,139.0,1.0,0.0,215.0,0.0],[1.0,191.0,1.0,30.0,1.0,334000.0,1.0,142.0,1.0,1.0,216.0,0.0],[0.0,326.0,0.0,38.0,0.0,294000.0,1.7,139.0,0.0,0.0,220.0,0.0],[0.0,132.0,1.0,38.0,1.0,253000.0,1.0,139.0,1.0,0.0,230.0,0.0],[1.0,66.0,1.0,25.0,0.0,233000.0,0.8,135.0,1.0,0.0,230.0,0.0],[0.0,56.0,0.0,50.0,0.0,308000.0,0.7,135.0,1.0,1.0,231.0,0.0],[0.0,66.0,0.0,40.0,0.0,203000.0,1.0,138.0,1.0,0.0,233.0,0.0],[1.0,655.0,0.0,40.0,0.0,283000.0,0.7,133.0,0.0,0.0,233.0,0.0],[1.0,157.0,1.0,60.0,0.0,208000.0,1.0,140.0,0.0,0.0,237.0,0.0],[0.0,582.0,1.0,38.0,0.0,147000.0,1.2,141.0,1.0,0.0,237.0,0.0],[1.0,298.0,0.0,35.0,0.0,362000.0,0.9,140.0,1.0,1.0,240.0,0.0],[1.0,135.0,1.0,38.0,0.0,133000.0,1.7,140.0,1.0,0.0,244.0,0.0],[0.0,582.0,1.0,38.0,0.0,302000.0,0.9,140.0,0.0,0.0,244.0,0.0],[0.0,582.0,1.0,35.0,0.0,222000.0,1.0,132.0,1.0,0.0,244.0,0.0],[0.0,582.0,1.0,30.0,1.0,263358.03,1.6,130.0,1.0,1.0,244.0,0.0],[0.0,582.0,1.0,40.0,0.0,221000.0,0.9,134.0,0.0,0.0,244.0,0.0],[0.0,213.0,0.0,38.0,0.0,215000.0,1.2,133.0,0.0,0.0,245.0,0.0],[0.0,64.0,0.0,40.0,0.0,189000.0,0.7,140.0,1.0,0.0,245.0,0.0],[1.0,257.0,1.0,30.0,0.0,150000.0,1.0,137.0,1.0,1.0,245.0,0.0],[0.0,582.0,0.0,38.0,1.0,422000.0,0.8,137.0,0.0,0.0,245.0,0.0],[0.0,618.0,0.0,35.0,0.0,327000.0,1.1,142.0,0.0,0.0,245.0,0.0],[0.0,582.0,1.0,38.0,0.0,25100.0,1.1,140.0,1.0,0.0,246.0,0.0],[1.0,1051.0,1.0,30.0,0.0,232000.0,0.7,136.0,0.0,0.0,246.0,0.0],[0.0,84.0,1.0,38.0,0.0,451000.0,1.3,136.0,0.0,0.0,246.0,0.0],[0.0,2695.0,1.0,40.0,0.0,241000.0,1.0,137.0,1.0,0.0,247.0,0.0],[0.0,582.0,0.0,40.0,0.0,51000.0,2.7,136.0,1.0,1.0,250.0,0.0],[0.0,64.0,0.0,30.0,0.0,215000.0,3.8,128.0,1.0,1.0,250.0,0.0],[0.0,1688.0,0.0,38.0,0.0,263358.03,1.1,138.0,1.0,1.0,250.0,0.0],[1.0,54.0,0.0,40.0,0.0,279000.0,0.8,141.0,1.0,0.0,250.0,0.0],[1.0,170.0,1.0,40.0,0.0,336000.0,1.2,135.0,1.0,0.0,250.0,0.0],[0.0,253.0,0.0,35.0,0.0,279000.0,1.7,140.0,1.0,0.0,250.0,0.0],[0.0,582.0,1.0,55.0,0.0,543000.0,1.0,132.0,0.0,0.0,250.0,0.0],[0.0,892.0,1.0,35.0,0.0,263358.03,1.1,142.0,0.0,0.0,256.0,0.0],[1.0,337.0,0.0,38.0,0.0,390000.0,0.9,144.0,0.0,0.0,256.0,0.0],[0.0,615.0,1.0,55.0,0.0,222000.0,0.8,141.0,0.0,0.0,257.0,0.0],[0.0,320.0,0.0,35.0,0.0,133000.0,1.4,139.0,1.0,0.0,258.0,0.0],[0.0,190.0,1.0,38.0,0.0,382000.0,1.0,140.0,1.0,1.0,258.0,0.0],[1.0,103.0,1.0,35.0,0.0,179000.0,0.9,136.0,1.0,1.0,270.0,0.0],[0.0,61.0,1.0,38.0,1.0,155000.0,1.1,143.0,1.0,1.0,270.0,0.0],[0.0,1820.0,0.0,38.0,0.0,270000.0,1.2,139.0,0.0,0.0,271.0,0.0],[0.0,2060.0,1.0,60.0,0.0,742000.0,0.8,138.0,0.0,0.0,278.0,0.0],[0.0,2413.0,0.0,38.0,0.0,140000.0,1.4,140.0,1.0,1.0,280.0,0.0],[0.0,196.0,0.0,45.0,0.0,395000.0,1.6,136.0,1.0,1.0,285.0,0.0]],\"hovertemplate\":\"DEATH_EVENT=%{customdata[11]}<br>AGE=%{x}<br>anaemia=%{customdata[0]}<br>creatinine_phosphokinase=%{customdata[1]}<br>diabetes=%{customdata[2]}<br>ejection_fraction=%{customdata[3]}<br>high_blood_pressure=%{customdata[4]}<br>platelets=%{customdata[5]}<br>serum_creatinine=%{customdata[6]}<br>serum_sodium=%{customdata[7]}<br>sex=%{customdata[8]}<br>smoking=%{customdata[9]}<br>time=%{customdata[10]}<extra></extra>\",\"legendgroup\":\"0\",\"marker\":{\"color\":\"#ab63fa\"},\"name\":\"0\",\"offsetgroup\":\"0\",\"scalegroup\":\"x\",\"showlegend\":false,\"x\":[49.0,65.0,53.0,50.0,60.0,72.0,70.0,60.0,55.0,41.0,58.0,65.0,70.0,42.0,75.0,55.0,70.0,67.0,79.0,51.0,55.0,65.0,44.0,57.0,70.0,60.0,42.0,58.0,58.0,63.0,70.0,60.0,63.0,65.0,75.0,80.0,42.0,60.0,55.0,45.0,63.0,45.0,55.0,50.0,60.0,58.0,60.0,85.0,65.0,60.0,66.0,60.0,60.0,43.0,58.0,61.0,53.0,53.0,60.0,46.0,63.0,81.0,75.0,65.0,68.0,62.0,50.0,46.0,50.0,61.0,50.0,52.0,64.0,60.0,62.0,50.0,50.0,65.0,60.0,52.0,50.0,85.0,59.0,66.0,45.0,63.0,53.0,65.0,70.0,51.0,52.0,70.0,50.0,65.0,60.0,69.0,49.0,63.0,55.0,40.0,60.667,40.0,80.0,64.0,50.0,73.0,45.0,65.0,50.0,60.0,63.0,45.0,70.0,60.0,78.0,50.0,40.0,85.0,60.0,49.0,70.0,50.0,78.0,65.0,73.0,70.0,68.0,55.0,65.0,42.0,47.0,58.0,75.0,58.0,55.0,65.0,72.0,70.0,40.0,53.0,53.0,77.0,75.0,70.0,65.0,55.0,70.0,65.0,40.0,73.0,54.0,61.0,64.0,40.0,53.0,50.0,55.0,50.0,70.0,53.0,52.0,65.0,58.0,45.0,53.0,55.0,62.0,68.0,61.0,50.0,56.0,45.0,40.0,44.0,51.0,67.0,42.0,60.0,45.0,70.0,70.0,50.0,55.0,70.0,70.0,42.0,65.0,50.0,55.0,60.0,45.0,65.0,90.0,45.0,60.0,52.0,63.0,62.0,55.0,45.0,45.0,50.0],\"xaxis\":\"x2\",\"yaxis\":\"y2\",\"type\":\"violin\"}],                        {\"template\":{\"data\":{\"barpolar\":[{\"marker\":{\"line\":{\"color\":\"white\",\"width\":0.5},\"pattern\":{\"fillmode\":\"overlay\",\"size\":10,\"solidity\":0.2}},\"type\":\"barpolar\"}],\"bar\":[{\"error_x\":{\"color\":\"#2a3f5f\"},\"error_y\":{\"color\":\"#2a3f5f\"},\"marker\":{\"line\":{\"color\":\"white\",\"width\":0.5},\"pattern\":{\"fillmode\":\"overlay\",\"size\":10,\"solidity\":0.2}},\"type\":\"bar\"}],\"carpet\":[{\"aaxis\":{\"endlinecolor\":\"#2a3f5f\",\"gridcolor\":\"#C8D4E3\",\"linecolor\":\"#C8D4E3\",\"minorgridcolor\":\"#C8D4E3\",\"startlinecolor\":\"#2a3f5f\"},\"baxis\":{\"endlinecolor\":\"#2a3f5f\",\"gridcolor\":\"#C8D4E3\",\"linecolor\":\"#C8D4E3\",\"minorgridcolor\":\"#C8D4E3\",\"startlinecolor\":\"#2a3f5f\"},\"type\":\"carpet\"}],\"choropleth\":[{\"colorbar\":{\"outlinewidth\":0,\"ticks\":\"\"},\"type\":\"choropleth\"}],\"contourcarpet\":[{\"colorbar\":{\"outlinewidth\":0,\"ticks\":\"\"},\"type\":\"contourcarpet\"}],\"contour\":[{\"colorbar\":{\"outlinewidth\":0,\"ticks\":\"\"},\"colorscale\":[[0.0,\"#0d0887\"],[0.1111111111111111,\"#46039f\"],[0.2222222222222222,\"#7201a8\"],[0.3333333333333333,\"#9c179e\"],[0.4444444444444444,\"#bd3786\"],[0.5555555555555556,\"#d8576b\"],[0.6666666666666666,\"#ed7953\"],[0.7777777777777778,\"#fb9f3a\"],[0.8888888888888888,\"#fdca26\"],[1.0,\"#f0f921\"]],\"type\":\"contour\"}],\"heatmapgl\":[{\"colorbar\":{\"outlinewidth\":0,\"ticks\":\"\"},\"colorscale\":[[0.0,\"#0d0887\"],[0.1111111111111111,\"#46039f\"],[0.2222222222222222,\"#7201a8\"],[0.3333333333333333,\"#9c179e\"],[0.4444444444444444,\"#bd3786\"],[0.5555555555555556,\"#d8576b\"],[0.6666666666666666,\"#ed7953\"],[0.7777777777777778,\"#fb9f3a\"],[0.8888888888888888,\"#fdca26\"],[1.0,\"#f0f921\"]],\"type\":\"heatmapgl\"}],\"heatmap\":[{\"colorbar\":{\"outlinewidth\":0,\"ticks\":\"\"},\"colorscale\":[[0.0,\"#0d0887\"],[0.1111111111111111,\"#46039f\"],[0.2222222222222222,\"#7201a8\"],[0.3333333333333333,\"#9c179e\"],[0.4444444444444444,\"#bd3786\"],[0.5555555555555556,\"#d8576b\"],[0.6666666666666666,\"#ed7953\"],[0.7777777777777778,\"#fb9f3a\"],[0.8888888888888888,\"#fdca26\"],[1.0,\"#f0f921\"]],\"type\":\"heatmap\"}],\"histogram2dcontour\":[{\"colorbar\":{\"outlinewidth\":0,\"ticks\":\"\"},\"colorscale\":[[0.0,\"#0d0887\"],[0.1111111111111111,\"#46039f\"],[0.2222222222222222,\"#7201a8\"],[0.3333333333333333,\"#9c179e\"],[0.4444444444444444,\"#bd3786\"],[0.5555555555555556,\"#d8576b\"],[0.6666666666666666,\"#ed7953\"],[0.7777777777777778,\"#fb9f3a\"],[0.8888888888888888,\"#fdca26\"],[1.0,\"#f0f921\"]],\"type\":\"histogram2dcontour\"}],\"histogram2d\":[{\"colorbar\":{\"outlinewidth\":0,\"ticks\":\"\"},\"colorscale\":[[0.0,\"#0d0887\"],[0.1111111111111111,\"#46039f\"],[0.2222222222222222,\"#7201a8\"],[0.3333333333333333,\"#9c179e\"],[0.4444444444444444,\"#bd3786\"],[0.5555555555555556,\"#d8576b\"],[0.6666666666666666,\"#ed7953\"],[0.7777777777777778,\"#fb9f3a\"],[0.8888888888888888,\"#fdca26\"],[1.0,\"#f0f921\"]],\"type\":\"histogram2d\"}],\"histogram\":[{\"marker\":{\"pattern\":{\"fillmode\":\"overlay\",\"size\":10,\"solidity\":0.2}},\"type\":\"histogram\"}],\"mesh3d\":[{\"colorbar\":{\"outlinewidth\":0,\"ticks\":\"\"},\"type\":\"mesh3d\"}],\"parcoords\":[{\"line\":{\"colorbar\":{\"outlinewidth\":0,\"ticks\":\"\"}},\"type\":\"parcoords\"}],\"pie\":[{\"automargin\":true,\"type\":\"pie\"}],\"scatter3d\":[{\"line\":{\"colorbar\":{\"outlinewidth\":0,\"ticks\":\"\"}},\"marker\":{\"colorbar\":{\"outlinewidth\":0,\"ticks\":\"\"}},\"type\":\"scatter3d\"}],\"scattercarpet\":[{\"marker\":{\"colorbar\":{\"outlinewidth\":0,\"ticks\":\"\"}},\"type\":\"scattercarpet\"}],\"scattergeo\":[{\"marker\":{\"colorbar\":{\"outlinewidth\":0,\"ticks\":\"\"}},\"type\":\"scattergeo\"}],\"scattergl\":[{\"marker\":{\"colorbar\":{\"outlinewidth\":0,\"ticks\":\"\"}},\"type\":\"scattergl\"}],\"scattermapbox\":[{\"marker\":{\"colorbar\":{\"outlinewidth\":0,\"ticks\":\"\"}},\"type\":\"scattermapbox\"}],\"scatterpolargl\":[{\"marker\":{\"colorbar\":{\"outlinewidth\":0,\"ticks\":\"\"}},\"type\":\"scatterpolargl\"}],\"scatterpolar\":[{\"marker\":{\"colorbar\":{\"outlinewidth\":0,\"ticks\":\"\"}},\"type\":\"scatterpolar\"}],\"scatter\":[{\"fillpattern\":{\"fillmode\":\"overlay\",\"size\":10,\"solidity\":0.2},\"type\":\"scatter\"}],\"scatterternary\":[{\"marker\":{\"colorbar\":{\"outlinewidth\":0,\"ticks\":\"\"}},\"type\":\"scatterternary\"}],\"surface\":[{\"colorbar\":{\"outlinewidth\":0,\"ticks\":\"\"},\"colorscale\":[[0.0,\"#0d0887\"],[0.1111111111111111,\"#46039f\"],[0.2222222222222222,\"#7201a8\"],[0.3333333333333333,\"#9c179e\"],[0.4444444444444444,\"#bd3786\"],[0.5555555555555556,\"#d8576b\"],[0.6666666666666666,\"#ed7953\"],[0.7777777777777778,\"#fb9f3a\"],[0.8888888888888888,\"#fdca26\"],[1.0,\"#f0f921\"]],\"type\":\"surface\"}],\"table\":[{\"cells\":{\"fill\":{\"color\":\"#EBF0F8\"},\"line\":{\"color\":\"white\"}},\"header\":{\"fill\":{\"color\":\"#C8D4E3\"},\"line\":{\"color\":\"white\"}},\"type\":\"table\"}]},\"layout\":{\"annotationdefaults\":{\"arrowcolor\":\"#2a3f5f\",\"arrowhead\":0,\"arrowwidth\":1},\"autotypenumbers\":\"strict\",\"coloraxis\":{\"colorbar\":{\"outlinewidth\":0,\"ticks\":\"\"}},\"colorscale\":{\"diverging\":[[0,\"#8e0152\"],[0.1,\"#c51b7d\"],[0.2,\"#de77ae\"],[0.3,\"#f1b6da\"],[0.4,\"#fde0ef\"],[0.5,\"#f7f7f7\"],[0.6,\"#e6f5d0\"],[0.7,\"#b8e186\"],[0.8,\"#7fbc41\"],[0.9,\"#4d9221\"],[1,\"#276419\"]],\"sequential\":[[0.0,\"#0d0887\"],[0.1111111111111111,\"#46039f\"],[0.2222222222222222,\"#7201a8\"],[0.3333333333333333,\"#9c179e\"],[0.4444444444444444,\"#bd3786\"],[0.5555555555555556,\"#d8576b\"],[0.6666666666666666,\"#ed7953\"],[0.7777777777777778,\"#fb9f3a\"],[0.8888888888888888,\"#fdca26\"],[1.0,\"#f0f921\"]],\"sequentialminus\":[[0.0,\"#0d0887\"],[0.1111111111111111,\"#46039f\"],[0.2222222222222222,\"#7201a8\"],[0.3333333333333333,\"#9c179e\"],[0.4444444444444444,\"#bd3786\"],[0.5555555555555556,\"#d8576b\"],[0.6666666666666666,\"#ed7953\"],[0.7777777777777778,\"#fb9f3a\"],[0.8888888888888888,\"#fdca26\"],[1.0,\"#f0f921\"]]},\"colorway\":[\"#636efa\",\"#EF553B\",\"#00cc96\",\"#ab63fa\",\"#FFA15A\",\"#19d3f3\",\"#FF6692\",\"#B6E880\",\"#FF97FF\",\"#FECB52\"],\"font\":{\"color\":\"#2a3f5f\"},\"geo\":{\"bgcolor\":\"white\",\"lakecolor\":\"white\",\"landcolor\":\"white\",\"showlakes\":true,\"showland\":true,\"subunitcolor\":\"#C8D4E3\"},\"hoverlabel\":{\"align\":\"left\"},\"hovermode\":\"closest\",\"mapbox\":{\"style\":\"light\"},\"paper_bgcolor\":\"white\",\"plot_bgcolor\":\"white\",\"polar\":{\"angularaxis\":{\"gridcolor\":\"#EBF0F8\",\"linecolor\":\"#EBF0F8\",\"ticks\":\"\"},\"bgcolor\":\"white\",\"radialaxis\":{\"gridcolor\":\"#EBF0F8\",\"linecolor\":\"#EBF0F8\",\"ticks\":\"\"}},\"scene\":{\"xaxis\":{\"backgroundcolor\":\"white\",\"gridcolor\":\"#DFE8F3\",\"gridwidth\":2,\"linecolor\":\"#EBF0F8\",\"showbackground\":true,\"ticks\":\"\",\"zerolinecolor\":\"#EBF0F8\"},\"yaxis\":{\"backgroundcolor\":\"white\",\"gridcolor\":\"#DFE8F3\",\"gridwidth\":2,\"linecolor\":\"#EBF0F8\",\"showbackground\":true,\"ticks\":\"\",\"zerolinecolor\":\"#EBF0F8\"},\"zaxis\":{\"backgroundcolor\":\"white\",\"gridcolor\":\"#DFE8F3\",\"gridwidth\":2,\"linecolor\":\"#EBF0F8\",\"showbackground\":true,\"ticks\":\"\",\"zerolinecolor\":\"#EBF0F8\"}},\"shapedefaults\":{\"line\":{\"color\":\"#2a3f5f\"}},\"ternary\":{\"aaxis\":{\"gridcolor\":\"#DFE8F3\",\"linecolor\":\"#A2B1C6\",\"ticks\":\"\"},\"baxis\":{\"gridcolor\":\"#DFE8F3\",\"linecolor\":\"#A2B1C6\",\"ticks\":\"\"},\"bgcolor\":\"white\",\"caxis\":{\"gridcolor\":\"#DFE8F3\",\"linecolor\":\"#A2B1C6\",\"ticks\":\"\"}},\"title\":{\"x\":0.05},\"xaxis\":{\"automargin\":true,\"gridcolor\":\"#EBF0F8\",\"linecolor\":\"#EBF0F8\",\"ticks\":\"\",\"title\":{\"standoff\":15},\"zerolinecolor\":\"#EBF0F8\",\"zerolinewidth\":2},\"yaxis\":{\"automargin\":true,\"gridcolor\":\"#EBF0F8\",\"linecolor\":\"#EBF0F8\",\"ticks\":\"\",\"title\":{\"standoff\":15},\"zerolinecolor\":\"#EBF0F8\",\"zerolinewidth\":2}}},\"xaxis\":{\"anchor\":\"y\",\"domain\":[0.0,1.0],\"title\":{\"text\":\"AGE\"}},\"yaxis\":{\"anchor\":\"x\",\"domain\":[0.0,0.7326],\"title\":{\"text\":\"count\"}},\"xaxis2\":{\"anchor\":\"y2\",\"domain\":[0.0,1.0],\"matches\":\"x\",\"showticklabels\":false,\"showgrid\":true},\"yaxis2\":{\"anchor\":\"x2\",\"domain\":[0.7426,1.0],\"matches\":\"y2\",\"showticklabels\":false,\"showline\":false,\"ticks\":\"\",\"showgrid\":false},\"legend\":{\"title\":{\"text\":\"DEATH_EVENT\"},\"tracegroupgap\":0},\"title\":{\"text\":\"Distribution of AGE Vs DEATH_EVENT\"},\"barmode\":\"relative\"},                        {\"responsive\": true}                    ).then(function(){\n",
       "                            \n",
       "var gd = document.getElementById('20c27dcd-c94f-43e7-8b1f-fbebdb2c3719');\n",
       "var x = new MutationObserver(function (mutations, observer) {{\n",
       "        var display = window.getComputedStyle(gd).display;\n",
       "        if (!display || display === 'none') {{\n",
       "            console.log([gd, 'removed!']);\n",
       "            Plotly.purge(gd);\n",
       "            observer.disconnect();\n",
       "        }}\n",
       "}});\n",
       "\n",
       "// Listen for the removal of the full notebook cells\n",
       "var notebookContainer = gd.closest('#notebook-container');\n",
       "if (notebookContainer) {{\n",
       "    x.observe(notebookContainer, {childList: true});\n",
       "}}\n",
       "\n",
       "// Listen for the clearing of the current output cell\n",
       "var outputEl = gd.closest('.output');\n",
       "if (outputEl) {{\n",
       "    x.observe(outputEl, {childList: true});\n",
       "}}\n",
       "\n",
       "                        })                };                });            </script>        </div>"
      ]
     },
     "metadata": {},
     "output_type": "display_data"
    }
   ],
   "source": [
    "# Categorize by Death_Event\n",
    "import plotly.express as px\n",
    "fig = px.histogram(df, x=\"age\", color=\"DEATH_EVENT\", marginal=\"violin\", hover_data=df.columns, \n",
    "                   title =\"Distribution of AGE Vs DEATH_EVENT\", \n",
    "                   labels={\"age\": \"AGE\"},\n",
    "                   template=\"plotly_white\",\n",
    "                   color_discrete_map={\"0\": \"RebeccaPurple\", \"1\": \"MediumPurple\"}\n",
    "                  )\n",
    "fig.show()"
   ]
  },
  {
   "cell_type": "code",
   "execution_count": 30,
   "metadata": {},
   "outputs": [
    {
     "data": {
      "application/vnd.plotly.v1+json": {
       "config": {
        "plotlyServerURL": "https://plot.ly"
       },
       "data": [
        {
         "marker": {
          "color": "#FE6F5E"
         },
         "opacity": 1,
         "type": "histogram",
         "x": [
          582,
          7861,
          146,
          111,
          160,
          47,
          246,
          315,
          157,
          123,
          81,
          231,
          981,
          168,
          80,
          379,
          149,
          582,
          125,
          582,
          52,
          128,
          220,
          63,
          582,
          148,
          112,
          122,
          60,
          70,
          582,
          23,
          249,
          159,
          94,
          582,
          60,
          855,
          2656,
          235,
          582,
          124,
          571,
          127,
          588,
          582,
          1380,
          582,
          553,
          129,
          577,
          91,
          3964,
          69,
          260,
          371,
          75,
          607,
          789,
          364,
          7702,
          318,
          109,
          582,
          68,
          250,
          110,
          161,
          113,
          148,
          582,
          5882,
          224,
          582,
          47,
          92,
          102,
          203,
          336,
          69,
          582,
          76,
          55,
          280,
          78,
          47,
          68,
          84,
          115,
          66,
          897,
          582,
          154,
          144,
          133,
          514,
          59,
          156,
          61,
          305,
          582,
          898,
          5209,
          53,
          328,
          748,
          1876,
          936,
          292,
          129,
          60,
          369,
          143,
          754,
          400,
          96,
          102,
          113,
          582,
          737,
          68,
          96,
          582,
          582,
          358,
          168,
          200,
          248,
          270,
          1808,
          1082,
          719,
          193,
          4540,
          582,
          59,
          646,
          281,
          1548,
          805,
          291,
          482,
          84,
          943,
          185,
          132,
          1610,
          582,
          2261,
          233,
          30,
          115,
          1846,
          335,
          231,
          58,
          250,
          910,
          129,
          72,
          130,
          582,
          2334,
          2442,
          776,
          196,
          66,
          582,
          835,
          582,
          3966,
          171,
          115,
          198,
          95,
          1419,
          69,
          122,
          835,
          478,
          176,
          395,
          99,
          145,
          104,
          582,
          1896,
          151,
          244,
          582,
          62,
          121,
          231,
          582,
          418,
          582,
          167,
          582,
          1211,
          1767,
          308,
          97,
          59,
          64,
          167,
          101,
          212,
          2281,
          972,
          212,
          582,
          224,
          131,
          135,
          582,
          1202,
          1021,
          582,
          582,
          118,
          86,
          582,
          582,
          675,
          57,
          2794,
          56,
          211,
          166,
          93,
          129,
          707,
          582,
          109,
          119,
          232,
          720,
          180,
          81,
          582,
          90,
          1185,
          582,
          80,
          2017,
          143,
          624,
          207,
          2522,
          572,
          245,
          88,
          446,
          191,
          326,
          132,
          66,
          56,
          66,
          655,
          258,
          157,
          582,
          298,
          1199,
          135,
          582,
          582,
          582,
          582,
          213,
          64,
          257,
          582,
          618,
          582,
          1051,
          84,
          2695,
          582,
          64,
          1688,
          54,
          170,
          253,
          582,
          892,
          337,
          615,
          320,
          190,
          103,
          61,
          1820,
          2060,
          2413,
          196
         ],
         "xbins": {
          "end": 582,
          "size": 15,
          "start": 23
         }
        }
       ],
       "layout": {
        "bargap": 0.05,
        "template": {
         "data": {
          "bar": [
           {
            "error_x": {
             "color": "#2a3f5f"
            },
            "error_y": {
             "color": "#2a3f5f"
            },
            "marker": {
             "line": {
              "color": "#E5ECF6",
              "width": 0.5
             },
             "pattern": {
              "fillmode": "overlay",
              "size": 10,
              "solidity": 0.2
             }
            },
            "type": "bar"
           }
          ],
          "barpolar": [
           {
            "marker": {
             "line": {
              "color": "#E5ECF6",
              "width": 0.5
             },
             "pattern": {
              "fillmode": "overlay",
              "size": 10,
              "solidity": 0.2
             }
            },
            "type": "barpolar"
           }
          ],
          "carpet": [
           {
            "aaxis": {
             "endlinecolor": "#2a3f5f",
             "gridcolor": "white",
             "linecolor": "white",
             "minorgridcolor": "white",
             "startlinecolor": "#2a3f5f"
            },
            "baxis": {
             "endlinecolor": "#2a3f5f",
             "gridcolor": "white",
             "linecolor": "white",
             "minorgridcolor": "white",
             "startlinecolor": "#2a3f5f"
            },
            "type": "carpet"
           }
          ],
          "choropleth": [
           {
            "colorbar": {
             "outlinewidth": 0,
             "ticks": ""
            },
            "type": "choropleth"
           }
          ],
          "contour": [
           {
            "colorbar": {
             "outlinewidth": 0,
             "ticks": ""
            },
            "colorscale": [
             [
              0,
              "#0d0887"
             ],
             [
              0.1111111111111111,
              "#46039f"
             ],
             [
              0.2222222222222222,
              "#7201a8"
             ],
             [
              0.3333333333333333,
              "#9c179e"
             ],
             [
              0.4444444444444444,
              "#bd3786"
             ],
             [
              0.5555555555555556,
              "#d8576b"
             ],
             [
              0.6666666666666666,
              "#ed7953"
             ],
             [
              0.7777777777777778,
              "#fb9f3a"
             ],
             [
              0.8888888888888888,
              "#fdca26"
             ],
             [
              1,
              "#f0f921"
             ]
            ],
            "type": "contour"
           }
          ],
          "contourcarpet": [
           {
            "colorbar": {
             "outlinewidth": 0,
             "ticks": ""
            },
            "type": "contourcarpet"
           }
          ],
          "heatmap": [
           {
            "colorbar": {
             "outlinewidth": 0,
             "ticks": ""
            },
            "colorscale": [
             [
              0,
              "#0d0887"
             ],
             [
              0.1111111111111111,
              "#46039f"
             ],
             [
              0.2222222222222222,
              "#7201a8"
             ],
             [
              0.3333333333333333,
              "#9c179e"
             ],
             [
              0.4444444444444444,
              "#bd3786"
             ],
             [
              0.5555555555555556,
              "#d8576b"
             ],
             [
              0.6666666666666666,
              "#ed7953"
             ],
             [
              0.7777777777777778,
              "#fb9f3a"
             ],
             [
              0.8888888888888888,
              "#fdca26"
             ],
             [
              1,
              "#f0f921"
             ]
            ],
            "type": "heatmap"
           }
          ],
          "heatmapgl": [
           {
            "colorbar": {
             "outlinewidth": 0,
             "ticks": ""
            },
            "colorscale": [
             [
              0,
              "#0d0887"
             ],
             [
              0.1111111111111111,
              "#46039f"
             ],
             [
              0.2222222222222222,
              "#7201a8"
             ],
             [
              0.3333333333333333,
              "#9c179e"
             ],
             [
              0.4444444444444444,
              "#bd3786"
             ],
             [
              0.5555555555555556,
              "#d8576b"
             ],
             [
              0.6666666666666666,
              "#ed7953"
             ],
             [
              0.7777777777777778,
              "#fb9f3a"
             ],
             [
              0.8888888888888888,
              "#fdca26"
             ],
             [
              1,
              "#f0f921"
             ]
            ],
            "type": "heatmapgl"
           }
          ],
          "histogram": [
           {
            "marker": {
             "pattern": {
              "fillmode": "overlay",
              "size": 10,
              "solidity": 0.2
             }
            },
            "type": "histogram"
           }
          ],
          "histogram2d": [
           {
            "colorbar": {
             "outlinewidth": 0,
             "ticks": ""
            },
            "colorscale": [
             [
              0,
              "#0d0887"
             ],
             [
              0.1111111111111111,
              "#46039f"
             ],
             [
              0.2222222222222222,
              "#7201a8"
             ],
             [
              0.3333333333333333,
              "#9c179e"
             ],
             [
              0.4444444444444444,
              "#bd3786"
             ],
             [
              0.5555555555555556,
              "#d8576b"
             ],
             [
              0.6666666666666666,
              "#ed7953"
             ],
             [
              0.7777777777777778,
              "#fb9f3a"
             ],
             [
              0.8888888888888888,
              "#fdca26"
             ],
             [
              1,
              "#f0f921"
             ]
            ],
            "type": "histogram2d"
           }
          ],
          "histogram2dcontour": [
           {
            "colorbar": {
             "outlinewidth": 0,
             "ticks": ""
            },
            "colorscale": [
             [
              0,
              "#0d0887"
             ],
             [
              0.1111111111111111,
              "#46039f"
             ],
             [
              0.2222222222222222,
              "#7201a8"
             ],
             [
              0.3333333333333333,
              "#9c179e"
             ],
             [
              0.4444444444444444,
              "#bd3786"
             ],
             [
              0.5555555555555556,
              "#d8576b"
             ],
             [
              0.6666666666666666,
              "#ed7953"
             ],
             [
              0.7777777777777778,
              "#fb9f3a"
             ],
             [
              0.8888888888888888,
              "#fdca26"
             ],
             [
              1,
              "#f0f921"
             ]
            ],
            "type": "histogram2dcontour"
           }
          ],
          "mesh3d": [
           {
            "colorbar": {
             "outlinewidth": 0,
             "ticks": ""
            },
            "type": "mesh3d"
           }
          ],
          "parcoords": [
           {
            "line": {
             "colorbar": {
              "outlinewidth": 0,
              "ticks": ""
             }
            },
            "type": "parcoords"
           }
          ],
          "pie": [
           {
            "automargin": true,
            "type": "pie"
           }
          ],
          "scatter": [
           {
            "fillpattern": {
             "fillmode": "overlay",
             "size": 10,
             "solidity": 0.2
            },
            "type": "scatter"
           }
          ],
          "scatter3d": [
           {
            "line": {
             "colorbar": {
              "outlinewidth": 0,
              "ticks": ""
             }
            },
            "marker": {
             "colorbar": {
              "outlinewidth": 0,
              "ticks": ""
             }
            },
            "type": "scatter3d"
           }
          ],
          "scattercarpet": [
           {
            "marker": {
             "colorbar": {
              "outlinewidth": 0,
              "ticks": ""
             }
            },
            "type": "scattercarpet"
           }
          ],
          "scattergeo": [
           {
            "marker": {
             "colorbar": {
              "outlinewidth": 0,
              "ticks": ""
             }
            },
            "type": "scattergeo"
           }
          ],
          "scattergl": [
           {
            "marker": {
             "colorbar": {
              "outlinewidth": 0,
              "ticks": ""
             }
            },
            "type": "scattergl"
           }
          ],
          "scattermapbox": [
           {
            "marker": {
             "colorbar": {
              "outlinewidth": 0,
              "ticks": ""
             }
            },
            "type": "scattermapbox"
           }
          ],
          "scatterpolar": [
           {
            "marker": {
             "colorbar": {
              "outlinewidth": 0,
              "ticks": ""
             }
            },
            "type": "scatterpolar"
           }
          ],
          "scatterpolargl": [
           {
            "marker": {
             "colorbar": {
              "outlinewidth": 0,
              "ticks": ""
             }
            },
            "type": "scatterpolargl"
           }
          ],
          "scatterternary": [
           {
            "marker": {
             "colorbar": {
              "outlinewidth": 0,
              "ticks": ""
             }
            },
            "type": "scatterternary"
           }
          ],
          "surface": [
           {
            "colorbar": {
             "outlinewidth": 0,
             "ticks": ""
            },
            "colorscale": [
             [
              0,
              "#0d0887"
             ],
             [
              0.1111111111111111,
              "#46039f"
             ],
             [
              0.2222222222222222,
              "#7201a8"
             ],
             [
              0.3333333333333333,
              "#9c179e"
             ],
             [
              0.4444444444444444,
              "#bd3786"
             ],
             [
              0.5555555555555556,
              "#d8576b"
             ],
             [
              0.6666666666666666,
              "#ed7953"
             ],
             [
              0.7777777777777778,
              "#fb9f3a"
             ],
             [
              0.8888888888888888,
              "#fdca26"
             ],
             [
              1,
              "#f0f921"
             ]
            ],
            "type": "surface"
           }
          ],
          "table": [
           {
            "cells": {
             "fill": {
              "color": "#EBF0F8"
             },
             "line": {
              "color": "white"
             }
            },
            "header": {
             "fill": {
              "color": "#C8D4E3"
             },
             "line": {
              "color": "white"
             }
            },
            "type": "table"
           }
          ]
         },
         "layout": {
          "annotationdefaults": {
           "arrowcolor": "#2a3f5f",
           "arrowhead": 0,
           "arrowwidth": 1
          },
          "autotypenumbers": "strict",
          "coloraxis": {
           "colorbar": {
            "outlinewidth": 0,
            "ticks": ""
           }
          },
          "colorscale": {
           "diverging": [
            [
             0,
             "#8e0152"
            ],
            [
             0.1,
             "#c51b7d"
            ],
            [
             0.2,
             "#de77ae"
            ],
            [
             0.3,
             "#f1b6da"
            ],
            [
             0.4,
             "#fde0ef"
            ],
            [
             0.5,
             "#f7f7f7"
            ],
            [
             0.6,
             "#e6f5d0"
            ],
            [
             0.7,
             "#b8e186"
            ],
            [
             0.8,
             "#7fbc41"
            ],
            [
             0.9,
             "#4d9221"
            ],
            [
             1,
             "#276419"
            ]
           ],
           "sequential": [
            [
             0,
             "#0d0887"
            ],
            [
             0.1111111111111111,
             "#46039f"
            ],
            [
             0.2222222222222222,
             "#7201a8"
            ],
            [
             0.3333333333333333,
             "#9c179e"
            ],
            [
             0.4444444444444444,
             "#bd3786"
            ],
            [
             0.5555555555555556,
             "#d8576b"
            ],
            [
             0.6666666666666666,
             "#ed7953"
            ],
            [
             0.7777777777777778,
             "#fb9f3a"
            ],
            [
             0.8888888888888888,
             "#fdca26"
            ],
            [
             1,
             "#f0f921"
            ]
           ],
           "sequentialminus": [
            [
             0,
             "#0d0887"
            ],
            [
             0.1111111111111111,
             "#46039f"
            ],
            [
             0.2222222222222222,
             "#7201a8"
            ],
            [
             0.3333333333333333,
             "#9c179e"
            ],
            [
             0.4444444444444444,
             "#bd3786"
            ],
            [
             0.5555555555555556,
             "#d8576b"
            ],
            [
             0.6666666666666666,
             "#ed7953"
            ],
            [
             0.7777777777777778,
             "#fb9f3a"
            ],
            [
             0.8888888888888888,
             "#fdca26"
            ],
            [
             1,
             "#f0f921"
            ]
           ]
          },
          "colorway": [
           "#636efa",
           "#EF553B",
           "#00cc96",
           "#ab63fa",
           "#FFA15A",
           "#19d3f3",
           "#FF6692",
           "#B6E880",
           "#FF97FF",
           "#FECB52"
          ],
          "font": {
           "color": "#2a3f5f"
          },
          "geo": {
           "bgcolor": "white",
           "lakecolor": "white",
           "landcolor": "#E5ECF6",
           "showlakes": true,
           "showland": true,
           "subunitcolor": "white"
          },
          "hoverlabel": {
           "align": "left"
          },
          "hovermode": "closest",
          "mapbox": {
           "style": "light"
          },
          "paper_bgcolor": "white",
          "plot_bgcolor": "#E5ECF6",
          "polar": {
           "angularaxis": {
            "gridcolor": "white",
            "linecolor": "white",
            "ticks": ""
           },
           "bgcolor": "#E5ECF6",
           "radialaxis": {
            "gridcolor": "white",
            "linecolor": "white",
            "ticks": ""
           }
          },
          "scene": {
           "xaxis": {
            "backgroundcolor": "#E5ECF6",
            "gridcolor": "white",
            "gridwidth": 2,
            "linecolor": "white",
            "showbackground": true,
            "ticks": "",
            "zerolinecolor": "white"
           },
           "yaxis": {
            "backgroundcolor": "#E5ECF6",
            "gridcolor": "white",
            "gridwidth": 2,
            "linecolor": "white",
            "showbackground": true,
            "ticks": "",
            "zerolinecolor": "white"
           },
           "zaxis": {
            "backgroundcolor": "#E5ECF6",
            "gridcolor": "white",
            "gridwidth": 2,
            "linecolor": "white",
            "showbackground": true,
            "ticks": "",
            "zerolinecolor": "white"
           }
          },
          "shapedefaults": {
           "line": {
            "color": "#2a3f5f"
           }
          },
          "ternary": {
           "aaxis": {
            "gridcolor": "white",
            "linecolor": "white",
            "ticks": ""
           },
           "baxis": {
            "gridcolor": "white",
            "linecolor": "white",
            "ticks": ""
           },
           "bgcolor": "#E5ECF6",
           "caxis": {
            "gridcolor": "white",
            "linecolor": "white",
            "ticks": ""
           }
          },
          "title": {
           "x": 0.05
          },
          "xaxis": {
           "automargin": true,
           "gridcolor": "white",
           "linecolor": "white",
           "ticks": "",
           "title": {
            "standoff": 15
           },
           "zerolinecolor": "white",
           "zerolinewidth": 2
          },
          "yaxis": {
           "automargin": true,
           "gridcolor": "white",
           "linecolor": "white",
           "ticks": "",
           "title": {
            "standoff": 15
           },
           "zerolinecolor": "white",
           "zerolinewidth": 2
          }
         }
        },
        "title": {
         "text": "CREATININE PHOSPHOKINASE DISTRIBUTION"
        },
        "xaxis": {
         "showgrid": false,
         "title": {
          "text": "CREATININE PHOSPHOKINASE"
         }
        },
        "yaxis": {
         "showgrid": false,
         "title": {
          "text": "COUNT"
         }
        }
       }
      },
      "text/html": [
       "<div>                            <div id=\"bed0209d-114e-473f-b0fc-c23a413a96b4\" class=\"plotly-graph-div\" style=\"height:525px; width:100%;\"></div>            <script type=\"text/javascript\">                require([\"plotly\"], function(Plotly) {                    window.PLOTLYENV=window.PLOTLYENV || {};                                    if (document.getElementById(\"bed0209d-114e-473f-b0fc-c23a413a96b4\")) {                    Plotly.newPlot(                        \"bed0209d-114e-473f-b0fc-c23a413a96b4\",                        [{\"marker\":{\"color\":\"#FE6F5E\"},\"opacity\":1,\"x\":[582,7861,146,111,160,47,246,315,157,123,81,231,981,168,80,379,149,582,125,582,52,128,220,63,582,148,112,122,60,70,582,23,249,159,94,582,60,855,2656,235,582,124,571,127,588,582,1380,582,553,129,577,91,3964,69,260,371,75,607,789,364,7702,318,109,582,68,250,110,161,113,148,582,5882,224,582,47,92,102,203,336,69,582,76,55,280,78,47,68,84,115,66,897,582,154,144,133,514,59,156,61,305,582,898,5209,53,328,748,1876,936,292,129,60,369,143,754,400,96,102,113,582,737,68,96,582,582,358,168,200,248,270,1808,1082,719,193,4540,582,59,646,281,1548,805,291,482,84,943,185,132,1610,582,2261,233,30,115,1846,335,231,58,250,910,129,72,130,582,2334,2442,776,196,66,582,835,582,3966,171,115,198,95,1419,69,122,835,478,176,395,99,145,104,582,1896,151,244,582,62,121,231,582,418,582,167,582,1211,1767,308,97,59,64,167,101,212,2281,972,212,582,224,131,135,582,1202,1021,582,582,118,86,582,582,675,57,2794,56,211,166,93,129,707,582,109,119,232,720,180,81,582,90,1185,582,80,2017,143,624,207,2522,572,245,88,446,191,326,132,66,56,66,655,258,157,582,298,1199,135,582,582,582,582,213,64,257,582,618,582,1051,84,2695,582,64,1688,54,170,253,582,892,337,615,320,190,103,61,1820,2060,2413,196],\"xbins\":{\"end\":582,\"size\":15,\"start\":23},\"type\":\"histogram\"}],                        {\"template\":{\"data\":{\"histogram2dcontour\":[{\"type\":\"histogram2dcontour\",\"colorbar\":{\"outlinewidth\":0,\"ticks\":\"\"},\"colorscale\":[[0.0,\"#0d0887\"],[0.1111111111111111,\"#46039f\"],[0.2222222222222222,\"#7201a8\"],[0.3333333333333333,\"#9c179e\"],[0.4444444444444444,\"#bd3786\"],[0.5555555555555556,\"#d8576b\"],[0.6666666666666666,\"#ed7953\"],[0.7777777777777778,\"#fb9f3a\"],[0.8888888888888888,\"#fdca26\"],[1.0,\"#f0f921\"]]}],\"choropleth\":[{\"type\":\"choropleth\",\"colorbar\":{\"outlinewidth\":0,\"ticks\":\"\"}}],\"histogram2d\":[{\"type\":\"histogram2d\",\"colorbar\":{\"outlinewidth\":0,\"ticks\":\"\"},\"colorscale\":[[0.0,\"#0d0887\"],[0.1111111111111111,\"#46039f\"],[0.2222222222222222,\"#7201a8\"],[0.3333333333333333,\"#9c179e\"],[0.4444444444444444,\"#bd3786\"],[0.5555555555555556,\"#d8576b\"],[0.6666666666666666,\"#ed7953\"],[0.7777777777777778,\"#fb9f3a\"],[0.8888888888888888,\"#fdca26\"],[1.0,\"#f0f921\"]]}],\"heatmap\":[{\"type\":\"heatmap\",\"colorbar\":{\"outlinewidth\":0,\"ticks\":\"\"},\"colorscale\":[[0.0,\"#0d0887\"],[0.1111111111111111,\"#46039f\"],[0.2222222222222222,\"#7201a8\"],[0.3333333333333333,\"#9c179e\"],[0.4444444444444444,\"#bd3786\"],[0.5555555555555556,\"#d8576b\"],[0.6666666666666666,\"#ed7953\"],[0.7777777777777778,\"#fb9f3a\"],[0.8888888888888888,\"#fdca26\"],[1.0,\"#f0f921\"]]}],\"heatmapgl\":[{\"type\":\"heatmapgl\",\"colorbar\":{\"outlinewidth\":0,\"ticks\":\"\"},\"colorscale\":[[0.0,\"#0d0887\"],[0.1111111111111111,\"#46039f\"],[0.2222222222222222,\"#7201a8\"],[0.3333333333333333,\"#9c179e\"],[0.4444444444444444,\"#bd3786\"],[0.5555555555555556,\"#d8576b\"],[0.6666666666666666,\"#ed7953\"],[0.7777777777777778,\"#fb9f3a\"],[0.8888888888888888,\"#fdca26\"],[1.0,\"#f0f921\"]]}],\"contourcarpet\":[{\"type\":\"contourcarpet\",\"colorbar\":{\"outlinewidth\":0,\"ticks\":\"\"}}],\"contour\":[{\"type\":\"contour\",\"colorbar\":{\"outlinewidth\":0,\"ticks\":\"\"},\"colorscale\":[[0.0,\"#0d0887\"],[0.1111111111111111,\"#46039f\"],[0.2222222222222222,\"#7201a8\"],[0.3333333333333333,\"#9c179e\"],[0.4444444444444444,\"#bd3786\"],[0.5555555555555556,\"#d8576b\"],[0.6666666666666666,\"#ed7953\"],[0.7777777777777778,\"#fb9f3a\"],[0.8888888888888888,\"#fdca26\"],[1.0,\"#f0f921\"]]}],\"surface\":[{\"type\":\"surface\",\"colorbar\":{\"outlinewidth\":0,\"ticks\":\"\"},\"colorscale\":[[0.0,\"#0d0887\"],[0.1111111111111111,\"#46039f\"],[0.2222222222222222,\"#7201a8\"],[0.3333333333333333,\"#9c179e\"],[0.4444444444444444,\"#bd3786\"],[0.5555555555555556,\"#d8576b\"],[0.6666666666666666,\"#ed7953\"],[0.7777777777777778,\"#fb9f3a\"],[0.8888888888888888,\"#fdca26\"],[1.0,\"#f0f921\"]]}],\"mesh3d\":[{\"type\":\"mesh3d\",\"colorbar\":{\"outlinewidth\":0,\"ticks\":\"\"}}],\"scatter\":[{\"fillpattern\":{\"fillmode\":\"overlay\",\"size\":10,\"solidity\":0.2},\"type\":\"scatter\"}],\"parcoords\":[{\"type\":\"parcoords\",\"line\":{\"colorbar\":{\"outlinewidth\":0,\"ticks\":\"\"}}}],\"scatterpolargl\":[{\"type\":\"scatterpolargl\",\"marker\":{\"colorbar\":{\"outlinewidth\":0,\"ticks\":\"\"}}}],\"bar\":[{\"error_x\":{\"color\":\"#2a3f5f\"},\"error_y\":{\"color\":\"#2a3f5f\"},\"marker\":{\"line\":{\"color\":\"#E5ECF6\",\"width\":0.5},\"pattern\":{\"fillmode\":\"overlay\",\"size\":10,\"solidity\":0.2}},\"type\":\"bar\"}],\"scattergeo\":[{\"type\":\"scattergeo\",\"marker\":{\"colorbar\":{\"outlinewidth\":0,\"ticks\":\"\"}}}],\"scatterpolar\":[{\"type\":\"scatterpolar\",\"marker\":{\"colorbar\":{\"outlinewidth\":0,\"ticks\":\"\"}}}],\"histogram\":[{\"marker\":{\"pattern\":{\"fillmode\":\"overlay\",\"size\":10,\"solidity\":0.2}},\"type\":\"histogram\"}],\"scattergl\":[{\"type\":\"scattergl\",\"marker\":{\"colorbar\":{\"outlinewidth\":0,\"ticks\":\"\"}}}],\"scatter3d\":[{\"type\":\"scatter3d\",\"line\":{\"colorbar\":{\"outlinewidth\":0,\"ticks\":\"\"}},\"marker\":{\"colorbar\":{\"outlinewidth\":0,\"ticks\":\"\"}}}],\"scattermapbox\":[{\"type\":\"scattermapbox\",\"marker\":{\"colorbar\":{\"outlinewidth\":0,\"ticks\":\"\"}}}],\"scatterternary\":[{\"type\":\"scatterternary\",\"marker\":{\"colorbar\":{\"outlinewidth\":0,\"ticks\":\"\"}}}],\"scattercarpet\":[{\"type\":\"scattercarpet\",\"marker\":{\"colorbar\":{\"outlinewidth\":0,\"ticks\":\"\"}}}],\"carpet\":[{\"aaxis\":{\"endlinecolor\":\"#2a3f5f\",\"gridcolor\":\"white\",\"linecolor\":\"white\",\"minorgridcolor\":\"white\",\"startlinecolor\":\"#2a3f5f\"},\"baxis\":{\"endlinecolor\":\"#2a3f5f\",\"gridcolor\":\"white\",\"linecolor\":\"white\",\"minorgridcolor\":\"white\",\"startlinecolor\":\"#2a3f5f\"},\"type\":\"carpet\"}],\"table\":[{\"cells\":{\"fill\":{\"color\":\"#EBF0F8\"},\"line\":{\"color\":\"white\"}},\"header\":{\"fill\":{\"color\":\"#C8D4E3\"},\"line\":{\"color\":\"white\"}},\"type\":\"table\"}],\"barpolar\":[{\"marker\":{\"line\":{\"color\":\"#E5ECF6\",\"width\":0.5},\"pattern\":{\"fillmode\":\"overlay\",\"size\":10,\"solidity\":0.2}},\"type\":\"barpolar\"}],\"pie\":[{\"automargin\":true,\"type\":\"pie\"}]},\"layout\":{\"autotypenumbers\":\"strict\",\"colorway\":[\"#636efa\",\"#EF553B\",\"#00cc96\",\"#ab63fa\",\"#FFA15A\",\"#19d3f3\",\"#FF6692\",\"#B6E880\",\"#FF97FF\",\"#FECB52\"],\"font\":{\"color\":\"#2a3f5f\"},\"hovermode\":\"closest\",\"hoverlabel\":{\"align\":\"left\"},\"paper_bgcolor\":\"white\",\"plot_bgcolor\":\"#E5ECF6\",\"polar\":{\"bgcolor\":\"#E5ECF6\",\"angularaxis\":{\"gridcolor\":\"white\",\"linecolor\":\"white\",\"ticks\":\"\"},\"radialaxis\":{\"gridcolor\":\"white\",\"linecolor\":\"white\",\"ticks\":\"\"}},\"ternary\":{\"bgcolor\":\"#E5ECF6\",\"aaxis\":{\"gridcolor\":\"white\",\"linecolor\":\"white\",\"ticks\":\"\"},\"baxis\":{\"gridcolor\":\"white\",\"linecolor\":\"white\",\"ticks\":\"\"},\"caxis\":{\"gridcolor\":\"white\",\"linecolor\":\"white\",\"ticks\":\"\"}},\"coloraxis\":{\"colorbar\":{\"outlinewidth\":0,\"ticks\":\"\"}},\"colorscale\":{\"sequential\":[[0.0,\"#0d0887\"],[0.1111111111111111,\"#46039f\"],[0.2222222222222222,\"#7201a8\"],[0.3333333333333333,\"#9c179e\"],[0.4444444444444444,\"#bd3786\"],[0.5555555555555556,\"#d8576b\"],[0.6666666666666666,\"#ed7953\"],[0.7777777777777778,\"#fb9f3a\"],[0.8888888888888888,\"#fdca26\"],[1.0,\"#f0f921\"]],\"sequentialminus\":[[0.0,\"#0d0887\"],[0.1111111111111111,\"#46039f\"],[0.2222222222222222,\"#7201a8\"],[0.3333333333333333,\"#9c179e\"],[0.4444444444444444,\"#bd3786\"],[0.5555555555555556,\"#d8576b\"],[0.6666666666666666,\"#ed7953\"],[0.7777777777777778,\"#fb9f3a\"],[0.8888888888888888,\"#fdca26\"],[1.0,\"#f0f921\"]],\"diverging\":[[0,\"#8e0152\"],[0.1,\"#c51b7d\"],[0.2,\"#de77ae\"],[0.3,\"#f1b6da\"],[0.4,\"#fde0ef\"],[0.5,\"#f7f7f7\"],[0.6,\"#e6f5d0\"],[0.7,\"#b8e186\"],[0.8,\"#7fbc41\"],[0.9,\"#4d9221\"],[1,\"#276419\"]]},\"xaxis\":{\"gridcolor\":\"white\",\"linecolor\":\"white\",\"ticks\":\"\",\"title\":{\"standoff\":15},\"zerolinecolor\":\"white\",\"automargin\":true,\"zerolinewidth\":2},\"yaxis\":{\"gridcolor\":\"white\",\"linecolor\":\"white\",\"ticks\":\"\",\"title\":{\"standoff\":15},\"zerolinecolor\":\"white\",\"automargin\":true,\"zerolinewidth\":2},\"scene\":{\"xaxis\":{\"backgroundcolor\":\"#E5ECF6\",\"gridcolor\":\"white\",\"linecolor\":\"white\",\"showbackground\":true,\"ticks\":\"\",\"zerolinecolor\":\"white\",\"gridwidth\":2},\"yaxis\":{\"backgroundcolor\":\"#E5ECF6\",\"gridcolor\":\"white\",\"linecolor\":\"white\",\"showbackground\":true,\"ticks\":\"\",\"zerolinecolor\":\"white\",\"gridwidth\":2},\"zaxis\":{\"backgroundcolor\":\"#E5ECF6\",\"gridcolor\":\"white\",\"linecolor\":\"white\",\"showbackground\":true,\"ticks\":\"\",\"zerolinecolor\":\"white\",\"gridwidth\":2}},\"shapedefaults\":{\"line\":{\"color\":\"#2a3f5f\"}},\"annotationdefaults\":{\"arrowcolor\":\"#2a3f5f\",\"arrowhead\":0,\"arrowwidth\":1},\"geo\":{\"bgcolor\":\"white\",\"landcolor\":\"#E5ECF6\",\"subunitcolor\":\"white\",\"showland\":true,\"showlakes\":true,\"lakecolor\":\"white\"},\"title\":{\"x\":0.05},\"mapbox\":{\"style\":\"light\"}}},\"title\":{\"text\":\"CREATININE PHOSPHOKINASE DISTRIBUTION\"},\"xaxis\":{\"title\":{\"text\":\"CREATININE PHOSPHOKINASE\"},\"showgrid\":false},\"yaxis\":{\"title\":{\"text\":\"COUNT\"},\"showgrid\":false},\"bargap\":0.05},                        {\"responsive\": true}                    ).then(function(){\n",
       "                            \n",
       "var gd = document.getElementById('bed0209d-114e-473f-b0fc-c23a413a96b4');\n",
       "var x = new MutationObserver(function (mutations, observer) {{\n",
       "        var display = window.getComputedStyle(gd).display;\n",
       "        if (!display || display === 'none') {{\n",
       "            console.log([gd, 'removed!']);\n",
       "            Plotly.purge(gd);\n",
       "            observer.disconnect();\n",
       "        }}\n",
       "}});\n",
       "\n",
       "// Listen for the removal of the full notebook cells\n",
       "var notebookContainer = gd.closest('#notebook-container');\n",
       "if (notebookContainer) {{\n",
       "    x.observe(notebookContainer, {childList: true});\n",
       "}}\n",
       "\n",
       "// Listen for the clearing of the current output cell\n",
       "var outputEl = gd.closest('.output');\n",
       "if (outputEl) {{\n",
       "    x.observe(outputEl, {childList: true});\n",
       "}}\n",
       "\n",
       "                        })                };                });            </script>        </div>"
      ]
     },
     "metadata": {},
     "output_type": "display_data"
    }
   ],
   "source": [
    "# Similarly lets get insights of other features\n",
    "# Distribution of creatinine_phosphokinase\n",
    "\n",
    "import plotly.graph_objects as go\n",
    "\n",
    "fig = go.Figure()\n",
    "fig.add_trace(go.Histogram(\n",
    "    x = df['creatinine_phosphokinase'],\n",
    "    xbins=dict( # bins used for histogram\n",
    "        start=23,\n",
    "        end=582,\n",
    "        size=15\n",
    "    ),\n",
    "    marker_color='#FE6F5E',\n",
    "    opacity=1\n",
    "))\n",
    "\n",
    "fig.update_layout(\n",
    "    title_text='CREATININE PHOSPHOKINASE DISTRIBUTION',\n",
    "    xaxis_title_text='CREATININE PHOSPHOKINASE',\n",
    "    yaxis_title_text='COUNT', \n",
    "    bargap=0.05, # gap between bars of adjacent location coordinates\n",
    "    xaxis =  {'showgrid': False },\n",
    "    yaxis = {'showgrid': False },\n",
    "    template = 'plotly'\n",
    ")\n",
    "\n",
    "fig.show()"
   ]
  },
  {
   "cell_type": "code",
   "execution_count": 32,
   "metadata": {},
   "outputs": [
    {
     "data": {
      "application/vnd.plotly.v1+json": {
       "config": {
        "plotlyServerURL": "https://plot.ly"
       },
       "data": [
        {
         "alignmentgroup": "True",
         "bingroup": "x",
         "hovertemplate": "DEATH_EVENT=1<br>CREATININE PHOSPHOKINASE=%{x}<br>count=%{y}<extra></extra>",
         "legendgroup": "1",
         "marker": {
          "color": "#00cc96",
          "pattern": {
           "shape": ""
          }
         },
         "name": "1",
         "offsetgroup": "1",
         "orientation": "v",
         "showlegend": true,
         "type": "histogram",
         "x": [
          582,
          7861,
          146,
          111,
          160,
          47,
          246,
          315,
          157,
          123,
          81,
          231,
          981,
          168,
          379,
          149,
          582,
          125,
          582,
          128,
          220,
          582,
          148,
          112,
          122,
          60,
          70,
          582,
          23,
          249,
          94,
          582,
          60,
          855,
          235,
          582,
          124,
          571,
          588,
          582,
          1380,
          582,
          553,
          129,
          577,
          91,
          3964,
          69,
          260,
          371,
          789,
          364,
          7702,
          318,
          582,
          68,
          250,
          110,
          161,
          113,
          5882,
          582,
          47,
          76,
          280,
          154,
          328,
          129,
          143,
          582,
          582,
          168,
          805,
          943,
          582,
          233,
          2334,
          2442,
          776,
          66,
          176,
          395,
          99,
          145,
          104,
          582,
          1896,
          582,
          418,
          131,
          582,
          166,
          2017,
          258,
          1199
         ],
         "xaxis": "x",
         "yaxis": "y"
        },
        {
         "alignmentgroup": "True",
         "customdata": [
          [
           75,
           0,
           0,
           20,
           1,
           265000,
           1.9,
           130,
           1,
           0,
           4,
           1
          ],
          [
           55,
           0,
           0,
           38,
           0,
           263358.03,
           1.1,
           136,
           1,
           0,
           6,
           1
          ],
          [
           65,
           0,
           0,
           20,
           0,
           162000,
           1.3,
           129,
           1,
           1,
           7,
           1
          ],
          [
           50,
           1,
           0,
           20,
           0,
           210000,
           1.9,
           137,
           1,
           0,
           7,
           1
          ],
          [
           65,
           1,
           1,
           20,
           0,
           327000,
           2.7,
           116,
           0,
           0,
           8,
           1
          ],
          [
           90,
           1,
           0,
           40,
           1,
           204000,
           2.1,
           132,
           1,
           1,
           8,
           1
          ],
          [
           75,
           1,
           0,
           15,
           0,
           127000,
           1.2,
           137,
           1,
           0,
           10,
           1
          ],
          [
           60,
           1,
           1,
           60,
           0,
           454000,
           1.1,
           131,
           1,
           1,
           10,
           1
          ],
          [
           65,
           0,
           0,
           65,
           0,
           263358.03,
           1.5,
           138,
           0,
           0,
           10,
           1
          ],
          [
           80,
           1,
           0,
           35,
           1,
           388000,
           9.4,
           133,
           1,
           1,
           10,
           1
          ],
          [
           75,
           1,
           0,
           38,
           1,
           368000,
           4,
           131,
           1,
           1,
           10,
           1
          ],
          [
           62,
           0,
           0,
           25,
           1,
           253000,
           0.9,
           140,
           1,
           1,
           10,
           1
          ],
          [
           45,
           1,
           0,
           30,
           0,
           136000,
           1.1,
           137,
           1,
           0,
           11,
           1
          ],
          [
           50,
           1,
           0,
           38,
           1,
           276000,
           1.1,
           137,
           1,
           0,
           11,
           1
          ],
          [
           82,
           1,
           0,
           50,
           0,
           47000,
           1.3,
           136,
           1,
           0,
           13,
           1
          ],
          [
           87,
           1,
           0,
           38,
           0,
           262000,
           0.9,
           140,
           1,
           0,
           14,
           1
          ],
          [
           45,
           0,
           0,
           14,
           0,
           166000,
           0.8,
           127,
           1,
           0,
           14,
           1
          ],
          [
           70,
           1,
           0,
           25,
           1,
           237000,
           1,
           140,
           0,
           0,
           15,
           1
          ],
          [
           48,
           1,
           1,
           55,
           0,
           87000,
           1.9,
           121,
           0,
           0,
           15,
           1
          ],
          [
           65,
           1,
           1,
           30,
           1,
           297000,
           1.6,
           136,
           0,
           0,
           20,
           1
          ],
          [
           68,
           1,
           0,
           35,
           1,
           289000,
           0.9,
           140,
           1,
           1,
           20,
           1
          ],
          [
           75,
           0,
           1,
           30,
           1,
           263358.03,
           1.83,
           134,
           0,
           0,
           23,
           1
          ],
          [
           80,
           0,
           1,
           38,
           0,
           149000,
           1.9,
           144,
           1,
           1,
           23,
           1
          ],
          [
           95,
           1,
           0,
           40,
           1,
           196000,
           1,
           138,
           0,
           0,
           24,
           1
          ],
          [
           70,
           0,
           1,
           45,
           1,
           284000,
           1.3,
           136,
           1,
           1,
           26,
           1
          ],
          [
           58,
           1,
           0,
           38,
           0,
           153000,
           5.8,
           134,
           1,
           0,
           26,
           1
          ],
          [
           82,
           0,
           1,
           30,
           0,
           200000,
           1.2,
           132,
           1,
           1,
           26,
           1
          ],
          [
           94,
           0,
           1,
           38,
           1,
           263358.03,
           1.83,
           134,
           1,
           0,
           27,
           1
          ],
          [
           85,
           0,
           0,
           45,
           0,
           360000,
           3,
           132,
           1,
           0,
           28,
           1
          ],
          [
           50,
           1,
           1,
           35,
           1,
           319000,
           1,
           128,
           0,
           0,
           28,
           1
          ],
          [
           65,
           0,
           1,
           50,
           1,
           188000,
           1,
           140,
           1,
           0,
           29,
           1
          ],
          [
           69,
           0,
           1,
           35,
           0,
           228000,
           3.5,
           134,
           1,
           0,
           30,
           1
          ],
          [
           90,
           1,
           1,
           50,
           0,
           226000,
           1,
           134,
           1,
           0,
           30,
           1
          ],
          [
           82,
           1,
           1,
           50,
           1,
           321000,
           1,
           145,
           0,
           0,
           30,
           1
          ],
          [
           60,
           0,
           1,
           38,
           0,
           329000,
           3,
           142,
           0,
           0,
           30,
           1
          ],
          [
           70,
           0,
           0,
           20,
           1,
           263358.03,
           1.83,
           134,
           1,
           1,
           31,
           1
          ],
          [
           50,
           0,
           1,
           30,
           1,
           153000,
           1.2,
           136,
           0,
           1,
           32,
           1
          ],
          [
           70,
           0,
           1,
           45,
           1,
           185000,
           1.2,
           139,
           1,
           1,
           33,
           1
          ],
          [
           60,
           1,
           1,
           60,
           0,
           194000,
           1.1,
           142,
           0,
           0,
           33,
           1
          ],
          [
           50,
           0,
           1,
           38,
           0,
           310000,
           1.9,
           135,
           1,
           1,
           35,
           1
          ],
          [
           51,
           0,
           0,
           25,
           1,
           271000,
           0.9,
           130,
           1,
           0,
           38,
           1
          ],
          [
           60,
           0,
           1,
           38,
           1,
           451000,
           0.6,
           138,
           1,
           1,
           40,
           1
          ],
          [
           80,
           1,
           0,
           20,
           1,
           140000,
           4.4,
           133,
           1,
           0,
           41,
           1
          ],
          [
           57,
           1,
           0,
           30,
           0,
           395000,
           1,
           140,
           0,
           0,
           42,
           1
          ],
          [
           68,
           1,
           0,
           25,
           1,
           166000,
           1,
           138,
           1,
           0,
           43,
           1
          ],
          [
           53,
           1,
           0,
           20,
           1,
           418000,
           1.4,
           139,
           0,
           0,
           43,
           1
          ],
          [
           60,
           0,
           1,
           62,
           0,
           263358.03,
           6.8,
           146,
           0,
           0,
           43,
           1
          ],
          [
           70,
           1,
           1,
           50,
           1,
           351000,
           1,
           134,
           0,
           0,
           44,
           1
          ],
          [
           60,
           1,
           1,
           38,
           0,
           255000,
           2.2,
           132,
           0,
           1,
           45,
           1
          ],
          [
           95,
           1,
           0,
           30,
           0,
           461000,
           2,
           132,
           1,
           0,
           50,
           1
          ],
          [
           49,
           0,
           0,
           20,
           1,
           319000,
           1.1,
           136,
           1,
           1,
           55,
           1
          ],
          [
           72,
           0,
           1,
           20,
           1,
           254000,
           1.3,
           136,
           1,
           1,
           59,
           1
          ],
          [
           45,
           0,
           1,
           25,
           1,
           390000,
           1,
           139,
           1,
           0,
           60,
           1
          ],
          [
           50,
           0,
           0,
           40,
           1,
           216000,
           2.3,
           131,
           0,
           0,
           60,
           1
          ],
          [
           45,
           0,
           0,
           35,
           0,
           385000,
           1,
           145,
           1,
           0,
           61,
           1
          ],
          [
           60,
           0,
           0,
           20,
           0,
           119000,
           2.9,
           127,
           1,
           1,
           64,
           1
          ],
          [
           42,
           1,
           1,
           15,
           0,
           213000,
           1.3,
           136,
           0,
           0,
           65,
           1
          ],
          [
           72,
           1,
           0,
           25,
           0,
           274000,
           1,
           140,
           1,
           1,
           65,
           1
          ],
          [
           70,
           0,
           0,
           25,
           0,
           244000,
           1.2,
           142,
           0,
           0,
           66,
           1
          ],
          [
           65,
           0,
           1,
           25,
           0,
           497000,
           1.83,
           135,
           1,
           0,
           67,
           1
          ],
          [
           85,
           0,
           0,
           35,
           0,
           243000,
           1,
           132,
           1,
           1,
           72,
           1
          ],
          [
           69,
           0,
           0,
           20,
           0,
           266000,
           1.2,
           134,
           1,
           1,
           73,
           1
          ],
          [
           60,
           1,
           0,
           20,
           0,
           204000,
           0.7,
           139,
           1,
           1,
           73,
           1
          ],
          [
           60,
           1,
           1,
           25,
           0,
           196000,
           2.5,
           132,
           0,
           0,
           77,
           1
          ],
          [
           59,
           1,
           1,
           25,
           1,
           302000,
           1,
           141,
           0,
           0,
           78,
           1
          ],
          [
           60,
           1,
           0,
           25,
           0,
           210000,
           1.7,
           135,
           1,
           0,
           82,
           1
          ],
          [
           72,
           1,
           0,
           30,
           1,
           621000,
           1.7,
           138,
           0,
           1,
           88,
           1
          ],
          [
           85,
           0,
           0,
           60,
           0,
           306000,
           1.2,
           132,
           1,
           1,
           90,
           1
          ],
          [
           70,
           1,
           0,
           60,
           0,
           351000,
           1.3,
           137,
           0,
           0,
           90,
           1
          ],
          [
           86,
           0,
           0,
           38,
           0,
           263358.03,
           1.83,
           134,
           0,
           0,
           95,
           1
          ],
          [
           60,
           0,
           0,
           40,
           0,
           217000,
           3.7,
           134,
           1,
           0,
           96,
           1
          ],
          [
           46,
           0,
           1,
           17,
           1,
           271000,
           2.1,
           124,
           0,
           0,
           100,
           1
          ],
          [
           80,
           0,
           0,
           38,
           0,
           263358.03,
           1.1,
           134,
           1,
           0,
           109,
           1
          ],
          [
           72,
           1,
           0,
           25,
           1,
           338000,
           1.7,
           139,
           1,
           1,
           111,
           1
          ],
          [
           75,
           1,
           0,
           30,
           0,
           225000,
           1.83,
           134,
           1,
           0,
           113,
           1
          ],
          [
           72,
           0,
           0,
           45,
           1,
           235000,
           2.5,
           135,
           0,
           0,
           115,
           1
          ],
          [
           50,
           1,
           1,
           35,
           0,
           75000,
           0.9,
           142,
           0,
           0,
           126,
           1
          ],
          [
           45,
           0,
           1,
           30,
           0,
           334000,
           1.1,
           139,
           1,
           0,
           129,
           1
          ],
          [
           80,
           0,
           1,
           38,
           1,
           192000,
           1.3,
           135,
           0,
           0,
           130,
           1
          ],
          [
           59,
           0,
           1,
           20,
           0,
           70000,
           2.4,
           134,
           1,
           0,
           135,
           1
          ],
          [
           59,
           1,
           1,
           25,
           0,
           221000,
           1,
           136,
           1,
           1,
           150,
           1
          ],
          [
           65,
           0,
           1,
           25,
           0,
           265000,
           1.2,
           136,
           1,
           1,
           154,
           1
          ],
          [
           75,
           0,
           0,
           38,
           1,
           224000,
           2.5,
           134,
           1,
           0,
           162,
           1
          ],
          [
           58,
           1,
           0,
           25,
           0,
           219000,
           1.2,
           137,
           1,
           1,
           170,
           1
          ],
          [
           60.667,
           1,
           1,
           30,
           0,
           389000,
           1.5,
           136,
           1,
           0,
           171,
           1
          ],
          [
           50,
           0,
           0,
           50,
           0,
           153000,
           0.6,
           134,
           0,
           0,
           172,
           1
          ],
          [
           60,
           0,
           1,
           25,
           0,
           365000,
           2.1,
           144,
           0,
           0,
           172,
           1
          ],
          [
           45,
           0,
           0,
           20,
           1,
           126000,
           1.6,
           135,
           1,
           0,
           180,
           1
          ],
          [
           77,
           1,
           0,
           45,
           0,
           223000,
           1.8,
           145,
           1,
           0,
           180,
           1
          ],
          [
           48,
           1,
           1,
           30,
           1,
           244000,
           1.6,
           130,
           0,
           0,
           193,
           1
          ],
          [
           73,
           0,
           0,
           20,
           0,
           263358.03,
           1.83,
           134,
           1,
           0,
           198,
           1
          ],
          [
           60,
           0,
           0,
           30,
           0,
           62000,
           1.7,
           127,
           0,
           0,
           207,
           1
          ],
          [
           55,
           0,
           0,
           25,
           0,
           314000,
           1.1,
           138,
           1,
           0,
           214,
           1
          ],
          [
           65,
           1,
           1,
           25,
           0,
           198000,
           1.4,
           129,
           1,
           0,
           235,
           1
          ],
          [
           55,
           0,
           0,
           20,
           0,
           263358.03,
           1.83,
           134,
           1,
           1,
           241,
           1
          ]
         ],
         "hovertemplate": "DEATH_EVENT=%{customdata[11]}<br>CREATININE PHOSPHOKINASE=%{x}<br>age=%{customdata[0]}<br>anaemia=%{customdata[1]}<br>diabetes=%{customdata[2]}<br>ejection_fraction=%{customdata[3]}<br>high_blood_pressure=%{customdata[4]}<br>platelets=%{customdata[5]}<br>serum_creatinine=%{customdata[6]}<br>serum_sodium=%{customdata[7]}<br>sex=%{customdata[8]}<br>smoking=%{customdata[9]}<br>time=%{customdata[10]}<extra></extra>",
         "legendgroup": "1",
         "marker": {
          "color": "#00cc96"
         },
         "name": "1",
         "offsetgroup": "1",
         "scalegroup": "x",
         "showlegend": false,
         "type": "violin",
         "x": [
          582,
          7861,
          146,
          111,
          160,
          47,
          246,
          315,
          157,
          123,
          81,
          231,
          981,
          168,
          379,
          149,
          582,
          125,
          582,
          128,
          220,
          582,
          148,
          112,
          122,
          60,
          70,
          582,
          23,
          249,
          94,
          582,
          60,
          855,
          235,
          582,
          124,
          571,
          588,
          582,
          1380,
          582,
          553,
          129,
          577,
          91,
          3964,
          69,
          260,
          371,
          789,
          364,
          7702,
          318,
          582,
          68,
          250,
          110,
          161,
          113,
          5882,
          582,
          47,
          76,
          280,
          154,
          328,
          129,
          143,
          582,
          582,
          168,
          805,
          943,
          582,
          233,
          2334,
          2442,
          776,
          66,
          176,
          395,
          99,
          145,
          104,
          582,
          1896,
          582,
          418,
          131,
          582,
          166,
          2017,
          258,
          1199
         ],
         "xaxis": "x2",
         "yaxis": "y2"
        },
        {
         "alignmentgroup": "True",
         "bingroup": "x",
         "hovertemplate": "DEATH_EVENT=0<br>CREATININE PHOSPHOKINASE=%{x}<br>count=%{y}<extra></extra>",
         "legendgroup": "0",
         "marker": {
          "color": "#ab63fa",
          "pattern": {
           "shape": ""
          }
         },
         "name": "0",
         "offsetgroup": "0",
         "orientation": "v",
         "showlegend": true,
         "type": "histogram",
         "x": [
          80,
          52,
          63,
          159,
          2656,
          127,
          75,
          607,
          109,
          148,
          582,
          224,
          92,
          102,
          203,
          336,
          69,
          582,
          55,
          78,
          47,
          68,
          84,
          115,
          66,
          897,
          582,
          144,
          133,
          514,
          59,
          156,
          61,
          305,
          582,
          898,
          5209,
          53,
          748,
          1876,
          936,
          292,
          60,
          369,
          754,
          400,
          96,
          102,
          113,
          737,
          68,
          96,
          582,
          358,
          200,
          248,
          270,
          1808,
          1082,
          719,
          193,
          4540,
          582,
          59,
          646,
          281,
          1548,
          291,
          482,
          84,
          185,
          132,
          1610,
          2261,
          30,
          115,
          1846,
          335,
          231,
          58,
          250,
          910,
          129,
          72,
          130,
          582,
          196,
          582,
          835,
          582,
          3966,
          171,
          115,
          198,
          95,
          1419,
          69,
          122,
          835,
          478,
          151,
          244,
          582,
          62,
          121,
          231,
          582,
          167,
          582,
          1211,
          1767,
          308,
          97,
          59,
          64,
          167,
          101,
          212,
          2281,
          972,
          212,
          582,
          224,
          135,
          582,
          1202,
          1021,
          582,
          118,
          86,
          582,
          582,
          675,
          57,
          2794,
          56,
          211,
          93,
          129,
          707,
          582,
          109,
          119,
          232,
          720,
          180,
          81,
          582,
          90,
          1185,
          582,
          80,
          143,
          624,
          207,
          2522,
          572,
          245,
          88,
          446,
          191,
          326,
          132,
          66,
          56,
          66,
          655,
          157,
          582,
          298,
          135,
          582,
          582,
          582,
          582,
          213,
          64,
          257,
          582,
          618,
          582,
          1051,
          84,
          2695,
          582,
          64,
          1688,
          54,
          170,
          253,
          582,
          892,
          337,
          615,
          320,
          190,
          103,
          61,
          1820,
          2060,
          2413,
          196
         ],
         "xaxis": "x",
         "yaxis": "y"
        },
        {
         "alignmentgroup": "True",
         "customdata": [
          [
           49,
           1,
           0,
           30,
           1,
           427000,
           1,
           138,
           0,
           0,
           12,
           0
          ],
          [
           65,
           1,
           0,
           25,
           1,
           276000,
           1.3,
           137,
           0,
           0,
           16,
           0
          ],
          [
           53,
           0,
           1,
           60,
           0,
           368000,
           0.8,
           135,
           1,
           0,
           22,
           0
          ],
          [
           50,
           1,
           1,
           30,
           0,
           302000,
           1.2,
           138,
           0,
           0,
           29,
           0
          ],
          [
           60,
           0,
           1,
           30,
           0,
           305000,
           2.3,
           137,
           1,
           0,
           30,
           0
          ],
          [
           72,
           0,
           1,
           50,
           1,
           218000,
           1,
           134,
           1,
           0,
           33,
           0
          ],
          [
           70,
           1,
           0,
           35,
           0,
           223000,
           2.7,
           138,
           1,
           1,
           54,
           0
          ],
          [
           60,
           1,
           0,
           40,
           0,
           216000,
           0.6,
           138,
           1,
           1,
           54,
           0
          ],
          [
           55,
           0,
           0,
           35,
           0,
           254000,
           1.1,
           139,
           1,
           1,
           60,
           0
          ],
          [
           41,
           0,
           0,
           40,
           0,
           374000,
           0.8,
           140,
           1,
           1,
           68,
           0
          ],
          [
           58,
           0,
           1,
           35,
           0,
           122000,
           0.9,
           139,
           1,
           1,
           71,
           0
          ],
          [
           65,
           0,
           1,
           50,
           0,
           149000,
           1.3,
           137,
           1,
           1,
           72,
           0
          ],
          [
           70,
           0,
           0,
           60,
           1,
           317000,
           0.8,
           140,
           0,
           1,
           74,
           0
          ],
          [
           42,
           0,
           1,
           40,
           0,
           237000,
           1.2,
           140,
           1,
           0,
           74,
           0
          ],
          [
           75,
           1,
           1,
           38,
           1,
           283000,
           0.6,
           131,
           1,
           1,
           74,
           0
          ],
          [
           55,
           0,
           0,
           45,
           1,
           324000,
           0.9,
           140,
           0,
           0,
           74,
           0
          ],
          [
           70,
           0,
           0,
           40,
           0,
           293000,
           1.7,
           136,
           0,
           0,
           75,
           0
          ],
          [
           67,
           0,
           0,
           50,
           0,
           263358.03,
           1.18,
           137,
           1,
           1,
           76,
           0
          ],
          [
           79,
           1,
           0,
           50,
           1,
           172000,
           1.8,
           133,
           1,
           0,
           78,
           0
          ],
          [
           51,
           0,
           0,
           50,
           0,
           406000,
           0.7,
           140,
           1,
           0,
           79,
           0
          ],
          [
           55,
           0,
           0,
           35,
           1,
           173000,
           1.1,
           137,
           1,
           0,
           79,
           0
          ],
          [
           65,
           1,
           1,
           60,
           1,
           304000,
           0.8,
           140,
           1,
           0,
           79,
           0
          ],
          [
           44,
           0,
           1,
           40,
           1,
           235000,
           0.7,
           139,
           1,
           0,
           79,
           0
          ],
          [
           57,
           1,
           0,
           25,
           1,
           181000,
           1.1,
           144,
           1,
           0,
           79,
           0
          ],
          [
           70,
           0,
           1,
           45,
           0,
           249000,
           0.8,
           136,
           1,
           1,
           80,
           0
          ],
          [
           60,
           0,
           1,
           45,
           0,
           297000,
           1,
           133,
           1,
           0,
           80,
           0
          ],
          [
           42,
           0,
           0,
           60,
           0,
           263358.03,
           1.18,
           137,
           0,
           0,
           82,
           0
          ],
          [
           58,
           0,
           1,
           38,
           1,
           327000,
           0.7,
           142,
           0,
           0,
           83,
           0
          ],
          [
           58,
           1,
           0,
           60,
           1,
           219000,
           1,
           141,
           1,
           0,
           83,
           0
          ],
          [
           63,
           1,
           1,
           25,
           1,
           254000,
           1.3,
           134,
           1,
           0,
           83,
           0
          ],
          [
           70,
           1,
           0,
           60,
           0,
           255000,
           1.1,
           136,
           0,
           0,
           85,
           0
          ],
          [
           60,
           1,
           1,
           25,
           1,
           318000,
           1.2,
           137,
           0,
           0,
           85,
           0
          ],
          [
           63,
           1,
           1,
           40,
           0,
           221000,
           1.1,
           140,
           0,
           0,
           86,
           0
          ],
          [
           65,
           1,
           0,
           25,
           0,
           298000,
           1.1,
           141,
           1,
           0,
           87,
           0
          ],
          [
           75,
           0,
           0,
           45,
           1,
           263358.03,
           1.18,
           137,
           1,
           0,
           87,
           0
          ],
          [
           80,
           0,
           0,
           25,
           0,
           149000,
           1.1,
           144,
           1,
           1,
           87,
           0
          ],
          [
           42,
           0,
           0,
           30,
           0,
           226000,
           1,
           140,
           1,
           1,
           87,
           0
          ],
          [
           60,
           0,
           0,
           50,
           1,
           286000,
           2.3,
           143,
           0,
           0,
           87,
           0
          ],
          [
           55,
           0,
           0,
           45,
           0,
           263000,
           1.3,
           137,
           1,
           0,
           88,
           0
          ],
          [
           45,
           1,
           1,
           35,
           0,
           226000,
           0.9,
           138,
           1,
           0,
           88,
           0
          ],
          [
           63,
           0,
           0,
           38,
           0,
           304000,
           1.1,
           133,
           1,
           1,
           88,
           0
          ],
          [
           45,
           0,
           1,
           35,
           0,
           850000,
           1.3,
           142,
           1,
           1,
           88,
           0
          ],
          [
           55,
           0,
           0,
           35,
           0,
           228000,
           1.2,
           135,
           1,
           1,
           90,
           0
          ],
          [
           50,
           0,
           1,
           25,
           0,
           252000,
           1.6,
           136,
           1,
           0,
           90,
           0
          ],
          [
           60,
           1,
           1,
           40,
           1,
           328000,
           1.2,
           126,
           1,
           0,
           91,
           0
          ],
          [
           58,
           1,
           0,
           40,
           0,
           164000,
           1,
           139,
           0,
           0,
           91,
           0
          ],
          [
           60,
           1,
           1,
           60,
           1,
           271000,
           0.7,
           136,
           0,
           0,
           94,
           0
          ],
          [
           85,
           1,
           0,
           60,
           0,
           507000,
           3.2,
           138,
           0,
           0,
           94,
           0
          ],
          [
           65,
           1,
           1,
           60,
           1,
           203000,
           0.9,
           140,
           0,
           0,
           94,
           0
          ],
          [
           60,
           1,
           0,
           60,
           1,
           210000,
           1.5,
           135,
           1,
           1,
           95,
           0
          ],
          [
           66,
           1,
           1,
           38,
           1,
           162000,
           1,
           136,
           0,
           0,
           95,
           0
          ],
          [
           60,
           0,
           1,
           38,
           0,
           228000,
           0.75,
           140,
           0,
           0,
           95,
           0
          ],
          [
           60,
           1,
           0,
           30,
           1,
           127000,
           0.9,
           145,
           0,
           0,
           95,
           0
          ],
          [
           43,
           1,
           0,
           50,
           0,
           237000,
           1.3,
           135,
           0,
           0,
           97,
           0
          ],
          [
           58,
           1,
           1,
           60,
           0,
           300000,
           0.8,
           137,
           0,
           0,
           104,
           0
          ],
          [
           61,
           0,
           0,
           30,
           1,
           267000,
           0.7,
           136,
           1,
           1,
           104,
           0
          ],
          [
           53,
           1,
           1,
           35,
           0,
           227000,
           3.4,
           145,
           1,
           0,
           105,
           0
          ],
          [
           53,
           1,
           0,
           60,
           1,
           249000,
           0.7,
           138,
           1,
           1,
           106,
           0
          ],
          [
           60,
           1,
           1,
           45,
           0,
           250000,
           6.1,
           131,
           1,
           0,
           107,
           0
          ],
          [
           46,
           0,
           0,
           40,
           1,
           263358.03,
           1.18,
           137,
           0,
           0,
           107,
           0
          ],
          [
           63,
           0,
           0,
           60,
           1,
           295000,
           1.3,
           145,
           1,
           1,
           107,
           0
          ],
          [
           81,
           0,
           0,
           35,
           0,
           231000,
           1.18,
           137,
           1,
           1,
           107,
           0
          ],
          [
           75,
           0,
           0,
           40,
           0,
           263358.03,
           1.18,
           137,
           1,
           0,
           107,
           0
          ],
          [
           65,
           1,
           1,
           60,
           0,
           172000,
           0.9,
           137,
           0,
           0,
           107,
           0
          ],
          [
           68,
           1,
           0,
           25,
           0,
           305000,
           2.1,
           130,
           1,
           0,
           108,
           0
          ],
          [
           62,
           0,
           1,
           35,
           0,
           221000,
           1,
           136,
           0,
           0,
           108,
           0
          ],
          [
           50,
           0,
           0,
           30,
           1,
           211000,
           0.8,
           138,
           1,
           0,
           108,
           0
          ],
          [
           46,
           1,
           0,
           35,
           0,
           348000,
           0.9,
           140,
           0,
           0,
           109,
           0
          ],
          [
           50,
           0,
           1,
           30,
           0,
           329000,
           0.9,
           132,
           0,
           0,
           109,
           0
          ],
          [
           61,
           1,
           0,
           40,
           1,
           229000,
           0.9,
           141,
           0,
           0,
           110,
           0
          ],
          [
           50,
           0,
           0,
           30,
           0,
           266000,
           0.7,
           141,
           1,
           1,
           112,
           0
          ],
          [
           52,
           0,
           0,
           30,
           0,
           218000,
           0.7,
           136,
           1,
           1,
           112,
           0
          ],
          [
           64,
           0,
           0,
           60,
           0,
           242000,
           1,
           137,
           1,
           0,
           113,
           0
          ],
          [
           60,
           0,
           0,
           35,
           1,
           228000,
           0.9,
           136,
           1,
           0,
           115,
           0
          ],
          [
           62,
           0,
           1,
           60,
           1,
           244000,
           0.9,
           139,
           1,
           0,
           117,
           0
          ],
          [
           50,
           0,
           0,
           45,
           1,
           184000,
           0.9,
           134,
           1,
           1,
           118,
           0
          ],
          [
           50,
           0,
           1,
           35,
           0,
           263358.03,
           1.18,
           137,
           1,
           1,
           119,
           0
          ],
          [
           65,
           1,
           0,
           35,
           1,
           235000,
           0.8,
           136,
           0,
           0,
           120,
           0
          ],
          [
           60,
           1,
           1,
           25,
           0,
           194000,
           1.7,
           140,
           1,
           0,
           120,
           0
          ],
          [
           52,
           1,
           0,
           35,
           0,
           277000,
           1.4,
           136,
           0,
           0,
           120,
           0
          ],
          [
           50,
           0,
           0,
           25,
           0,
           262000,
           1,
           136,
           1,
           1,
           120,
           0
          ],
          [
           85,
           1,
           0,
           50,
           0,
           235000,
           1.3,
           134,
           1,
           0,
           121,
           0
          ],
          [
           59,
           1,
           0,
           45,
           1,
           362000,
           1.1,
           139,
           1,
           1,
           121,
           0
          ],
          [
           66,
           1,
           0,
           40,
           1,
           242000,
           1.2,
           134,
           1,
           0,
           121,
           0
          ],
          [
           45,
           1,
           0,
           35,
           0,
           174000,
           0.8,
           139,
           1,
           1,
           121,
           0
          ],
          [
           63,
           1,
           0,
           40,
           0,
           448000,
           0.9,
           137,
           1,
           1,
           123,
           0
          ],
          [
           53,
           0,
           0,
           60,
           0,
           220000,
           0.7,
           133,
           1,
           1,
           134,
           0
          ],
          [
           65,
           0,
           1,
           40,
           0,
           270000,
           1,
           138,
           0,
           0,
           140,
           0
          ],
          [
           70,
           0,
           0,
           35,
           1,
           305000,
           0.8,
           133,
           0,
           0,
           145,
           0
          ],
          [
           51,
           1,
           1,
           35,
           0,
           263358.03,
           1.5,
           136,
           1,
           1,
           145,
           0
          ],
          [
           52,
           0,
           0,
           40,
           0,
           325000,
           0.9,
           140,
           1,
           1,
           146,
           0
          ],
          [
           70,
           1,
           0,
           60,
           1,
           176000,
           1.1,
           145,
           1,
           1,
           146,
           0
          ],
          [
           50,
           1,
           0,
           20,
           0,
           189000,
           0.8,
           139,
           1,
           0,
           146,
           0
          ],
          [
           65,
           0,
           1,
           35,
           1,
           281000,
           0.9,
           137,
           1,
           1,
           146,
           0
          ],
          [
           60,
           1,
           0,
           60,
           0,
           337000,
           1,
           138,
           1,
           1,
           146,
           0
          ],
          [
           69,
           0,
           0,
           40,
           0,
           105000,
           1,
           135,
           1,
           1,
           147,
           0
          ],
          [
           49,
           1,
           0,
           50,
           0,
           132000,
           1,
           140,
           0,
           0,
           147,
           0
          ],
          [
           63,
           1,
           1,
           60,
           0,
           267000,
           1.2,
           145,
           1,
           0,
           147,
           0
          ],
          [
           55,
           0,
           0,
           40,
           0,
           279000,
           0.7,
           140,
           1,
           1,
           147,
           0
          ],
          [
           40,
           0,
           1,
           30,
           0,
           303000,
           0.9,
           136,
           1,
           0,
           148,
           0
          ],
          [
           60.667,
           1,
           1,
           40,
           1,
           201000,
           1,
           136,
           0,
           0,
           172,
           0
          ],
          [
           40,
           0,
           0,
           45,
           1,
           275000,
           0.9,
           140,
           0,
           0,
           174,
           0
          ],
          [
           80,
           0,
           1,
           35,
           0,
           350000,
           2.1,
           134,
           1,
           0,
           174,
           0
          ],
          [
           64,
           1,
           0,
           60,
           0,
           309000,
           1.5,
           135,
           0,
           0,
           174,
           0
          ],
          [
           50,
           1,
           1,
           40,
           0,
           260000,
           0.7,
           130,
           1,
           0,
           175,
           0
          ],
          [
           73,
           1,
           1,
           30,
           0,
           160000,
           1.18,
           142,
           1,
           1,
           180,
           0
          ],
          [
           45,
           0,
           1,
           38,
           1,
           263358.03,
           1.18,
           137,
           0,
           0,
           185,
           0
          ],
          [
           65,
           0,
           0,
           30,
           0,
           259000,
           0.8,
           138,
           0,
           0,
           186,
           0
          ],
          [
           50,
           1,
           1,
           20,
           1,
           279000,
           1,
           134,
           0,
           0,
           186,
           0
          ],
          [
           60,
           0,
           1,
           35,
           0,
           263358.03,
           1.8,
           113,
           1,
           1,
           186,
           0
          ],
          [
           63,
           1,
           0,
           45,
           0,
           73000,
           0.7,
           137,
           1,
           0,
           186,
           0
          ],
          [
           45,
           0,
           1,
           60,
           1,
           377000,
           1,
           136,
           1,
           0,
           186,
           0
          ],
          [
           70,
           0,
           0,
           60,
           1,
           220000,
           0.9,
           138,
           1,
           0,
           186,
           0
          ],
          [
           60,
           0,
           0,
           25,
           1,
           212000,
           3.5,
           136,
           1,
           1,
           187,
           0
          ],
          [
           78,
           1,
           0,
           40,
           0,
           277000,
           0.7,
           137,
           1,
           1,
           187,
           0
          ],
          [
           50,
           1,
           1,
           45,
           0,
           362000,
           1,
           136,
           0,
           0,
           187,
           0
          ],
          [
           40,
           1,
           0,
           40,
           0,
           226000,
           0.8,
           141,
           0,
           0,
           187,
           0
          ],
          [
           85,
           0,
           0,
           38,
           0,
           186000,
           0.9,
           136,
           1,
           0,
           187,
           0
          ],
          [
           60,
           1,
           1,
           40,
           0,
           283000,
           1,
           141,
           0,
           0,
           187,
           0
          ],
          [
           49,
           0,
           1,
           35,
           1,
           268000,
           0.8,
           130,
           0,
           0,
           187,
           0
          ],
          [
           70,
           0,
           1,
           17,
           1,
           389000,
           1,
           136,
           1,
           1,
           188,
           0
          ],
          [
           50,
           0,
           0,
           62,
           1,
           147000,
           0.8,
           140,
           1,
           1,
           192,
           0
          ],
          [
           78,
           0,
           0,
           50,
           0,
           481000,
           1.4,
           138,
           1,
           1,
           192,
           0
          ],
          [
           65,
           1,
           0,
           35,
           1,
           290000,
           0.8,
           134,
           1,
           0,
           194,
           0
          ],
          [
           73,
           0,
           0,
           35,
           1,
           203000,
           1.3,
           134,
           1,
           0,
           195,
           0
          ],
          [
           70,
           0,
           0,
           50,
           1,
           358000,
           0.9,
           141,
           0,
           0,
           196,
           0
          ],
          [
           68,
           1,
           1,
           35,
           0,
           271000,
           1.1,
           134,
           1,
           0,
           197,
           0
          ],
          [
           55,
           0,
           1,
           35,
           1,
           371000,
           0.7,
           140,
           0,
           0,
           197,
           0
          ],
          [
           65,
           0,
           0,
           50,
           0,
           194000,
           1.1,
           145,
           1,
           1,
           200,
           0
          ],
          [
           42,
           1,
           0,
           35,
           0,
           365000,
           1.1,
           139,
           1,
           1,
           201,
           0
          ],
          [
           47,
           0,
           0,
           25,
           0,
           130000,
           0.8,
           134,
           1,
           0,
           201,
           0
          ],
          [
           58,
           0,
           1,
           25,
           0,
           504000,
           1,
           138,
           1,
           0,
           205,
           0
          ],
          [
           75,
           0,
           1,
           60,
           0,
           265000,
           1.4,
           125,
           0,
           0,
           205,
           0
          ],
          [
           58,
           1,
           0,
           25,
           0,
           189000,
           1.3,
           132,
           1,
           1,
           205,
           0
          ],
          [
           55,
           1,
           0,
           35,
           1,
           141000,
           1,
           140,
           1,
           0,
           206,
           0
          ],
          [
           65,
           0,
           0,
           25,
           0,
           237000,
           5,
           130,
           0,
           0,
           207,
           0
          ],
          [
           72,
           0,
           0,
           25,
           0,
           274000,
           1.2,
           134,
           0,
           0,
           207,
           0
          ],
          [
           70,
           0,
           0,
           35,
           0,
           185000,
           1.1,
           134,
           1,
           1,
           208,
           0
          ],
          [
           40,
           1,
           0,
           35,
           0,
           255000,
           0.9,
           137,
           1,
           0,
           209,
           0
          ],
          [
           53,
           1,
           0,
           38,
           0,
           330000,
           1.4,
           137,
           1,
           1,
           209,
           0
          ],
          [
           53,
           1,
           0,
           45,
           0,
           305000,
           1.1,
           137,
           1,
           1,
           209,
           0
          ],
          [
           77,
           1,
           0,
           50,
           1,
           406000,
           1.1,
           137,
           1,
           0,
           209,
           0
          ],
          [
           75,
           0,
           0,
           50,
           1,
           248000,
           1.1,
           148,
           1,
           0,
           209,
           0
          ],
          [
           70,
           0,
           0,
           30,
           0,
           173000,
           1.2,
           132,
           1,
           0,
           210,
           0
          ],
          [
           65,
           1,
           1,
           40,
           0,
           257000,
           1,
           136,
           0,
           0,
           210,
           0
          ],
          [
           55,
           1,
           0,
           45,
           0,
           263358.03,
           1.18,
           137,
           1,
           1,
           211,
           0
          ],
          [
           70,
           0,
           1,
           35,
           1,
           533000,
           1.3,
           139,
           0,
           0,
           212,
           0
          ],
          [
           65,
           0,
           1,
           30,
           0,
           249000,
           1.3,
           136,
           1,
           1,
           212,
           0
          ],
          [
           40,
           0,
           0,
           35,
           0,
           255000,
           1.1,
           136,
           1,
           1,
           212,
           0
          ],
          [
           73,
           1,
           0,
           40,
           1,
           220000,
           0.9,
           141,
           0,
           0,
           213,
           0
          ],
          [
           54,
           0,
           1,
           38,
           0,
           264000,
           1.8,
           134,
           1,
           0,
           213,
           0
          ],
          [
           61,
           1,
           1,
           38,
           0,
           282000,
           1.4,
           137,
           1,
           0,
           213,
           0
          ],
          [
           64,
           0,
           0,
           25,
           0,
           246000,
           2.4,
           135,
           1,
           0,
           214,
           0
          ],
          [
           40,
           0,
           0,
           35,
           0,
           301000,
           1,
           142,
           1,
           1,
           214,
           0
          ],
          [
           53,
           0,
           1,
           40,
           0,
           223000,
           1.2,
           130,
           0,
           0,
           214,
           0
          ],
          [
           50,
           0,
           0,
           30,
           1,
           404000,
           0.5,
           139,
           0,
           0,
           214,
           0
          ],
          [
           55,
           0,
           1,
           35,
           0,
           231000,
           0.8,
           143,
           0,
           0,
           215,
           0
          ],
          [
           50,
           0,
           0,
           45,
           1,
           274000,
           1,
           133,
           1,
           0,
           215,
           0
          ],
          [
           70,
           0,
           1,
           35,
           1,
           236000,
           1.2,
           132,
           0,
           0,
           215,
           0
          ],
          [
           53,
           1,
           0,
           60,
           1,
           263358.03,
           1,
           139,
           1,
           0,
           215,
           0
          ],
          [
           52,
           1,
           1,
           30,
           1,
           334000,
           1,
           142,
           1,
           1,
           216,
           0
          ],
          [
           65,
           0,
           0,
           38,
           0,
           294000,
           1.7,
           139,
           0,
           0,
           220,
           0
          ],
          [
           58,
           0,
           1,
           38,
           1,
           253000,
           1,
           139,
           1,
           0,
           230,
           0
          ],
          [
           45,
           1,
           1,
           25,
           0,
           233000,
           0.8,
           135,
           1,
           0,
           230,
           0
          ],
          [
           53,
           0,
           0,
           50,
           0,
           308000,
           0.7,
           135,
           1,
           1,
           231,
           0
          ],
          [
           55,
           0,
           0,
           40,
           0,
           203000,
           1,
           138,
           1,
           0,
           233,
           0
          ],
          [
           62,
           1,
           0,
           40,
           0,
           283000,
           0.7,
           133,
           0,
           0,
           233,
           0
          ],
          [
           68,
           1,
           1,
           60,
           0,
           208000,
           1,
           140,
           0,
           0,
           237,
           0
          ],
          [
           61,
           0,
           1,
           38,
           0,
           147000,
           1.2,
           141,
           1,
           0,
           237,
           0
          ],
          [
           50,
           1,
           0,
           35,
           0,
           362000,
           0.9,
           140,
           1,
           1,
           240,
           0
          ],
          [
           56,
           1,
           1,
           38,
           0,
           133000,
           1.7,
           140,
           1,
           0,
           244,
           0
          ],
          [
           45,
           0,
           1,
           38,
           0,
           302000,
           0.9,
           140,
           0,
           0,
           244,
           0
          ],
          [
           40,
           0,
           1,
           35,
           0,
           222000,
           1,
           132,
           1,
           0,
           244,
           0
          ],
          [
           44,
           0,
           1,
           30,
           1,
           263358.03,
           1.6,
           130,
           1,
           1,
           244,
           0
          ],
          [
           51,
           0,
           1,
           40,
           0,
           221000,
           0.9,
           134,
           0,
           0,
           244,
           0
          ],
          [
           67,
           0,
           0,
           38,
           0,
           215000,
           1.2,
           133,
           0,
           0,
           245,
           0
          ],
          [
           42,
           0,
           0,
           40,
           0,
           189000,
           0.7,
           140,
           1,
           0,
           245,
           0
          ],
          [
           60,
           1,
           1,
           30,
           0,
           150000,
           1,
           137,
           1,
           1,
           245,
           0
          ],
          [
           45,
           0,
           0,
           38,
           1,
           422000,
           0.8,
           137,
           0,
           0,
           245,
           0
          ],
          [
           70,
           0,
           0,
           35,
           0,
           327000,
           1.1,
           142,
           0,
           0,
           245,
           0
          ],
          [
           70,
           0,
           1,
           38,
           0,
           25100,
           1.1,
           140,
           1,
           0,
           246,
           0
          ],
          [
           50,
           1,
           1,
           30,
           0,
           232000,
           0.7,
           136,
           0,
           0,
           246,
           0
          ],
          [
           55,
           0,
           1,
           38,
           0,
           451000,
           1.3,
           136,
           0,
           0,
           246,
           0
          ],
          [
           70,
           0,
           1,
           40,
           0,
           241000,
           1,
           137,
           1,
           0,
           247,
           0
          ],
          [
           70,
           0,
           0,
           40,
           0,
           51000,
           2.7,
           136,
           1,
           1,
           250,
           0
          ],
          [
           42,
           0,
           0,
           30,
           0,
           215000,
           3.8,
           128,
           1,
           1,
           250,
           0
          ],
          [
           65,
           0,
           0,
           38,
           0,
           263358.03,
           1.1,
           138,
           1,
           1,
           250,
           0
          ],
          [
           50,
           1,
           0,
           40,
           0,
           279000,
           0.8,
           141,
           1,
           0,
           250,
           0
          ],
          [
           55,
           1,
           1,
           40,
           0,
           336000,
           1.2,
           135,
           1,
           0,
           250,
           0
          ],
          [
           60,
           0,
           0,
           35,
           0,
           279000,
           1.7,
           140,
           1,
           0,
           250,
           0
          ],
          [
           45,
           0,
           1,
           55,
           0,
           543000,
           1,
           132,
           0,
           0,
           250,
           0
          ],
          [
           65,
           0,
           1,
           35,
           0,
           263358.03,
           1.1,
           142,
           0,
           0,
           256,
           0
          ],
          [
           90,
           1,
           0,
           38,
           0,
           390000,
           0.9,
           144,
           0,
           0,
           256,
           0
          ],
          [
           45,
           0,
           1,
           55,
           0,
           222000,
           0.8,
           141,
           0,
           0,
           257,
           0
          ],
          [
           60,
           0,
           0,
           35,
           0,
           133000,
           1.4,
           139,
           1,
           0,
           258,
           0
          ],
          [
           52,
           0,
           1,
           38,
           0,
           382000,
           1,
           140,
           1,
           1,
           258,
           0
          ],
          [
           63,
           1,
           1,
           35,
           0,
           179000,
           0.9,
           136,
           1,
           1,
           270,
           0
          ],
          [
           62,
           0,
           1,
           38,
           1,
           155000,
           1.1,
           143,
           1,
           1,
           270,
           0
          ],
          [
           55,
           0,
           0,
           38,
           0,
           270000,
           1.2,
           139,
           0,
           0,
           271,
           0
          ],
          [
           45,
           0,
           1,
           60,
           0,
           742000,
           0.8,
           138,
           0,
           0,
           278,
           0
          ],
          [
           45,
           0,
           0,
           38,
           0,
           140000,
           1.4,
           140,
           1,
           1,
           280,
           0
          ],
          [
           50,
           0,
           0,
           45,
           0,
           395000,
           1.6,
           136,
           1,
           1,
           285,
           0
          ]
         ],
         "hovertemplate": "DEATH_EVENT=%{customdata[11]}<br>CREATININE PHOSPHOKINASE=%{x}<br>age=%{customdata[0]}<br>anaemia=%{customdata[1]}<br>diabetes=%{customdata[2]}<br>ejection_fraction=%{customdata[3]}<br>high_blood_pressure=%{customdata[4]}<br>platelets=%{customdata[5]}<br>serum_creatinine=%{customdata[6]}<br>serum_sodium=%{customdata[7]}<br>sex=%{customdata[8]}<br>smoking=%{customdata[9]}<br>time=%{customdata[10]}<extra></extra>",
         "legendgroup": "0",
         "marker": {
          "color": "#ab63fa"
         },
         "name": "0",
         "offsetgroup": "0",
         "scalegroup": "x",
         "showlegend": false,
         "type": "violin",
         "x": [
          80,
          52,
          63,
          159,
          2656,
          127,
          75,
          607,
          109,
          148,
          582,
          224,
          92,
          102,
          203,
          336,
          69,
          582,
          55,
          78,
          47,
          68,
          84,
          115,
          66,
          897,
          582,
          144,
          133,
          514,
          59,
          156,
          61,
          305,
          582,
          898,
          5209,
          53,
          748,
          1876,
          936,
          292,
          60,
          369,
          754,
          400,
          96,
          102,
          113,
          737,
          68,
          96,
          582,
          358,
          200,
          248,
          270,
          1808,
          1082,
          719,
          193,
          4540,
          582,
          59,
          646,
          281,
          1548,
          291,
          482,
          84,
          185,
          132,
          1610,
          2261,
          30,
          115,
          1846,
          335,
          231,
          58,
          250,
          910,
          129,
          72,
          130,
          582,
          196,
          582,
          835,
          582,
          3966,
          171,
          115,
          198,
          95,
          1419,
          69,
          122,
          835,
          478,
          151,
          244,
          582,
          62,
          121,
          231,
          582,
          167,
          582,
          1211,
          1767,
          308,
          97,
          59,
          64,
          167,
          101,
          212,
          2281,
          972,
          212,
          582,
          224,
          135,
          582,
          1202,
          1021,
          582,
          118,
          86,
          582,
          582,
          675,
          57,
          2794,
          56,
          211,
          93,
          129,
          707,
          582,
          109,
          119,
          232,
          720,
          180,
          81,
          582,
          90,
          1185,
          582,
          80,
          143,
          624,
          207,
          2522,
          572,
          245,
          88,
          446,
          191,
          326,
          132,
          66,
          56,
          66,
          655,
          157,
          582,
          298,
          135,
          582,
          582,
          582,
          582,
          213,
          64,
          257,
          582,
          618,
          582,
          1051,
          84,
          2695,
          582,
          64,
          1688,
          54,
          170,
          253,
          582,
          892,
          337,
          615,
          320,
          190,
          103,
          61,
          1820,
          2060,
          2413,
          196
         ],
         "xaxis": "x2",
         "yaxis": "y2"
        }
       ],
       "layout": {
        "barmode": "relative",
        "legend": {
         "title": {
          "text": "DEATH_EVENT"
         },
         "tracegroupgap": 0
        },
        "template": {
         "data": {
          "bar": [
           {
            "error_x": {
             "color": "#2a3f5f"
            },
            "error_y": {
             "color": "#2a3f5f"
            },
            "marker": {
             "line": {
              "color": "white",
              "width": 0.5
             },
             "pattern": {
              "fillmode": "overlay",
              "size": 10,
              "solidity": 0.2
             }
            },
            "type": "bar"
           }
          ],
          "barpolar": [
           {
            "marker": {
             "line": {
              "color": "white",
              "width": 0.5
             },
             "pattern": {
              "fillmode": "overlay",
              "size": 10,
              "solidity": 0.2
             }
            },
            "type": "barpolar"
           }
          ],
          "carpet": [
           {
            "aaxis": {
             "endlinecolor": "#2a3f5f",
             "gridcolor": "#C8D4E3",
             "linecolor": "#C8D4E3",
             "minorgridcolor": "#C8D4E3",
             "startlinecolor": "#2a3f5f"
            },
            "baxis": {
             "endlinecolor": "#2a3f5f",
             "gridcolor": "#C8D4E3",
             "linecolor": "#C8D4E3",
             "minorgridcolor": "#C8D4E3",
             "startlinecolor": "#2a3f5f"
            },
            "type": "carpet"
           }
          ],
          "choropleth": [
           {
            "colorbar": {
             "outlinewidth": 0,
             "ticks": ""
            },
            "type": "choropleth"
           }
          ],
          "contour": [
           {
            "colorbar": {
             "outlinewidth": 0,
             "ticks": ""
            },
            "colorscale": [
             [
              0,
              "#0d0887"
             ],
             [
              0.1111111111111111,
              "#46039f"
             ],
             [
              0.2222222222222222,
              "#7201a8"
             ],
             [
              0.3333333333333333,
              "#9c179e"
             ],
             [
              0.4444444444444444,
              "#bd3786"
             ],
             [
              0.5555555555555556,
              "#d8576b"
             ],
             [
              0.6666666666666666,
              "#ed7953"
             ],
             [
              0.7777777777777778,
              "#fb9f3a"
             ],
             [
              0.8888888888888888,
              "#fdca26"
             ],
             [
              1,
              "#f0f921"
             ]
            ],
            "type": "contour"
           }
          ],
          "contourcarpet": [
           {
            "colorbar": {
             "outlinewidth": 0,
             "ticks": ""
            },
            "type": "contourcarpet"
           }
          ],
          "heatmap": [
           {
            "colorbar": {
             "outlinewidth": 0,
             "ticks": ""
            },
            "colorscale": [
             [
              0,
              "#0d0887"
             ],
             [
              0.1111111111111111,
              "#46039f"
             ],
             [
              0.2222222222222222,
              "#7201a8"
             ],
             [
              0.3333333333333333,
              "#9c179e"
             ],
             [
              0.4444444444444444,
              "#bd3786"
             ],
             [
              0.5555555555555556,
              "#d8576b"
             ],
             [
              0.6666666666666666,
              "#ed7953"
             ],
             [
              0.7777777777777778,
              "#fb9f3a"
             ],
             [
              0.8888888888888888,
              "#fdca26"
             ],
             [
              1,
              "#f0f921"
             ]
            ],
            "type": "heatmap"
           }
          ],
          "heatmapgl": [
           {
            "colorbar": {
             "outlinewidth": 0,
             "ticks": ""
            },
            "colorscale": [
             [
              0,
              "#0d0887"
             ],
             [
              0.1111111111111111,
              "#46039f"
             ],
             [
              0.2222222222222222,
              "#7201a8"
             ],
             [
              0.3333333333333333,
              "#9c179e"
             ],
             [
              0.4444444444444444,
              "#bd3786"
             ],
             [
              0.5555555555555556,
              "#d8576b"
             ],
             [
              0.6666666666666666,
              "#ed7953"
             ],
             [
              0.7777777777777778,
              "#fb9f3a"
             ],
             [
              0.8888888888888888,
              "#fdca26"
             ],
             [
              1,
              "#f0f921"
             ]
            ],
            "type": "heatmapgl"
           }
          ],
          "histogram": [
           {
            "marker": {
             "pattern": {
              "fillmode": "overlay",
              "size": 10,
              "solidity": 0.2
             }
            },
            "type": "histogram"
           }
          ],
          "histogram2d": [
           {
            "colorbar": {
             "outlinewidth": 0,
             "ticks": ""
            },
            "colorscale": [
             [
              0,
              "#0d0887"
             ],
             [
              0.1111111111111111,
              "#46039f"
             ],
             [
              0.2222222222222222,
              "#7201a8"
             ],
             [
              0.3333333333333333,
              "#9c179e"
             ],
             [
              0.4444444444444444,
              "#bd3786"
             ],
             [
              0.5555555555555556,
              "#d8576b"
             ],
             [
              0.6666666666666666,
              "#ed7953"
             ],
             [
              0.7777777777777778,
              "#fb9f3a"
             ],
             [
              0.8888888888888888,
              "#fdca26"
             ],
             [
              1,
              "#f0f921"
             ]
            ],
            "type": "histogram2d"
           }
          ],
          "histogram2dcontour": [
           {
            "colorbar": {
             "outlinewidth": 0,
             "ticks": ""
            },
            "colorscale": [
             [
              0,
              "#0d0887"
             ],
             [
              0.1111111111111111,
              "#46039f"
             ],
             [
              0.2222222222222222,
              "#7201a8"
             ],
             [
              0.3333333333333333,
              "#9c179e"
             ],
             [
              0.4444444444444444,
              "#bd3786"
             ],
             [
              0.5555555555555556,
              "#d8576b"
             ],
             [
              0.6666666666666666,
              "#ed7953"
             ],
             [
              0.7777777777777778,
              "#fb9f3a"
             ],
             [
              0.8888888888888888,
              "#fdca26"
             ],
             [
              1,
              "#f0f921"
             ]
            ],
            "type": "histogram2dcontour"
           }
          ],
          "mesh3d": [
           {
            "colorbar": {
             "outlinewidth": 0,
             "ticks": ""
            },
            "type": "mesh3d"
           }
          ],
          "parcoords": [
           {
            "line": {
             "colorbar": {
              "outlinewidth": 0,
              "ticks": ""
             }
            },
            "type": "parcoords"
           }
          ],
          "pie": [
           {
            "automargin": true,
            "type": "pie"
           }
          ],
          "scatter": [
           {
            "fillpattern": {
             "fillmode": "overlay",
             "size": 10,
             "solidity": 0.2
            },
            "type": "scatter"
           }
          ],
          "scatter3d": [
           {
            "line": {
             "colorbar": {
              "outlinewidth": 0,
              "ticks": ""
             }
            },
            "marker": {
             "colorbar": {
              "outlinewidth": 0,
              "ticks": ""
             }
            },
            "type": "scatter3d"
           }
          ],
          "scattercarpet": [
           {
            "marker": {
             "colorbar": {
              "outlinewidth": 0,
              "ticks": ""
             }
            },
            "type": "scattercarpet"
           }
          ],
          "scattergeo": [
           {
            "marker": {
             "colorbar": {
              "outlinewidth": 0,
              "ticks": ""
             }
            },
            "type": "scattergeo"
           }
          ],
          "scattergl": [
           {
            "marker": {
             "colorbar": {
              "outlinewidth": 0,
              "ticks": ""
             }
            },
            "type": "scattergl"
           }
          ],
          "scattermapbox": [
           {
            "marker": {
             "colorbar": {
              "outlinewidth": 0,
              "ticks": ""
             }
            },
            "type": "scattermapbox"
           }
          ],
          "scatterpolar": [
           {
            "marker": {
             "colorbar": {
              "outlinewidth": 0,
              "ticks": ""
             }
            },
            "type": "scatterpolar"
           }
          ],
          "scatterpolargl": [
           {
            "marker": {
             "colorbar": {
              "outlinewidth": 0,
              "ticks": ""
             }
            },
            "type": "scatterpolargl"
           }
          ],
          "scatterternary": [
           {
            "marker": {
             "colorbar": {
              "outlinewidth": 0,
              "ticks": ""
             }
            },
            "type": "scatterternary"
           }
          ],
          "surface": [
           {
            "colorbar": {
             "outlinewidth": 0,
             "ticks": ""
            },
            "colorscale": [
             [
              0,
              "#0d0887"
             ],
             [
              0.1111111111111111,
              "#46039f"
             ],
             [
              0.2222222222222222,
              "#7201a8"
             ],
             [
              0.3333333333333333,
              "#9c179e"
             ],
             [
              0.4444444444444444,
              "#bd3786"
             ],
             [
              0.5555555555555556,
              "#d8576b"
             ],
             [
              0.6666666666666666,
              "#ed7953"
             ],
             [
              0.7777777777777778,
              "#fb9f3a"
             ],
             [
              0.8888888888888888,
              "#fdca26"
             ],
             [
              1,
              "#f0f921"
             ]
            ],
            "type": "surface"
           }
          ],
          "table": [
           {
            "cells": {
             "fill": {
              "color": "#EBF0F8"
             },
             "line": {
              "color": "white"
             }
            },
            "header": {
             "fill": {
              "color": "#C8D4E3"
             },
             "line": {
              "color": "white"
             }
            },
            "type": "table"
           }
          ]
         },
         "layout": {
          "annotationdefaults": {
           "arrowcolor": "#2a3f5f",
           "arrowhead": 0,
           "arrowwidth": 1
          },
          "autotypenumbers": "strict",
          "coloraxis": {
           "colorbar": {
            "outlinewidth": 0,
            "ticks": ""
           }
          },
          "colorscale": {
           "diverging": [
            [
             0,
             "#8e0152"
            ],
            [
             0.1,
             "#c51b7d"
            ],
            [
             0.2,
             "#de77ae"
            ],
            [
             0.3,
             "#f1b6da"
            ],
            [
             0.4,
             "#fde0ef"
            ],
            [
             0.5,
             "#f7f7f7"
            ],
            [
             0.6,
             "#e6f5d0"
            ],
            [
             0.7,
             "#b8e186"
            ],
            [
             0.8,
             "#7fbc41"
            ],
            [
             0.9,
             "#4d9221"
            ],
            [
             1,
             "#276419"
            ]
           ],
           "sequential": [
            [
             0,
             "#0d0887"
            ],
            [
             0.1111111111111111,
             "#46039f"
            ],
            [
             0.2222222222222222,
             "#7201a8"
            ],
            [
             0.3333333333333333,
             "#9c179e"
            ],
            [
             0.4444444444444444,
             "#bd3786"
            ],
            [
             0.5555555555555556,
             "#d8576b"
            ],
            [
             0.6666666666666666,
             "#ed7953"
            ],
            [
             0.7777777777777778,
             "#fb9f3a"
            ],
            [
             0.8888888888888888,
             "#fdca26"
            ],
            [
             1,
             "#f0f921"
            ]
           ],
           "sequentialminus": [
            [
             0,
             "#0d0887"
            ],
            [
             0.1111111111111111,
             "#46039f"
            ],
            [
             0.2222222222222222,
             "#7201a8"
            ],
            [
             0.3333333333333333,
             "#9c179e"
            ],
            [
             0.4444444444444444,
             "#bd3786"
            ],
            [
             0.5555555555555556,
             "#d8576b"
            ],
            [
             0.6666666666666666,
             "#ed7953"
            ],
            [
             0.7777777777777778,
             "#fb9f3a"
            ],
            [
             0.8888888888888888,
             "#fdca26"
            ],
            [
             1,
             "#f0f921"
            ]
           ]
          },
          "colorway": [
           "#636efa",
           "#EF553B",
           "#00cc96",
           "#ab63fa",
           "#FFA15A",
           "#19d3f3",
           "#FF6692",
           "#B6E880",
           "#FF97FF",
           "#FECB52"
          ],
          "font": {
           "color": "#2a3f5f"
          },
          "geo": {
           "bgcolor": "white",
           "lakecolor": "white",
           "landcolor": "white",
           "showlakes": true,
           "showland": true,
           "subunitcolor": "#C8D4E3"
          },
          "hoverlabel": {
           "align": "left"
          },
          "hovermode": "closest",
          "mapbox": {
           "style": "light"
          },
          "paper_bgcolor": "white",
          "plot_bgcolor": "white",
          "polar": {
           "angularaxis": {
            "gridcolor": "#EBF0F8",
            "linecolor": "#EBF0F8",
            "ticks": ""
           },
           "bgcolor": "white",
           "radialaxis": {
            "gridcolor": "#EBF0F8",
            "linecolor": "#EBF0F8",
            "ticks": ""
           }
          },
          "scene": {
           "xaxis": {
            "backgroundcolor": "white",
            "gridcolor": "#DFE8F3",
            "gridwidth": 2,
            "linecolor": "#EBF0F8",
            "showbackground": true,
            "ticks": "",
            "zerolinecolor": "#EBF0F8"
           },
           "yaxis": {
            "backgroundcolor": "white",
            "gridcolor": "#DFE8F3",
            "gridwidth": 2,
            "linecolor": "#EBF0F8",
            "showbackground": true,
            "ticks": "",
            "zerolinecolor": "#EBF0F8"
           },
           "zaxis": {
            "backgroundcolor": "white",
            "gridcolor": "#DFE8F3",
            "gridwidth": 2,
            "linecolor": "#EBF0F8",
            "showbackground": true,
            "ticks": "",
            "zerolinecolor": "#EBF0F8"
           }
          },
          "shapedefaults": {
           "line": {
            "color": "#2a3f5f"
           }
          },
          "ternary": {
           "aaxis": {
            "gridcolor": "#DFE8F3",
            "linecolor": "#A2B1C6",
            "ticks": ""
           },
           "baxis": {
            "gridcolor": "#DFE8F3",
            "linecolor": "#A2B1C6",
            "ticks": ""
           },
           "bgcolor": "white",
           "caxis": {
            "gridcolor": "#DFE8F3",
            "linecolor": "#A2B1C6",
            "ticks": ""
           }
          },
          "title": {
           "x": 0.05
          },
          "xaxis": {
           "automargin": true,
           "gridcolor": "#EBF0F8",
           "linecolor": "#EBF0F8",
           "ticks": "",
           "title": {
            "standoff": 15
           },
           "zerolinecolor": "#EBF0F8",
           "zerolinewidth": 2
          },
          "yaxis": {
           "automargin": true,
           "gridcolor": "#EBF0F8",
           "linecolor": "#EBF0F8",
           "ticks": "",
           "title": {
            "standoff": 15
           },
           "zerolinecolor": "#EBF0F8",
           "zerolinewidth": 2
          }
         }
        },
        "title": {
         "text": "Distribution of CREATININE PHOSPHOKINASE Vs DEATH_EVENT"
        },
        "xaxis": {
         "anchor": "y",
         "domain": [
          0,
          1
         ],
         "title": {
          "text": "CREATININE PHOSPHOKINASE"
         }
        },
        "xaxis2": {
         "anchor": "y2",
         "domain": [
          0,
          1
         ],
         "matches": "x",
         "showgrid": true,
         "showticklabels": false
        },
        "yaxis": {
         "anchor": "x",
         "domain": [
          0,
          0.7326
         ],
         "title": {
          "text": "count"
         }
        },
        "yaxis2": {
         "anchor": "x2",
         "domain": [
          0.7426,
          1
         ],
         "matches": "y2",
         "showgrid": false,
         "showline": false,
         "showticklabels": false,
         "ticks": ""
        }
       }
      },
      "text/html": [
       "<div>                            <div id=\"a1cc0e58-f790-43f0-b260-edaddbf612fd\" class=\"plotly-graph-div\" style=\"height:525px; width:100%;\"></div>            <script type=\"text/javascript\">                require([\"plotly\"], function(Plotly) {                    window.PLOTLYENV=window.PLOTLYENV || {};                                    if (document.getElementById(\"a1cc0e58-f790-43f0-b260-edaddbf612fd\")) {                    Plotly.newPlot(                        \"a1cc0e58-f790-43f0-b260-edaddbf612fd\",                        [{\"alignmentgroup\":\"True\",\"bingroup\":\"x\",\"hovertemplate\":\"DEATH_EVENT=1<br>CREATININE PHOSPHOKINASE=%{x}<br>count=%{y}<extra></extra>\",\"legendgroup\":\"1\",\"marker\":{\"color\":\"#00cc96\",\"pattern\":{\"shape\":\"\"}},\"name\":\"1\",\"offsetgroup\":\"1\",\"orientation\":\"v\",\"showlegend\":true,\"x\":[582,7861,146,111,160,47,246,315,157,123,81,231,981,168,379,149,582,125,582,128,220,582,148,112,122,60,70,582,23,249,94,582,60,855,235,582,124,571,588,582,1380,582,553,129,577,91,3964,69,260,371,789,364,7702,318,582,68,250,110,161,113,5882,582,47,76,280,154,328,129,143,582,582,168,805,943,582,233,2334,2442,776,66,176,395,99,145,104,582,1896,582,418,131,582,166,2017,258,1199],\"xaxis\":\"x\",\"yaxis\":\"y\",\"type\":\"histogram\"},{\"alignmentgroup\":\"True\",\"customdata\":[[75.0,0.0,0.0,20.0,1.0,265000.0,1.9,130.0,1.0,0.0,4.0,1.0],[55.0,0.0,0.0,38.0,0.0,263358.03,1.1,136.0,1.0,0.0,6.0,1.0],[65.0,0.0,0.0,20.0,0.0,162000.0,1.3,129.0,1.0,1.0,7.0,1.0],[50.0,1.0,0.0,20.0,0.0,210000.0,1.9,137.0,1.0,0.0,7.0,1.0],[65.0,1.0,1.0,20.0,0.0,327000.0,2.7,116.0,0.0,0.0,8.0,1.0],[90.0,1.0,0.0,40.0,1.0,204000.0,2.1,132.0,1.0,1.0,8.0,1.0],[75.0,1.0,0.0,15.0,0.0,127000.0,1.2,137.0,1.0,0.0,10.0,1.0],[60.0,1.0,1.0,60.0,0.0,454000.0,1.1,131.0,1.0,1.0,10.0,1.0],[65.0,0.0,0.0,65.0,0.0,263358.03,1.5,138.0,0.0,0.0,10.0,1.0],[80.0,1.0,0.0,35.0,1.0,388000.0,9.4,133.0,1.0,1.0,10.0,1.0],[75.0,1.0,0.0,38.0,1.0,368000.0,4.0,131.0,1.0,1.0,10.0,1.0],[62.0,0.0,0.0,25.0,1.0,253000.0,0.9,140.0,1.0,1.0,10.0,1.0],[45.0,1.0,0.0,30.0,0.0,136000.0,1.1,137.0,1.0,0.0,11.0,1.0],[50.0,1.0,0.0,38.0,1.0,276000.0,1.1,137.0,1.0,0.0,11.0,1.0],[82.0,1.0,0.0,50.0,0.0,47000.0,1.3,136.0,1.0,0.0,13.0,1.0],[87.0,1.0,0.0,38.0,0.0,262000.0,0.9,140.0,1.0,0.0,14.0,1.0],[45.0,0.0,0.0,14.0,0.0,166000.0,0.8,127.0,1.0,0.0,14.0,1.0],[70.0,1.0,0.0,25.0,1.0,237000.0,1.0,140.0,0.0,0.0,15.0,1.0],[48.0,1.0,1.0,55.0,0.0,87000.0,1.9,121.0,0.0,0.0,15.0,1.0],[65.0,1.0,1.0,30.0,1.0,297000.0,1.6,136.0,0.0,0.0,20.0,1.0],[68.0,1.0,0.0,35.0,1.0,289000.0,0.9,140.0,1.0,1.0,20.0,1.0],[75.0,0.0,1.0,30.0,1.0,263358.03,1.83,134.0,0.0,0.0,23.0,1.0],[80.0,0.0,1.0,38.0,0.0,149000.0,1.9,144.0,1.0,1.0,23.0,1.0],[95.0,1.0,0.0,40.0,1.0,196000.0,1.0,138.0,0.0,0.0,24.0,1.0],[70.0,0.0,1.0,45.0,1.0,284000.0,1.3,136.0,1.0,1.0,26.0,1.0],[58.0,1.0,0.0,38.0,0.0,153000.0,5.8,134.0,1.0,0.0,26.0,1.0],[82.0,0.0,1.0,30.0,0.0,200000.0,1.2,132.0,1.0,1.0,26.0,1.0],[94.0,0.0,1.0,38.0,1.0,263358.03,1.83,134.0,1.0,0.0,27.0,1.0],[85.0,0.0,0.0,45.0,0.0,360000.0,3.0,132.0,1.0,0.0,28.0,1.0],[50.0,1.0,1.0,35.0,1.0,319000.0,1.0,128.0,0.0,0.0,28.0,1.0],[65.0,0.0,1.0,50.0,1.0,188000.0,1.0,140.0,1.0,0.0,29.0,1.0],[69.0,0.0,1.0,35.0,0.0,228000.0,3.5,134.0,1.0,0.0,30.0,1.0],[90.0,1.0,1.0,50.0,0.0,226000.0,1.0,134.0,1.0,0.0,30.0,1.0],[82.0,1.0,1.0,50.0,1.0,321000.0,1.0,145.0,0.0,0.0,30.0,1.0],[60.0,0.0,1.0,38.0,0.0,329000.0,3.0,142.0,0.0,0.0,30.0,1.0],[70.0,0.0,0.0,20.0,1.0,263358.03,1.83,134.0,1.0,1.0,31.0,1.0],[50.0,0.0,1.0,30.0,1.0,153000.0,1.2,136.0,0.0,1.0,32.0,1.0],[70.0,0.0,1.0,45.0,1.0,185000.0,1.2,139.0,1.0,1.0,33.0,1.0],[60.0,1.0,1.0,60.0,0.0,194000.0,1.1,142.0,0.0,0.0,33.0,1.0],[50.0,0.0,1.0,38.0,0.0,310000.0,1.9,135.0,1.0,1.0,35.0,1.0],[51.0,0.0,0.0,25.0,1.0,271000.0,0.9,130.0,1.0,0.0,38.0,1.0],[60.0,0.0,1.0,38.0,1.0,451000.0,0.6,138.0,1.0,1.0,40.0,1.0],[80.0,1.0,0.0,20.0,1.0,140000.0,4.4,133.0,1.0,0.0,41.0,1.0],[57.0,1.0,0.0,30.0,0.0,395000.0,1.0,140.0,0.0,0.0,42.0,1.0],[68.0,1.0,0.0,25.0,1.0,166000.0,1.0,138.0,1.0,0.0,43.0,1.0],[53.0,1.0,0.0,20.0,1.0,418000.0,1.4,139.0,0.0,0.0,43.0,1.0],[60.0,0.0,1.0,62.0,0.0,263358.03,6.8,146.0,0.0,0.0,43.0,1.0],[70.0,1.0,1.0,50.0,1.0,351000.0,1.0,134.0,0.0,0.0,44.0,1.0],[60.0,1.0,1.0,38.0,0.0,255000.0,2.2,132.0,0.0,1.0,45.0,1.0],[95.0,1.0,0.0,30.0,0.0,461000.0,2.0,132.0,1.0,0.0,50.0,1.0],[49.0,0.0,0.0,20.0,1.0,319000.0,1.1,136.0,1.0,1.0,55.0,1.0],[72.0,0.0,1.0,20.0,1.0,254000.0,1.3,136.0,1.0,1.0,59.0,1.0],[45.0,0.0,1.0,25.0,1.0,390000.0,1.0,139.0,1.0,0.0,60.0,1.0],[50.0,0.0,0.0,40.0,1.0,216000.0,2.3,131.0,0.0,0.0,60.0,1.0],[45.0,0.0,0.0,35.0,0.0,385000.0,1.0,145.0,1.0,0.0,61.0,1.0],[60.0,0.0,0.0,20.0,0.0,119000.0,2.9,127.0,1.0,1.0,64.0,1.0],[42.0,1.0,1.0,15.0,0.0,213000.0,1.3,136.0,0.0,0.0,65.0,1.0],[72.0,1.0,0.0,25.0,0.0,274000.0,1.0,140.0,1.0,1.0,65.0,1.0],[70.0,0.0,0.0,25.0,0.0,244000.0,1.2,142.0,0.0,0.0,66.0,1.0],[65.0,0.0,1.0,25.0,0.0,497000.0,1.83,135.0,1.0,0.0,67.0,1.0],[85.0,0.0,0.0,35.0,0.0,243000.0,1.0,132.0,1.0,1.0,72.0,1.0],[69.0,0.0,0.0,20.0,0.0,266000.0,1.2,134.0,1.0,1.0,73.0,1.0],[60.0,1.0,0.0,20.0,0.0,204000.0,0.7,139.0,1.0,1.0,73.0,1.0],[60.0,1.0,1.0,25.0,0.0,196000.0,2.5,132.0,0.0,0.0,77.0,1.0],[59.0,1.0,1.0,25.0,1.0,302000.0,1.0,141.0,0.0,0.0,78.0,1.0],[60.0,1.0,0.0,25.0,0.0,210000.0,1.7,135.0,1.0,0.0,82.0,1.0],[72.0,1.0,0.0,30.0,1.0,621000.0,1.7,138.0,0.0,1.0,88.0,1.0],[85.0,0.0,0.0,60.0,0.0,306000.0,1.2,132.0,1.0,1.0,90.0,1.0],[70.0,1.0,0.0,60.0,0.0,351000.0,1.3,137.0,0.0,0.0,90.0,1.0],[86.0,0.0,0.0,38.0,0.0,263358.03,1.83,134.0,0.0,0.0,95.0,1.0],[60.0,0.0,0.0,40.0,0.0,217000.0,3.7,134.0,1.0,0.0,96.0,1.0],[46.0,0.0,1.0,17.0,1.0,271000.0,2.1,124.0,0.0,0.0,100.0,1.0],[80.0,0.0,0.0,38.0,0.0,263358.03,1.1,134.0,1.0,0.0,109.0,1.0],[72.0,1.0,0.0,25.0,1.0,338000.0,1.7,139.0,1.0,1.0,111.0,1.0],[75.0,1.0,0.0,30.0,0.0,225000.0,1.83,134.0,1.0,0.0,113.0,1.0],[72.0,0.0,0.0,45.0,1.0,235000.0,2.5,135.0,0.0,0.0,115.0,1.0],[50.0,1.0,1.0,35.0,0.0,75000.0,0.9,142.0,0.0,0.0,126.0,1.0],[45.0,0.0,1.0,30.0,0.0,334000.0,1.1,139.0,1.0,0.0,129.0,1.0],[80.0,0.0,1.0,38.0,1.0,192000.0,1.3,135.0,0.0,0.0,130.0,1.0],[59.0,0.0,1.0,20.0,0.0,70000.0,2.4,134.0,1.0,0.0,135.0,1.0],[59.0,1.0,1.0,25.0,0.0,221000.0,1.0,136.0,1.0,1.0,150.0,1.0],[65.0,0.0,1.0,25.0,0.0,265000.0,1.2,136.0,1.0,1.0,154.0,1.0],[75.0,0.0,0.0,38.0,1.0,224000.0,2.5,134.0,1.0,0.0,162.0,1.0],[58.0,1.0,0.0,25.0,0.0,219000.0,1.2,137.0,1.0,1.0,170.0,1.0],[60.667,1.0,1.0,30.0,0.0,389000.0,1.5,136.0,1.0,0.0,171.0,1.0],[50.0,0.0,0.0,50.0,0.0,153000.0,0.6,134.0,0.0,0.0,172.0,1.0],[60.0,0.0,1.0,25.0,0.0,365000.0,2.1,144.0,0.0,0.0,172.0,1.0],[45.0,0.0,0.0,20.0,1.0,126000.0,1.6,135.0,1.0,0.0,180.0,1.0],[77.0,1.0,0.0,45.0,0.0,223000.0,1.8,145.0,1.0,0.0,180.0,1.0],[48.0,1.0,1.0,30.0,1.0,244000.0,1.6,130.0,0.0,0.0,193.0,1.0],[73.0,0.0,0.0,20.0,0.0,263358.03,1.83,134.0,1.0,0.0,198.0,1.0],[60.0,0.0,0.0,30.0,0.0,62000.0,1.7,127.0,0.0,0.0,207.0,1.0],[55.0,0.0,0.0,25.0,0.0,314000.0,1.1,138.0,1.0,0.0,214.0,1.0],[65.0,1.0,1.0,25.0,0.0,198000.0,1.4,129.0,1.0,0.0,235.0,1.0],[55.0,0.0,0.0,20.0,0.0,263358.03,1.83,134.0,1.0,1.0,241.0,1.0]],\"hovertemplate\":\"DEATH_EVENT=%{customdata[11]}<br>CREATININE PHOSPHOKINASE=%{x}<br>age=%{customdata[0]}<br>anaemia=%{customdata[1]}<br>diabetes=%{customdata[2]}<br>ejection_fraction=%{customdata[3]}<br>high_blood_pressure=%{customdata[4]}<br>platelets=%{customdata[5]}<br>serum_creatinine=%{customdata[6]}<br>serum_sodium=%{customdata[7]}<br>sex=%{customdata[8]}<br>smoking=%{customdata[9]}<br>time=%{customdata[10]}<extra></extra>\",\"legendgroup\":\"1\",\"marker\":{\"color\":\"#00cc96\"},\"name\":\"1\",\"offsetgroup\":\"1\",\"scalegroup\":\"x\",\"showlegend\":false,\"x\":[582,7861,146,111,160,47,246,315,157,123,81,231,981,168,379,149,582,125,582,128,220,582,148,112,122,60,70,582,23,249,94,582,60,855,235,582,124,571,588,582,1380,582,553,129,577,91,3964,69,260,371,789,364,7702,318,582,68,250,110,161,113,5882,582,47,76,280,154,328,129,143,582,582,168,805,943,582,233,2334,2442,776,66,176,395,99,145,104,582,1896,582,418,131,582,166,2017,258,1199],\"xaxis\":\"x2\",\"yaxis\":\"y2\",\"type\":\"violin\"},{\"alignmentgroup\":\"True\",\"bingroup\":\"x\",\"hovertemplate\":\"DEATH_EVENT=0<br>CREATININE PHOSPHOKINASE=%{x}<br>count=%{y}<extra></extra>\",\"legendgroup\":\"0\",\"marker\":{\"color\":\"#ab63fa\",\"pattern\":{\"shape\":\"\"}},\"name\":\"0\",\"offsetgroup\":\"0\",\"orientation\":\"v\",\"showlegend\":true,\"x\":[80,52,63,159,2656,127,75,607,109,148,582,224,92,102,203,336,69,582,55,78,47,68,84,115,66,897,582,144,133,514,59,156,61,305,582,898,5209,53,748,1876,936,292,60,369,754,400,96,102,113,737,68,96,582,358,200,248,270,1808,1082,719,193,4540,582,59,646,281,1548,291,482,84,185,132,1610,2261,30,115,1846,335,231,58,250,910,129,72,130,582,196,582,835,582,3966,171,115,198,95,1419,69,122,835,478,151,244,582,62,121,231,582,167,582,1211,1767,308,97,59,64,167,101,212,2281,972,212,582,224,135,582,1202,1021,582,118,86,582,582,675,57,2794,56,211,93,129,707,582,109,119,232,720,180,81,582,90,1185,582,80,143,624,207,2522,572,245,88,446,191,326,132,66,56,66,655,157,582,298,135,582,582,582,582,213,64,257,582,618,582,1051,84,2695,582,64,1688,54,170,253,582,892,337,615,320,190,103,61,1820,2060,2413,196],\"xaxis\":\"x\",\"yaxis\":\"y\",\"type\":\"histogram\"},{\"alignmentgroup\":\"True\",\"customdata\":[[49.0,1.0,0.0,30.0,1.0,427000.0,1.0,138.0,0.0,0.0,12.0,0.0],[65.0,1.0,0.0,25.0,1.0,276000.0,1.3,137.0,0.0,0.0,16.0,0.0],[53.0,0.0,1.0,60.0,0.0,368000.0,0.8,135.0,1.0,0.0,22.0,0.0],[50.0,1.0,1.0,30.0,0.0,302000.0,1.2,138.0,0.0,0.0,29.0,0.0],[60.0,0.0,1.0,30.0,0.0,305000.0,2.3,137.0,1.0,0.0,30.0,0.0],[72.0,0.0,1.0,50.0,1.0,218000.0,1.0,134.0,1.0,0.0,33.0,0.0],[70.0,1.0,0.0,35.0,0.0,223000.0,2.7,138.0,1.0,1.0,54.0,0.0],[60.0,1.0,0.0,40.0,0.0,216000.0,0.6,138.0,1.0,1.0,54.0,0.0],[55.0,0.0,0.0,35.0,0.0,254000.0,1.1,139.0,1.0,1.0,60.0,0.0],[41.0,0.0,0.0,40.0,0.0,374000.0,0.8,140.0,1.0,1.0,68.0,0.0],[58.0,0.0,1.0,35.0,0.0,122000.0,0.9,139.0,1.0,1.0,71.0,0.0],[65.0,0.0,1.0,50.0,0.0,149000.0,1.3,137.0,1.0,1.0,72.0,0.0],[70.0,0.0,0.0,60.0,1.0,317000.0,0.8,140.0,0.0,1.0,74.0,0.0],[42.0,0.0,1.0,40.0,0.0,237000.0,1.2,140.0,1.0,0.0,74.0,0.0],[75.0,1.0,1.0,38.0,1.0,283000.0,0.6,131.0,1.0,1.0,74.0,0.0],[55.0,0.0,0.0,45.0,1.0,324000.0,0.9,140.0,0.0,0.0,74.0,0.0],[70.0,0.0,0.0,40.0,0.0,293000.0,1.7,136.0,0.0,0.0,75.0,0.0],[67.0,0.0,0.0,50.0,0.0,263358.03,1.18,137.0,1.0,1.0,76.0,0.0],[79.0,1.0,0.0,50.0,1.0,172000.0,1.8,133.0,1.0,0.0,78.0,0.0],[51.0,0.0,0.0,50.0,0.0,406000.0,0.7,140.0,1.0,0.0,79.0,0.0],[55.0,0.0,0.0,35.0,1.0,173000.0,1.1,137.0,1.0,0.0,79.0,0.0],[65.0,1.0,1.0,60.0,1.0,304000.0,0.8,140.0,1.0,0.0,79.0,0.0],[44.0,0.0,1.0,40.0,1.0,235000.0,0.7,139.0,1.0,0.0,79.0,0.0],[57.0,1.0,0.0,25.0,1.0,181000.0,1.1,144.0,1.0,0.0,79.0,0.0],[70.0,0.0,1.0,45.0,0.0,249000.0,0.8,136.0,1.0,1.0,80.0,0.0],[60.0,0.0,1.0,45.0,0.0,297000.0,1.0,133.0,1.0,0.0,80.0,0.0],[42.0,0.0,0.0,60.0,0.0,263358.03,1.18,137.0,0.0,0.0,82.0,0.0],[58.0,0.0,1.0,38.0,1.0,327000.0,0.7,142.0,0.0,0.0,83.0,0.0],[58.0,1.0,0.0,60.0,1.0,219000.0,1.0,141.0,1.0,0.0,83.0,0.0],[63.0,1.0,1.0,25.0,1.0,254000.0,1.3,134.0,1.0,0.0,83.0,0.0],[70.0,1.0,0.0,60.0,0.0,255000.0,1.1,136.0,0.0,0.0,85.0,0.0],[60.0,1.0,1.0,25.0,1.0,318000.0,1.2,137.0,0.0,0.0,85.0,0.0],[63.0,1.0,1.0,40.0,0.0,221000.0,1.1,140.0,0.0,0.0,86.0,0.0],[65.0,1.0,0.0,25.0,0.0,298000.0,1.1,141.0,1.0,0.0,87.0,0.0],[75.0,0.0,0.0,45.0,1.0,263358.03,1.18,137.0,1.0,0.0,87.0,0.0],[80.0,0.0,0.0,25.0,0.0,149000.0,1.1,144.0,1.0,1.0,87.0,0.0],[42.0,0.0,0.0,30.0,0.0,226000.0,1.0,140.0,1.0,1.0,87.0,0.0],[60.0,0.0,0.0,50.0,1.0,286000.0,2.3,143.0,0.0,0.0,87.0,0.0],[55.0,0.0,0.0,45.0,0.0,263000.0,1.3,137.0,1.0,0.0,88.0,0.0],[45.0,1.0,1.0,35.0,0.0,226000.0,0.9,138.0,1.0,0.0,88.0,0.0],[63.0,0.0,0.0,38.0,0.0,304000.0,1.1,133.0,1.0,1.0,88.0,0.0],[45.0,0.0,1.0,35.0,0.0,850000.0,1.3,142.0,1.0,1.0,88.0,0.0],[55.0,0.0,0.0,35.0,0.0,228000.0,1.2,135.0,1.0,1.0,90.0,0.0],[50.0,0.0,1.0,25.0,0.0,252000.0,1.6,136.0,1.0,0.0,90.0,0.0],[60.0,1.0,1.0,40.0,1.0,328000.0,1.2,126.0,1.0,0.0,91.0,0.0],[58.0,1.0,0.0,40.0,0.0,164000.0,1.0,139.0,0.0,0.0,91.0,0.0],[60.0,1.0,1.0,60.0,1.0,271000.0,0.7,136.0,0.0,0.0,94.0,0.0],[85.0,1.0,0.0,60.0,0.0,507000.0,3.2,138.0,0.0,0.0,94.0,0.0],[65.0,1.0,1.0,60.0,1.0,203000.0,0.9,140.0,0.0,0.0,94.0,0.0],[60.0,1.0,0.0,60.0,1.0,210000.0,1.5,135.0,1.0,1.0,95.0,0.0],[66.0,1.0,1.0,38.0,1.0,162000.0,1.0,136.0,0.0,0.0,95.0,0.0],[60.0,0.0,1.0,38.0,0.0,228000.0,0.75,140.0,0.0,0.0,95.0,0.0],[60.0,1.0,0.0,30.0,1.0,127000.0,0.9,145.0,0.0,0.0,95.0,0.0],[43.0,1.0,0.0,50.0,0.0,237000.0,1.3,135.0,0.0,0.0,97.0,0.0],[58.0,1.0,1.0,60.0,0.0,300000.0,0.8,137.0,0.0,0.0,104.0,0.0],[61.0,0.0,0.0,30.0,1.0,267000.0,0.7,136.0,1.0,1.0,104.0,0.0],[53.0,1.0,1.0,35.0,0.0,227000.0,3.4,145.0,1.0,0.0,105.0,0.0],[53.0,1.0,0.0,60.0,1.0,249000.0,0.7,138.0,1.0,1.0,106.0,0.0],[60.0,1.0,1.0,45.0,0.0,250000.0,6.1,131.0,1.0,0.0,107.0,0.0],[46.0,0.0,0.0,40.0,1.0,263358.03,1.18,137.0,0.0,0.0,107.0,0.0],[63.0,0.0,0.0,60.0,1.0,295000.0,1.3,145.0,1.0,1.0,107.0,0.0],[81.0,0.0,0.0,35.0,0.0,231000.0,1.18,137.0,1.0,1.0,107.0,0.0],[75.0,0.0,0.0,40.0,0.0,263358.03,1.18,137.0,1.0,0.0,107.0,0.0],[65.0,1.0,1.0,60.0,0.0,172000.0,0.9,137.0,0.0,0.0,107.0,0.0],[68.0,1.0,0.0,25.0,0.0,305000.0,2.1,130.0,1.0,0.0,108.0,0.0],[62.0,0.0,1.0,35.0,0.0,221000.0,1.0,136.0,0.0,0.0,108.0,0.0],[50.0,0.0,0.0,30.0,1.0,211000.0,0.8,138.0,1.0,0.0,108.0,0.0],[46.0,1.0,0.0,35.0,0.0,348000.0,0.9,140.0,0.0,0.0,109.0,0.0],[50.0,0.0,1.0,30.0,0.0,329000.0,0.9,132.0,0.0,0.0,109.0,0.0],[61.0,1.0,0.0,40.0,1.0,229000.0,0.9,141.0,0.0,0.0,110.0,0.0],[50.0,0.0,0.0,30.0,0.0,266000.0,0.7,141.0,1.0,1.0,112.0,0.0],[52.0,0.0,0.0,30.0,0.0,218000.0,0.7,136.0,1.0,1.0,112.0,0.0],[64.0,0.0,0.0,60.0,0.0,242000.0,1.0,137.0,1.0,0.0,113.0,0.0],[60.0,0.0,0.0,35.0,1.0,228000.0,0.9,136.0,1.0,0.0,115.0,0.0],[62.0,0.0,1.0,60.0,1.0,244000.0,0.9,139.0,1.0,0.0,117.0,0.0],[50.0,0.0,0.0,45.0,1.0,184000.0,0.9,134.0,1.0,1.0,118.0,0.0],[50.0,0.0,1.0,35.0,0.0,263358.03,1.18,137.0,1.0,1.0,119.0,0.0],[65.0,1.0,0.0,35.0,1.0,235000.0,0.8,136.0,0.0,0.0,120.0,0.0],[60.0,1.0,1.0,25.0,0.0,194000.0,1.7,140.0,1.0,0.0,120.0,0.0],[52.0,1.0,0.0,35.0,0.0,277000.0,1.4,136.0,0.0,0.0,120.0,0.0],[50.0,0.0,0.0,25.0,0.0,262000.0,1.0,136.0,1.0,1.0,120.0,0.0],[85.0,1.0,0.0,50.0,0.0,235000.0,1.3,134.0,1.0,0.0,121.0,0.0],[59.0,1.0,0.0,45.0,1.0,362000.0,1.1,139.0,1.0,1.0,121.0,0.0],[66.0,1.0,0.0,40.0,1.0,242000.0,1.2,134.0,1.0,0.0,121.0,0.0],[45.0,1.0,0.0,35.0,0.0,174000.0,0.8,139.0,1.0,1.0,121.0,0.0],[63.0,1.0,0.0,40.0,0.0,448000.0,0.9,137.0,1.0,1.0,123.0,0.0],[53.0,0.0,0.0,60.0,0.0,220000.0,0.7,133.0,1.0,1.0,134.0,0.0],[65.0,0.0,1.0,40.0,0.0,270000.0,1.0,138.0,0.0,0.0,140.0,0.0],[70.0,0.0,0.0,35.0,1.0,305000.0,0.8,133.0,0.0,0.0,145.0,0.0],[51.0,1.0,1.0,35.0,0.0,263358.03,1.5,136.0,1.0,1.0,145.0,0.0],[52.0,0.0,0.0,40.0,0.0,325000.0,0.9,140.0,1.0,1.0,146.0,0.0],[70.0,1.0,0.0,60.0,1.0,176000.0,1.1,145.0,1.0,1.0,146.0,0.0],[50.0,1.0,0.0,20.0,0.0,189000.0,0.8,139.0,1.0,0.0,146.0,0.0],[65.0,0.0,1.0,35.0,1.0,281000.0,0.9,137.0,1.0,1.0,146.0,0.0],[60.0,1.0,0.0,60.0,0.0,337000.0,1.0,138.0,1.0,1.0,146.0,0.0],[69.0,0.0,0.0,40.0,0.0,105000.0,1.0,135.0,1.0,1.0,147.0,0.0],[49.0,1.0,0.0,50.0,0.0,132000.0,1.0,140.0,0.0,0.0,147.0,0.0],[63.0,1.0,1.0,60.0,0.0,267000.0,1.2,145.0,1.0,0.0,147.0,0.0],[55.0,0.0,0.0,40.0,0.0,279000.0,0.7,140.0,1.0,1.0,147.0,0.0],[40.0,0.0,1.0,30.0,0.0,303000.0,0.9,136.0,1.0,0.0,148.0,0.0],[60.667,1.0,1.0,40.0,1.0,201000.0,1.0,136.0,0.0,0.0,172.0,0.0],[40.0,0.0,0.0,45.0,1.0,275000.0,0.9,140.0,0.0,0.0,174.0,0.0],[80.0,0.0,1.0,35.0,0.0,350000.0,2.1,134.0,1.0,0.0,174.0,0.0],[64.0,1.0,0.0,60.0,0.0,309000.0,1.5,135.0,0.0,0.0,174.0,0.0],[50.0,1.0,1.0,40.0,0.0,260000.0,0.7,130.0,1.0,0.0,175.0,0.0],[73.0,1.0,1.0,30.0,0.0,160000.0,1.18,142.0,1.0,1.0,180.0,0.0],[45.0,0.0,1.0,38.0,1.0,263358.03,1.18,137.0,0.0,0.0,185.0,0.0],[65.0,0.0,0.0,30.0,0.0,259000.0,0.8,138.0,0.0,0.0,186.0,0.0],[50.0,1.0,1.0,20.0,1.0,279000.0,1.0,134.0,0.0,0.0,186.0,0.0],[60.0,0.0,1.0,35.0,0.0,263358.03,1.8,113.0,1.0,1.0,186.0,0.0],[63.0,1.0,0.0,45.0,0.0,73000.0,0.7,137.0,1.0,0.0,186.0,0.0],[45.0,0.0,1.0,60.0,1.0,377000.0,1.0,136.0,1.0,0.0,186.0,0.0],[70.0,0.0,0.0,60.0,1.0,220000.0,0.9,138.0,1.0,0.0,186.0,0.0],[60.0,0.0,0.0,25.0,1.0,212000.0,3.5,136.0,1.0,1.0,187.0,0.0],[78.0,1.0,0.0,40.0,0.0,277000.0,0.7,137.0,1.0,1.0,187.0,0.0],[50.0,1.0,1.0,45.0,0.0,362000.0,1.0,136.0,0.0,0.0,187.0,0.0],[40.0,1.0,0.0,40.0,0.0,226000.0,0.8,141.0,0.0,0.0,187.0,0.0],[85.0,0.0,0.0,38.0,0.0,186000.0,0.9,136.0,1.0,0.0,187.0,0.0],[60.0,1.0,1.0,40.0,0.0,283000.0,1.0,141.0,0.0,0.0,187.0,0.0],[49.0,0.0,1.0,35.0,1.0,268000.0,0.8,130.0,0.0,0.0,187.0,0.0],[70.0,0.0,1.0,17.0,1.0,389000.0,1.0,136.0,1.0,1.0,188.0,0.0],[50.0,0.0,0.0,62.0,1.0,147000.0,0.8,140.0,1.0,1.0,192.0,0.0],[78.0,0.0,0.0,50.0,0.0,481000.0,1.4,138.0,1.0,1.0,192.0,0.0],[65.0,1.0,0.0,35.0,1.0,290000.0,0.8,134.0,1.0,0.0,194.0,0.0],[73.0,0.0,0.0,35.0,1.0,203000.0,1.3,134.0,1.0,0.0,195.0,0.0],[70.0,0.0,0.0,50.0,1.0,358000.0,0.9,141.0,0.0,0.0,196.0,0.0],[68.0,1.0,1.0,35.0,0.0,271000.0,1.1,134.0,1.0,0.0,197.0,0.0],[55.0,0.0,1.0,35.0,1.0,371000.0,0.7,140.0,0.0,0.0,197.0,0.0],[65.0,0.0,0.0,50.0,0.0,194000.0,1.1,145.0,1.0,1.0,200.0,0.0],[42.0,1.0,0.0,35.0,0.0,365000.0,1.1,139.0,1.0,1.0,201.0,0.0],[47.0,0.0,0.0,25.0,0.0,130000.0,0.8,134.0,1.0,0.0,201.0,0.0],[58.0,0.0,1.0,25.0,0.0,504000.0,1.0,138.0,1.0,0.0,205.0,0.0],[75.0,0.0,1.0,60.0,0.0,265000.0,1.4,125.0,0.0,0.0,205.0,0.0],[58.0,1.0,0.0,25.0,0.0,189000.0,1.3,132.0,1.0,1.0,205.0,0.0],[55.0,1.0,0.0,35.0,1.0,141000.0,1.0,140.0,1.0,0.0,206.0,0.0],[65.0,0.0,0.0,25.0,0.0,237000.0,5.0,130.0,0.0,0.0,207.0,0.0],[72.0,0.0,0.0,25.0,0.0,274000.0,1.2,134.0,0.0,0.0,207.0,0.0],[70.0,0.0,0.0,35.0,0.0,185000.0,1.1,134.0,1.0,1.0,208.0,0.0],[40.0,1.0,0.0,35.0,0.0,255000.0,0.9,137.0,1.0,0.0,209.0,0.0],[53.0,1.0,0.0,38.0,0.0,330000.0,1.4,137.0,1.0,1.0,209.0,0.0],[53.0,1.0,0.0,45.0,0.0,305000.0,1.1,137.0,1.0,1.0,209.0,0.0],[77.0,1.0,0.0,50.0,1.0,406000.0,1.1,137.0,1.0,0.0,209.0,0.0],[75.0,0.0,0.0,50.0,1.0,248000.0,1.1,148.0,1.0,0.0,209.0,0.0],[70.0,0.0,0.0,30.0,0.0,173000.0,1.2,132.0,1.0,0.0,210.0,0.0],[65.0,1.0,1.0,40.0,0.0,257000.0,1.0,136.0,0.0,0.0,210.0,0.0],[55.0,1.0,0.0,45.0,0.0,263358.03,1.18,137.0,1.0,1.0,211.0,0.0],[70.0,0.0,1.0,35.0,1.0,533000.0,1.3,139.0,0.0,0.0,212.0,0.0],[65.0,0.0,1.0,30.0,0.0,249000.0,1.3,136.0,1.0,1.0,212.0,0.0],[40.0,0.0,0.0,35.0,0.0,255000.0,1.1,136.0,1.0,1.0,212.0,0.0],[73.0,1.0,0.0,40.0,1.0,220000.0,0.9,141.0,0.0,0.0,213.0,0.0],[54.0,0.0,1.0,38.0,0.0,264000.0,1.8,134.0,1.0,0.0,213.0,0.0],[61.0,1.0,1.0,38.0,0.0,282000.0,1.4,137.0,1.0,0.0,213.0,0.0],[64.0,0.0,0.0,25.0,0.0,246000.0,2.4,135.0,1.0,0.0,214.0,0.0],[40.0,0.0,0.0,35.0,0.0,301000.0,1.0,142.0,1.0,1.0,214.0,0.0],[53.0,0.0,1.0,40.0,0.0,223000.0,1.2,130.0,0.0,0.0,214.0,0.0],[50.0,0.0,0.0,30.0,1.0,404000.0,0.5,139.0,0.0,0.0,214.0,0.0],[55.0,0.0,1.0,35.0,0.0,231000.0,0.8,143.0,0.0,0.0,215.0,0.0],[50.0,0.0,0.0,45.0,1.0,274000.0,1.0,133.0,1.0,0.0,215.0,0.0],[70.0,0.0,1.0,35.0,1.0,236000.0,1.2,132.0,0.0,0.0,215.0,0.0],[53.0,1.0,0.0,60.0,1.0,263358.03,1.0,139.0,1.0,0.0,215.0,0.0],[52.0,1.0,1.0,30.0,1.0,334000.0,1.0,142.0,1.0,1.0,216.0,0.0],[65.0,0.0,0.0,38.0,0.0,294000.0,1.7,139.0,0.0,0.0,220.0,0.0],[58.0,0.0,1.0,38.0,1.0,253000.0,1.0,139.0,1.0,0.0,230.0,0.0],[45.0,1.0,1.0,25.0,0.0,233000.0,0.8,135.0,1.0,0.0,230.0,0.0],[53.0,0.0,0.0,50.0,0.0,308000.0,0.7,135.0,1.0,1.0,231.0,0.0],[55.0,0.0,0.0,40.0,0.0,203000.0,1.0,138.0,1.0,0.0,233.0,0.0],[62.0,1.0,0.0,40.0,0.0,283000.0,0.7,133.0,0.0,0.0,233.0,0.0],[68.0,1.0,1.0,60.0,0.0,208000.0,1.0,140.0,0.0,0.0,237.0,0.0],[61.0,0.0,1.0,38.0,0.0,147000.0,1.2,141.0,1.0,0.0,237.0,0.0],[50.0,1.0,0.0,35.0,0.0,362000.0,0.9,140.0,1.0,1.0,240.0,0.0],[56.0,1.0,1.0,38.0,0.0,133000.0,1.7,140.0,1.0,0.0,244.0,0.0],[45.0,0.0,1.0,38.0,0.0,302000.0,0.9,140.0,0.0,0.0,244.0,0.0],[40.0,0.0,1.0,35.0,0.0,222000.0,1.0,132.0,1.0,0.0,244.0,0.0],[44.0,0.0,1.0,30.0,1.0,263358.03,1.6,130.0,1.0,1.0,244.0,0.0],[51.0,0.0,1.0,40.0,0.0,221000.0,0.9,134.0,0.0,0.0,244.0,0.0],[67.0,0.0,0.0,38.0,0.0,215000.0,1.2,133.0,0.0,0.0,245.0,0.0],[42.0,0.0,0.0,40.0,0.0,189000.0,0.7,140.0,1.0,0.0,245.0,0.0],[60.0,1.0,1.0,30.0,0.0,150000.0,1.0,137.0,1.0,1.0,245.0,0.0],[45.0,0.0,0.0,38.0,1.0,422000.0,0.8,137.0,0.0,0.0,245.0,0.0],[70.0,0.0,0.0,35.0,0.0,327000.0,1.1,142.0,0.0,0.0,245.0,0.0],[70.0,0.0,1.0,38.0,0.0,25100.0,1.1,140.0,1.0,0.0,246.0,0.0],[50.0,1.0,1.0,30.0,0.0,232000.0,0.7,136.0,0.0,0.0,246.0,0.0],[55.0,0.0,1.0,38.0,0.0,451000.0,1.3,136.0,0.0,0.0,246.0,0.0],[70.0,0.0,1.0,40.0,0.0,241000.0,1.0,137.0,1.0,0.0,247.0,0.0],[70.0,0.0,0.0,40.0,0.0,51000.0,2.7,136.0,1.0,1.0,250.0,0.0],[42.0,0.0,0.0,30.0,0.0,215000.0,3.8,128.0,1.0,1.0,250.0,0.0],[65.0,0.0,0.0,38.0,0.0,263358.03,1.1,138.0,1.0,1.0,250.0,0.0],[50.0,1.0,0.0,40.0,0.0,279000.0,0.8,141.0,1.0,0.0,250.0,0.0],[55.0,1.0,1.0,40.0,0.0,336000.0,1.2,135.0,1.0,0.0,250.0,0.0],[60.0,0.0,0.0,35.0,0.0,279000.0,1.7,140.0,1.0,0.0,250.0,0.0],[45.0,0.0,1.0,55.0,0.0,543000.0,1.0,132.0,0.0,0.0,250.0,0.0],[65.0,0.0,1.0,35.0,0.0,263358.03,1.1,142.0,0.0,0.0,256.0,0.0],[90.0,1.0,0.0,38.0,0.0,390000.0,0.9,144.0,0.0,0.0,256.0,0.0],[45.0,0.0,1.0,55.0,0.0,222000.0,0.8,141.0,0.0,0.0,257.0,0.0],[60.0,0.0,0.0,35.0,0.0,133000.0,1.4,139.0,1.0,0.0,258.0,0.0],[52.0,0.0,1.0,38.0,0.0,382000.0,1.0,140.0,1.0,1.0,258.0,0.0],[63.0,1.0,1.0,35.0,0.0,179000.0,0.9,136.0,1.0,1.0,270.0,0.0],[62.0,0.0,1.0,38.0,1.0,155000.0,1.1,143.0,1.0,1.0,270.0,0.0],[55.0,0.0,0.0,38.0,0.0,270000.0,1.2,139.0,0.0,0.0,271.0,0.0],[45.0,0.0,1.0,60.0,0.0,742000.0,0.8,138.0,0.0,0.0,278.0,0.0],[45.0,0.0,0.0,38.0,0.0,140000.0,1.4,140.0,1.0,1.0,280.0,0.0],[50.0,0.0,0.0,45.0,0.0,395000.0,1.6,136.0,1.0,1.0,285.0,0.0]],\"hovertemplate\":\"DEATH_EVENT=%{customdata[11]}<br>CREATININE PHOSPHOKINASE=%{x}<br>age=%{customdata[0]}<br>anaemia=%{customdata[1]}<br>diabetes=%{customdata[2]}<br>ejection_fraction=%{customdata[3]}<br>high_blood_pressure=%{customdata[4]}<br>platelets=%{customdata[5]}<br>serum_creatinine=%{customdata[6]}<br>serum_sodium=%{customdata[7]}<br>sex=%{customdata[8]}<br>smoking=%{customdata[9]}<br>time=%{customdata[10]}<extra></extra>\",\"legendgroup\":\"0\",\"marker\":{\"color\":\"#ab63fa\"},\"name\":\"0\",\"offsetgroup\":\"0\",\"scalegroup\":\"x\",\"showlegend\":false,\"x\":[80,52,63,159,2656,127,75,607,109,148,582,224,92,102,203,336,69,582,55,78,47,68,84,115,66,897,582,144,133,514,59,156,61,305,582,898,5209,53,748,1876,936,292,60,369,754,400,96,102,113,737,68,96,582,358,200,248,270,1808,1082,719,193,4540,582,59,646,281,1548,291,482,84,185,132,1610,2261,30,115,1846,335,231,58,250,910,129,72,130,582,196,582,835,582,3966,171,115,198,95,1419,69,122,835,478,151,244,582,62,121,231,582,167,582,1211,1767,308,97,59,64,167,101,212,2281,972,212,582,224,135,582,1202,1021,582,118,86,582,582,675,57,2794,56,211,93,129,707,582,109,119,232,720,180,81,582,90,1185,582,80,143,624,207,2522,572,245,88,446,191,326,132,66,56,66,655,157,582,298,135,582,582,582,582,213,64,257,582,618,582,1051,84,2695,582,64,1688,54,170,253,582,892,337,615,320,190,103,61,1820,2060,2413,196],\"xaxis\":\"x2\",\"yaxis\":\"y2\",\"type\":\"violin\"}],                        {\"template\":{\"data\":{\"barpolar\":[{\"marker\":{\"line\":{\"color\":\"white\",\"width\":0.5},\"pattern\":{\"fillmode\":\"overlay\",\"size\":10,\"solidity\":0.2}},\"type\":\"barpolar\"}],\"bar\":[{\"error_x\":{\"color\":\"#2a3f5f\"},\"error_y\":{\"color\":\"#2a3f5f\"},\"marker\":{\"line\":{\"color\":\"white\",\"width\":0.5},\"pattern\":{\"fillmode\":\"overlay\",\"size\":10,\"solidity\":0.2}},\"type\":\"bar\"}],\"carpet\":[{\"aaxis\":{\"endlinecolor\":\"#2a3f5f\",\"gridcolor\":\"#C8D4E3\",\"linecolor\":\"#C8D4E3\",\"minorgridcolor\":\"#C8D4E3\",\"startlinecolor\":\"#2a3f5f\"},\"baxis\":{\"endlinecolor\":\"#2a3f5f\",\"gridcolor\":\"#C8D4E3\",\"linecolor\":\"#C8D4E3\",\"minorgridcolor\":\"#C8D4E3\",\"startlinecolor\":\"#2a3f5f\"},\"type\":\"carpet\"}],\"choropleth\":[{\"colorbar\":{\"outlinewidth\":0,\"ticks\":\"\"},\"type\":\"choropleth\"}],\"contourcarpet\":[{\"colorbar\":{\"outlinewidth\":0,\"ticks\":\"\"},\"type\":\"contourcarpet\"}],\"contour\":[{\"colorbar\":{\"outlinewidth\":0,\"ticks\":\"\"},\"colorscale\":[[0.0,\"#0d0887\"],[0.1111111111111111,\"#46039f\"],[0.2222222222222222,\"#7201a8\"],[0.3333333333333333,\"#9c179e\"],[0.4444444444444444,\"#bd3786\"],[0.5555555555555556,\"#d8576b\"],[0.6666666666666666,\"#ed7953\"],[0.7777777777777778,\"#fb9f3a\"],[0.8888888888888888,\"#fdca26\"],[1.0,\"#f0f921\"]],\"type\":\"contour\"}],\"heatmapgl\":[{\"colorbar\":{\"outlinewidth\":0,\"ticks\":\"\"},\"colorscale\":[[0.0,\"#0d0887\"],[0.1111111111111111,\"#46039f\"],[0.2222222222222222,\"#7201a8\"],[0.3333333333333333,\"#9c179e\"],[0.4444444444444444,\"#bd3786\"],[0.5555555555555556,\"#d8576b\"],[0.6666666666666666,\"#ed7953\"],[0.7777777777777778,\"#fb9f3a\"],[0.8888888888888888,\"#fdca26\"],[1.0,\"#f0f921\"]],\"type\":\"heatmapgl\"}],\"heatmap\":[{\"colorbar\":{\"outlinewidth\":0,\"ticks\":\"\"},\"colorscale\":[[0.0,\"#0d0887\"],[0.1111111111111111,\"#46039f\"],[0.2222222222222222,\"#7201a8\"],[0.3333333333333333,\"#9c179e\"],[0.4444444444444444,\"#bd3786\"],[0.5555555555555556,\"#d8576b\"],[0.6666666666666666,\"#ed7953\"],[0.7777777777777778,\"#fb9f3a\"],[0.8888888888888888,\"#fdca26\"],[1.0,\"#f0f921\"]],\"type\":\"heatmap\"}],\"histogram2dcontour\":[{\"colorbar\":{\"outlinewidth\":0,\"ticks\":\"\"},\"colorscale\":[[0.0,\"#0d0887\"],[0.1111111111111111,\"#46039f\"],[0.2222222222222222,\"#7201a8\"],[0.3333333333333333,\"#9c179e\"],[0.4444444444444444,\"#bd3786\"],[0.5555555555555556,\"#d8576b\"],[0.6666666666666666,\"#ed7953\"],[0.7777777777777778,\"#fb9f3a\"],[0.8888888888888888,\"#fdca26\"],[1.0,\"#f0f921\"]],\"type\":\"histogram2dcontour\"}],\"histogram2d\":[{\"colorbar\":{\"outlinewidth\":0,\"ticks\":\"\"},\"colorscale\":[[0.0,\"#0d0887\"],[0.1111111111111111,\"#46039f\"],[0.2222222222222222,\"#7201a8\"],[0.3333333333333333,\"#9c179e\"],[0.4444444444444444,\"#bd3786\"],[0.5555555555555556,\"#d8576b\"],[0.6666666666666666,\"#ed7953\"],[0.7777777777777778,\"#fb9f3a\"],[0.8888888888888888,\"#fdca26\"],[1.0,\"#f0f921\"]],\"type\":\"histogram2d\"}],\"histogram\":[{\"marker\":{\"pattern\":{\"fillmode\":\"overlay\",\"size\":10,\"solidity\":0.2}},\"type\":\"histogram\"}],\"mesh3d\":[{\"colorbar\":{\"outlinewidth\":0,\"ticks\":\"\"},\"type\":\"mesh3d\"}],\"parcoords\":[{\"line\":{\"colorbar\":{\"outlinewidth\":0,\"ticks\":\"\"}},\"type\":\"parcoords\"}],\"pie\":[{\"automargin\":true,\"type\":\"pie\"}],\"scatter3d\":[{\"line\":{\"colorbar\":{\"outlinewidth\":0,\"ticks\":\"\"}},\"marker\":{\"colorbar\":{\"outlinewidth\":0,\"ticks\":\"\"}},\"type\":\"scatter3d\"}],\"scattercarpet\":[{\"marker\":{\"colorbar\":{\"outlinewidth\":0,\"ticks\":\"\"}},\"type\":\"scattercarpet\"}],\"scattergeo\":[{\"marker\":{\"colorbar\":{\"outlinewidth\":0,\"ticks\":\"\"}},\"type\":\"scattergeo\"}],\"scattergl\":[{\"marker\":{\"colorbar\":{\"outlinewidth\":0,\"ticks\":\"\"}},\"type\":\"scattergl\"}],\"scattermapbox\":[{\"marker\":{\"colorbar\":{\"outlinewidth\":0,\"ticks\":\"\"}},\"type\":\"scattermapbox\"}],\"scatterpolargl\":[{\"marker\":{\"colorbar\":{\"outlinewidth\":0,\"ticks\":\"\"}},\"type\":\"scatterpolargl\"}],\"scatterpolar\":[{\"marker\":{\"colorbar\":{\"outlinewidth\":0,\"ticks\":\"\"}},\"type\":\"scatterpolar\"}],\"scatter\":[{\"fillpattern\":{\"fillmode\":\"overlay\",\"size\":10,\"solidity\":0.2},\"type\":\"scatter\"}],\"scatterternary\":[{\"marker\":{\"colorbar\":{\"outlinewidth\":0,\"ticks\":\"\"}},\"type\":\"scatterternary\"}],\"surface\":[{\"colorbar\":{\"outlinewidth\":0,\"ticks\":\"\"},\"colorscale\":[[0.0,\"#0d0887\"],[0.1111111111111111,\"#46039f\"],[0.2222222222222222,\"#7201a8\"],[0.3333333333333333,\"#9c179e\"],[0.4444444444444444,\"#bd3786\"],[0.5555555555555556,\"#d8576b\"],[0.6666666666666666,\"#ed7953\"],[0.7777777777777778,\"#fb9f3a\"],[0.8888888888888888,\"#fdca26\"],[1.0,\"#f0f921\"]],\"type\":\"surface\"}],\"table\":[{\"cells\":{\"fill\":{\"color\":\"#EBF0F8\"},\"line\":{\"color\":\"white\"}},\"header\":{\"fill\":{\"color\":\"#C8D4E3\"},\"line\":{\"color\":\"white\"}},\"type\":\"table\"}]},\"layout\":{\"annotationdefaults\":{\"arrowcolor\":\"#2a3f5f\",\"arrowhead\":0,\"arrowwidth\":1},\"autotypenumbers\":\"strict\",\"coloraxis\":{\"colorbar\":{\"outlinewidth\":0,\"ticks\":\"\"}},\"colorscale\":{\"diverging\":[[0,\"#8e0152\"],[0.1,\"#c51b7d\"],[0.2,\"#de77ae\"],[0.3,\"#f1b6da\"],[0.4,\"#fde0ef\"],[0.5,\"#f7f7f7\"],[0.6,\"#e6f5d0\"],[0.7,\"#b8e186\"],[0.8,\"#7fbc41\"],[0.9,\"#4d9221\"],[1,\"#276419\"]],\"sequential\":[[0.0,\"#0d0887\"],[0.1111111111111111,\"#46039f\"],[0.2222222222222222,\"#7201a8\"],[0.3333333333333333,\"#9c179e\"],[0.4444444444444444,\"#bd3786\"],[0.5555555555555556,\"#d8576b\"],[0.6666666666666666,\"#ed7953\"],[0.7777777777777778,\"#fb9f3a\"],[0.8888888888888888,\"#fdca26\"],[1.0,\"#f0f921\"]],\"sequentialminus\":[[0.0,\"#0d0887\"],[0.1111111111111111,\"#46039f\"],[0.2222222222222222,\"#7201a8\"],[0.3333333333333333,\"#9c179e\"],[0.4444444444444444,\"#bd3786\"],[0.5555555555555556,\"#d8576b\"],[0.6666666666666666,\"#ed7953\"],[0.7777777777777778,\"#fb9f3a\"],[0.8888888888888888,\"#fdca26\"],[1.0,\"#f0f921\"]]},\"colorway\":[\"#636efa\",\"#EF553B\",\"#00cc96\",\"#ab63fa\",\"#FFA15A\",\"#19d3f3\",\"#FF6692\",\"#B6E880\",\"#FF97FF\",\"#FECB52\"],\"font\":{\"color\":\"#2a3f5f\"},\"geo\":{\"bgcolor\":\"white\",\"lakecolor\":\"white\",\"landcolor\":\"white\",\"showlakes\":true,\"showland\":true,\"subunitcolor\":\"#C8D4E3\"},\"hoverlabel\":{\"align\":\"left\"},\"hovermode\":\"closest\",\"mapbox\":{\"style\":\"light\"},\"paper_bgcolor\":\"white\",\"plot_bgcolor\":\"white\",\"polar\":{\"angularaxis\":{\"gridcolor\":\"#EBF0F8\",\"linecolor\":\"#EBF0F8\",\"ticks\":\"\"},\"bgcolor\":\"white\",\"radialaxis\":{\"gridcolor\":\"#EBF0F8\",\"linecolor\":\"#EBF0F8\",\"ticks\":\"\"}},\"scene\":{\"xaxis\":{\"backgroundcolor\":\"white\",\"gridcolor\":\"#DFE8F3\",\"gridwidth\":2,\"linecolor\":\"#EBF0F8\",\"showbackground\":true,\"ticks\":\"\",\"zerolinecolor\":\"#EBF0F8\"},\"yaxis\":{\"backgroundcolor\":\"white\",\"gridcolor\":\"#DFE8F3\",\"gridwidth\":2,\"linecolor\":\"#EBF0F8\",\"showbackground\":true,\"ticks\":\"\",\"zerolinecolor\":\"#EBF0F8\"},\"zaxis\":{\"backgroundcolor\":\"white\",\"gridcolor\":\"#DFE8F3\",\"gridwidth\":2,\"linecolor\":\"#EBF0F8\",\"showbackground\":true,\"ticks\":\"\",\"zerolinecolor\":\"#EBF0F8\"}},\"shapedefaults\":{\"line\":{\"color\":\"#2a3f5f\"}},\"ternary\":{\"aaxis\":{\"gridcolor\":\"#DFE8F3\",\"linecolor\":\"#A2B1C6\",\"ticks\":\"\"},\"baxis\":{\"gridcolor\":\"#DFE8F3\",\"linecolor\":\"#A2B1C6\",\"ticks\":\"\"},\"bgcolor\":\"white\",\"caxis\":{\"gridcolor\":\"#DFE8F3\",\"linecolor\":\"#A2B1C6\",\"ticks\":\"\"}},\"title\":{\"x\":0.05},\"xaxis\":{\"automargin\":true,\"gridcolor\":\"#EBF0F8\",\"linecolor\":\"#EBF0F8\",\"ticks\":\"\",\"title\":{\"standoff\":15},\"zerolinecolor\":\"#EBF0F8\",\"zerolinewidth\":2},\"yaxis\":{\"automargin\":true,\"gridcolor\":\"#EBF0F8\",\"linecolor\":\"#EBF0F8\",\"ticks\":\"\",\"title\":{\"standoff\":15},\"zerolinecolor\":\"#EBF0F8\",\"zerolinewidth\":2}}},\"xaxis\":{\"anchor\":\"y\",\"domain\":[0.0,1.0],\"title\":{\"text\":\"CREATININE PHOSPHOKINASE\"}},\"yaxis\":{\"anchor\":\"x\",\"domain\":[0.0,0.7326],\"title\":{\"text\":\"count\"}},\"xaxis2\":{\"anchor\":\"y2\",\"domain\":[0.0,1.0],\"matches\":\"x\",\"showticklabels\":false,\"showgrid\":true},\"yaxis2\":{\"anchor\":\"x2\",\"domain\":[0.7426,1.0],\"matches\":\"y2\",\"showticklabels\":false,\"showline\":false,\"ticks\":\"\",\"showgrid\":false},\"legend\":{\"title\":{\"text\":\"DEATH_EVENT\"},\"tracegroupgap\":0},\"title\":{\"text\":\"Distribution of CREATININE PHOSPHOKINASE Vs DEATH_EVENT\"},\"barmode\":\"relative\"},                        {\"responsive\": true}                    ).then(function(){\n",
       "                            \n",
       "var gd = document.getElementById('a1cc0e58-f790-43f0-b260-edaddbf612fd');\n",
       "var x = new MutationObserver(function (mutations, observer) {{\n",
       "        var display = window.getComputedStyle(gd).display;\n",
       "        if (!display || display === 'none') {{\n",
       "            console.log([gd, 'removed!']);\n",
       "            Plotly.purge(gd);\n",
       "            observer.disconnect();\n",
       "        }}\n",
       "}});\n",
       "\n",
       "// Listen for the removal of the full notebook cells\n",
       "var notebookContainer = gd.closest('#notebook-container');\n",
       "if (notebookContainer) {{\n",
       "    x.observe(notebookContainer, {childList: true});\n",
       "}}\n",
       "\n",
       "// Listen for the clearing of the current output cell\n",
       "var outputEl = gd.closest('.output');\n",
       "if (outputEl) {{\n",
       "    x.observe(outputEl, {childList: true});\n",
       "}}\n",
       "\n",
       "                        })                };                });            </script>        </div>"
      ]
     },
     "metadata": {},
     "output_type": "display_data"
    }
   ],
   "source": [
    "# Now lets categorize the above histogram by DEATH_EVENT\n",
    "\n",
    "import plotly.express as px\n",
    "fig = px.histogram(df, x=\"creatinine_phosphokinase\", color=\"DEATH_EVENT\", marginal=\"violin\", hover_data=df.columns,\n",
    "                   title =\"Distribution of CREATININE PHOSPHOKINASE Vs DEATH_EVENT\", \n",
    "                   labels={\"creatinine_phosphokinase\": \"CREATININE PHOSPHOKINASE\"},\n",
    "                   template=\"plotly_white\",\n",
    "                   color_discrete_map={\"0\": \"RebeccaPurple\", \"1\": \"MediumPurple\"})\n",
    "fig.show()"
   ]
  },
  {
   "cell_type": "code",
   "execution_count": 37,
   "metadata": {},
   "outputs": [
    {
     "data": {
      "application/vnd.plotly.v1+json": {
       "config": {
        "plotlyServerURL": "https://plot.ly"
       },
       "data": [
        {
         "marker": {
          "color": "#FE6F5E"
         },
         "opacity": 1,
         "type": "histogram",
         "x": [
          20,
          38,
          20,
          20,
          20,
          40,
          15,
          60,
          65,
          35,
          38,
          25,
          30,
          38,
          30,
          50,
          38,
          14,
          25,
          55,
          25,
          30,
          35,
          60,
          30,
          38,
          40,
          45,
          38,
          30,
          38,
          45,
          35,
          30,
          50,
          35,
          50,
          50,
          30,
          38,
          20,
          30,
          45,
          50,
          60,
          38,
          25,
          38,
          20,
          30,
          25,
          20,
          62,
          50,
          38,
          30,
          35,
          40,
          20,
          20,
          25,
          40,
          35,
          35,
          20,
          15,
          25,
          25,
          25,
          40,
          35,
          35,
          50,
          20,
          20,
          60,
          40,
          38,
          45,
          40,
          50,
          25,
          50,
          25,
          50,
          35,
          60,
          40,
          25,
          45,
          45,
          60,
          25,
          38,
          60,
          25,
          60,
          25,
          40,
          25,
          45,
          25,
          30,
          50,
          30,
          45,
          35,
          38,
          35,
          60,
          35,
          25,
          60,
          40,
          40,
          60,
          60,
          60,
          38,
          60,
          38,
          38,
          30,
          40,
          50,
          17,
          60,
          30,
          35,
          60,
          45,
          40,
          60,
          35,
          40,
          60,
          25,
          35,
          30,
          38,
          35,
          30,
          40,
          25,
          30,
          30,
          60,
          30,
          35,
          45,
          60,
          45,
          35,
          35,
          25,
          35,
          25,
          50,
          45,
          40,
          35,
          40,
          35,
          30,
          38,
          60,
          20,
          40,
          35,
          35,
          40,
          60,
          20,
          35,
          60,
          40,
          50,
          60,
          40,
          30,
          25,
          25,
          38,
          25,
          30,
          50,
          25,
          40,
          45,
          35,
          60,
          40,
          30,
          20,
          45,
          38,
          30,
          20,
          35,
          45,
          60,
          60,
          25,
          40,
          45,
          40,
          38,
          40,
          35,
          17,
          62,
          50,
          30,
          35,
          35,
          50,
          35,
          35,
          20,
          50,
          35,
          25,
          25,
          60,
          25,
          35,
          25,
          25,
          30,
          35,
          35,
          38,
          45,
          50,
          50,
          30,
          40,
          45,
          35,
          30,
          35,
          40,
          38,
          38,
          25,
          25,
          35,
          40,
          30,
          35,
          45,
          35,
          60,
          30,
          38,
          38,
          25,
          50,
          40,
          40,
          25,
          60,
          38,
          35,
          20,
          38,
          38,
          35,
          30,
          40,
          38,
          40,
          30,
          38,
          35,
          38,
          30,
          38,
          40,
          40,
          30,
          38,
          40,
          40,
          35,
          55,
          35,
          38,
          55,
          35,
          38,
          35,
          38,
          38,
          60,
          38,
          45
         ],
         "xbins": {
          "end": 80,
          "size": 2,
          "start": 14
         }
        }
       ],
       "layout": {
        "bargap": 0.05,
        "template": {
         "data": {
          "bar": [
           {
            "error_x": {
             "color": "#2a3f5f"
            },
            "error_y": {
             "color": "#2a3f5f"
            },
            "marker": {
             "line": {
              "color": "#E5ECF6",
              "width": 0.5
             },
             "pattern": {
              "fillmode": "overlay",
              "size": 10,
              "solidity": 0.2
             }
            },
            "type": "bar"
           }
          ],
          "barpolar": [
           {
            "marker": {
             "line": {
              "color": "#E5ECF6",
              "width": 0.5
             },
             "pattern": {
              "fillmode": "overlay",
              "size": 10,
              "solidity": 0.2
             }
            },
            "type": "barpolar"
           }
          ],
          "carpet": [
           {
            "aaxis": {
             "endlinecolor": "#2a3f5f",
             "gridcolor": "white",
             "linecolor": "white",
             "minorgridcolor": "white",
             "startlinecolor": "#2a3f5f"
            },
            "baxis": {
             "endlinecolor": "#2a3f5f",
             "gridcolor": "white",
             "linecolor": "white",
             "minorgridcolor": "white",
             "startlinecolor": "#2a3f5f"
            },
            "type": "carpet"
           }
          ],
          "choropleth": [
           {
            "colorbar": {
             "outlinewidth": 0,
             "ticks": ""
            },
            "type": "choropleth"
           }
          ],
          "contour": [
           {
            "colorbar": {
             "outlinewidth": 0,
             "ticks": ""
            },
            "colorscale": [
             [
              0,
              "#0d0887"
             ],
             [
              0.1111111111111111,
              "#46039f"
             ],
             [
              0.2222222222222222,
              "#7201a8"
             ],
             [
              0.3333333333333333,
              "#9c179e"
             ],
             [
              0.4444444444444444,
              "#bd3786"
             ],
             [
              0.5555555555555556,
              "#d8576b"
             ],
             [
              0.6666666666666666,
              "#ed7953"
             ],
             [
              0.7777777777777778,
              "#fb9f3a"
             ],
             [
              0.8888888888888888,
              "#fdca26"
             ],
             [
              1,
              "#f0f921"
             ]
            ],
            "type": "contour"
           }
          ],
          "contourcarpet": [
           {
            "colorbar": {
             "outlinewidth": 0,
             "ticks": ""
            },
            "type": "contourcarpet"
           }
          ],
          "heatmap": [
           {
            "colorbar": {
             "outlinewidth": 0,
             "ticks": ""
            },
            "colorscale": [
             [
              0,
              "#0d0887"
             ],
             [
              0.1111111111111111,
              "#46039f"
             ],
             [
              0.2222222222222222,
              "#7201a8"
             ],
             [
              0.3333333333333333,
              "#9c179e"
             ],
             [
              0.4444444444444444,
              "#bd3786"
             ],
             [
              0.5555555555555556,
              "#d8576b"
             ],
             [
              0.6666666666666666,
              "#ed7953"
             ],
             [
              0.7777777777777778,
              "#fb9f3a"
             ],
             [
              0.8888888888888888,
              "#fdca26"
             ],
             [
              1,
              "#f0f921"
             ]
            ],
            "type": "heatmap"
           }
          ],
          "heatmapgl": [
           {
            "colorbar": {
             "outlinewidth": 0,
             "ticks": ""
            },
            "colorscale": [
             [
              0,
              "#0d0887"
             ],
             [
              0.1111111111111111,
              "#46039f"
             ],
             [
              0.2222222222222222,
              "#7201a8"
             ],
             [
              0.3333333333333333,
              "#9c179e"
             ],
             [
              0.4444444444444444,
              "#bd3786"
             ],
             [
              0.5555555555555556,
              "#d8576b"
             ],
             [
              0.6666666666666666,
              "#ed7953"
             ],
             [
              0.7777777777777778,
              "#fb9f3a"
             ],
             [
              0.8888888888888888,
              "#fdca26"
             ],
             [
              1,
              "#f0f921"
             ]
            ],
            "type": "heatmapgl"
           }
          ],
          "histogram": [
           {
            "marker": {
             "pattern": {
              "fillmode": "overlay",
              "size": 10,
              "solidity": 0.2
             }
            },
            "type": "histogram"
           }
          ],
          "histogram2d": [
           {
            "colorbar": {
             "outlinewidth": 0,
             "ticks": ""
            },
            "colorscale": [
             [
              0,
              "#0d0887"
             ],
             [
              0.1111111111111111,
              "#46039f"
             ],
             [
              0.2222222222222222,
              "#7201a8"
             ],
             [
              0.3333333333333333,
              "#9c179e"
             ],
             [
              0.4444444444444444,
              "#bd3786"
             ],
             [
              0.5555555555555556,
              "#d8576b"
             ],
             [
              0.6666666666666666,
              "#ed7953"
             ],
             [
              0.7777777777777778,
              "#fb9f3a"
             ],
             [
              0.8888888888888888,
              "#fdca26"
             ],
             [
              1,
              "#f0f921"
             ]
            ],
            "type": "histogram2d"
           }
          ],
          "histogram2dcontour": [
           {
            "colorbar": {
             "outlinewidth": 0,
             "ticks": ""
            },
            "colorscale": [
             [
              0,
              "#0d0887"
             ],
             [
              0.1111111111111111,
              "#46039f"
             ],
             [
              0.2222222222222222,
              "#7201a8"
             ],
             [
              0.3333333333333333,
              "#9c179e"
             ],
             [
              0.4444444444444444,
              "#bd3786"
             ],
             [
              0.5555555555555556,
              "#d8576b"
             ],
             [
              0.6666666666666666,
              "#ed7953"
             ],
             [
              0.7777777777777778,
              "#fb9f3a"
             ],
             [
              0.8888888888888888,
              "#fdca26"
             ],
             [
              1,
              "#f0f921"
             ]
            ],
            "type": "histogram2dcontour"
           }
          ],
          "mesh3d": [
           {
            "colorbar": {
             "outlinewidth": 0,
             "ticks": ""
            },
            "type": "mesh3d"
           }
          ],
          "parcoords": [
           {
            "line": {
             "colorbar": {
              "outlinewidth": 0,
              "ticks": ""
             }
            },
            "type": "parcoords"
           }
          ],
          "pie": [
           {
            "automargin": true,
            "type": "pie"
           }
          ],
          "scatter": [
           {
            "fillpattern": {
             "fillmode": "overlay",
             "size": 10,
             "solidity": 0.2
            },
            "type": "scatter"
           }
          ],
          "scatter3d": [
           {
            "line": {
             "colorbar": {
              "outlinewidth": 0,
              "ticks": ""
             }
            },
            "marker": {
             "colorbar": {
              "outlinewidth": 0,
              "ticks": ""
             }
            },
            "type": "scatter3d"
           }
          ],
          "scattercarpet": [
           {
            "marker": {
             "colorbar": {
              "outlinewidth": 0,
              "ticks": ""
             }
            },
            "type": "scattercarpet"
           }
          ],
          "scattergeo": [
           {
            "marker": {
             "colorbar": {
              "outlinewidth": 0,
              "ticks": ""
             }
            },
            "type": "scattergeo"
           }
          ],
          "scattergl": [
           {
            "marker": {
             "colorbar": {
              "outlinewidth": 0,
              "ticks": ""
             }
            },
            "type": "scattergl"
           }
          ],
          "scattermapbox": [
           {
            "marker": {
             "colorbar": {
              "outlinewidth": 0,
              "ticks": ""
             }
            },
            "type": "scattermapbox"
           }
          ],
          "scatterpolar": [
           {
            "marker": {
             "colorbar": {
              "outlinewidth": 0,
              "ticks": ""
             }
            },
            "type": "scatterpolar"
           }
          ],
          "scatterpolargl": [
           {
            "marker": {
             "colorbar": {
              "outlinewidth": 0,
              "ticks": ""
             }
            },
            "type": "scatterpolargl"
           }
          ],
          "scatterternary": [
           {
            "marker": {
             "colorbar": {
              "outlinewidth": 0,
              "ticks": ""
             }
            },
            "type": "scatterternary"
           }
          ],
          "surface": [
           {
            "colorbar": {
             "outlinewidth": 0,
             "ticks": ""
            },
            "colorscale": [
             [
              0,
              "#0d0887"
             ],
             [
              0.1111111111111111,
              "#46039f"
             ],
             [
              0.2222222222222222,
              "#7201a8"
             ],
             [
              0.3333333333333333,
              "#9c179e"
             ],
             [
              0.4444444444444444,
              "#bd3786"
             ],
             [
              0.5555555555555556,
              "#d8576b"
             ],
             [
              0.6666666666666666,
              "#ed7953"
             ],
             [
              0.7777777777777778,
              "#fb9f3a"
             ],
             [
              0.8888888888888888,
              "#fdca26"
             ],
             [
              1,
              "#f0f921"
             ]
            ],
            "type": "surface"
           }
          ],
          "table": [
           {
            "cells": {
             "fill": {
              "color": "#EBF0F8"
             },
             "line": {
              "color": "white"
             }
            },
            "header": {
             "fill": {
              "color": "#C8D4E3"
             },
             "line": {
              "color": "white"
             }
            },
            "type": "table"
           }
          ]
         },
         "layout": {
          "annotationdefaults": {
           "arrowcolor": "#2a3f5f",
           "arrowhead": 0,
           "arrowwidth": 1
          },
          "autotypenumbers": "strict",
          "coloraxis": {
           "colorbar": {
            "outlinewidth": 0,
            "ticks": ""
           }
          },
          "colorscale": {
           "diverging": [
            [
             0,
             "#8e0152"
            ],
            [
             0.1,
             "#c51b7d"
            ],
            [
             0.2,
             "#de77ae"
            ],
            [
             0.3,
             "#f1b6da"
            ],
            [
             0.4,
             "#fde0ef"
            ],
            [
             0.5,
             "#f7f7f7"
            ],
            [
             0.6,
             "#e6f5d0"
            ],
            [
             0.7,
             "#b8e186"
            ],
            [
             0.8,
             "#7fbc41"
            ],
            [
             0.9,
             "#4d9221"
            ],
            [
             1,
             "#276419"
            ]
           ],
           "sequential": [
            [
             0,
             "#0d0887"
            ],
            [
             0.1111111111111111,
             "#46039f"
            ],
            [
             0.2222222222222222,
             "#7201a8"
            ],
            [
             0.3333333333333333,
             "#9c179e"
            ],
            [
             0.4444444444444444,
             "#bd3786"
            ],
            [
             0.5555555555555556,
             "#d8576b"
            ],
            [
             0.6666666666666666,
             "#ed7953"
            ],
            [
             0.7777777777777778,
             "#fb9f3a"
            ],
            [
             0.8888888888888888,
             "#fdca26"
            ],
            [
             1,
             "#f0f921"
            ]
           ],
           "sequentialminus": [
            [
             0,
             "#0d0887"
            ],
            [
             0.1111111111111111,
             "#46039f"
            ],
            [
             0.2222222222222222,
             "#7201a8"
            ],
            [
             0.3333333333333333,
             "#9c179e"
            ],
            [
             0.4444444444444444,
             "#bd3786"
            ],
            [
             0.5555555555555556,
             "#d8576b"
            ],
            [
             0.6666666666666666,
             "#ed7953"
            ],
            [
             0.7777777777777778,
             "#fb9f3a"
            ],
            [
             0.8888888888888888,
             "#fdca26"
            ],
            [
             1,
             "#f0f921"
            ]
           ]
          },
          "colorway": [
           "#636efa",
           "#EF553B",
           "#00cc96",
           "#ab63fa",
           "#FFA15A",
           "#19d3f3",
           "#FF6692",
           "#B6E880",
           "#FF97FF",
           "#FECB52"
          ],
          "font": {
           "color": "#2a3f5f"
          },
          "geo": {
           "bgcolor": "white",
           "lakecolor": "white",
           "landcolor": "#E5ECF6",
           "showlakes": true,
           "showland": true,
           "subunitcolor": "white"
          },
          "hoverlabel": {
           "align": "left"
          },
          "hovermode": "closest",
          "mapbox": {
           "style": "light"
          },
          "paper_bgcolor": "white",
          "plot_bgcolor": "#E5ECF6",
          "polar": {
           "angularaxis": {
            "gridcolor": "white",
            "linecolor": "white",
            "ticks": ""
           },
           "bgcolor": "#E5ECF6",
           "radialaxis": {
            "gridcolor": "white",
            "linecolor": "white",
            "ticks": ""
           }
          },
          "scene": {
           "xaxis": {
            "backgroundcolor": "#E5ECF6",
            "gridcolor": "white",
            "gridwidth": 2,
            "linecolor": "white",
            "showbackground": true,
            "ticks": "",
            "zerolinecolor": "white"
           },
           "yaxis": {
            "backgroundcolor": "#E5ECF6",
            "gridcolor": "white",
            "gridwidth": 2,
            "linecolor": "white",
            "showbackground": true,
            "ticks": "",
            "zerolinecolor": "white"
           },
           "zaxis": {
            "backgroundcolor": "#E5ECF6",
            "gridcolor": "white",
            "gridwidth": 2,
            "linecolor": "white",
            "showbackground": true,
            "ticks": "",
            "zerolinecolor": "white"
           }
          },
          "shapedefaults": {
           "line": {
            "color": "#2a3f5f"
           }
          },
          "ternary": {
           "aaxis": {
            "gridcolor": "white",
            "linecolor": "white",
            "ticks": ""
           },
           "baxis": {
            "gridcolor": "white",
            "linecolor": "white",
            "ticks": ""
           },
           "bgcolor": "#E5ECF6",
           "caxis": {
            "gridcolor": "white",
            "linecolor": "white",
            "ticks": ""
           }
          },
          "title": {
           "x": 0.05
          },
          "xaxis": {
           "automargin": true,
           "gridcolor": "white",
           "linecolor": "white",
           "ticks": "",
           "title": {
            "standoff": 15
           },
           "zerolinecolor": "white",
           "zerolinewidth": 2
          },
          "yaxis": {
           "automargin": true,
           "gridcolor": "white",
           "linecolor": "white",
           "ticks": "",
           "title": {
            "standoff": 15
           },
           "zerolinecolor": "white",
           "zerolinewidth": 2
          }
         }
        },
        "title": {
         "text": "EJECTION FRACTION DISTRIBUTION"
        },
        "xaxis": {
         "showgrid": false,
         "title": {
          "text": "EJECTION FRACTION"
         }
        },
        "yaxis": {
         "showgrid": false,
         "title": {
          "text": "COUNT"
         }
        }
       }
      },
      "text/html": [
       "<div>                            <div id=\"2f1a3bfa-8227-482a-8d2a-6b191923fc41\" class=\"plotly-graph-div\" style=\"height:525px; width:100%;\"></div>            <script type=\"text/javascript\">                require([\"plotly\"], function(Plotly) {                    window.PLOTLYENV=window.PLOTLYENV || {};                                    if (document.getElementById(\"2f1a3bfa-8227-482a-8d2a-6b191923fc41\")) {                    Plotly.newPlot(                        \"2f1a3bfa-8227-482a-8d2a-6b191923fc41\",                        [{\"marker\":{\"color\":\"#FE6F5E\"},\"opacity\":1,\"x\":[20,38,20,20,20,40,15,60,65,35,38,25,30,38,30,50,38,14,25,55,25,30,35,60,30,38,40,45,38,30,38,45,35,30,50,35,50,50,30,38,20,30,45,50,60,38,25,38,20,30,25,20,62,50,38,30,35,40,20,20,25,40,35,35,20,15,25,25,25,40,35,35,50,20,20,60,40,38,45,40,50,25,50,25,50,35,60,40,25,45,45,60,25,38,60,25,60,25,40,25,45,25,30,50,30,45,35,38,35,60,35,25,60,40,40,60,60,60,38,60,38,38,30,40,50,17,60,30,35,60,45,40,60,35,40,60,25,35,30,38,35,30,40,25,30,30,60,30,35,45,60,45,35,35,25,35,25,50,45,40,35,40,35,30,38,60,20,40,35,35,40,60,20,35,60,40,50,60,40,30,25,25,38,25,30,50,25,40,45,35,60,40,30,20,45,38,30,20,35,45,60,60,25,40,45,40,38,40,35,17,62,50,30,35,35,50,35,35,20,50,35,25,25,60,25,35,25,25,30,35,35,38,45,50,50,30,40,45,35,30,35,40,38,38,25,25,35,40,30,35,45,35,60,30,38,38,25,50,40,40,25,60,38,35,20,38,38,35,30,40,38,40,30,38,35,38,30,38,40,40,30,38,40,40,35,55,35,38,55,35,38,35,38,38,60,38,45],\"xbins\":{\"end\":80,\"size\":2,\"start\":14},\"type\":\"histogram\"}],                        {\"template\":{\"data\":{\"histogram2dcontour\":[{\"type\":\"histogram2dcontour\",\"colorbar\":{\"outlinewidth\":0,\"ticks\":\"\"},\"colorscale\":[[0.0,\"#0d0887\"],[0.1111111111111111,\"#46039f\"],[0.2222222222222222,\"#7201a8\"],[0.3333333333333333,\"#9c179e\"],[0.4444444444444444,\"#bd3786\"],[0.5555555555555556,\"#d8576b\"],[0.6666666666666666,\"#ed7953\"],[0.7777777777777778,\"#fb9f3a\"],[0.8888888888888888,\"#fdca26\"],[1.0,\"#f0f921\"]]}],\"choropleth\":[{\"type\":\"choropleth\",\"colorbar\":{\"outlinewidth\":0,\"ticks\":\"\"}}],\"histogram2d\":[{\"type\":\"histogram2d\",\"colorbar\":{\"outlinewidth\":0,\"ticks\":\"\"},\"colorscale\":[[0.0,\"#0d0887\"],[0.1111111111111111,\"#46039f\"],[0.2222222222222222,\"#7201a8\"],[0.3333333333333333,\"#9c179e\"],[0.4444444444444444,\"#bd3786\"],[0.5555555555555556,\"#d8576b\"],[0.6666666666666666,\"#ed7953\"],[0.7777777777777778,\"#fb9f3a\"],[0.8888888888888888,\"#fdca26\"],[1.0,\"#f0f921\"]]}],\"heatmap\":[{\"type\":\"heatmap\",\"colorbar\":{\"outlinewidth\":0,\"ticks\":\"\"},\"colorscale\":[[0.0,\"#0d0887\"],[0.1111111111111111,\"#46039f\"],[0.2222222222222222,\"#7201a8\"],[0.3333333333333333,\"#9c179e\"],[0.4444444444444444,\"#bd3786\"],[0.5555555555555556,\"#d8576b\"],[0.6666666666666666,\"#ed7953\"],[0.7777777777777778,\"#fb9f3a\"],[0.8888888888888888,\"#fdca26\"],[1.0,\"#f0f921\"]]}],\"heatmapgl\":[{\"type\":\"heatmapgl\",\"colorbar\":{\"outlinewidth\":0,\"ticks\":\"\"},\"colorscale\":[[0.0,\"#0d0887\"],[0.1111111111111111,\"#46039f\"],[0.2222222222222222,\"#7201a8\"],[0.3333333333333333,\"#9c179e\"],[0.4444444444444444,\"#bd3786\"],[0.5555555555555556,\"#d8576b\"],[0.6666666666666666,\"#ed7953\"],[0.7777777777777778,\"#fb9f3a\"],[0.8888888888888888,\"#fdca26\"],[1.0,\"#f0f921\"]]}],\"contourcarpet\":[{\"type\":\"contourcarpet\",\"colorbar\":{\"outlinewidth\":0,\"ticks\":\"\"}}],\"contour\":[{\"type\":\"contour\",\"colorbar\":{\"outlinewidth\":0,\"ticks\":\"\"},\"colorscale\":[[0.0,\"#0d0887\"],[0.1111111111111111,\"#46039f\"],[0.2222222222222222,\"#7201a8\"],[0.3333333333333333,\"#9c179e\"],[0.4444444444444444,\"#bd3786\"],[0.5555555555555556,\"#d8576b\"],[0.6666666666666666,\"#ed7953\"],[0.7777777777777778,\"#fb9f3a\"],[0.8888888888888888,\"#fdca26\"],[1.0,\"#f0f921\"]]}],\"surface\":[{\"type\":\"surface\",\"colorbar\":{\"outlinewidth\":0,\"ticks\":\"\"},\"colorscale\":[[0.0,\"#0d0887\"],[0.1111111111111111,\"#46039f\"],[0.2222222222222222,\"#7201a8\"],[0.3333333333333333,\"#9c179e\"],[0.4444444444444444,\"#bd3786\"],[0.5555555555555556,\"#d8576b\"],[0.6666666666666666,\"#ed7953\"],[0.7777777777777778,\"#fb9f3a\"],[0.8888888888888888,\"#fdca26\"],[1.0,\"#f0f921\"]]}],\"mesh3d\":[{\"type\":\"mesh3d\",\"colorbar\":{\"outlinewidth\":0,\"ticks\":\"\"}}],\"scatter\":[{\"fillpattern\":{\"fillmode\":\"overlay\",\"size\":10,\"solidity\":0.2},\"type\":\"scatter\"}],\"parcoords\":[{\"type\":\"parcoords\",\"line\":{\"colorbar\":{\"outlinewidth\":0,\"ticks\":\"\"}}}],\"scatterpolargl\":[{\"type\":\"scatterpolargl\",\"marker\":{\"colorbar\":{\"outlinewidth\":0,\"ticks\":\"\"}}}],\"bar\":[{\"error_x\":{\"color\":\"#2a3f5f\"},\"error_y\":{\"color\":\"#2a3f5f\"},\"marker\":{\"line\":{\"color\":\"#E5ECF6\",\"width\":0.5},\"pattern\":{\"fillmode\":\"overlay\",\"size\":10,\"solidity\":0.2}},\"type\":\"bar\"}],\"scattergeo\":[{\"type\":\"scattergeo\",\"marker\":{\"colorbar\":{\"outlinewidth\":0,\"ticks\":\"\"}}}],\"scatterpolar\":[{\"type\":\"scatterpolar\",\"marker\":{\"colorbar\":{\"outlinewidth\":0,\"ticks\":\"\"}}}],\"histogram\":[{\"marker\":{\"pattern\":{\"fillmode\":\"overlay\",\"size\":10,\"solidity\":0.2}},\"type\":\"histogram\"}],\"scattergl\":[{\"type\":\"scattergl\",\"marker\":{\"colorbar\":{\"outlinewidth\":0,\"ticks\":\"\"}}}],\"scatter3d\":[{\"type\":\"scatter3d\",\"line\":{\"colorbar\":{\"outlinewidth\":0,\"ticks\":\"\"}},\"marker\":{\"colorbar\":{\"outlinewidth\":0,\"ticks\":\"\"}}}],\"scattermapbox\":[{\"type\":\"scattermapbox\",\"marker\":{\"colorbar\":{\"outlinewidth\":0,\"ticks\":\"\"}}}],\"scatterternary\":[{\"type\":\"scatterternary\",\"marker\":{\"colorbar\":{\"outlinewidth\":0,\"ticks\":\"\"}}}],\"scattercarpet\":[{\"type\":\"scattercarpet\",\"marker\":{\"colorbar\":{\"outlinewidth\":0,\"ticks\":\"\"}}}],\"carpet\":[{\"aaxis\":{\"endlinecolor\":\"#2a3f5f\",\"gridcolor\":\"white\",\"linecolor\":\"white\",\"minorgridcolor\":\"white\",\"startlinecolor\":\"#2a3f5f\"},\"baxis\":{\"endlinecolor\":\"#2a3f5f\",\"gridcolor\":\"white\",\"linecolor\":\"white\",\"minorgridcolor\":\"white\",\"startlinecolor\":\"#2a3f5f\"},\"type\":\"carpet\"}],\"table\":[{\"cells\":{\"fill\":{\"color\":\"#EBF0F8\"},\"line\":{\"color\":\"white\"}},\"header\":{\"fill\":{\"color\":\"#C8D4E3\"},\"line\":{\"color\":\"white\"}},\"type\":\"table\"}],\"barpolar\":[{\"marker\":{\"line\":{\"color\":\"#E5ECF6\",\"width\":0.5},\"pattern\":{\"fillmode\":\"overlay\",\"size\":10,\"solidity\":0.2}},\"type\":\"barpolar\"}],\"pie\":[{\"automargin\":true,\"type\":\"pie\"}]},\"layout\":{\"autotypenumbers\":\"strict\",\"colorway\":[\"#636efa\",\"#EF553B\",\"#00cc96\",\"#ab63fa\",\"#FFA15A\",\"#19d3f3\",\"#FF6692\",\"#B6E880\",\"#FF97FF\",\"#FECB52\"],\"font\":{\"color\":\"#2a3f5f\"},\"hovermode\":\"closest\",\"hoverlabel\":{\"align\":\"left\"},\"paper_bgcolor\":\"white\",\"plot_bgcolor\":\"#E5ECF6\",\"polar\":{\"bgcolor\":\"#E5ECF6\",\"angularaxis\":{\"gridcolor\":\"white\",\"linecolor\":\"white\",\"ticks\":\"\"},\"radialaxis\":{\"gridcolor\":\"white\",\"linecolor\":\"white\",\"ticks\":\"\"}},\"ternary\":{\"bgcolor\":\"#E5ECF6\",\"aaxis\":{\"gridcolor\":\"white\",\"linecolor\":\"white\",\"ticks\":\"\"},\"baxis\":{\"gridcolor\":\"white\",\"linecolor\":\"white\",\"ticks\":\"\"},\"caxis\":{\"gridcolor\":\"white\",\"linecolor\":\"white\",\"ticks\":\"\"}},\"coloraxis\":{\"colorbar\":{\"outlinewidth\":0,\"ticks\":\"\"}},\"colorscale\":{\"sequential\":[[0.0,\"#0d0887\"],[0.1111111111111111,\"#46039f\"],[0.2222222222222222,\"#7201a8\"],[0.3333333333333333,\"#9c179e\"],[0.4444444444444444,\"#bd3786\"],[0.5555555555555556,\"#d8576b\"],[0.6666666666666666,\"#ed7953\"],[0.7777777777777778,\"#fb9f3a\"],[0.8888888888888888,\"#fdca26\"],[1.0,\"#f0f921\"]],\"sequentialminus\":[[0.0,\"#0d0887\"],[0.1111111111111111,\"#46039f\"],[0.2222222222222222,\"#7201a8\"],[0.3333333333333333,\"#9c179e\"],[0.4444444444444444,\"#bd3786\"],[0.5555555555555556,\"#d8576b\"],[0.6666666666666666,\"#ed7953\"],[0.7777777777777778,\"#fb9f3a\"],[0.8888888888888888,\"#fdca26\"],[1.0,\"#f0f921\"]],\"diverging\":[[0,\"#8e0152\"],[0.1,\"#c51b7d\"],[0.2,\"#de77ae\"],[0.3,\"#f1b6da\"],[0.4,\"#fde0ef\"],[0.5,\"#f7f7f7\"],[0.6,\"#e6f5d0\"],[0.7,\"#b8e186\"],[0.8,\"#7fbc41\"],[0.9,\"#4d9221\"],[1,\"#276419\"]]},\"xaxis\":{\"gridcolor\":\"white\",\"linecolor\":\"white\",\"ticks\":\"\",\"title\":{\"standoff\":15},\"zerolinecolor\":\"white\",\"automargin\":true,\"zerolinewidth\":2},\"yaxis\":{\"gridcolor\":\"white\",\"linecolor\":\"white\",\"ticks\":\"\",\"title\":{\"standoff\":15},\"zerolinecolor\":\"white\",\"automargin\":true,\"zerolinewidth\":2},\"scene\":{\"xaxis\":{\"backgroundcolor\":\"#E5ECF6\",\"gridcolor\":\"white\",\"linecolor\":\"white\",\"showbackground\":true,\"ticks\":\"\",\"zerolinecolor\":\"white\",\"gridwidth\":2},\"yaxis\":{\"backgroundcolor\":\"#E5ECF6\",\"gridcolor\":\"white\",\"linecolor\":\"white\",\"showbackground\":true,\"ticks\":\"\",\"zerolinecolor\":\"white\",\"gridwidth\":2},\"zaxis\":{\"backgroundcolor\":\"#E5ECF6\",\"gridcolor\":\"white\",\"linecolor\":\"white\",\"showbackground\":true,\"ticks\":\"\",\"zerolinecolor\":\"white\",\"gridwidth\":2}},\"shapedefaults\":{\"line\":{\"color\":\"#2a3f5f\"}},\"annotationdefaults\":{\"arrowcolor\":\"#2a3f5f\",\"arrowhead\":0,\"arrowwidth\":1},\"geo\":{\"bgcolor\":\"white\",\"landcolor\":\"#E5ECF6\",\"subunitcolor\":\"white\",\"showland\":true,\"showlakes\":true,\"lakecolor\":\"white\"},\"title\":{\"x\":0.05},\"mapbox\":{\"style\":\"light\"}}},\"title\":{\"text\":\"EJECTION FRACTION DISTRIBUTION\"},\"xaxis\":{\"title\":{\"text\":\"EJECTION FRACTION\"},\"showgrid\":false},\"yaxis\":{\"title\":{\"text\":\"COUNT\"},\"showgrid\":false},\"bargap\":0.05},                        {\"responsive\": true}                    ).then(function(){\n",
       "                            \n",
       "var gd = document.getElementById('2f1a3bfa-8227-482a-8d2a-6b191923fc41');\n",
       "var x = new MutationObserver(function (mutations, observer) {{\n",
       "        var display = window.getComputedStyle(gd).display;\n",
       "        if (!display || display === 'none') {{\n",
       "            console.log([gd, 'removed!']);\n",
       "            Plotly.purge(gd);\n",
       "            observer.disconnect();\n",
       "        }}\n",
       "}});\n",
       "\n",
       "// Listen for the removal of the full notebook cells\n",
       "var notebookContainer = gd.closest('#notebook-container');\n",
       "if (notebookContainer) {{\n",
       "    x.observe(notebookContainer, {childList: true});\n",
       "}}\n",
       "\n",
       "// Listen for the clearing of the current output cell\n",
       "var outputEl = gd.closest('.output');\n",
       "if (outputEl) {{\n",
       "    x.observe(outputEl, {childList: true});\n",
       "}}\n",
       "\n",
       "                        })                };                });            </script>        </div>"
      ]
     },
     "metadata": {},
     "output_type": "display_data"
    }
   ],
   "source": [
    "# Distribution of ejection_fraction\n",
    "\n",
    "import plotly.graph_objects as go\n",
    "\n",
    "fig = go.Figure()\n",
    "fig.add_trace(go.Histogram(\n",
    "    x = df['ejection_fraction'],\n",
    "    xbins=dict( # bins used for histogram\n",
    "        start=14,\n",
    "        end=80,\n",
    "        size=2\n",
    "    ),\n",
    "    marker_color='#FE6F5E',\n",
    "    opacity=1\n",
    "))\n",
    "\n",
    "fig.update_layout(\n",
    "    title_text='EJECTION FRACTION DISTRIBUTION',\n",
    "    xaxis_title_text='EJECTION FRACTION',\n",
    "    yaxis_title_text='COUNT', \n",
    "    bargap=0.05, # gap between bars of adjacent location coordinates\n",
    "    xaxis =  {'showgrid': False },\n",
    "    yaxis = {'showgrid': False },\n",
    "    template = 'plotly'\n",
    ")\n",
    "\n",
    "fig.show()"
   ]
  },
  {
   "cell_type": "code",
   "execution_count": 38,
   "metadata": {},
   "outputs": [
    {
     "data": {
      "application/vnd.plotly.v1+json": {
       "config": {
        "plotlyServerURL": "https://plot.ly"
       },
       "data": [
        {
         "alignmentgroup": "True",
         "bingroup": "x",
         "hovertemplate": "DEATH_EVENT=1<br>EJECTION FRACTION=%{x}<br>count=%{y}<extra></extra>",
         "legendgroup": "1",
         "marker": {
          "color": "#00cc96",
          "pattern": {
           "shape": ""
          }
         },
         "name": "1",
         "offsetgroup": "1",
         "orientation": "v",
         "showlegend": true,
         "type": "histogram",
         "x": [
          20,
          38,
          20,
          20,
          20,
          40,
          15,
          60,
          65,
          35,
          38,
          25,
          30,
          38,
          50,
          38,
          14,
          25,
          55,
          30,
          35,
          30,
          38,
          40,
          45,
          38,
          30,
          38,
          45,
          35,
          50,
          35,
          50,
          50,
          38,
          20,
          30,
          45,
          60,
          38,
          25,
          38,
          20,
          30,
          25,
          20,
          62,
          50,
          38,
          30,
          20,
          20,
          25,
          40,
          35,
          20,
          15,
          25,
          25,
          25,
          35,
          20,
          20,
          25,
          25,
          25,
          30,
          60,
          60,
          38,
          40,
          17,
          38,
          25,
          30,
          45,
          35,
          30,
          38,
          20,
          25,
          25,
          38,
          25,
          30,
          50,
          25,
          20,
          45,
          30,
          20,
          30,
          25,
          25,
          20
         ],
         "xaxis": "x",
         "yaxis": "y"
        },
        {
         "alignmentgroup": "True",
         "customdata": [
          [
           75,
           0,
           582,
           0,
           1,
           265000,
           1.9,
           130,
           1,
           0,
           4,
           1
          ],
          [
           55,
           0,
           7861,
           0,
           0,
           263358.03,
           1.1,
           136,
           1,
           0,
           6,
           1
          ],
          [
           65,
           0,
           146,
           0,
           0,
           162000,
           1.3,
           129,
           1,
           1,
           7,
           1
          ],
          [
           50,
           1,
           111,
           0,
           0,
           210000,
           1.9,
           137,
           1,
           0,
           7,
           1
          ],
          [
           65,
           1,
           160,
           1,
           0,
           327000,
           2.7,
           116,
           0,
           0,
           8,
           1
          ],
          [
           90,
           1,
           47,
           0,
           1,
           204000,
           2.1,
           132,
           1,
           1,
           8,
           1
          ],
          [
           75,
           1,
           246,
           0,
           0,
           127000,
           1.2,
           137,
           1,
           0,
           10,
           1
          ],
          [
           60,
           1,
           315,
           1,
           0,
           454000,
           1.1,
           131,
           1,
           1,
           10,
           1
          ],
          [
           65,
           0,
           157,
           0,
           0,
           263358.03,
           1.5,
           138,
           0,
           0,
           10,
           1
          ],
          [
           80,
           1,
           123,
           0,
           1,
           388000,
           9.4,
           133,
           1,
           1,
           10,
           1
          ],
          [
           75,
           1,
           81,
           0,
           1,
           368000,
           4,
           131,
           1,
           1,
           10,
           1
          ],
          [
           62,
           0,
           231,
           0,
           1,
           253000,
           0.9,
           140,
           1,
           1,
           10,
           1
          ],
          [
           45,
           1,
           981,
           0,
           0,
           136000,
           1.1,
           137,
           1,
           0,
           11,
           1
          ],
          [
           50,
           1,
           168,
           0,
           1,
           276000,
           1.1,
           137,
           1,
           0,
           11,
           1
          ],
          [
           82,
           1,
           379,
           0,
           0,
           47000,
           1.3,
           136,
           1,
           0,
           13,
           1
          ],
          [
           87,
           1,
           149,
           0,
           0,
           262000,
           0.9,
           140,
           1,
           0,
           14,
           1
          ],
          [
           45,
           0,
           582,
           0,
           0,
           166000,
           0.8,
           127,
           1,
           0,
           14,
           1
          ],
          [
           70,
           1,
           125,
           0,
           1,
           237000,
           1,
           140,
           0,
           0,
           15,
           1
          ],
          [
           48,
           1,
           582,
           1,
           0,
           87000,
           1.9,
           121,
           0,
           0,
           15,
           1
          ],
          [
           65,
           1,
           128,
           1,
           1,
           297000,
           1.6,
           136,
           0,
           0,
           20,
           1
          ],
          [
           68,
           1,
           220,
           0,
           1,
           289000,
           0.9,
           140,
           1,
           1,
           20,
           1
          ],
          [
           75,
           0,
           582,
           1,
           1,
           263358.03,
           1.83,
           134,
           0,
           0,
           23,
           1
          ],
          [
           80,
           0,
           148,
           1,
           0,
           149000,
           1.9,
           144,
           1,
           1,
           23,
           1
          ],
          [
           95,
           1,
           112,
           0,
           1,
           196000,
           1,
           138,
           0,
           0,
           24,
           1
          ],
          [
           70,
           0,
           122,
           1,
           1,
           284000,
           1.3,
           136,
           1,
           1,
           26,
           1
          ],
          [
           58,
           1,
           60,
           0,
           0,
           153000,
           5.8,
           134,
           1,
           0,
           26,
           1
          ],
          [
           82,
           0,
           70,
           1,
           0,
           200000,
           1.2,
           132,
           1,
           1,
           26,
           1
          ],
          [
           94,
           0,
           582,
           1,
           1,
           263358.03,
           1.83,
           134,
           1,
           0,
           27,
           1
          ],
          [
           85,
           0,
           23,
           0,
           0,
           360000,
           3,
           132,
           1,
           0,
           28,
           1
          ],
          [
           50,
           1,
           249,
           1,
           1,
           319000,
           1,
           128,
           0,
           0,
           28,
           1
          ],
          [
           65,
           0,
           94,
           1,
           1,
           188000,
           1,
           140,
           1,
           0,
           29,
           1
          ],
          [
           69,
           0,
           582,
           1,
           0,
           228000,
           3.5,
           134,
           1,
           0,
           30,
           1
          ],
          [
           90,
           1,
           60,
           1,
           0,
           226000,
           1,
           134,
           1,
           0,
           30,
           1
          ],
          [
           82,
           1,
           855,
           1,
           1,
           321000,
           1,
           145,
           0,
           0,
           30,
           1
          ],
          [
           60,
           0,
           235,
           1,
           0,
           329000,
           3,
           142,
           0,
           0,
           30,
           1
          ],
          [
           70,
           0,
           582,
           0,
           1,
           263358.03,
           1.83,
           134,
           1,
           1,
           31,
           1
          ],
          [
           50,
           0,
           124,
           1,
           1,
           153000,
           1.2,
           136,
           0,
           1,
           32,
           1
          ],
          [
           70,
           0,
           571,
           1,
           1,
           185000,
           1.2,
           139,
           1,
           1,
           33,
           1
          ],
          [
           60,
           1,
           588,
           1,
           0,
           194000,
           1.1,
           142,
           0,
           0,
           33,
           1
          ],
          [
           50,
           0,
           582,
           1,
           0,
           310000,
           1.9,
           135,
           1,
           1,
           35,
           1
          ],
          [
           51,
           0,
           1380,
           0,
           1,
           271000,
           0.9,
           130,
           1,
           0,
           38,
           1
          ],
          [
           60,
           0,
           582,
           1,
           1,
           451000,
           0.6,
           138,
           1,
           1,
           40,
           1
          ],
          [
           80,
           1,
           553,
           0,
           1,
           140000,
           4.4,
           133,
           1,
           0,
           41,
           1
          ],
          [
           57,
           1,
           129,
           0,
           0,
           395000,
           1,
           140,
           0,
           0,
           42,
           1
          ],
          [
           68,
           1,
           577,
           0,
           1,
           166000,
           1,
           138,
           1,
           0,
           43,
           1
          ],
          [
           53,
           1,
           91,
           0,
           1,
           418000,
           1.4,
           139,
           0,
           0,
           43,
           1
          ],
          [
           60,
           0,
           3964,
           1,
           0,
           263358.03,
           6.8,
           146,
           0,
           0,
           43,
           1
          ],
          [
           70,
           1,
           69,
           1,
           1,
           351000,
           1,
           134,
           0,
           0,
           44,
           1
          ],
          [
           60,
           1,
           260,
           1,
           0,
           255000,
           2.2,
           132,
           0,
           1,
           45,
           1
          ],
          [
           95,
           1,
           371,
           0,
           0,
           461000,
           2,
           132,
           1,
           0,
           50,
           1
          ],
          [
           49,
           0,
           789,
           0,
           1,
           319000,
           1.1,
           136,
           1,
           1,
           55,
           1
          ],
          [
           72,
           0,
           364,
           1,
           1,
           254000,
           1.3,
           136,
           1,
           1,
           59,
           1
          ],
          [
           45,
           0,
           7702,
           1,
           1,
           390000,
           1,
           139,
           1,
           0,
           60,
           1
          ],
          [
           50,
           0,
           318,
           0,
           1,
           216000,
           2.3,
           131,
           0,
           0,
           60,
           1
          ],
          [
           45,
           0,
           582,
           0,
           0,
           385000,
           1,
           145,
           1,
           0,
           61,
           1
          ],
          [
           60,
           0,
           68,
           0,
           0,
           119000,
           2.9,
           127,
           1,
           1,
           64,
           1
          ],
          [
           42,
           1,
           250,
           1,
           0,
           213000,
           1.3,
           136,
           0,
           0,
           65,
           1
          ],
          [
           72,
           1,
           110,
           0,
           0,
           274000,
           1,
           140,
           1,
           1,
           65,
           1
          ],
          [
           70,
           0,
           161,
           0,
           0,
           244000,
           1.2,
           142,
           0,
           0,
           66,
           1
          ],
          [
           65,
           0,
           113,
           1,
           0,
           497000,
           1.83,
           135,
           1,
           0,
           67,
           1
          ],
          [
           85,
           0,
           5882,
           0,
           0,
           243000,
           1,
           132,
           1,
           1,
           72,
           1
          ],
          [
           69,
           0,
           582,
           0,
           0,
           266000,
           1.2,
           134,
           1,
           1,
           73,
           1
          ],
          [
           60,
           1,
           47,
           0,
           0,
           204000,
           0.7,
           139,
           1,
           1,
           73,
           1
          ],
          [
           60,
           1,
           76,
           1,
           0,
           196000,
           2.5,
           132,
           0,
           0,
           77,
           1
          ],
          [
           59,
           1,
           280,
           1,
           1,
           302000,
           1,
           141,
           0,
           0,
           78,
           1
          ],
          [
           60,
           1,
           154,
           0,
           0,
           210000,
           1.7,
           135,
           1,
           0,
           82,
           1
          ],
          [
           72,
           1,
           328,
           0,
           1,
           621000,
           1.7,
           138,
           0,
           1,
           88,
           1
          ],
          [
           85,
           0,
           129,
           0,
           0,
           306000,
           1.2,
           132,
           1,
           1,
           90,
           1
          ],
          [
           70,
           1,
           143,
           0,
           0,
           351000,
           1.3,
           137,
           0,
           0,
           90,
           1
          ],
          [
           86,
           0,
           582,
           0,
           0,
           263358.03,
           1.83,
           134,
           0,
           0,
           95,
           1
          ],
          [
           60,
           0,
           582,
           0,
           0,
           217000,
           3.7,
           134,
           1,
           0,
           96,
           1
          ],
          [
           46,
           0,
           168,
           1,
           1,
           271000,
           2.1,
           124,
           0,
           0,
           100,
           1
          ],
          [
           80,
           0,
           805,
           0,
           0,
           263358.03,
           1.1,
           134,
           1,
           0,
           109,
           1
          ],
          [
           72,
           1,
           943,
           0,
           1,
           338000,
           1.7,
           139,
           1,
           1,
           111,
           1
          ],
          [
           75,
           1,
           582,
           0,
           0,
           225000,
           1.83,
           134,
           1,
           0,
           113,
           1
          ],
          [
           72,
           0,
           233,
           0,
           1,
           235000,
           2.5,
           135,
           0,
           0,
           115,
           1
          ],
          [
           50,
           1,
           2334,
           1,
           0,
           75000,
           0.9,
           142,
           0,
           0,
           126,
           1
          ],
          [
           45,
           0,
           2442,
           1,
           0,
           334000,
           1.1,
           139,
           1,
           0,
           129,
           1
          ],
          [
           80,
           0,
           776,
           1,
           1,
           192000,
           1.3,
           135,
           0,
           0,
           130,
           1
          ],
          [
           59,
           0,
           66,
           1,
           0,
           70000,
           2.4,
           134,
           1,
           0,
           135,
           1
          ],
          [
           59,
           1,
           176,
           1,
           0,
           221000,
           1,
           136,
           1,
           1,
           150,
           1
          ],
          [
           65,
           0,
           395,
           1,
           0,
           265000,
           1.2,
           136,
           1,
           1,
           154,
           1
          ],
          [
           75,
           0,
           99,
           0,
           1,
           224000,
           2.5,
           134,
           1,
           0,
           162,
           1
          ],
          [
           58,
           1,
           145,
           0,
           0,
           219000,
           1.2,
           137,
           1,
           1,
           170,
           1
          ],
          [
           60.667,
           1,
           104,
           1,
           0,
           389000,
           1.5,
           136,
           1,
           0,
           171,
           1
          ],
          [
           50,
           0,
           582,
           0,
           0,
           153000,
           0.6,
           134,
           0,
           0,
           172,
           1
          ],
          [
           60,
           0,
           1896,
           1,
           0,
           365000,
           2.1,
           144,
           0,
           0,
           172,
           1
          ],
          [
           45,
           0,
           582,
           0,
           1,
           126000,
           1.6,
           135,
           1,
           0,
           180,
           1
          ],
          [
           77,
           1,
           418,
           0,
           0,
           223000,
           1.8,
           145,
           1,
           0,
           180,
           1
          ],
          [
           48,
           1,
           131,
           1,
           1,
           244000,
           1.6,
           130,
           0,
           0,
           193,
           1
          ],
          [
           73,
           0,
           582,
           0,
           0,
           263358.03,
           1.83,
           134,
           1,
           0,
           198,
           1
          ],
          [
           60,
           0,
           166,
           0,
           0,
           62000,
           1.7,
           127,
           0,
           0,
           207,
           1
          ],
          [
           55,
           0,
           2017,
           0,
           0,
           314000,
           1.1,
           138,
           1,
           0,
           214,
           1
          ],
          [
           65,
           1,
           258,
           1,
           0,
           198000,
           1.4,
           129,
           1,
           0,
           235,
           1
          ],
          [
           55,
           0,
           1199,
           0,
           0,
           263358.03,
           1.83,
           134,
           1,
           1,
           241,
           1
          ]
         ],
         "hovertemplate": "DEATH_EVENT=%{customdata[11]}<br>EJECTION FRACTION=%{x}<br>age=%{customdata[0]}<br>anaemia=%{customdata[1]}<br>creatinine_phosphokinase=%{customdata[2]}<br>diabetes=%{customdata[3]}<br>high_blood_pressure=%{customdata[4]}<br>platelets=%{customdata[5]}<br>serum_creatinine=%{customdata[6]}<br>serum_sodium=%{customdata[7]}<br>sex=%{customdata[8]}<br>smoking=%{customdata[9]}<br>time=%{customdata[10]}<extra></extra>",
         "legendgroup": "1",
         "marker": {
          "color": "#00cc96"
         },
         "name": "1",
         "offsetgroup": "1",
         "scalegroup": "x",
         "showlegend": false,
         "type": "violin",
         "x": [
          20,
          38,
          20,
          20,
          20,
          40,
          15,
          60,
          65,
          35,
          38,
          25,
          30,
          38,
          50,
          38,
          14,
          25,
          55,
          30,
          35,
          30,
          38,
          40,
          45,
          38,
          30,
          38,
          45,
          35,
          50,
          35,
          50,
          50,
          38,
          20,
          30,
          45,
          60,
          38,
          25,
          38,
          20,
          30,
          25,
          20,
          62,
          50,
          38,
          30,
          20,
          20,
          25,
          40,
          35,
          20,
          15,
          25,
          25,
          25,
          35,
          20,
          20,
          25,
          25,
          25,
          30,
          60,
          60,
          38,
          40,
          17,
          38,
          25,
          30,
          45,
          35,
          30,
          38,
          20,
          25,
          25,
          38,
          25,
          30,
          50,
          25,
          20,
          45,
          30,
          20,
          30,
          25,
          25,
          20
         ],
         "xaxis": "x2",
         "yaxis": "y2"
        },
        {
         "alignmentgroup": "True",
         "bingroup": "x",
         "hovertemplate": "DEATH_EVENT=0<br>EJECTION FRACTION=%{x}<br>count=%{y}<extra></extra>",
         "legendgroup": "0",
         "marker": {
          "color": "#ab63fa",
          "pattern": {
           "shape": ""
          }
         },
         "name": "0",
         "offsetgroup": "0",
         "orientation": "v",
         "showlegend": true,
         "type": "histogram",
         "x": [
          30,
          25,
          60,
          30,
          30,
          50,
          35,
          40,
          35,
          40,
          35,
          50,
          60,
          40,
          38,
          45,
          40,
          50,
          50,
          50,
          35,
          60,
          40,
          25,
          45,
          45,
          60,
          38,
          60,
          25,
          60,
          25,
          40,
          25,
          45,
          25,
          30,
          50,
          45,
          35,
          38,
          35,
          35,
          25,
          40,
          40,
          60,
          60,
          60,
          60,
          38,
          38,
          30,
          50,
          60,
          30,
          35,
          60,
          45,
          40,
          60,
          35,
          40,
          60,
          25,
          35,
          30,
          35,
          30,
          40,
          30,
          30,
          60,
          35,
          60,
          45,
          35,
          35,
          25,
          35,
          25,
          50,
          45,
          40,
          35,
          40,
          60,
          40,
          35,
          35,
          40,
          60,
          20,
          35,
          60,
          40,
          50,
          60,
          40,
          30,
          40,
          45,
          35,
          60,
          40,
          30,
          38,
          30,
          20,
          35,
          45,
          60,
          60,
          25,
          40,
          45,
          40,
          38,
          40,
          35,
          17,
          62,
          50,
          35,
          35,
          50,
          35,
          35,
          50,
          35,
          25,
          25,
          60,
          25,
          35,
          25,
          25,
          35,
          35,
          38,
          45,
          50,
          50,
          30,
          40,
          45,
          35,
          30,
          35,
          40,
          38,
          38,
          25,
          35,
          40,
          30,
          35,
          45,
          35,
          60,
          30,
          38,
          38,
          25,
          50,
          40,
          40,
          60,
          38,
          35,
          38,
          38,
          35,
          30,
          40,
          38,
          40,
          30,
          38,
          35,
          38,
          30,
          38,
          40,
          40,
          30,
          38,
          40,
          40,
          35,
          55,
          35,
          38,
          55,
          35,
          38,
          35,
          38,
          38,
          60,
          38,
          45
         ],
         "xaxis": "x",
         "yaxis": "y"
        },
        {
         "alignmentgroup": "True",
         "customdata": [
          [
           49,
           1,
           80,
           0,
           1,
           427000,
           1,
           138,
           0,
           0,
           12,
           0
          ],
          [
           65,
           1,
           52,
           0,
           1,
           276000,
           1.3,
           137,
           0,
           0,
           16,
           0
          ],
          [
           53,
           0,
           63,
           1,
           0,
           368000,
           0.8,
           135,
           1,
           0,
           22,
           0
          ],
          [
           50,
           1,
           159,
           1,
           0,
           302000,
           1.2,
           138,
           0,
           0,
           29,
           0
          ],
          [
           60,
           0,
           2656,
           1,
           0,
           305000,
           2.3,
           137,
           1,
           0,
           30,
           0
          ],
          [
           72,
           0,
           127,
           1,
           1,
           218000,
           1,
           134,
           1,
           0,
           33,
           0
          ],
          [
           70,
           1,
           75,
           0,
           0,
           223000,
           2.7,
           138,
           1,
           1,
           54,
           0
          ],
          [
           60,
           1,
           607,
           0,
           0,
           216000,
           0.6,
           138,
           1,
           1,
           54,
           0
          ],
          [
           55,
           0,
           109,
           0,
           0,
           254000,
           1.1,
           139,
           1,
           1,
           60,
           0
          ],
          [
           41,
           0,
           148,
           0,
           0,
           374000,
           0.8,
           140,
           1,
           1,
           68,
           0
          ],
          [
           58,
           0,
           582,
           1,
           0,
           122000,
           0.9,
           139,
           1,
           1,
           71,
           0
          ],
          [
           65,
           0,
           224,
           1,
           0,
           149000,
           1.3,
           137,
           1,
           1,
           72,
           0
          ],
          [
           70,
           0,
           92,
           0,
           1,
           317000,
           0.8,
           140,
           0,
           1,
           74,
           0
          ],
          [
           42,
           0,
           102,
           1,
           0,
           237000,
           1.2,
           140,
           1,
           0,
           74,
           0
          ],
          [
           75,
           1,
           203,
           1,
           1,
           283000,
           0.6,
           131,
           1,
           1,
           74,
           0
          ],
          [
           55,
           0,
           336,
           0,
           1,
           324000,
           0.9,
           140,
           0,
           0,
           74,
           0
          ],
          [
           70,
           0,
           69,
           0,
           0,
           293000,
           1.7,
           136,
           0,
           0,
           75,
           0
          ],
          [
           67,
           0,
           582,
           0,
           0,
           263358.03,
           1.18,
           137,
           1,
           1,
           76,
           0
          ],
          [
           79,
           1,
           55,
           0,
           1,
           172000,
           1.8,
           133,
           1,
           0,
           78,
           0
          ],
          [
           51,
           0,
           78,
           0,
           0,
           406000,
           0.7,
           140,
           1,
           0,
           79,
           0
          ],
          [
           55,
           0,
           47,
           0,
           1,
           173000,
           1.1,
           137,
           1,
           0,
           79,
           0
          ],
          [
           65,
           1,
           68,
           1,
           1,
           304000,
           0.8,
           140,
           1,
           0,
           79,
           0
          ],
          [
           44,
           0,
           84,
           1,
           1,
           235000,
           0.7,
           139,
           1,
           0,
           79,
           0
          ],
          [
           57,
           1,
           115,
           0,
           1,
           181000,
           1.1,
           144,
           1,
           0,
           79,
           0
          ],
          [
           70,
           0,
           66,
           1,
           0,
           249000,
           0.8,
           136,
           1,
           1,
           80,
           0
          ],
          [
           60,
           0,
           897,
           1,
           0,
           297000,
           1,
           133,
           1,
           0,
           80,
           0
          ],
          [
           42,
           0,
           582,
           0,
           0,
           263358.03,
           1.18,
           137,
           0,
           0,
           82,
           0
          ],
          [
           58,
           0,
           144,
           1,
           1,
           327000,
           0.7,
           142,
           0,
           0,
           83,
           0
          ],
          [
           58,
           1,
           133,
           0,
           1,
           219000,
           1,
           141,
           1,
           0,
           83,
           0
          ],
          [
           63,
           1,
           514,
           1,
           1,
           254000,
           1.3,
           134,
           1,
           0,
           83,
           0
          ],
          [
           70,
           1,
           59,
           0,
           0,
           255000,
           1.1,
           136,
           0,
           0,
           85,
           0
          ],
          [
           60,
           1,
           156,
           1,
           1,
           318000,
           1.2,
           137,
           0,
           0,
           85,
           0
          ],
          [
           63,
           1,
           61,
           1,
           0,
           221000,
           1.1,
           140,
           0,
           0,
           86,
           0
          ],
          [
           65,
           1,
           305,
           0,
           0,
           298000,
           1.1,
           141,
           1,
           0,
           87,
           0
          ],
          [
           75,
           0,
           582,
           0,
           1,
           263358.03,
           1.18,
           137,
           1,
           0,
           87,
           0
          ],
          [
           80,
           0,
           898,
           0,
           0,
           149000,
           1.1,
           144,
           1,
           1,
           87,
           0
          ],
          [
           42,
           0,
           5209,
           0,
           0,
           226000,
           1,
           140,
           1,
           1,
           87,
           0
          ],
          [
           60,
           0,
           53,
           0,
           1,
           286000,
           2.3,
           143,
           0,
           0,
           87,
           0
          ],
          [
           55,
           0,
           748,
           0,
           0,
           263000,
           1.3,
           137,
           1,
           0,
           88,
           0
          ],
          [
           45,
           1,
           1876,
           1,
           0,
           226000,
           0.9,
           138,
           1,
           0,
           88,
           0
          ],
          [
           63,
           0,
           936,
           0,
           0,
           304000,
           1.1,
           133,
           1,
           1,
           88,
           0
          ],
          [
           45,
           0,
           292,
           1,
           0,
           850000,
           1.3,
           142,
           1,
           1,
           88,
           0
          ],
          [
           55,
           0,
           60,
           0,
           0,
           228000,
           1.2,
           135,
           1,
           1,
           90,
           0
          ],
          [
           50,
           0,
           369,
           1,
           0,
           252000,
           1.6,
           136,
           1,
           0,
           90,
           0
          ],
          [
           60,
           1,
           754,
           1,
           1,
           328000,
           1.2,
           126,
           1,
           0,
           91,
           0
          ],
          [
           58,
           1,
           400,
           0,
           0,
           164000,
           1,
           139,
           0,
           0,
           91,
           0
          ],
          [
           60,
           1,
           96,
           1,
           1,
           271000,
           0.7,
           136,
           0,
           0,
           94,
           0
          ],
          [
           85,
           1,
           102,
           0,
           0,
           507000,
           3.2,
           138,
           0,
           0,
           94,
           0
          ],
          [
           65,
           1,
           113,
           1,
           1,
           203000,
           0.9,
           140,
           0,
           0,
           94,
           0
          ],
          [
           60,
           1,
           737,
           0,
           1,
           210000,
           1.5,
           135,
           1,
           1,
           95,
           0
          ],
          [
           66,
           1,
           68,
           1,
           1,
           162000,
           1,
           136,
           0,
           0,
           95,
           0
          ],
          [
           60,
           0,
           96,
           1,
           0,
           228000,
           0.75,
           140,
           0,
           0,
           95,
           0
          ],
          [
           60,
           1,
           582,
           0,
           1,
           127000,
           0.9,
           145,
           0,
           0,
           95,
           0
          ],
          [
           43,
           1,
           358,
           0,
           0,
           237000,
           1.3,
           135,
           0,
           0,
           97,
           0
          ],
          [
           58,
           1,
           200,
           1,
           0,
           300000,
           0.8,
           137,
           0,
           0,
           104,
           0
          ],
          [
           61,
           0,
           248,
           0,
           1,
           267000,
           0.7,
           136,
           1,
           1,
           104,
           0
          ],
          [
           53,
           1,
           270,
           1,
           0,
           227000,
           3.4,
           145,
           1,
           0,
           105,
           0
          ],
          [
           53,
           1,
           1808,
           0,
           1,
           249000,
           0.7,
           138,
           1,
           1,
           106,
           0
          ],
          [
           60,
           1,
           1082,
           1,
           0,
           250000,
           6.1,
           131,
           1,
           0,
           107,
           0
          ],
          [
           46,
           0,
           719,
           0,
           1,
           263358.03,
           1.18,
           137,
           0,
           0,
           107,
           0
          ],
          [
           63,
           0,
           193,
           0,
           1,
           295000,
           1.3,
           145,
           1,
           1,
           107,
           0
          ],
          [
           81,
           0,
           4540,
           0,
           0,
           231000,
           1.18,
           137,
           1,
           1,
           107,
           0
          ],
          [
           75,
           0,
           582,
           0,
           0,
           263358.03,
           1.18,
           137,
           1,
           0,
           107,
           0
          ],
          [
           65,
           1,
           59,
           1,
           0,
           172000,
           0.9,
           137,
           0,
           0,
           107,
           0
          ],
          [
           68,
           1,
           646,
           0,
           0,
           305000,
           2.1,
           130,
           1,
           0,
           108,
           0
          ],
          [
           62,
           0,
           281,
           1,
           0,
           221000,
           1,
           136,
           0,
           0,
           108,
           0
          ],
          [
           50,
           0,
           1548,
           0,
           1,
           211000,
           0.8,
           138,
           1,
           0,
           108,
           0
          ],
          [
           46,
           1,
           291,
           0,
           0,
           348000,
           0.9,
           140,
           0,
           0,
           109,
           0
          ],
          [
           50,
           0,
           482,
           1,
           0,
           329000,
           0.9,
           132,
           0,
           0,
           109,
           0
          ],
          [
           61,
           1,
           84,
           0,
           1,
           229000,
           0.9,
           141,
           0,
           0,
           110,
           0
          ],
          [
           50,
           0,
           185,
           0,
           0,
           266000,
           0.7,
           141,
           1,
           1,
           112,
           0
          ],
          [
           52,
           0,
           132,
           0,
           0,
           218000,
           0.7,
           136,
           1,
           1,
           112,
           0
          ],
          [
           64,
           0,
           1610,
           0,
           0,
           242000,
           1,
           137,
           1,
           0,
           113,
           0
          ],
          [
           60,
           0,
           2261,
           0,
           1,
           228000,
           0.9,
           136,
           1,
           0,
           115,
           0
          ],
          [
           62,
           0,
           30,
           1,
           1,
           244000,
           0.9,
           139,
           1,
           0,
           117,
           0
          ],
          [
           50,
           0,
           115,
           0,
           1,
           184000,
           0.9,
           134,
           1,
           1,
           118,
           0
          ],
          [
           50,
           0,
           1846,
           1,
           0,
           263358.03,
           1.18,
           137,
           1,
           1,
           119,
           0
          ],
          [
           65,
           1,
           335,
           0,
           1,
           235000,
           0.8,
           136,
           0,
           0,
           120,
           0
          ],
          [
           60,
           1,
           231,
           1,
           0,
           194000,
           1.7,
           140,
           1,
           0,
           120,
           0
          ],
          [
           52,
           1,
           58,
           0,
           0,
           277000,
           1.4,
           136,
           0,
           0,
           120,
           0
          ],
          [
           50,
           0,
           250,
           0,
           0,
           262000,
           1,
           136,
           1,
           1,
           120,
           0
          ],
          [
           85,
           1,
           910,
           0,
           0,
           235000,
           1.3,
           134,
           1,
           0,
           121,
           0
          ],
          [
           59,
           1,
           129,
           0,
           1,
           362000,
           1.1,
           139,
           1,
           1,
           121,
           0
          ],
          [
           66,
           1,
           72,
           0,
           1,
           242000,
           1.2,
           134,
           1,
           0,
           121,
           0
          ],
          [
           45,
           1,
           130,
           0,
           0,
           174000,
           0.8,
           139,
           1,
           1,
           121,
           0
          ],
          [
           63,
           1,
           582,
           0,
           0,
           448000,
           0.9,
           137,
           1,
           1,
           123,
           0
          ],
          [
           53,
           0,
           196,
           0,
           0,
           220000,
           0.7,
           133,
           1,
           1,
           134,
           0
          ],
          [
           65,
           0,
           582,
           1,
           0,
           270000,
           1,
           138,
           0,
           0,
           140,
           0
          ],
          [
           70,
           0,
           835,
           0,
           1,
           305000,
           0.8,
           133,
           0,
           0,
           145,
           0
          ],
          [
           51,
           1,
           582,
           1,
           0,
           263358.03,
           1.5,
           136,
           1,
           1,
           145,
           0
          ],
          [
           52,
           0,
           3966,
           0,
           0,
           325000,
           0.9,
           140,
           1,
           1,
           146,
           0
          ],
          [
           70,
           1,
           171,
           0,
           1,
           176000,
           1.1,
           145,
           1,
           1,
           146,
           0
          ],
          [
           50,
           1,
           115,
           0,
           0,
           189000,
           0.8,
           139,
           1,
           0,
           146,
           0
          ],
          [
           65,
           0,
           198,
           1,
           1,
           281000,
           0.9,
           137,
           1,
           1,
           146,
           0
          ],
          [
           60,
           1,
           95,
           0,
           0,
           337000,
           1,
           138,
           1,
           1,
           146,
           0
          ],
          [
           69,
           0,
           1419,
           0,
           0,
           105000,
           1,
           135,
           1,
           1,
           147,
           0
          ],
          [
           49,
           1,
           69,
           0,
           0,
           132000,
           1,
           140,
           0,
           0,
           147,
           0
          ],
          [
           63,
           1,
           122,
           1,
           0,
           267000,
           1.2,
           145,
           1,
           0,
           147,
           0
          ],
          [
           55,
           0,
           835,
           0,
           0,
           279000,
           0.7,
           140,
           1,
           1,
           147,
           0
          ],
          [
           40,
           0,
           478,
           1,
           0,
           303000,
           0.9,
           136,
           1,
           0,
           148,
           0
          ],
          [
           60.667,
           1,
           151,
           1,
           1,
           201000,
           1,
           136,
           0,
           0,
           172,
           0
          ],
          [
           40,
           0,
           244,
           0,
           1,
           275000,
           0.9,
           140,
           0,
           0,
           174,
           0
          ],
          [
           80,
           0,
           582,
           1,
           0,
           350000,
           2.1,
           134,
           1,
           0,
           174,
           0
          ],
          [
           64,
           1,
           62,
           0,
           0,
           309000,
           1.5,
           135,
           0,
           0,
           174,
           0
          ],
          [
           50,
           1,
           121,
           1,
           0,
           260000,
           0.7,
           130,
           1,
           0,
           175,
           0
          ],
          [
           73,
           1,
           231,
           1,
           0,
           160000,
           1.18,
           142,
           1,
           1,
           180,
           0
          ],
          [
           45,
           0,
           582,
           1,
           1,
           263358.03,
           1.18,
           137,
           0,
           0,
           185,
           0
          ],
          [
           65,
           0,
           167,
           0,
           0,
           259000,
           0.8,
           138,
           0,
           0,
           186,
           0
          ],
          [
           50,
           1,
           582,
           1,
           1,
           279000,
           1,
           134,
           0,
           0,
           186,
           0
          ],
          [
           60,
           0,
           1211,
           1,
           0,
           263358.03,
           1.8,
           113,
           1,
           1,
           186,
           0
          ],
          [
           63,
           1,
           1767,
           0,
           0,
           73000,
           0.7,
           137,
           1,
           0,
           186,
           0
          ],
          [
           45,
           0,
           308,
           1,
           1,
           377000,
           1,
           136,
           1,
           0,
           186,
           0
          ],
          [
           70,
           0,
           97,
           0,
           1,
           220000,
           0.9,
           138,
           1,
           0,
           186,
           0
          ],
          [
           60,
           0,
           59,
           0,
           1,
           212000,
           3.5,
           136,
           1,
           1,
           187,
           0
          ],
          [
           78,
           1,
           64,
           0,
           0,
           277000,
           0.7,
           137,
           1,
           1,
           187,
           0
          ],
          [
           50,
           1,
           167,
           1,
           0,
           362000,
           1,
           136,
           0,
           0,
           187,
           0
          ],
          [
           40,
           1,
           101,
           0,
           0,
           226000,
           0.8,
           141,
           0,
           0,
           187,
           0
          ],
          [
           85,
           0,
           212,
           0,
           0,
           186000,
           0.9,
           136,
           1,
           0,
           187,
           0
          ],
          [
           60,
           1,
           2281,
           1,
           0,
           283000,
           1,
           141,
           0,
           0,
           187,
           0
          ],
          [
           49,
           0,
           972,
           1,
           1,
           268000,
           0.8,
           130,
           0,
           0,
           187,
           0
          ],
          [
           70,
           0,
           212,
           1,
           1,
           389000,
           1,
           136,
           1,
           1,
           188,
           0
          ],
          [
           50,
           0,
           582,
           0,
           1,
           147000,
           0.8,
           140,
           1,
           1,
           192,
           0
          ],
          [
           78,
           0,
           224,
           0,
           0,
           481000,
           1.4,
           138,
           1,
           1,
           192,
           0
          ],
          [
           65,
           1,
           135,
           0,
           1,
           290000,
           0.8,
           134,
           1,
           0,
           194,
           0
          ],
          [
           73,
           0,
           582,
           0,
           1,
           203000,
           1.3,
           134,
           1,
           0,
           195,
           0
          ],
          [
           70,
           0,
           1202,
           0,
           1,
           358000,
           0.9,
           141,
           0,
           0,
           196,
           0
          ],
          [
           68,
           1,
           1021,
           1,
           0,
           271000,
           1.1,
           134,
           1,
           0,
           197,
           0
          ],
          [
           55,
           0,
           582,
           1,
           1,
           371000,
           0.7,
           140,
           0,
           0,
           197,
           0
          ],
          [
           65,
           0,
           118,
           0,
           0,
           194000,
           1.1,
           145,
           1,
           1,
           200,
           0
          ],
          [
           42,
           1,
           86,
           0,
           0,
           365000,
           1.1,
           139,
           1,
           1,
           201,
           0
          ],
          [
           47,
           0,
           582,
           0,
           0,
           130000,
           0.8,
           134,
           1,
           0,
           201,
           0
          ],
          [
           58,
           0,
           582,
           1,
           0,
           504000,
           1,
           138,
           1,
           0,
           205,
           0
          ],
          [
           75,
           0,
           675,
           1,
           0,
           265000,
           1.4,
           125,
           0,
           0,
           205,
           0
          ],
          [
           58,
           1,
           57,
           0,
           0,
           189000,
           1.3,
           132,
           1,
           1,
           205,
           0
          ],
          [
           55,
           1,
           2794,
           0,
           1,
           141000,
           1,
           140,
           1,
           0,
           206,
           0
          ],
          [
           65,
           0,
           56,
           0,
           0,
           237000,
           5,
           130,
           0,
           0,
           207,
           0
          ],
          [
           72,
           0,
           211,
           0,
           0,
           274000,
           1.2,
           134,
           0,
           0,
           207,
           0
          ],
          [
           70,
           0,
           93,
           0,
           0,
           185000,
           1.1,
           134,
           1,
           1,
           208,
           0
          ],
          [
           40,
           1,
           129,
           0,
           0,
           255000,
           0.9,
           137,
           1,
           0,
           209,
           0
          ],
          [
           53,
           1,
           707,
           0,
           0,
           330000,
           1.4,
           137,
           1,
           1,
           209,
           0
          ],
          [
           53,
           1,
           582,
           0,
           0,
           305000,
           1.1,
           137,
           1,
           1,
           209,
           0
          ],
          [
           77,
           1,
           109,
           0,
           1,
           406000,
           1.1,
           137,
           1,
           0,
           209,
           0
          ],
          [
           75,
           0,
           119,
           0,
           1,
           248000,
           1.1,
           148,
           1,
           0,
           209,
           0
          ],
          [
           70,
           0,
           232,
           0,
           0,
           173000,
           1.2,
           132,
           1,
           0,
           210,
           0
          ],
          [
           65,
           1,
           720,
           1,
           0,
           257000,
           1,
           136,
           0,
           0,
           210,
           0
          ],
          [
           55,
           1,
           180,
           0,
           0,
           263358.03,
           1.18,
           137,
           1,
           1,
           211,
           0
          ],
          [
           70,
           0,
           81,
           1,
           1,
           533000,
           1.3,
           139,
           0,
           0,
           212,
           0
          ],
          [
           65,
           0,
           582,
           1,
           0,
           249000,
           1.3,
           136,
           1,
           1,
           212,
           0
          ],
          [
           40,
           0,
           90,
           0,
           0,
           255000,
           1.1,
           136,
           1,
           1,
           212,
           0
          ],
          [
           73,
           1,
           1185,
           0,
           1,
           220000,
           0.9,
           141,
           0,
           0,
           213,
           0
          ],
          [
           54,
           0,
           582,
           1,
           0,
           264000,
           1.8,
           134,
           1,
           0,
           213,
           0
          ],
          [
           61,
           1,
           80,
           1,
           0,
           282000,
           1.4,
           137,
           1,
           0,
           213,
           0
          ],
          [
           64,
           0,
           143,
           0,
           0,
           246000,
           2.4,
           135,
           1,
           0,
           214,
           0
          ],
          [
           40,
           0,
           624,
           0,
           0,
           301000,
           1,
           142,
           1,
           1,
           214,
           0
          ],
          [
           53,
           0,
           207,
           1,
           0,
           223000,
           1.2,
           130,
           0,
           0,
           214,
           0
          ],
          [
           50,
           0,
           2522,
           0,
           1,
           404000,
           0.5,
           139,
           0,
           0,
           214,
           0
          ],
          [
           55,
           0,
           572,
           1,
           0,
           231000,
           0.8,
           143,
           0,
           0,
           215,
           0
          ],
          [
           50,
           0,
           245,
           0,
           1,
           274000,
           1,
           133,
           1,
           0,
           215,
           0
          ],
          [
           70,
           0,
           88,
           1,
           1,
           236000,
           1.2,
           132,
           0,
           0,
           215,
           0
          ],
          [
           53,
           1,
           446,
           0,
           1,
           263358.03,
           1,
           139,
           1,
           0,
           215,
           0
          ],
          [
           52,
           1,
           191,
           1,
           1,
           334000,
           1,
           142,
           1,
           1,
           216,
           0
          ],
          [
           65,
           0,
           326,
           0,
           0,
           294000,
           1.7,
           139,
           0,
           0,
           220,
           0
          ],
          [
           58,
           0,
           132,
           1,
           1,
           253000,
           1,
           139,
           1,
           0,
           230,
           0
          ],
          [
           45,
           1,
           66,
           1,
           0,
           233000,
           0.8,
           135,
           1,
           0,
           230,
           0
          ],
          [
           53,
           0,
           56,
           0,
           0,
           308000,
           0.7,
           135,
           1,
           1,
           231,
           0
          ],
          [
           55,
           0,
           66,
           0,
           0,
           203000,
           1,
           138,
           1,
           0,
           233,
           0
          ],
          [
           62,
           1,
           655,
           0,
           0,
           283000,
           0.7,
           133,
           0,
           0,
           233,
           0
          ],
          [
           68,
           1,
           157,
           1,
           0,
           208000,
           1,
           140,
           0,
           0,
           237,
           0
          ],
          [
           61,
           0,
           582,
           1,
           0,
           147000,
           1.2,
           141,
           1,
           0,
           237,
           0
          ],
          [
           50,
           1,
           298,
           0,
           0,
           362000,
           0.9,
           140,
           1,
           1,
           240,
           0
          ],
          [
           56,
           1,
           135,
           1,
           0,
           133000,
           1.7,
           140,
           1,
           0,
           244,
           0
          ],
          [
           45,
           0,
           582,
           1,
           0,
           302000,
           0.9,
           140,
           0,
           0,
           244,
           0
          ],
          [
           40,
           0,
           582,
           1,
           0,
           222000,
           1,
           132,
           1,
           0,
           244,
           0
          ],
          [
           44,
           0,
           582,
           1,
           1,
           263358.03,
           1.6,
           130,
           1,
           1,
           244,
           0
          ],
          [
           51,
           0,
           582,
           1,
           0,
           221000,
           0.9,
           134,
           0,
           0,
           244,
           0
          ],
          [
           67,
           0,
           213,
           0,
           0,
           215000,
           1.2,
           133,
           0,
           0,
           245,
           0
          ],
          [
           42,
           0,
           64,
           0,
           0,
           189000,
           0.7,
           140,
           1,
           0,
           245,
           0
          ],
          [
           60,
           1,
           257,
           1,
           0,
           150000,
           1,
           137,
           1,
           1,
           245,
           0
          ],
          [
           45,
           0,
           582,
           0,
           1,
           422000,
           0.8,
           137,
           0,
           0,
           245,
           0
          ],
          [
           70,
           0,
           618,
           0,
           0,
           327000,
           1.1,
           142,
           0,
           0,
           245,
           0
          ],
          [
           70,
           0,
           582,
           1,
           0,
           25100,
           1.1,
           140,
           1,
           0,
           246,
           0
          ],
          [
           50,
           1,
           1051,
           1,
           0,
           232000,
           0.7,
           136,
           0,
           0,
           246,
           0
          ],
          [
           55,
           0,
           84,
           1,
           0,
           451000,
           1.3,
           136,
           0,
           0,
           246,
           0
          ],
          [
           70,
           0,
           2695,
           1,
           0,
           241000,
           1,
           137,
           1,
           0,
           247,
           0
          ],
          [
           70,
           0,
           582,
           0,
           0,
           51000,
           2.7,
           136,
           1,
           1,
           250,
           0
          ],
          [
           42,
           0,
           64,
           0,
           0,
           215000,
           3.8,
           128,
           1,
           1,
           250,
           0
          ],
          [
           65,
           0,
           1688,
           0,
           0,
           263358.03,
           1.1,
           138,
           1,
           1,
           250,
           0
          ],
          [
           50,
           1,
           54,
           0,
           0,
           279000,
           0.8,
           141,
           1,
           0,
           250,
           0
          ],
          [
           55,
           1,
           170,
           1,
           0,
           336000,
           1.2,
           135,
           1,
           0,
           250,
           0
          ],
          [
           60,
           0,
           253,
           0,
           0,
           279000,
           1.7,
           140,
           1,
           0,
           250,
           0
          ],
          [
           45,
           0,
           582,
           1,
           0,
           543000,
           1,
           132,
           0,
           0,
           250,
           0
          ],
          [
           65,
           0,
           892,
           1,
           0,
           263358.03,
           1.1,
           142,
           0,
           0,
           256,
           0
          ],
          [
           90,
           1,
           337,
           0,
           0,
           390000,
           0.9,
           144,
           0,
           0,
           256,
           0
          ],
          [
           45,
           0,
           615,
           1,
           0,
           222000,
           0.8,
           141,
           0,
           0,
           257,
           0
          ],
          [
           60,
           0,
           320,
           0,
           0,
           133000,
           1.4,
           139,
           1,
           0,
           258,
           0
          ],
          [
           52,
           0,
           190,
           1,
           0,
           382000,
           1,
           140,
           1,
           1,
           258,
           0
          ],
          [
           63,
           1,
           103,
           1,
           0,
           179000,
           0.9,
           136,
           1,
           1,
           270,
           0
          ],
          [
           62,
           0,
           61,
           1,
           1,
           155000,
           1.1,
           143,
           1,
           1,
           270,
           0
          ],
          [
           55,
           0,
           1820,
           0,
           0,
           270000,
           1.2,
           139,
           0,
           0,
           271,
           0
          ],
          [
           45,
           0,
           2060,
           1,
           0,
           742000,
           0.8,
           138,
           0,
           0,
           278,
           0
          ],
          [
           45,
           0,
           2413,
           0,
           0,
           140000,
           1.4,
           140,
           1,
           1,
           280,
           0
          ],
          [
           50,
           0,
           196,
           0,
           0,
           395000,
           1.6,
           136,
           1,
           1,
           285,
           0
          ]
         ],
         "hovertemplate": "DEATH_EVENT=%{customdata[11]}<br>EJECTION FRACTION=%{x}<br>age=%{customdata[0]}<br>anaemia=%{customdata[1]}<br>creatinine_phosphokinase=%{customdata[2]}<br>diabetes=%{customdata[3]}<br>high_blood_pressure=%{customdata[4]}<br>platelets=%{customdata[5]}<br>serum_creatinine=%{customdata[6]}<br>serum_sodium=%{customdata[7]}<br>sex=%{customdata[8]}<br>smoking=%{customdata[9]}<br>time=%{customdata[10]}<extra></extra>",
         "legendgroup": "0",
         "marker": {
          "color": "#ab63fa"
         },
         "name": "0",
         "offsetgroup": "0",
         "scalegroup": "x",
         "showlegend": false,
         "type": "violin",
         "x": [
          30,
          25,
          60,
          30,
          30,
          50,
          35,
          40,
          35,
          40,
          35,
          50,
          60,
          40,
          38,
          45,
          40,
          50,
          50,
          50,
          35,
          60,
          40,
          25,
          45,
          45,
          60,
          38,
          60,
          25,
          60,
          25,
          40,
          25,
          45,
          25,
          30,
          50,
          45,
          35,
          38,
          35,
          35,
          25,
          40,
          40,
          60,
          60,
          60,
          60,
          38,
          38,
          30,
          50,
          60,
          30,
          35,
          60,
          45,
          40,
          60,
          35,
          40,
          60,
          25,
          35,
          30,
          35,
          30,
          40,
          30,
          30,
          60,
          35,
          60,
          45,
          35,
          35,
          25,
          35,
          25,
          50,
          45,
          40,
          35,
          40,
          60,
          40,
          35,
          35,
          40,
          60,
          20,
          35,
          60,
          40,
          50,
          60,
          40,
          30,
          40,
          45,
          35,
          60,
          40,
          30,
          38,
          30,
          20,
          35,
          45,
          60,
          60,
          25,
          40,
          45,
          40,
          38,
          40,
          35,
          17,
          62,
          50,
          35,
          35,
          50,
          35,
          35,
          50,
          35,
          25,
          25,
          60,
          25,
          35,
          25,
          25,
          35,
          35,
          38,
          45,
          50,
          50,
          30,
          40,
          45,
          35,
          30,
          35,
          40,
          38,
          38,
          25,
          35,
          40,
          30,
          35,
          45,
          35,
          60,
          30,
          38,
          38,
          25,
          50,
          40,
          40,
          60,
          38,
          35,
          38,
          38,
          35,
          30,
          40,
          38,
          40,
          30,
          38,
          35,
          38,
          30,
          38,
          40,
          40,
          30,
          38,
          40,
          40,
          35,
          55,
          35,
          38,
          55,
          35,
          38,
          35,
          38,
          38,
          60,
          38,
          45
         ],
         "xaxis": "x2",
         "yaxis": "y2"
        }
       ],
       "layout": {
        "barmode": "relative",
        "legend": {
         "title": {
          "text": "DEATH_EVENT"
         },
         "tracegroupgap": 0
        },
        "template": {
         "data": {
          "bar": [
           {
            "error_x": {
             "color": "#2a3f5f"
            },
            "error_y": {
             "color": "#2a3f5f"
            },
            "marker": {
             "line": {
              "color": "white",
              "width": 0.5
             },
             "pattern": {
              "fillmode": "overlay",
              "size": 10,
              "solidity": 0.2
             }
            },
            "type": "bar"
           }
          ],
          "barpolar": [
           {
            "marker": {
             "line": {
              "color": "white",
              "width": 0.5
             },
             "pattern": {
              "fillmode": "overlay",
              "size": 10,
              "solidity": 0.2
             }
            },
            "type": "barpolar"
           }
          ],
          "carpet": [
           {
            "aaxis": {
             "endlinecolor": "#2a3f5f",
             "gridcolor": "#C8D4E3",
             "linecolor": "#C8D4E3",
             "minorgridcolor": "#C8D4E3",
             "startlinecolor": "#2a3f5f"
            },
            "baxis": {
             "endlinecolor": "#2a3f5f",
             "gridcolor": "#C8D4E3",
             "linecolor": "#C8D4E3",
             "minorgridcolor": "#C8D4E3",
             "startlinecolor": "#2a3f5f"
            },
            "type": "carpet"
           }
          ],
          "choropleth": [
           {
            "colorbar": {
             "outlinewidth": 0,
             "ticks": ""
            },
            "type": "choropleth"
           }
          ],
          "contour": [
           {
            "colorbar": {
             "outlinewidth": 0,
             "ticks": ""
            },
            "colorscale": [
             [
              0,
              "#0d0887"
             ],
             [
              0.1111111111111111,
              "#46039f"
             ],
             [
              0.2222222222222222,
              "#7201a8"
             ],
             [
              0.3333333333333333,
              "#9c179e"
             ],
             [
              0.4444444444444444,
              "#bd3786"
             ],
             [
              0.5555555555555556,
              "#d8576b"
             ],
             [
              0.6666666666666666,
              "#ed7953"
             ],
             [
              0.7777777777777778,
              "#fb9f3a"
             ],
             [
              0.8888888888888888,
              "#fdca26"
             ],
             [
              1,
              "#f0f921"
             ]
            ],
            "type": "contour"
           }
          ],
          "contourcarpet": [
           {
            "colorbar": {
             "outlinewidth": 0,
             "ticks": ""
            },
            "type": "contourcarpet"
           }
          ],
          "heatmap": [
           {
            "colorbar": {
             "outlinewidth": 0,
             "ticks": ""
            },
            "colorscale": [
             [
              0,
              "#0d0887"
             ],
             [
              0.1111111111111111,
              "#46039f"
             ],
             [
              0.2222222222222222,
              "#7201a8"
             ],
             [
              0.3333333333333333,
              "#9c179e"
             ],
             [
              0.4444444444444444,
              "#bd3786"
             ],
             [
              0.5555555555555556,
              "#d8576b"
             ],
             [
              0.6666666666666666,
              "#ed7953"
             ],
             [
              0.7777777777777778,
              "#fb9f3a"
             ],
             [
              0.8888888888888888,
              "#fdca26"
             ],
             [
              1,
              "#f0f921"
             ]
            ],
            "type": "heatmap"
           }
          ],
          "heatmapgl": [
           {
            "colorbar": {
             "outlinewidth": 0,
             "ticks": ""
            },
            "colorscale": [
             [
              0,
              "#0d0887"
             ],
             [
              0.1111111111111111,
              "#46039f"
             ],
             [
              0.2222222222222222,
              "#7201a8"
             ],
             [
              0.3333333333333333,
              "#9c179e"
             ],
             [
              0.4444444444444444,
              "#bd3786"
             ],
             [
              0.5555555555555556,
              "#d8576b"
             ],
             [
              0.6666666666666666,
              "#ed7953"
             ],
             [
              0.7777777777777778,
              "#fb9f3a"
             ],
             [
              0.8888888888888888,
              "#fdca26"
             ],
             [
              1,
              "#f0f921"
             ]
            ],
            "type": "heatmapgl"
           }
          ],
          "histogram": [
           {
            "marker": {
             "pattern": {
              "fillmode": "overlay",
              "size": 10,
              "solidity": 0.2
             }
            },
            "type": "histogram"
           }
          ],
          "histogram2d": [
           {
            "colorbar": {
             "outlinewidth": 0,
             "ticks": ""
            },
            "colorscale": [
             [
              0,
              "#0d0887"
             ],
             [
              0.1111111111111111,
              "#46039f"
             ],
             [
              0.2222222222222222,
              "#7201a8"
             ],
             [
              0.3333333333333333,
              "#9c179e"
             ],
             [
              0.4444444444444444,
              "#bd3786"
             ],
             [
              0.5555555555555556,
              "#d8576b"
             ],
             [
              0.6666666666666666,
              "#ed7953"
             ],
             [
              0.7777777777777778,
              "#fb9f3a"
             ],
             [
              0.8888888888888888,
              "#fdca26"
             ],
             [
              1,
              "#f0f921"
             ]
            ],
            "type": "histogram2d"
           }
          ],
          "histogram2dcontour": [
           {
            "colorbar": {
             "outlinewidth": 0,
             "ticks": ""
            },
            "colorscale": [
             [
              0,
              "#0d0887"
             ],
             [
              0.1111111111111111,
              "#46039f"
             ],
             [
              0.2222222222222222,
              "#7201a8"
             ],
             [
              0.3333333333333333,
              "#9c179e"
             ],
             [
              0.4444444444444444,
              "#bd3786"
             ],
             [
              0.5555555555555556,
              "#d8576b"
             ],
             [
              0.6666666666666666,
              "#ed7953"
             ],
             [
              0.7777777777777778,
              "#fb9f3a"
             ],
             [
              0.8888888888888888,
              "#fdca26"
             ],
             [
              1,
              "#f0f921"
             ]
            ],
            "type": "histogram2dcontour"
           }
          ],
          "mesh3d": [
           {
            "colorbar": {
             "outlinewidth": 0,
             "ticks": ""
            },
            "type": "mesh3d"
           }
          ],
          "parcoords": [
           {
            "line": {
             "colorbar": {
              "outlinewidth": 0,
              "ticks": ""
             }
            },
            "type": "parcoords"
           }
          ],
          "pie": [
           {
            "automargin": true,
            "type": "pie"
           }
          ],
          "scatter": [
           {
            "fillpattern": {
             "fillmode": "overlay",
             "size": 10,
             "solidity": 0.2
            },
            "type": "scatter"
           }
          ],
          "scatter3d": [
           {
            "line": {
             "colorbar": {
              "outlinewidth": 0,
              "ticks": ""
             }
            },
            "marker": {
             "colorbar": {
              "outlinewidth": 0,
              "ticks": ""
             }
            },
            "type": "scatter3d"
           }
          ],
          "scattercarpet": [
           {
            "marker": {
             "colorbar": {
              "outlinewidth": 0,
              "ticks": ""
             }
            },
            "type": "scattercarpet"
           }
          ],
          "scattergeo": [
           {
            "marker": {
             "colorbar": {
              "outlinewidth": 0,
              "ticks": ""
             }
            },
            "type": "scattergeo"
           }
          ],
          "scattergl": [
           {
            "marker": {
             "colorbar": {
              "outlinewidth": 0,
              "ticks": ""
             }
            },
            "type": "scattergl"
           }
          ],
          "scattermapbox": [
           {
            "marker": {
             "colorbar": {
              "outlinewidth": 0,
              "ticks": ""
             }
            },
            "type": "scattermapbox"
           }
          ],
          "scatterpolar": [
           {
            "marker": {
             "colorbar": {
              "outlinewidth": 0,
              "ticks": ""
             }
            },
            "type": "scatterpolar"
           }
          ],
          "scatterpolargl": [
           {
            "marker": {
             "colorbar": {
              "outlinewidth": 0,
              "ticks": ""
             }
            },
            "type": "scatterpolargl"
           }
          ],
          "scatterternary": [
           {
            "marker": {
             "colorbar": {
              "outlinewidth": 0,
              "ticks": ""
             }
            },
            "type": "scatterternary"
           }
          ],
          "surface": [
           {
            "colorbar": {
             "outlinewidth": 0,
             "ticks": ""
            },
            "colorscale": [
             [
              0,
              "#0d0887"
             ],
             [
              0.1111111111111111,
              "#46039f"
             ],
             [
              0.2222222222222222,
              "#7201a8"
             ],
             [
              0.3333333333333333,
              "#9c179e"
             ],
             [
              0.4444444444444444,
              "#bd3786"
             ],
             [
              0.5555555555555556,
              "#d8576b"
             ],
             [
              0.6666666666666666,
              "#ed7953"
             ],
             [
              0.7777777777777778,
              "#fb9f3a"
             ],
             [
              0.8888888888888888,
              "#fdca26"
             ],
             [
              1,
              "#f0f921"
             ]
            ],
            "type": "surface"
           }
          ],
          "table": [
           {
            "cells": {
             "fill": {
              "color": "#EBF0F8"
             },
             "line": {
              "color": "white"
             }
            },
            "header": {
             "fill": {
              "color": "#C8D4E3"
             },
             "line": {
              "color": "white"
             }
            },
            "type": "table"
           }
          ]
         },
         "layout": {
          "annotationdefaults": {
           "arrowcolor": "#2a3f5f",
           "arrowhead": 0,
           "arrowwidth": 1
          },
          "autotypenumbers": "strict",
          "coloraxis": {
           "colorbar": {
            "outlinewidth": 0,
            "ticks": ""
           }
          },
          "colorscale": {
           "diverging": [
            [
             0,
             "#8e0152"
            ],
            [
             0.1,
             "#c51b7d"
            ],
            [
             0.2,
             "#de77ae"
            ],
            [
             0.3,
             "#f1b6da"
            ],
            [
             0.4,
             "#fde0ef"
            ],
            [
             0.5,
             "#f7f7f7"
            ],
            [
             0.6,
             "#e6f5d0"
            ],
            [
             0.7,
             "#b8e186"
            ],
            [
             0.8,
             "#7fbc41"
            ],
            [
             0.9,
             "#4d9221"
            ],
            [
             1,
             "#276419"
            ]
           ],
           "sequential": [
            [
             0,
             "#0d0887"
            ],
            [
             0.1111111111111111,
             "#46039f"
            ],
            [
             0.2222222222222222,
             "#7201a8"
            ],
            [
             0.3333333333333333,
             "#9c179e"
            ],
            [
             0.4444444444444444,
             "#bd3786"
            ],
            [
             0.5555555555555556,
             "#d8576b"
            ],
            [
             0.6666666666666666,
             "#ed7953"
            ],
            [
             0.7777777777777778,
             "#fb9f3a"
            ],
            [
             0.8888888888888888,
             "#fdca26"
            ],
            [
             1,
             "#f0f921"
            ]
           ],
           "sequentialminus": [
            [
             0,
             "#0d0887"
            ],
            [
             0.1111111111111111,
             "#46039f"
            ],
            [
             0.2222222222222222,
             "#7201a8"
            ],
            [
             0.3333333333333333,
             "#9c179e"
            ],
            [
             0.4444444444444444,
             "#bd3786"
            ],
            [
             0.5555555555555556,
             "#d8576b"
            ],
            [
             0.6666666666666666,
             "#ed7953"
            ],
            [
             0.7777777777777778,
             "#fb9f3a"
            ],
            [
             0.8888888888888888,
             "#fdca26"
            ],
            [
             1,
             "#f0f921"
            ]
           ]
          },
          "colorway": [
           "#636efa",
           "#EF553B",
           "#00cc96",
           "#ab63fa",
           "#FFA15A",
           "#19d3f3",
           "#FF6692",
           "#B6E880",
           "#FF97FF",
           "#FECB52"
          ],
          "font": {
           "color": "#2a3f5f"
          },
          "geo": {
           "bgcolor": "white",
           "lakecolor": "white",
           "landcolor": "white",
           "showlakes": true,
           "showland": true,
           "subunitcolor": "#C8D4E3"
          },
          "hoverlabel": {
           "align": "left"
          },
          "hovermode": "closest",
          "mapbox": {
           "style": "light"
          },
          "paper_bgcolor": "white",
          "plot_bgcolor": "white",
          "polar": {
           "angularaxis": {
            "gridcolor": "#EBF0F8",
            "linecolor": "#EBF0F8",
            "ticks": ""
           },
           "bgcolor": "white",
           "radialaxis": {
            "gridcolor": "#EBF0F8",
            "linecolor": "#EBF0F8",
            "ticks": ""
           }
          },
          "scene": {
           "xaxis": {
            "backgroundcolor": "white",
            "gridcolor": "#DFE8F3",
            "gridwidth": 2,
            "linecolor": "#EBF0F8",
            "showbackground": true,
            "ticks": "",
            "zerolinecolor": "#EBF0F8"
           },
           "yaxis": {
            "backgroundcolor": "white",
            "gridcolor": "#DFE8F3",
            "gridwidth": 2,
            "linecolor": "#EBF0F8",
            "showbackground": true,
            "ticks": "",
            "zerolinecolor": "#EBF0F8"
           },
           "zaxis": {
            "backgroundcolor": "white",
            "gridcolor": "#DFE8F3",
            "gridwidth": 2,
            "linecolor": "#EBF0F8",
            "showbackground": true,
            "ticks": "",
            "zerolinecolor": "#EBF0F8"
           }
          },
          "shapedefaults": {
           "line": {
            "color": "#2a3f5f"
           }
          },
          "ternary": {
           "aaxis": {
            "gridcolor": "#DFE8F3",
            "linecolor": "#A2B1C6",
            "ticks": ""
           },
           "baxis": {
            "gridcolor": "#DFE8F3",
            "linecolor": "#A2B1C6",
            "ticks": ""
           },
           "bgcolor": "white",
           "caxis": {
            "gridcolor": "#DFE8F3",
            "linecolor": "#A2B1C6",
            "ticks": ""
           }
          },
          "title": {
           "x": 0.05
          },
          "xaxis": {
           "automargin": true,
           "gridcolor": "#EBF0F8",
           "linecolor": "#EBF0F8",
           "ticks": "",
           "title": {
            "standoff": 15
           },
           "zerolinecolor": "#EBF0F8",
           "zerolinewidth": 2
          },
          "yaxis": {
           "automargin": true,
           "gridcolor": "#EBF0F8",
           "linecolor": "#EBF0F8",
           "ticks": "",
           "title": {
            "standoff": 15
           },
           "zerolinecolor": "#EBF0F8",
           "zerolinewidth": 2
          }
         }
        },
        "title": {
         "text": "Distribution of EJECTION FRACTION Vs DEATH_EVENT"
        },
        "xaxis": {
         "anchor": "y",
         "domain": [
          0,
          1
         ],
         "title": {
          "text": "EJECTION FRACTION"
         }
        },
        "xaxis2": {
         "anchor": "y2",
         "domain": [
          0,
          1
         ],
         "matches": "x",
         "showgrid": true,
         "showticklabels": false
        },
        "yaxis": {
         "anchor": "x",
         "domain": [
          0,
          0.7326
         ],
         "title": {
          "text": "count"
         }
        },
        "yaxis2": {
         "anchor": "x2",
         "domain": [
          0.7426,
          1
         ],
         "matches": "y2",
         "showgrid": false,
         "showline": false,
         "showticklabels": false,
         "ticks": ""
        }
       }
      },
      "text/html": [
       "<div>                            <div id=\"7f23062e-725b-490a-a211-7690093e134d\" class=\"plotly-graph-div\" style=\"height:525px; width:100%;\"></div>            <script type=\"text/javascript\">                require([\"plotly\"], function(Plotly) {                    window.PLOTLYENV=window.PLOTLYENV || {};                                    if (document.getElementById(\"7f23062e-725b-490a-a211-7690093e134d\")) {                    Plotly.newPlot(                        \"7f23062e-725b-490a-a211-7690093e134d\",                        [{\"alignmentgroup\":\"True\",\"bingroup\":\"x\",\"hovertemplate\":\"DEATH_EVENT=1<br>EJECTION FRACTION=%{x}<br>count=%{y}<extra></extra>\",\"legendgroup\":\"1\",\"marker\":{\"color\":\"#00cc96\",\"pattern\":{\"shape\":\"\"}},\"name\":\"1\",\"offsetgroup\":\"1\",\"orientation\":\"v\",\"showlegend\":true,\"x\":[20,38,20,20,20,40,15,60,65,35,38,25,30,38,50,38,14,25,55,30,35,30,38,40,45,38,30,38,45,35,50,35,50,50,38,20,30,45,60,38,25,38,20,30,25,20,62,50,38,30,20,20,25,40,35,20,15,25,25,25,35,20,20,25,25,25,30,60,60,38,40,17,38,25,30,45,35,30,38,20,25,25,38,25,30,50,25,20,45,30,20,30,25,25,20],\"xaxis\":\"x\",\"yaxis\":\"y\",\"type\":\"histogram\"},{\"alignmentgroup\":\"True\",\"customdata\":[[75.0,0.0,582.0,0.0,1.0,265000.0,1.9,130.0,1.0,0.0,4.0,1.0],[55.0,0.0,7861.0,0.0,0.0,263358.03,1.1,136.0,1.0,0.0,6.0,1.0],[65.0,0.0,146.0,0.0,0.0,162000.0,1.3,129.0,1.0,1.0,7.0,1.0],[50.0,1.0,111.0,0.0,0.0,210000.0,1.9,137.0,1.0,0.0,7.0,1.0],[65.0,1.0,160.0,1.0,0.0,327000.0,2.7,116.0,0.0,0.0,8.0,1.0],[90.0,1.0,47.0,0.0,1.0,204000.0,2.1,132.0,1.0,1.0,8.0,1.0],[75.0,1.0,246.0,0.0,0.0,127000.0,1.2,137.0,1.0,0.0,10.0,1.0],[60.0,1.0,315.0,1.0,0.0,454000.0,1.1,131.0,1.0,1.0,10.0,1.0],[65.0,0.0,157.0,0.0,0.0,263358.03,1.5,138.0,0.0,0.0,10.0,1.0],[80.0,1.0,123.0,0.0,1.0,388000.0,9.4,133.0,1.0,1.0,10.0,1.0],[75.0,1.0,81.0,0.0,1.0,368000.0,4.0,131.0,1.0,1.0,10.0,1.0],[62.0,0.0,231.0,0.0,1.0,253000.0,0.9,140.0,1.0,1.0,10.0,1.0],[45.0,1.0,981.0,0.0,0.0,136000.0,1.1,137.0,1.0,0.0,11.0,1.0],[50.0,1.0,168.0,0.0,1.0,276000.0,1.1,137.0,1.0,0.0,11.0,1.0],[82.0,1.0,379.0,0.0,0.0,47000.0,1.3,136.0,1.0,0.0,13.0,1.0],[87.0,1.0,149.0,0.0,0.0,262000.0,0.9,140.0,1.0,0.0,14.0,1.0],[45.0,0.0,582.0,0.0,0.0,166000.0,0.8,127.0,1.0,0.0,14.0,1.0],[70.0,1.0,125.0,0.0,1.0,237000.0,1.0,140.0,0.0,0.0,15.0,1.0],[48.0,1.0,582.0,1.0,0.0,87000.0,1.9,121.0,0.0,0.0,15.0,1.0],[65.0,1.0,128.0,1.0,1.0,297000.0,1.6,136.0,0.0,0.0,20.0,1.0],[68.0,1.0,220.0,0.0,1.0,289000.0,0.9,140.0,1.0,1.0,20.0,1.0],[75.0,0.0,582.0,1.0,1.0,263358.03,1.83,134.0,0.0,0.0,23.0,1.0],[80.0,0.0,148.0,1.0,0.0,149000.0,1.9,144.0,1.0,1.0,23.0,1.0],[95.0,1.0,112.0,0.0,1.0,196000.0,1.0,138.0,0.0,0.0,24.0,1.0],[70.0,0.0,122.0,1.0,1.0,284000.0,1.3,136.0,1.0,1.0,26.0,1.0],[58.0,1.0,60.0,0.0,0.0,153000.0,5.8,134.0,1.0,0.0,26.0,1.0],[82.0,0.0,70.0,1.0,0.0,200000.0,1.2,132.0,1.0,1.0,26.0,1.0],[94.0,0.0,582.0,1.0,1.0,263358.03,1.83,134.0,1.0,0.0,27.0,1.0],[85.0,0.0,23.0,0.0,0.0,360000.0,3.0,132.0,1.0,0.0,28.0,1.0],[50.0,1.0,249.0,1.0,1.0,319000.0,1.0,128.0,0.0,0.0,28.0,1.0],[65.0,0.0,94.0,1.0,1.0,188000.0,1.0,140.0,1.0,0.0,29.0,1.0],[69.0,0.0,582.0,1.0,0.0,228000.0,3.5,134.0,1.0,0.0,30.0,1.0],[90.0,1.0,60.0,1.0,0.0,226000.0,1.0,134.0,1.0,0.0,30.0,1.0],[82.0,1.0,855.0,1.0,1.0,321000.0,1.0,145.0,0.0,0.0,30.0,1.0],[60.0,0.0,235.0,1.0,0.0,329000.0,3.0,142.0,0.0,0.0,30.0,1.0],[70.0,0.0,582.0,0.0,1.0,263358.03,1.83,134.0,1.0,1.0,31.0,1.0],[50.0,0.0,124.0,1.0,1.0,153000.0,1.2,136.0,0.0,1.0,32.0,1.0],[70.0,0.0,571.0,1.0,1.0,185000.0,1.2,139.0,1.0,1.0,33.0,1.0],[60.0,1.0,588.0,1.0,0.0,194000.0,1.1,142.0,0.0,0.0,33.0,1.0],[50.0,0.0,582.0,1.0,0.0,310000.0,1.9,135.0,1.0,1.0,35.0,1.0],[51.0,0.0,1380.0,0.0,1.0,271000.0,0.9,130.0,1.0,0.0,38.0,1.0],[60.0,0.0,582.0,1.0,1.0,451000.0,0.6,138.0,1.0,1.0,40.0,1.0],[80.0,1.0,553.0,0.0,1.0,140000.0,4.4,133.0,1.0,0.0,41.0,1.0],[57.0,1.0,129.0,0.0,0.0,395000.0,1.0,140.0,0.0,0.0,42.0,1.0],[68.0,1.0,577.0,0.0,1.0,166000.0,1.0,138.0,1.0,0.0,43.0,1.0],[53.0,1.0,91.0,0.0,1.0,418000.0,1.4,139.0,0.0,0.0,43.0,1.0],[60.0,0.0,3964.0,1.0,0.0,263358.03,6.8,146.0,0.0,0.0,43.0,1.0],[70.0,1.0,69.0,1.0,1.0,351000.0,1.0,134.0,0.0,0.0,44.0,1.0],[60.0,1.0,260.0,1.0,0.0,255000.0,2.2,132.0,0.0,1.0,45.0,1.0],[95.0,1.0,371.0,0.0,0.0,461000.0,2.0,132.0,1.0,0.0,50.0,1.0],[49.0,0.0,789.0,0.0,1.0,319000.0,1.1,136.0,1.0,1.0,55.0,1.0],[72.0,0.0,364.0,1.0,1.0,254000.0,1.3,136.0,1.0,1.0,59.0,1.0],[45.0,0.0,7702.0,1.0,1.0,390000.0,1.0,139.0,1.0,0.0,60.0,1.0],[50.0,0.0,318.0,0.0,1.0,216000.0,2.3,131.0,0.0,0.0,60.0,1.0],[45.0,0.0,582.0,0.0,0.0,385000.0,1.0,145.0,1.0,0.0,61.0,1.0],[60.0,0.0,68.0,0.0,0.0,119000.0,2.9,127.0,1.0,1.0,64.0,1.0],[42.0,1.0,250.0,1.0,0.0,213000.0,1.3,136.0,0.0,0.0,65.0,1.0],[72.0,1.0,110.0,0.0,0.0,274000.0,1.0,140.0,1.0,1.0,65.0,1.0],[70.0,0.0,161.0,0.0,0.0,244000.0,1.2,142.0,0.0,0.0,66.0,1.0],[65.0,0.0,113.0,1.0,0.0,497000.0,1.83,135.0,1.0,0.0,67.0,1.0],[85.0,0.0,5882.0,0.0,0.0,243000.0,1.0,132.0,1.0,1.0,72.0,1.0],[69.0,0.0,582.0,0.0,0.0,266000.0,1.2,134.0,1.0,1.0,73.0,1.0],[60.0,1.0,47.0,0.0,0.0,204000.0,0.7,139.0,1.0,1.0,73.0,1.0],[60.0,1.0,76.0,1.0,0.0,196000.0,2.5,132.0,0.0,0.0,77.0,1.0],[59.0,1.0,280.0,1.0,1.0,302000.0,1.0,141.0,0.0,0.0,78.0,1.0],[60.0,1.0,154.0,0.0,0.0,210000.0,1.7,135.0,1.0,0.0,82.0,1.0],[72.0,1.0,328.0,0.0,1.0,621000.0,1.7,138.0,0.0,1.0,88.0,1.0],[85.0,0.0,129.0,0.0,0.0,306000.0,1.2,132.0,1.0,1.0,90.0,1.0],[70.0,1.0,143.0,0.0,0.0,351000.0,1.3,137.0,0.0,0.0,90.0,1.0],[86.0,0.0,582.0,0.0,0.0,263358.03,1.83,134.0,0.0,0.0,95.0,1.0],[60.0,0.0,582.0,0.0,0.0,217000.0,3.7,134.0,1.0,0.0,96.0,1.0],[46.0,0.0,168.0,1.0,1.0,271000.0,2.1,124.0,0.0,0.0,100.0,1.0],[80.0,0.0,805.0,0.0,0.0,263358.03,1.1,134.0,1.0,0.0,109.0,1.0],[72.0,1.0,943.0,0.0,1.0,338000.0,1.7,139.0,1.0,1.0,111.0,1.0],[75.0,1.0,582.0,0.0,0.0,225000.0,1.83,134.0,1.0,0.0,113.0,1.0],[72.0,0.0,233.0,0.0,1.0,235000.0,2.5,135.0,0.0,0.0,115.0,1.0],[50.0,1.0,2334.0,1.0,0.0,75000.0,0.9,142.0,0.0,0.0,126.0,1.0],[45.0,0.0,2442.0,1.0,0.0,334000.0,1.1,139.0,1.0,0.0,129.0,1.0],[80.0,0.0,776.0,1.0,1.0,192000.0,1.3,135.0,0.0,0.0,130.0,1.0],[59.0,0.0,66.0,1.0,0.0,70000.0,2.4,134.0,1.0,0.0,135.0,1.0],[59.0,1.0,176.0,1.0,0.0,221000.0,1.0,136.0,1.0,1.0,150.0,1.0],[65.0,0.0,395.0,1.0,0.0,265000.0,1.2,136.0,1.0,1.0,154.0,1.0],[75.0,0.0,99.0,0.0,1.0,224000.0,2.5,134.0,1.0,0.0,162.0,1.0],[58.0,1.0,145.0,0.0,0.0,219000.0,1.2,137.0,1.0,1.0,170.0,1.0],[60.667,1.0,104.0,1.0,0.0,389000.0,1.5,136.0,1.0,0.0,171.0,1.0],[50.0,0.0,582.0,0.0,0.0,153000.0,0.6,134.0,0.0,0.0,172.0,1.0],[60.0,0.0,1896.0,1.0,0.0,365000.0,2.1,144.0,0.0,0.0,172.0,1.0],[45.0,0.0,582.0,0.0,1.0,126000.0,1.6,135.0,1.0,0.0,180.0,1.0],[77.0,1.0,418.0,0.0,0.0,223000.0,1.8,145.0,1.0,0.0,180.0,1.0],[48.0,1.0,131.0,1.0,1.0,244000.0,1.6,130.0,0.0,0.0,193.0,1.0],[73.0,0.0,582.0,0.0,0.0,263358.03,1.83,134.0,1.0,0.0,198.0,1.0],[60.0,0.0,166.0,0.0,0.0,62000.0,1.7,127.0,0.0,0.0,207.0,1.0],[55.0,0.0,2017.0,0.0,0.0,314000.0,1.1,138.0,1.0,0.0,214.0,1.0],[65.0,1.0,258.0,1.0,0.0,198000.0,1.4,129.0,1.0,0.0,235.0,1.0],[55.0,0.0,1199.0,0.0,0.0,263358.03,1.83,134.0,1.0,1.0,241.0,1.0]],\"hovertemplate\":\"DEATH_EVENT=%{customdata[11]}<br>EJECTION FRACTION=%{x}<br>age=%{customdata[0]}<br>anaemia=%{customdata[1]}<br>creatinine_phosphokinase=%{customdata[2]}<br>diabetes=%{customdata[3]}<br>high_blood_pressure=%{customdata[4]}<br>platelets=%{customdata[5]}<br>serum_creatinine=%{customdata[6]}<br>serum_sodium=%{customdata[7]}<br>sex=%{customdata[8]}<br>smoking=%{customdata[9]}<br>time=%{customdata[10]}<extra></extra>\",\"legendgroup\":\"1\",\"marker\":{\"color\":\"#00cc96\"},\"name\":\"1\",\"offsetgroup\":\"1\",\"scalegroup\":\"x\",\"showlegend\":false,\"x\":[20,38,20,20,20,40,15,60,65,35,38,25,30,38,50,38,14,25,55,30,35,30,38,40,45,38,30,38,45,35,50,35,50,50,38,20,30,45,60,38,25,38,20,30,25,20,62,50,38,30,20,20,25,40,35,20,15,25,25,25,35,20,20,25,25,25,30,60,60,38,40,17,38,25,30,45,35,30,38,20,25,25,38,25,30,50,25,20,45,30,20,30,25,25,20],\"xaxis\":\"x2\",\"yaxis\":\"y2\",\"type\":\"violin\"},{\"alignmentgroup\":\"True\",\"bingroup\":\"x\",\"hovertemplate\":\"DEATH_EVENT=0<br>EJECTION FRACTION=%{x}<br>count=%{y}<extra></extra>\",\"legendgroup\":\"0\",\"marker\":{\"color\":\"#ab63fa\",\"pattern\":{\"shape\":\"\"}},\"name\":\"0\",\"offsetgroup\":\"0\",\"orientation\":\"v\",\"showlegend\":true,\"x\":[30,25,60,30,30,50,35,40,35,40,35,50,60,40,38,45,40,50,50,50,35,60,40,25,45,45,60,38,60,25,60,25,40,25,45,25,30,50,45,35,38,35,35,25,40,40,60,60,60,60,38,38,30,50,60,30,35,60,45,40,60,35,40,60,25,35,30,35,30,40,30,30,60,35,60,45,35,35,25,35,25,50,45,40,35,40,60,40,35,35,40,60,20,35,60,40,50,60,40,30,40,45,35,60,40,30,38,30,20,35,45,60,60,25,40,45,40,38,40,35,17,62,50,35,35,50,35,35,50,35,25,25,60,25,35,25,25,35,35,38,45,50,50,30,40,45,35,30,35,40,38,38,25,35,40,30,35,45,35,60,30,38,38,25,50,40,40,60,38,35,38,38,35,30,40,38,40,30,38,35,38,30,38,40,40,30,38,40,40,35,55,35,38,55,35,38,35,38,38,60,38,45],\"xaxis\":\"x\",\"yaxis\":\"y\",\"type\":\"histogram\"},{\"alignmentgroup\":\"True\",\"customdata\":[[49.0,1.0,80.0,0.0,1.0,427000.0,1.0,138.0,0.0,0.0,12.0,0.0],[65.0,1.0,52.0,0.0,1.0,276000.0,1.3,137.0,0.0,0.0,16.0,0.0],[53.0,0.0,63.0,1.0,0.0,368000.0,0.8,135.0,1.0,0.0,22.0,0.0],[50.0,1.0,159.0,1.0,0.0,302000.0,1.2,138.0,0.0,0.0,29.0,0.0],[60.0,0.0,2656.0,1.0,0.0,305000.0,2.3,137.0,1.0,0.0,30.0,0.0],[72.0,0.0,127.0,1.0,1.0,218000.0,1.0,134.0,1.0,0.0,33.0,0.0],[70.0,1.0,75.0,0.0,0.0,223000.0,2.7,138.0,1.0,1.0,54.0,0.0],[60.0,1.0,607.0,0.0,0.0,216000.0,0.6,138.0,1.0,1.0,54.0,0.0],[55.0,0.0,109.0,0.0,0.0,254000.0,1.1,139.0,1.0,1.0,60.0,0.0],[41.0,0.0,148.0,0.0,0.0,374000.0,0.8,140.0,1.0,1.0,68.0,0.0],[58.0,0.0,582.0,1.0,0.0,122000.0,0.9,139.0,1.0,1.0,71.0,0.0],[65.0,0.0,224.0,1.0,0.0,149000.0,1.3,137.0,1.0,1.0,72.0,0.0],[70.0,0.0,92.0,0.0,1.0,317000.0,0.8,140.0,0.0,1.0,74.0,0.0],[42.0,0.0,102.0,1.0,0.0,237000.0,1.2,140.0,1.0,0.0,74.0,0.0],[75.0,1.0,203.0,1.0,1.0,283000.0,0.6,131.0,1.0,1.0,74.0,0.0],[55.0,0.0,336.0,0.0,1.0,324000.0,0.9,140.0,0.0,0.0,74.0,0.0],[70.0,0.0,69.0,0.0,0.0,293000.0,1.7,136.0,0.0,0.0,75.0,0.0],[67.0,0.0,582.0,0.0,0.0,263358.03,1.18,137.0,1.0,1.0,76.0,0.0],[79.0,1.0,55.0,0.0,1.0,172000.0,1.8,133.0,1.0,0.0,78.0,0.0],[51.0,0.0,78.0,0.0,0.0,406000.0,0.7,140.0,1.0,0.0,79.0,0.0],[55.0,0.0,47.0,0.0,1.0,173000.0,1.1,137.0,1.0,0.0,79.0,0.0],[65.0,1.0,68.0,1.0,1.0,304000.0,0.8,140.0,1.0,0.0,79.0,0.0],[44.0,0.0,84.0,1.0,1.0,235000.0,0.7,139.0,1.0,0.0,79.0,0.0],[57.0,1.0,115.0,0.0,1.0,181000.0,1.1,144.0,1.0,0.0,79.0,0.0],[70.0,0.0,66.0,1.0,0.0,249000.0,0.8,136.0,1.0,1.0,80.0,0.0],[60.0,0.0,897.0,1.0,0.0,297000.0,1.0,133.0,1.0,0.0,80.0,0.0],[42.0,0.0,582.0,0.0,0.0,263358.03,1.18,137.0,0.0,0.0,82.0,0.0],[58.0,0.0,144.0,1.0,1.0,327000.0,0.7,142.0,0.0,0.0,83.0,0.0],[58.0,1.0,133.0,0.0,1.0,219000.0,1.0,141.0,1.0,0.0,83.0,0.0],[63.0,1.0,514.0,1.0,1.0,254000.0,1.3,134.0,1.0,0.0,83.0,0.0],[70.0,1.0,59.0,0.0,0.0,255000.0,1.1,136.0,0.0,0.0,85.0,0.0],[60.0,1.0,156.0,1.0,1.0,318000.0,1.2,137.0,0.0,0.0,85.0,0.0],[63.0,1.0,61.0,1.0,0.0,221000.0,1.1,140.0,0.0,0.0,86.0,0.0],[65.0,1.0,305.0,0.0,0.0,298000.0,1.1,141.0,1.0,0.0,87.0,0.0],[75.0,0.0,582.0,0.0,1.0,263358.03,1.18,137.0,1.0,0.0,87.0,0.0],[80.0,0.0,898.0,0.0,0.0,149000.0,1.1,144.0,1.0,1.0,87.0,0.0],[42.0,0.0,5209.0,0.0,0.0,226000.0,1.0,140.0,1.0,1.0,87.0,0.0],[60.0,0.0,53.0,0.0,1.0,286000.0,2.3,143.0,0.0,0.0,87.0,0.0],[55.0,0.0,748.0,0.0,0.0,263000.0,1.3,137.0,1.0,0.0,88.0,0.0],[45.0,1.0,1876.0,1.0,0.0,226000.0,0.9,138.0,1.0,0.0,88.0,0.0],[63.0,0.0,936.0,0.0,0.0,304000.0,1.1,133.0,1.0,1.0,88.0,0.0],[45.0,0.0,292.0,1.0,0.0,850000.0,1.3,142.0,1.0,1.0,88.0,0.0],[55.0,0.0,60.0,0.0,0.0,228000.0,1.2,135.0,1.0,1.0,90.0,0.0],[50.0,0.0,369.0,1.0,0.0,252000.0,1.6,136.0,1.0,0.0,90.0,0.0],[60.0,1.0,754.0,1.0,1.0,328000.0,1.2,126.0,1.0,0.0,91.0,0.0],[58.0,1.0,400.0,0.0,0.0,164000.0,1.0,139.0,0.0,0.0,91.0,0.0],[60.0,1.0,96.0,1.0,1.0,271000.0,0.7,136.0,0.0,0.0,94.0,0.0],[85.0,1.0,102.0,0.0,0.0,507000.0,3.2,138.0,0.0,0.0,94.0,0.0],[65.0,1.0,113.0,1.0,1.0,203000.0,0.9,140.0,0.0,0.0,94.0,0.0],[60.0,1.0,737.0,0.0,1.0,210000.0,1.5,135.0,1.0,1.0,95.0,0.0],[66.0,1.0,68.0,1.0,1.0,162000.0,1.0,136.0,0.0,0.0,95.0,0.0],[60.0,0.0,96.0,1.0,0.0,228000.0,0.75,140.0,0.0,0.0,95.0,0.0],[60.0,1.0,582.0,0.0,1.0,127000.0,0.9,145.0,0.0,0.0,95.0,0.0],[43.0,1.0,358.0,0.0,0.0,237000.0,1.3,135.0,0.0,0.0,97.0,0.0],[58.0,1.0,200.0,1.0,0.0,300000.0,0.8,137.0,0.0,0.0,104.0,0.0],[61.0,0.0,248.0,0.0,1.0,267000.0,0.7,136.0,1.0,1.0,104.0,0.0],[53.0,1.0,270.0,1.0,0.0,227000.0,3.4,145.0,1.0,0.0,105.0,0.0],[53.0,1.0,1808.0,0.0,1.0,249000.0,0.7,138.0,1.0,1.0,106.0,0.0],[60.0,1.0,1082.0,1.0,0.0,250000.0,6.1,131.0,1.0,0.0,107.0,0.0],[46.0,0.0,719.0,0.0,1.0,263358.03,1.18,137.0,0.0,0.0,107.0,0.0],[63.0,0.0,193.0,0.0,1.0,295000.0,1.3,145.0,1.0,1.0,107.0,0.0],[81.0,0.0,4540.0,0.0,0.0,231000.0,1.18,137.0,1.0,1.0,107.0,0.0],[75.0,0.0,582.0,0.0,0.0,263358.03,1.18,137.0,1.0,0.0,107.0,0.0],[65.0,1.0,59.0,1.0,0.0,172000.0,0.9,137.0,0.0,0.0,107.0,0.0],[68.0,1.0,646.0,0.0,0.0,305000.0,2.1,130.0,1.0,0.0,108.0,0.0],[62.0,0.0,281.0,1.0,0.0,221000.0,1.0,136.0,0.0,0.0,108.0,0.0],[50.0,0.0,1548.0,0.0,1.0,211000.0,0.8,138.0,1.0,0.0,108.0,0.0],[46.0,1.0,291.0,0.0,0.0,348000.0,0.9,140.0,0.0,0.0,109.0,0.0],[50.0,0.0,482.0,1.0,0.0,329000.0,0.9,132.0,0.0,0.0,109.0,0.0],[61.0,1.0,84.0,0.0,1.0,229000.0,0.9,141.0,0.0,0.0,110.0,0.0],[50.0,0.0,185.0,0.0,0.0,266000.0,0.7,141.0,1.0,1.0,112.0,0.0],[52.0,0.0,132.0,0.0,0.0,218000.0,0.7,136.0,1.0,1.0,112.0,0.0],[64.0,0.0,1610.0,0.0,0.0,242000.0,1.0,137.0,1.0,0.0,113.0,0.0],[60.0,0.0,2261.0,0.0,1.0,228000.0,0.9,136.0,1.0,0.0,115.0,0.0],[62.0,0.0,30.0,1.0,1.0,244000.0,0.9,139.0,1.0,0.0,117.0,0.0],[50.0,0.0,115.0,0.0,1.0,184000.0,0.9,134.0,1.0,1.0,118.0,0.0],[50.0,0.0,1846.0,1.0,0.0,263358.03,1.18,137.0,1.0,1.0,119.0,0.0],[65.0,1.0,335.0,0.0,1.0,235000.0,0.8,136.0,0.0,0.0,120.0,0.0],[60.0,1.0,231.0,1.0,0.0,194000.0,1.7,140.0,1.0,0.0,120.0,0.0],[52.0,1.0,58.0,0.0,0.0,277000.0,1.4,136.0,0.0,0.0,120.0,0.0],[50.0,0.0,250.0,0.0,0.0,262000.0,1.0,136.0,1.0,1.0,120.0,0.0],[85.0,1.0,910.0,0.0,0.0,235000.0,1.3,134.0,1.0,0.0,121.0,0.0],[59.0,1.0,129.0,0.0,1.0,362000.0,1.1,139.0,1.0,1.0,121.0,0.0],[66.0,1.0,72.0,0.0,1.0,242000.0,1.2,134.0,1.0,0.0,121.0,0.0],[45.0,1.0,130.0,0.0,0.0,174000.0,0.8,139.0,1.0,1.0,121.0,0.0],[63.0,1.0,582.0,0.0,0.0,448000.0,0.9,137.0,1.0,1.0,123.0,0.0],[53.0,0.0,196.0,0.0,0.0,220000.0,0.7,133.0,1.0,1.0,134.0,0.0],[65.0,0.0,582.0,1.0,0.0,270000.0,1.0,138.0,0.0,0.0,140.0,0.0],[70.0,0.0,835.0,0.0,1.0,305000.0,0.8,133.0,0.0,0.0,145.0,0.0],[51.0,1.0,582.0,1.0,0.0,263358.03,1.5,136.0,1.0,1.0,145.0,0.0],[52.0,0.0,3966.0,0.0,0.0,325000.0,0.9,140.0,1.0,1.0,146.0,0.0],[70.0,1.0,171.0,0.0,1.0,176000.0,1.1,145.0,1.0,1.0,146.0,0.0],[50.0,1.0,115.0,0.0,0.0,189000.0,0.8,139.0,1.0,0.0,146.0,0.0],[65.0,0.0,198.0,1.0,1.0,281000.0,0.9,137.0,1.0,1.0,146.0,0.0],[60.0,1.0,95.0,0.0,0.0,337000.0,1.0,138.0,1.0,1.0,146.0,0.0],[69.0,0.0,1419.0,0.0,0.0,105000.0,1.0,135.0,1.0,1.0,147.0,0.0],[49.0,1.0,69.0,0.0,0.0,132000.0,1.0,140.0,0.0,0.0,147.0,0.0],[63.0,1.0,122.0,1.0,0.0,267000.0,1.2,145.0,1.0,0.0,147.0,0.0],[55.0,0.0,835.0,0.0,0.0,279000.0,0.7,140.0,1.0,1.0,147.0,0.0],[40.0,0.0,478.0,1.0,0.0,303000.0,0.9,136.0,1.0,0.0,148.0,0.0],[60.667,1.0,151.0,1.0,1.0,201000.0,1.0,136.0,0.0,0.0,172.0,0.0],[40.0,0.0,244.0,0.0,1.0,275000.0,0.9,140.0,0.0,0.0,174.0,0.0],[80.0,0.0,582.0,1.0,0.0,350000.0,2.1,134.0,1.0,0.0,174.0,0.0],[64.0,1.0,62.0,0.0,0.0,309000.0,1.5,135.0,0.0,0.0,174.0,0.0],[50.0,1.0,121.0,1.0,0.0,260000.0,0.7,130.0,1.0,0.0,175.0,0.0],[73.0,1.0,231.0,1.0,0.0,160000.0,1.18,142.0,1.0,1.0,180.0,0.0],[45.0,0.0,582.0,1.0,1.0,263358.03,1.18,137.0,0.0,0.0,185.0,0.0],[65.0,0.0,167.0,0.0,0.0,259000.0,0.8,138.0,0.0,0.0,186.0,0.0],[50.0,1.0,582.0,1.0,1.0,279000.0,1.0,134.0,0.0,0.0,186.0,0.0],[60.0,0.0,1211.0,1.0,0.0,263358.03,1.8,113.0,1.0,1.0,186.0,0.0],[63.0,1.0,1767.0,0.0,0.0,73000.0,0.7,137.0,1.0,0.0,186.0,0.0],[45.0,0.0,308.0,1.0,1.0,377000.0,1.0,136.0,1.0,0.0,186.0,0.0],[70.0,0.0,97.0,0.0,1.0,220000.0,0.9,138.0,1.0,0.0,186.0,0.0],[60.0,0.0,59.0,0.0,1.0,212000.0,3.5,136.0,1.0,1.0,187.0,0.0],[78.0,1.0,64.0,0.0,0.0,277000.0,0.7,137.0,1.0,1.0,187.0,0.0],[50.0,1.0,167.0,1.0,0.0,362000.0,1.0,136.0,0.0,0.0,187.0,0.0],[40.0,1.0,101.0,0.0,0.0,226000.0,0.8,141.0,0.0,0.0,187.0,0.0],[85.0,0.0,212.0,0.0,0.0,186000.0,0.9,136.0,1.0,0.0,187.0,0.0],[60.0,1.0,2281.0,1.0,0.0,283000.0,1.0,141.0,0.0,0.0,187.0,0.0],[49.0,0.0,972.0,1.0,1.0,268000.0,0.8,130.0,0.0,0.0,187.0,0.0],[70.0,0.0,212.0,1.0,1.0,389000.0,1.0,136.0,1.0,1.0,188.0,0.0],[50.0,0.0,582.0,0.0,1.0,147000.0,0.8,140.0,1.0,1.0,192.0,0.0],[78.0,0.0,224.0,0.0,0.0,481000.0,1.4,138.0,1.0,1.0,192.0,0.0],[65.0,1.0,135.0,0.0,1.0,290000.0,0.8,134.0,1.0,0.0,194.0,0.0],[73.0,0.0,582.0,0.0,1.0,203000.0,1.3,134.0,1.0,0.0,195.0,0.0],[70.0,0.0,1202.0,0.0,1.0,358000.0,0.9,141.0,0.0,0.0,196.0,0.0],[68.0,1.0,1021.0,1.0,0.0,271000.0,1.1,134.0,1.0,0.0,197.0,0.0],[55.0,0.0,582.0,1.0,1.0,371000.0,0.7,140.0,0.0,0.0,197.0,0.0],[65.0,0.0,118.0,0.0,0.0,194000.0,1.1,145.0,1.0,1.0,200.0,0.0],[42.0,1.0,86.0,0.0,0.0,365000.0,1.1,139.0,1.0,1.0,201.0,0.0],[47.0,0.0,582.0,0.0,0.0,130000.0,0.8,134.0,1.0,0.0,201.0,0.0],[58.0,0.0,582.0,1.0,0.0,504000.0,1.0,138.0,1.0,0.0,205.0,0.0],[75.0,0.0,675.0,1.0,0.0,265000.0,1.4,125.0,0.0,0.0,205.0,0.0],[58.0,1.0,57.0,0.0,0.0,189000.0,1.3,132.0,1.0,1.0,205.0,0.0],[55.0,1.0,2794.0,0.0,1.0,141000.0,1.0,140.0,1.0,0.0,206.0,0.0],[65.0,0.0,56.0,0.0,0.0,237000.0,5.0,130.0,0.0,0.0,207.0,0.0],[72.0,0.0,211.0,0.0,0.0,274000.0,1.2,134.0,0.0,0.0,207.0,0.0],[70.0,0.0,93.0,0.0,0.0,185000.0,1.1,134.0,1.0,1.0,208.0,0.0],[40.0,1.0,129.0,0.0,0.0,255000.0,0.9,137.0,1.0,0.0,209.0,0.0],[53.0,1.0,707.0,0.0,0.0,330000.0,1.4,137.0,1.0,1.0,209.0,0.0],[53.0,1.0,582.0,0.0,0.0,305000.0,1.1,137.0,1.0,1.0,209.0,0.0],[77.0,1.0,109.0,0.0,1.0,406000.0,1.1,137.0,1.0,0.0,209.0,0.0],[75.0,0.0,119.0,0.0,1.0,248000.0,1.1,148.0,1.0,0.0,209.0,0.0],[70.0,0.0,232.0,0.0,0.0,173000.0,1.2,132.0,1.0,0.0,210.0,0.0],[65.0,1.0,720.0,1.0,0.0,257000.0,1.0,136.0,0.0,0.0,210.0,0.0],[55.0,1.0,180.0,0.0,0.0,263358.03,1.18,137.0,1.0,1.0,211.0,0.0],[70.0,0.0,81.0,1.0,1.0,533000.0,1.3,139.0,0.0,0.0,212.0,0.0],[65.0,0.0,582.0,1.0,0.0,249000.0,1.3,136.0,1.0,1.0,212.0,0.0],[40.0,0.0,90.0,0.0,0.0,255000.0,1.1,136.0,1.0,1.0,212.0,0.0],[73.0,1.0,1185.0,0.0,1.0,220000.0,0.9,141.0,0.0,0.0,213.0,0.0],[54.0,0.0,582.0,1.0,0.0,264000.0,1.8,134.0,1.0,0.0,213.0,0.0],[61.0,1.0,80.0,1.0,0.0,282000.0,1.4,137.0,1.0,0.0,213.0,0.0],[64.0,0.0,143.0,0.0,0.0,246000.0,2.4,135.0,1.0,0.0,214.0,0.0],[40.0,0.0,624.0,0.0,0.0,301000.0,1.0,142.0,1.0,1.0,214.0,0.0],[53.0,0.0,207.0,1.0,0.0,223000.0,1.2,130.0,0.0,0.0,214.0,0.0],[50.0,0.0,2522.0,0.0,1.0,404000.0,0.5,139.0,0.0,0.0,214.0,0.0],[55.0,0.0,572.0,1.0,0.0,231000.0,0.8,143.0,0.0,0.0,215.0,0.0],[50.0,0.0,245.0,0.0,1.0,274000.0,1.0,133.0,1.0,0.0,215.0,0.0],[70.0,0.0,88.0,1.0,1.0,236000.0,1.2,132.0,0.0,0.0,215.0,0.0],[53.0,1.0,446.0,0.0,1.0,263358.03,1.0,139.0,1.0,0.0,215.0,0.0],[52.0,1.0,191.0,1.0,1.0,334000.0,1.0,142.0,1.0,1.0,216.0,0.0],[65.0,0.0,326.0,0.0,0.0,294000.0,1.7,139.0,0.0,0.0,220.0,0.0],[58.0,0.0,132.0,1.0,1.0,253000.0,1.0,139.0,1.0,0.0,230.0,0.0],[45.0,1.0,66.0,1.0,0.0,233000.0,0.8,135.0,1.0,0.0,230.0,0.0],[53.0,0.0,56.0,0.0,0.0,308000.0,0.7,135.0,1.0,1.0,231.0,0.0],[55.0,0.0,66.0,0.0,0.0,203000.0,1.0,138.0,1.0,0.0,233.0,0.0],[62.0,1.0,655.0,0.0,0.0,283000.0,0.7,133.0,0.0,0.0,233.0,0.0],[68.0,1.0,157.0,1.0,0.0,208000.0,1.0,140.0,0.0,0.0,237.0,0.0],[61.0,0.0,582.0,1.0,0.0,147000.0,1.2,141.0,1.0,0.0,237.0,0.0],[50.0,1.0,298.0,0.0,0.0,362000.0,0.9,140.0,1.0,1.0,240.0,0.0],[56.0,1.0,135.0,1.0,0.0,133000.0,1.7,140.0,1.0,0.0,244.0,0.0],[45.0,0.0,582.0,1.0,0.0,302000.0,0.9,140.0,0.0,0.0,244.0,0.0],[40.0,0.0,582.0,1.0,0.0,222000.0,1.0,132.0,1.0,0.0,244.0,0.0],[44.0,0.0,582.0,1.0,1.0,263358.03,1.6,130.0,1.0,1.0,244.0,0.0],[51.0,0.0,582.0,1.0,0.0,221000.0,0.9,134.0,0.0,0.0,244.0,0.0],[67.0,0.0,213.0,0.0,0.0,215000.0,1.2,133.0,0.0,0.0,245.0,0.0],[42.0,0.0,64.0,0.0,0.0,189000.0,0.7,140.0,1.0,0.0,245.0,0.0],[60.0,1.0,257.0,1.0,0.0,150000.0,1.0,137.0,1.0,1.0,245.0,0.0],[45.0,0.0,582.0,0.0,1.0,422000.0,0.8,137.0,0.0,0.0,245.0,0.0],[70.0,0.0,618.0,0.0,0.0,327000.0,1.1,142.0,0.0,0.0,245.0,0.0],[70.0,0.0,582.0,1.0,0.0,25100.0,1.1,140.0,1.0,0.0,246.0,0.0],[50.0,1.0,1051.0,1.0,0.0,232000.0,0.7,136.0,0.0,0.0,246.0,0.0],[55.0,0.0,84.0,1.0,0.0,451000.0,1.3,136.0,0.0,0.0,246.0,0.0],[70.0,0.0,2695.0,1.0,0.0,241000.0,1.0,137.0,1.0,0.0,247.0,0.0],[70.0,0.0,582.0,0.0,0.0,51000.0,2.7,136.0,1.0,1.0,250.0,0.0],[42.0,0.0,64.0,0.0,0.0,215000.0,3.8,128.0,1.0,1.0,250.0,0.0],[65.0,0.0,1688.0,0.0,0.0,263358.03,1.1,138.0,1.0,1.0,250.0,0.0],[50.0,1.0,54.0,0.0,0.0,279000.0,0.8,141.0,1.0,0.0,250.0,0.0],[55.0,1.0,170.0,1.0,0.0,336000.0,1.2,135.0,1.0,0.0,250.0,0.0],[60.0,0.0,253.0,0.0,0.0,279000.0,1.7,140.0,1.0,0.0,250.0,0.0],[45.0,0.0,582.0,1.0,0.0,543000.0,1.0,132.0,0.0,0.0,250.0,0.0],[65.0,0.0,892.0,1.0,0.0,263358.03,1.1,142.0,0.0,0.0,256.0,0.0],[90.0,1.0,337.0,0.0,0.0,390000.0,0.9,144.0,0.0,0.0,256.0,0.0],[45.0,0.0,615.0,1.0,0.0,222000.0,0.8,141.0,0.0,0.0,257.0,0.0],[60.0,0.0,320.0,0.0,0.0,133000.0,1.4,139.0,1.0,0.0,258.0,0.0],[52.0,0.0,190.0,1.0,0.0,382000.0,1.0,140.0,1.0,1.0,258.0,0.0],[63.0,1.0,103.0,1.0,0.0,179000.0,0.9,136.0,1.0,1.0,270.0,0.0],[62.0,0.0,61.0,1.0,1.0,155000.0,1.1,143.0,1.0,1.0,270.0,0.0],[55.0,0.0,1820.0,0.0,0.0,270000.0,1.2,139.0,0.0,0.0,271.0,0.0],[45.0,0.0,2060.0,1.0,0.0,742000.0,0.8,138.0,0.0,0.0,278.0,0.0],[45.0,0.0,2413.0,0.0,0.0,140000.0,1.4,140.0,1.0,1.0,280.0,0.0],[50.0,0.0,196.0,0.0,0.0,395000.0,1.6,136.0,1.0,1.0,285.0,0.0]],\"hovertemplate\":\"DEATH_EVENT=%{customdata[11]}<br>EJECTION FRACTION=%{x}<br>age=%{customdata[0]}<br>anaemia=%{customdata[1]}<br>creatinine_phosphokinase=%{customdata[2]}<br>diabetes=%{customdata[3]}<br>high_blood_pressure=%{customdata[4]}<br>platelets=%{customdata[5]}<br>serum_creatinine=%{customdata[6]}<br>serum_sodium=%{customdata[7]}<br>sex=%{customdata[8]}<br>smoking=%{customdata[9]}<br>time=%{customdata[10]}<extra></extra>\",\"legendgroup\":\"0\",\"marker\":{\"color\":\"#ab63fa\"},\"name\":\"0\",\"offsetgroup\":\"0\",\"scalegroup\":\"x\",\"showlegend\":false,\"x\":[30,25,60,30,30,50,35,40,35,40,35,50,60,40,38,45,40,50,50,50,35,60,40,25,45,45,60,38,60,25,60,25,40,25,45,25,30,50,45,35,38,35,35,25,40,40,60,60,60,60,38,38,30,50,60,30,35,60,45,40,60,35,40,60,25,35,30,35,30,40,30,30,60,35,60,45,35,35,25,35,25,50,45,40,35,40,60,40,35,35,40,60,20,35,60,40,50,60,40,30,40,45,35,60,40,30,38,30,20,35,45,60,60,25,40,45,40,38,40,35,17,62,50,35,35,50,35,35,50,35,25,25,60,25,35,25,25,35,35,38,45,50,50,30,40,45,35,30,35,40,38,38,25,35,40,30,35,45,35,60,30,38,38,25,50,40,40,60,38,35,38,38,35,30,40,38,40,30,38,35,38,30,38,40,40,30,38,40,40,35,55,35,38,55,35,38,35,38,38,60,38,45],\"xaxis\":\"x2\",\"yaxis\":\"y2\",\"type\":\"violin\"}],                        {\"template\":{\"data\":{\"barpolar\":[{\"marker\":{\"line\":{\"color\":\"white\",\"width\":0.5},\"pattern\":{\"fillmode\":\"overlay\",\"size\":10,\"solidity\":0.2}},\"type\":\"barpolar\"}],\"bar\":[{\"error_x\":{\"color\":\"#2a3f5f\"},\"error_y\":{\"color\":\"#2a3f5f\"},\"marker\":{\"line\":{\"color\":\"white\",\"width\":0.5},\"pattern\":{\"fillmode\":\"overlay\",\"size\":10,\"solidity\":0.2}},\"type\":\"bar\"}],\"carpet\":[{\"aaxis\":{\"endlinecolor\":\"#2a3f5f\",\"gridcolor\":\"#C8D4E3\",\"linecolor\":\"#C8D4E3\",\"minorgridcolor\":\"#C8D4E3\",\"startlinecolor\":\"#2a3f5f\"},\"baxis\":{\"endlinecolor\":\"#2a3f5f\",\"gridcolor\":\"#C8D4E3\",\"linecolor\":\"#C8D4E3\",\"minorgridcolor\":\"#C8D4E3\",\"startlinecolor\":\"#2a3f5f\"},\"type\":\"carpet\"}],\"choropleth\":[{\"colorbar\":{\"outlinewidth\":0,\"ticks\":\"\"},\"type\":\"choropleth\"}],\"contourcarpet\":[{\"colorbar\":{\"outlinewidth\":0,\"ticks\":\"\"},\"type\":\"contourcarpet\"}],\"contour\":[{\"colorbar\":{\"outlinewidth\":0,\"ticks\":\"\"},\"colorscale\":[[0.0,\"#0d0887\"],[0.1111111111111111,\"#46039f\"],[0.2222222222222222,\"#7201a8\"],[0.3333333333333333,\"#9c179e\"],[0.4444444444444444,\"#bd3786\"],[0.5555555555555556,\"#d8576b\"],[0.6666666666666666,\"#ed7953\"],[0.7777777777777778,\"#fb9f3a\"],[0.8888888888888888,\"#fdca26\"],[1.0,\"#f0f921\"]],\"type\":\"contour\"}],\"heatmapgl\":[{\"colorbar\":{\"outlinewidth\":0,\"ticks\":\"\"},\"colorscale\":[[0.0,\"#0d0887\"],[0.1111111111111111,\"#46039f\"],[0.2222222222222222,\"#7201a8\"],[0.3333333333333333,\"#9c179e\"],[0.4444444444444444,\"#bd3786\"],[0.5555555555555556,\"#d8576b\"],[0.6666666666666666,\"#ed7953\"],[0.7777777777777778,\"#fb9f3a\"],[0.8888888888888888,\"#fdca26\"],[1.0,\"#f0f921\"]],\"type\":\"heatmapgl\"}],\"heatmap\":[{\"colorbar\":{\"outlinewidth\":0,\"ticks\":\"\"},\"colorscale\":[[0.0,\"#0d0887\"],[0.1111111111111111,\"#46039f\"],[0.2222222222222222,\"#7201a8\"],[0.3333333333333333,\"#9c179e\"],[0.4444444444444444,\"#bd3786\"],[0.5555555555555556,\"#d8576b\"],[0.6666666666666666,\"#ed7953\"],[0.7777777777777778,\"#fb9f3a\"],[0.8888888888888888,\"#fdca26\"],[1.0,\"#f0f921\"]],\"type\":\"heatmap\"}],\"histogram2dcontour\":[{\"colorbar\":{\"outlinewidth\":0,\"ticks\":\"\"},\"colorscale\":[[0.0,\"#0d0887\"],[0.1111111111111111,\"#46039f\"],[0.2222222222222222,\"#7201a8\"],[0.3333333333333333,\"#9c179e\"],[0.4444444444444444,\"#bd3786\"],[0.5555555555555556,\"#d8576b\"],[0.6666666666666666,\"#ed7953\"],[0.7777777777777778,\"#fb9f3a\"],[0.8888888888888888,\"#fdca26\"],[1.0,\"#f0f921\"]],\"type\":\"histogram2dcontour\"}],\"histogram2d\":[{\"colorbar\":{\"outlinewidth\":0,\"ticks\":\"\"},\"colorscale\":[[0.0,\"#0d0887\"],[0.1111111111111111,\"#46039f\"],[0.2222222222222222,\"#7201a8\"],[0.3333333333333333,\"#9c179e\"],[0.4444444444444444,\"#bd3786\"],[0.5555555555555556,\"#d8576b\"],[0.6666666666666666,\"#ed7953\"],[0.7777777777777778,\"#fb9f3a\"],[0.8888888888888888,\"#fdca26\"],[1.0,\"#f0f921\"]],\"type\":\"histogram2d\"}],\"histogram\":[{\"marker\":{\"pattern\":{\"fillmode\":\"overlay\",\"size\":10,\"solidity\":0.2}},\"type\":\"histogram\"}],\"mesh3d\":[{\"colorbar\":{\"outlinewidth\":0,\"ticks\":\"\"},\"type\":\"mesh3d\"}],\"parcoords\":[{\"line\":{\"colorbar\":{\"outlinewidth\":0,\"ticks\":\"\"}},\"type\":\"parcoords\"}],\"pie\":[{\"automargin\":true,\"type\":\"pie\"}],\"scatter3d\":[{\"line\":{\"colorbar\":{\"outlinewidth\":0,\"ticks\":\"\"}},\"marker\":{\"colorbar\":{\"outlinewidth\":0,\"ticks\":\"\"}},\"type\":\"scatter3d\"}],\"scattercarpet\":[{\"marker\":{\"colorbar\":{\"outlinewidth\":0,\"ticks\":\"\"}},\"type\":\"scattercarpet\"}],\"scattergeo\":[{\"marker\":{\"colorbar\":{\"outlinewidth\":0,\"ticks\":\"\"}},\"type\":\"scattergeo\"}],\"scattergl\":[{\"marker\":{\"colorbar\":{\"outlinewidth\":0,\"ticks\":\"\"}},\"type\":\"scattergl\"}],\"scattermapbox\":[{\"marker\":{\"colorbar\":{\"outlinewidth\":0,\"ticks\":\"\"}},\"type\":\"scattermapbox\"}],\"scatterpolargl\":[{\"marker\":{\"colorbar\":{\"outlinewidth\":0,\"ticks\":\"\"}},\"type\":\"scatterpolargl\"}],\"scatterpolar\":[{\"marker\":{\"colorbar\":{\"outlinewidth\":0,\"ticks\":\"\"}},\"type\":\"scatterpolar\"}],\"scatter\":[{\"fillpattern\":{\"fillmode\":\"overlay\",\"size\":10,\"solidity\":0.2},\"type\":\"scatter\"}],\"scatterternary\":[{\"marker\":{\"colorbar\":{\"outlinewidth\":0,\"ticks\":\"\"}},\"type\":\"scatterternary\"}],\"surface\":[{\"colorbar\":{\"outlinewidth\":0,\"ticks\":\"\"},\"colorscale\":[[0.0,\"#0d0887\"],[0.1111111111111111,\"#46039f\"],[0.2222222222222222,\"#7201a8\"],[0.3333333333333333,\"#9c179e\"],[0.4444444444444444,\"#bd3786\"],[0.5555555555555556,\"#d8576b\"],[0.6666666666666666,\"#ed7953\"],[0.7777777777777778,\"#fb9f3a\"],[0.8888888888888888,\"#fdca26\"],[1.0,\"#f0f921\"]],\"type\":\"surface\"}],\"table\":[{\"cells\":{\"fill\":{\"color\":\"#EBF0F8\"},\"line\":{\"color\":\"white\"}},\"header\":{\"fill\":{\"color\":\"#C8D4E3\"},\"line\":{\"color\":\"white\"}},\"type\":\"table\"}]},\"layout\":{\"annotationdefaults\":{\"arrowcolor\":\"#2a3f5f\",\"arrowhead\":0,\"arrowwidth\":1},\"autotypenumbers\":\"strict\",\"coloraxis\":{\"colorbar\":{\"outlinewidth\":0,\"ticks\":\"\"}},\"colorscale\":{\"diverging\":[[0,\"#8e0152\"],[0.1,\"#c51b7d\"],[0.2,\"#de77ae\"],[0.3,\"#f1b6da\"],[0.4,\"#fde0ef\"],[0.5,\"#f7f7f7\"],[0.6,\"#e6f5d0\"],[0.7,\"#b8e186\"],[0.8,\"#7fbc41\"],[0.9,\"#4d9221\"],[1,\"#276419\"]],\"sequential\":[[0.0,\"#0d0887\"],[0.1111111111111111,\"#46039f\"],[0.2222222222222222,\"#7201a8\"],[0.3333333333333333,\"#9c179e\"],[0.4444444444444444,\"#bd3786\"],[0.5555555555555556,\"#d8576b\"],[0.6666666666666666,\"#ed7953\"],[0.7777777777777778,\"#fb9f3a\"],[0.8888888888888888,\"#fdca26\"],[1.0,\"#f0f921\"]],\"sequentialminus\":[[0.0,\"#0d0887\"],[0.1111111111111111,\"#46039f\"],[0.2222222222222222,\"#7201a8\"],[0.3333333333333333,\"#9c179e\"],[0.4444444444444444,\"#bd3786\"],[0.5555555555555556,\"#d8576b\"],[0.6666666666666666,\"#ed7953\"],[0.7777777777777778,\"#fb9f3a\"],[0.8888888888888888,\"#fdca26\"],[1.0,\"#f0f921\"]]},\"colorway\":[\"#636efa\",\"#EF553B\",\"#00cc96\",\"#ab63fa\",\"#FFA15A\",\"#19d3f3\",\"#FF6692\",\"#B6E880\",\"#FF97FF\",\"#FECB52\"],\"font\":{\"color\":\"#2a3f5f\"},\"geo\":{\"bgcolor\":\"white\",\"lakecolor\":\"white\",\"landcolor\":\"white\",\"showlakes\":true,\"showland\":true,\"subunitcolor\":\"#C8D4E3\"},\"hoverlabel\":{\"align\":\"left\"},\"hovermode\":\"closest\",\"mapbox\":{\"style\":\"light\"},\"paper_bgcolor\":\"white\",\"plot_bgcolor\":\"white\",\"polar\":{\"angularaxis\":{\"gridcolor\":\"#EBF0F8\",\"linecolor\":\"#EBF0F8\",\"ticks\":\"\"},\"bgcolor\":\"white\",\"radialaxis\":{\"gridcolor\":\"#EBF0F8\",\"linecolor\":\"#EBF0F8\",\"ticks\":\"\"}},\"scene\":{\"xaxis\":{\"backgroundcolor\":\"white\",\"gridcolor\":\"#DFE8F3\",\"gridwidth\":2,\"linecolor\":\"#EBF0F8\",\"showbackground\":true,\"ticks\":\"\",\"zerolinecolor\":\"#EBF0F8\"},\"yaxis\":{\"backgroundcolor\":\"white\",\"gridcolor\":\"#DFE8F3\",\"gridwidth\":2,\"linecolor\":\"#EBF0F8\",\"showbackground\":true,\"ticks\":\"\",\"zerolinecolor\":\"#EBF0F8\"},\"zaxis\":{\"backgroundcolor\":\"white\",\"gridcolor\":\"#DFE8F3\",\"gridwidth\":2,\"linecolor\":\"#EBF0F8\",\"showbackground\":true,\"ticks\":\"\",\"zerolinecolor\":\"#EBF0F8\"}},\"shapedefaults\":{\"line\":{\"color\":\"#2a3f5f\"}},\"ternary\":{\"aaxis\":{\"gridcolor\":\"#DFE8F3\",\"linecolor\":\"#A2B1C6\",\"ticks\":\"\"},\"baxis\":{\"gridcolor\":\"#DFE8F3\",\"linecolor\":\"#A2B1C6\",\"ticks\":\"\"},\"bgcolor\":\"white\",\"caxis\":{\"gridcolor\":\"#DFE8F3\",\"linecolor\":\"#A2B1C6\",\"ticks\":\"\"}},\"title\":{\"x\":0.05},\"xaxis\":{\"automargin\":true,\"gridcolor\":\"#EBF0F8\",\"linecolor\":\"#EBF0F8\",\"ticks\":\"\",\"title\":{\"standoff\":15},\"zerolinecolor\":\"#EBF0F8\",\"zerolinewidth\":2},\"yaxis\":{\"automargin\":true,\"gridcolor\":\"#EBF0F8\",\"linecolor\":\"#EBF0F8\",\"ticks\":\"\",\"title\":{\"standoff\":15},\"zerolinecolor\":\"#EBF0F8\",\"zerolinewidth\":2}}},\"xaxis\":{\"anchor\":\"y\",\"domain\":[0.0,1.0],\"title\":{\"text\":\"EJECTION FRACTION\"}},\"yaxis\":{\"anchor\":\"x\",\"domain\":[0.0,0.7326],\"title\":{\"text\":\"count\"}},\"xaxis2\":{\"anchor\":\"y2\",\"domain\":[0.0,1.0],\"matches\":\"x\",\"showticklabels\":false,\"showgrid\":true},\"yaxis2\":{\"anchor\":\"x2\",\"domain\":[0.7426,1.0],\"matches\":\"y2\",\"showticklabels\":false,\"showline\":false,\"ticks\":\"\",\"showgrid\":false},\"legend\":{\"title\":{\"text\":\"DEATH_EVENT\"},\"tracegroupgap\":0},\"title\":{\"text\":\"Distribution of EJECTION FRACTION Vs DEATH_EVENT\"},\"barmode\":\"relative\"},                        {\"responsive\": true}                    ).then(function(){\n",
       "                            \n",
       "var gd = document.getElementById('7f23062e-725b-490a-a211-7690093e134d');\n",
       "var x = new MutationObserver(function (mutations, observer) {{\n",
       "        var display = window.getComputedStyle(gd).display;\n",
       "        if (!display || display === 'none') {{\n",
       "            console.log([gd, 'removed!']);\n",
       "            Plotly.purge(gd);\n",
       "            observer.disconnect();\n",
       "        }}\n",
       "}});\n",
       "\n",
       "// Listen for the removal of the full notebook cells\n",
       "var notebookContainer = gd.closest('#notebook-container');\n",
       "if (notebookContainer) {{\n",
       "    x.observe(notebookContainer, {childList: true});\n",
       "}}\n",
       "\n",
       "// Listen for the clearing of the current output cell\n",
       "var outputEl = gd.closest('.output');\n",
       "if (outputEl) {{\n",
       "    x.observe(outputEl, {childList: true});\n",
       "}}\n",
       "\n",
       "                        })                };                });            </script>        </div>"
      ]
     },
     "metadata": {},
     "output_type": "display_data"
    }
   ],
   "source": [
    "# Now lets categorize the above histogram by DEATH_EVENT\n",
    "\n",
    "import plotly.express as px\n",
    "fig = px.histogram(df, x=\"ejection_fraction\", color=\"DEATH_EVENT\", marginal=\"violin\", hover_data=df.columns,\n",
    "                   title =\"Distribution of EJECTION FRACTION Vs DEATH_EVENT\", \n",
    "                   labels={\"ejection_fraction\": \"EJECTION FRACTION\"},\n",
    "                   template=\"plotly_white\",\n",
    "                   color_discrete_map={\"0\": \"RebeccaPurple\", \"1\": \"MediumPurple\"})\n",
    "fig.show()"
   ]
  },
  {
   "cell_type": "code",
   "execution_count": 39,
   "metadata": {},
   "outputs": [
    {
     "data": {
      "application/vnd.plotly.v1+json": {
       "config": {
        "plotlyServerURL": "https://plot.ly"
       },
       "data": [
        {
         "domain": {
          "x": [
           0,
           0.45
          ],
          "y": [
           0,
           1
          ]
         },
         "hole": 0.4,
         "hoverinfo": "label+percent",
         "labels": [
          "Male",
          "Female"
         ],
         "name": "GENDER",
         "type": "pie",
         "values": [
          194,
          103
         ]
        },
        {
         "domain": {
          "x": [
           0.55,
           1
          ],
          "y": [
           0,
           1
          ]
         },
         "hole": 0.4,
         "hoverinfo": "label+percent",
         "labels": [
          "Male - Survived",
          "Male - Died",
          "Female -  Survived",
          "Female - Died"
         ],
         "name": "GENDER VS DEATH_EVENT",
         "type": "pie",
         "values": [
          132,
          62,
          70,
          33
         ]
        }
       ],
       "layout": {
        "annotations": [
         {
          "font": {
           "size": 10
          },
          "showarrow": false,
          "text": "GENDER",
          "x": 0.19,
          "y": 0.5
         },
         {
          "font": {
           "size": 9
          },
          "showarrow": false,
          "text": "GENDER VS DEATH_EVENT",
          "x": 0.84,
          "y": 0.5
         }
        ],
        "autosize": false,
        "height": 500,
        "paper_bgcolor": "white",
        "template": {
         "data": {
          "bar": [
           {
            "error_x": {
             "color": "#2a3f5f"
            },
            "error_y": {
             "color": "#2a3f5f"
            },
            "marker": {
             "line": {
              "color": "#E5ECF6",
              "width": 0.5
             },
             "pattern": {
              "fillmode": "overlay",
              "size": 10,
              "solidity": 0.2
             }
            },
            "type": "bar"
           }
          ],
          "barpolar": [
           {
            "marker": {
             "line": {
              "color": "#E5ECF6",
              "width": 0.5
             },
             "pattern": {
              "fillmode": "overlay",
              "size": 10,
              "solidity": 0.2
             }
            },
            "type": "barpolar"
           }
          ],
          "carpet": [
           {
            "aaxis": {
             "endlinecolor": "#2a3f5f",
             "gridcolor": "white",
             "linecolor": "white",
             "minorgridcolor": "white",
             "startlinecolor": "#2a3f5f"
            },
            "baxis": {
             "endlinecolor": "#2a3f5f",
             "gridcolor": "white",
             "linecolor": "white",
             "minorgridcolor": "white",
             "startlinecolor": "#2a3f5f"
            },
            "type": "carpet"
           }
          ],
          "choropleth": [
           {
            "colorbar": {
             "outlinewidth": 0,
             "ticks": ""
            },
            "type": "choropleth"
           }
          ],
          "contour": [
           {
            "colorbar": {
             "outlinewidth": 0,
             "ticks": ""
            },
            "colorscale": [
             [
              0,
              "#0d0887"
             ],
             [
              0.1111111111111111,
              "#46039f"
             ],
             [
              0.2222222222222222,
              "#7201a8"
             ],
             [
              0.3333333333333333,
              "#9c179e"
             ],
             [
              0.4444444444444444,
              "#bd3786"
             ],
             [
              0.5555555555555556,
              "#d8576b"
             ],
             [
              0.6666666666666666,
              "#ed7953"
             ],
             [
              0.7777777777777778,
              "#fb9f3a"
             ],
             [
              0.8888888888888888,
              "#fdca26"
             ],
             [
              1,
              "#f0f921"
             ]
            ],
            "type": "contour"
           }
          ],
          "contourcarpet": [
           {
            "colorbar": {
             "outlinewidth": 0,
             "ticks": ""
            },
            "type": "contourcarpet"
           }
          ],
          "heatmap": [
           {
            "colorbar": {
             "outlinewidth": 0,
             "ticks": ""
            },
            "colorscale": [
             [
              0,
              "#0d0887"
             ],
             [
              0.1111111111111111,
              "#46039f"
             ],
             [
              0.2222222222222222,
              "#7201a8"
             ],
             [
              0.3333333333333333,
              "#9c179e"
             ],
             [
              0.4444444444444444,
              "#bd3786"
             ],
             [
              0.5555555555555556,
              "#d8576b"
             ],
             [
              0.6666666666666666,
              "#ed7953"
             ],
             [
              0.7777777777777778,
              "#fb9f3a"
             ],
             [
              0.8888888888888888,
              "#fdca26"
             ],
             [
              1,
              "#f0f921"
             ]
            ],
            "type": "heatmap"
           }
          ],
          "heatmapgl": [
           {
            "colorbar": {
             "outlinewidth": 0,
             "ticks": ""
            },
            "colorscale": [
             [
              0,
              "#0d0887"
             ],
             [
              0.1111111111111111,
              "#46039f"
             ],
             [
              0.2222222222222222,
              "#7201a8"
             ],
             [
              0.3333333333333333,
              "#9c179e"
             ],
             [
              0.4444444444444444,
              "#bd3786"
             ],
             [
              0.5555555555555556,
              "#d8576b"
             ],
             [
              0.6666666666666666,
              "#ed7953"
             ],
             [
              0.7777777777777778,
              "#fb9f3a"
             ],
             [
              0.8888888888888888,
              "#fdca26"
             ],
             [
              1,
              "#f0f921"
             ]
            ],
            "type": "heatmapgl"
           }
          ],
          "histogram": [
           {
            "marker": {
             "pattern": {
              "fillmode": "overlay",
              "size": 10,
              "solidity": 0.2
             }
            },
            "type": "histogram"
           }
          ],
          "histogram2d": [
           {
            "colorbar": {
             "outlinewidth": 0,
             "ticks": ""
            },
            "colorscale": [
             [
              0,
              "#0d0887"
             ],
             [
              0.1111111111111111,
              "#46039f"
             ],
             [
              0.2222222222222222,
              "#7201a8"
             ],
             [
              0.3333333333333333,
              "#9c179e"
             ],
             [
              0.4444444444444444,
              "#bd3786"
             ],
             [
              0.5555555555555556,
              "#d8576b"
             ],
             [
              0.6666666666666666,
              "#ed7953"
             ],
             [
              0.7777777777777778,
              "#fb9f3a"
             ],
             [
              0.8888888888888888,
              "#fdca26"
             ],
             [
              1,
              "#f0f921"
             ]
            ],
            "type": "histogram2d"
           }
          ],
          "histogram2dcontour": [
           {
            "colorbar": {
             "outlinewidth": 0,
             "ticks": ""
            },
            "colorscale": [
             [
              0,
              "#0d0887"
             ],
             [
              0.1111111111111111,
              "#46039f"
             ],
             [
              0.2222222222222222,
              "#7201a8"
             ],
             [
              0.3333333333333333,
              "#9c179e"
             ],
             [
              0.4444444444444444,
              "#bd3786"
             ],
             [
              0.5555555555555556,
              "#d8576b"
             ],
             [
              0.6666666666666666,
              "#ed7953"
             ],
             [
              0.7777777777777778,
              "#fb9f3a"
             ],
             [
              0.8888888888888888,
              "#fdca26"
             ],
             [
              1,
              "#f0f921"
             ]
            ],
            "type": "histogram2dcontour"
           }
          ],
          "mesh3d": [
           {
            "colorbar": {
             "outlinewidth": 0,
             "ticks": ""
            },
            "type": "mesh3d"
           }
          ],
          "parcoords": [
           {
            "line": {
             "colorbar": {
              "outlinewidth": 0,
              "ticks": ""
             }
            },
            "type": "parcoords"
           }
          ],
          "pie": [
           {
            "automargin": true,
            "type": "pie"
           }
          ],
          "scatter": [
           {
            "fillpattern": {
             "fillmode": "overlay",
             "size": 10,
             "solidity": 0.2
            },
            "type": "scatter"
           }
          ],
          "scatter3d": [
           {
            "line": {
             "colorbar": {
              "outlinewidth": 0,
              "ticks": ""
             }
            },
            "marker": {
             "colorbar": {
              "outlinewidth": 0,
              "ticks": ""
             }
            },
            "type": "scatter3d"
           }
          ],
          "scattercarpet": [
           {
            "marker": {
             "colorbar": {
              "outlinewidth": 0,
              "ticks": ""
             }
            },
            "type": "scattercarpet"
           }
          ],
          "scattergeo": [
           {
            "marker": {
             "colorbar": {
              "outlinewidth": 0,
              "ticks": ""
             }
            },
            "type": "scattergeo"
           }
          ],
          "scattergl": [
           {
            "marker": {
             "colorbar": {
              "outlinewidth": 0,
              "ticks": ""
             }
            },
            "type": "scattergl"
           }
          ],
          "scattermapbox": [
           {
            "marker": {
             "colorbar": {
              "outlinewidth": 0,
              "ticks": ""
             }
            },
            "type": "scattermapbox"
           }
          ],
          "scatterpolar": [
           {
            "marker": {
             "colorbar": {
              "outlinewidth": 0,
              "ticks": ""
             }
            },
            "type": "scatterpolar"
           }
          ],
          "scatterpolargl": [
           {
            "marker": {
             "colorbar": {
              "outlinewidth": 0,
              "ticks": ""
             }
            },
            "type": "scatterpolargl"
           }
          ],
          "scatterternary": [
           {
            "marker": {
             "colorbar": {
              "outlinewidth": 0,
              "ticks": ""
             }
            },
            "type": "scatterternary"
           }
          ],
          "surface": [
           {
            "colorbar": {
             "outlinewidth": 0,
             "ticks": ""
            },
            "colorscale": [
             [
              0,
              "#0d0887"
             ],
             [
              0.1111111111111111,
              "#46039f"
             ],
             [
              0.2222222222222222,
              "#7201a8"
             ],
             [
              0.3333333333333333,
              "#9c179e"
             ],
             [
              0.4444444444444444,
              "#bd3786"
             ],
             [
              0.5555555555555556,
              "#d8576b"
             ],
             [
              0.6666666666666666,
              "#ed7953"
             ],
             [
              0.7777777777777778,
              "#fb9f3a"
             ],
             [
              0.8888888888888888,
              "#fdca26"
             ],
             [
              1,
              "#f0f921"
             ]
            ],
            "type": "surface"
           }
          ],
          "table": [
           {
            "cells": {
             "fill": {
              "color": "#EBF0F8"
             },
             "line": {
              "color": "white"
             }
            },
            "header": {
             "fill": {
              "color": "#C8D4E3"
             },
             "line": {
              "color": "white"
             }
            },
            "type": "table"
           }
          ]
         },
         "layout": {
          "annotationdefaults": {
           "arrowcolor": "#2a3f5f",
           "arrowhead": 0,
           "arrowwidth": 1
          },
          "autotypenumbers": "strict",
          "coloraxis": {
           "colorbar": {
            "outlinewidth": 0,
            "ticks": ""
           }
          },
          "colorscale": {
           "diverging": [
            [
             0,
             "#8e0152"
            ],
            [
             0.1,
             "#c51b7d"
            ],
            [
             0.2,
             "#de77ae"
            ],
            [
             0.3,
             "#f1b6da"
            ],
            [
             0.4,
             "#fde0ef"
            ],
            [
             0.5,
             "#f7f7f7"
            ],
            [
             0.6,
             "#e6f5d0"
            ],
            [
             0.7,
             "#b8e186"
            ],
            [
             0.8,
             "#7fbc41"
            ],
            [
             0.9,
             "#4d9221"
            ],
            [
             1,
             "#276419"
            ]
           ],
           "sequential": [
            [
             0,
             "#0d0887"
            ],
            [
             0.1111111111111111,
             "#46039f"
            ],
            [
             0.2222222222222222,
             "#7201a8"
            ],
            [
             0.3333333333333333,
             "#9c179e"
            ],
            [
             0.4444444444444444,
             "#bd3786"
            ],
            [
             0.5555555555555556,
             "#d8576b"
            ],
            [
             0.6666666666666666,
             "#ed7953"
            ],
            [
             0.7777777777777778,
             "#fb9f3a"
            ],
            [
             0.8888888888888888,
             "#fdca26"
            ],
            [
             1,
             "#f0f921"
            ]
           ],
           "sequentialminus": [
            [
             0,
             "#0d0887"
            ],
            [
             0.1111111111111111,
             "#46039f"
            ],
            [
             0.2222222222222222,
             "#7201a8"
            ],
            [
             0.3333333333333333,
             "#9c179e"
            ],
            [
             0.4444444444444444,
             "#bd3786"
            ],
            [
             0.5555555555555556,
             "#d8576b"
            ],
            [
             0.6666666666666666,
             "#ed7953"
            ],
            [
             0.7777777777777778,
             "#fb9f3a"
            ],
            [
             0.8888888888888888,
             "#fdca26"
            ],
            [
             1,
             "#f0f921"
            ]
           ]
          },
          "colorway": [
           "#636efa",
           "#EF553B",
           "#00cc96",
           "#ab63fa",
           "#FFA15A",
           "#19d3f3",
           "#FF6692",
           "#B6E880",
           "#FF97FF",
           "#FECB52"
          ],
          "font": {
           "color": "#2a3f5f"
          },
          "geo": {
           "bgcolor": "white",
           "lakecolor": "white",
           "landcolor": "#E5ECF6",
           "showlakes": true,
           "showland": true,
           "subunitcolor": "white"
          },
          "hoverlabel": {
           "align": "left"
          },
          "hovermode": "closest",
          "mapbox": {
           "style": "light"
          },
          "paper_bgcolor": "white",
          "plot_bgcolor": "#E5ECF6",
          "polar": {
           "angularaxis": {
            "gridcolor": "white",
            "linecolor": "white",
            "ticks": ""
           },
           "bgcolor": "#E5ECF6",
           "radialaxis": {
            "gridcolor": "white",
            "linecolor": "white",
            "ticks": ""
           }
          },
          "scene": {
           "xaxis": {
            "backgroundcolor": "#E5ECF6",
            "gridcolor": "white",
            "gridwidth": 2,
            "linecolor": "white",
            "showbackground": true,
            "ticks": "",
            "zerolinecolor": "white"
           },
           "yaxis": {
            "backgroundcolor": "#E5ECF6",
            "gridcolor": "white",
            "gridwidth": 2,
            "linecolor": "white",
            "showbackground": true,
            "ticks": "",
            "zerolinecolor": "white"
           },
           "zaxis": {
            "backgroundcolor": "#E5ECF6",
            "gridcolor": "white",
            "gridwidth": 2,
            "linecolor": "white",
            "showbackground": true,
            "ticks": "",
            "zerolinecolor": "white"
           }
          },
          "shapedefaults": {
           "line": {
            "color": "#2a3f5f"
           }
          },
          "ternary": {
           "aaxis": {
            "gridcolor": "white",
            "linecolor": "white",
            "ticks": ""
           },
           "baxis": {
            "gridcolor": "white",
            "linecolor": "white",
            "ticks": ""
           },
           "bgcolor": "#E5ECF6",
           "caxis": {
            "gridcolor": "white",
            "linecolor": "white",
            "ticks": ""
           }
          },
          "title": {
           "x": 0.05
          },
          "xaxis": {
           "automargin": true,
           "gridcolor": "white",
           "linecolor": "white",
           "ticks": "",
           "title": {
            "standoff": 15
           },
           "zerolinecolor": "white",
           "zerolinewidth": 2
          },
          "yaxis": {
           "automargin": true,
           "gridcolor": "white",
           "linecolor": "white",
           "ticks": "",
           "title": {
            "standoff": 15
           },
           "zerolinecolor": "white",
           "zerolinewidth": 2
          }
         }
        },
        "title": {
         "text": "GENDER DISTRIBUTION IN THE DATASET                     GENDER VS DEATH_EVENT"
        },
        "width": 1200
       }
      },
      "text/html": [
       "<div>                            <div id=\"bbcccc70-491f-45d6-be69-ee69b6d24b52\" class=\"plotly-graph-div\" style=\"height:500px; width:1200px;\"></div>            <script type=\"text/javascript\">                require([\"plotly\"], function(Plotly) {                    window.PLOTLYENV=window.PLOTLYENV || {};                                    if (document.getElementById(\"bbcccc70-491f-45d6-be69-ee69b6d24b52\")) {                    Plotly.newPlot(                        \"bbcccc70-491f-45d6-be69-ee69b6d24b52\",                        [{\"labels\":[\"Male\",\"Female\"],\"name\":\"GENDER\",\"values\":[194,103],\"type\":\"pie\",\"domain\":{\"x\":[0.0,0.45],\"y\":[0.0,1.0]},\"hole\":0.4,\"hoverinfo\":\"label+percent\"},{\"labels\":[\"Male - Survived\",\"Male - Died\",\"Female -  Survived\",\"Female - Died\"],\"name\":\"GENDER VS DEATH_EVENT\",\"values\":[132,62,70,33],\"type\":\"pie\",\"domain\":{\"x\":[0.55,1.0],\"y\":[0.0,1.0]},\"hole\":0.4,\"hoverinfo\":\"label+percent\"}],                        {\"template\":{\"data\":{\"histogram2dcontour\":[{\"type\":\"histogram2dcontour\",\"colorbar\":{\"outlinewidth\":0,\"ticks\":\"\"},\"colorscale\":[[0.0,\"#0d0887\"],[0.1111111111111111,\"#46039f\"],[0.2222222222222222,\"#7201a8\"],[0.3333333333333333,\"#9c179e\"],[0.4444444444444444,\"#bd3786\"],[0.5555555555555556,\"#d8576b\"],[0.6666666666666666,\"#ed7953\"],[0.7777777777777778,\"#fb9f3a\"],[0.8888888888888888,\"#fdca26\"],[1.0,\"#f0f921\"]]}],\"choropleth\":[{\"type\":\"choropleth\",\"colorbar\":{\"outlinewidth\":0,\"ticks\":\"\"}}],\"histogram2d\":[{\"type\":\"histogram2d\",\"colorbar\":{\"outlinewidth\":0,\"ticks\":\"\"},\"colorscale\":[[0.0,\"#0d0887\"],[0.1111111111111111,\"#46039f\"],[0.2222222222222222,\"#7201a8\"],[0.3333333333333333,\"#9c179e\"],[0.4444444444444444,\"#bd3786\"],[0.5555555555555556,\"#d8576b\"],[0.6666666666666666,\"#ed7953\"],[0.7777777777777778,\"#fb9f3a\"],[0.8888888888888888,\"#fdca26\"],[1.0,\"#f0f921\"]]}],\"heatmap\":[{\"type\":\"heatmap\",\"colorbar\":{\"outlinewidth\":0,\"ticks\":\"\"},\"colorscale\":[[0.0,\"#0d0887\"],[0.1111111111111111,\"#46039f\"],[0.2222222222222222,\"#7201a8\"],[0.3333333333333333,\"#9c179e\"],[0.4444444444444444,\"#bd3786\"],[0.5555555555555556,\"#d8576b\"],[0.6666666666666666,\"#ed7953\"],[0.7777777777777778,\"#fb9f3a\"],[0.8888888888888888,\"#fdca26\"],[1.0,\"#f0f921\"]]}],\"heatmapgl\":[{\"type\":\"heatmapgl\",\"colorbar\":{\"outlinewidth\":0,\"ticks\":\"\"},\"colorscale\":[[0.0,\"#0d0887\"],[0.1111111111111111,\"#46039f\"],[0.2222222222222222,\"#7201a8\"],[0.3333333333333333,\"#9c179e\"],[0.4444444444444444,\"#bd3786\"],[0.5555555555555556,\"#d8576b\"],[0.6666666666666666,\"#ed7953\"],[0.7777777777777778,\"#fb9f3a\"],[0.8888888888888888,\"#fdca26\"],[1.0,\"#f0f921\"]]}],\"contourcarpet\":[{\"type\":\"contourcarpet\",\"colorbar\":{\"outlinewidth\":0,\"ticks\":\"\"}}],\"contour\":[{\"type\":\"contour\",\"colorbar\":{\"outlinewidth\":0,\"ticks\":\"\"},\"colorscale\":[[0.0,\"#0d0887\"],[0.1111111111111111,\"#46039f\"],[0.2222222222222222,\"#7201a8\"],[0.3333333333333333,\"#9c179e\"],[0.4444444444444444,\"#bd3786\"],[0.5555555555555556,\"#d8576b\"],[0.6666666666666666,\"#ed7953\"],[0.7777777777777778,\"#fb9f3a\"],[0.8888888888888888,\"#fdca26\"],[1.0,\"#f0f921\"]]}],\"surface\":[{\"type\":\"surface\",\"colorbar\":{\"outlinewidth\":0,\"ticks\":\"\"},\"colorscale\":[[0.0,\"#0d0887\"],[0.1111111111111111,\"#46039f\"],[0.2222222222222222,\"#7201a8\"],[0.3333333333333333,\"#9c179e\"],[0.4444444444444444,\"#bd3786\"],[0.5555555555555556,\"#d8576b\"],[0.6666666666666666,\"#ed7953\"],[0.7777777777777778,\"#fb9f3a\"],[0.8888888888888888,\"#fdca26\"],[1.0,\"#f0f921\"]]}],\"mesh3d\":[{\"type\":\"mesh3d\",\"colorbar\":{\"outlinewidth\":0,\"ticks\":\"\"}}],\"scatter\":[{\"fillpattern\":{\"fillmode\":\"overlay\",\"size\":10,\"solidity\":0.2},\"type\":\"scatter\"}],\"parcoords\":[{\"type\":\"parcoords\",\"line\":{\"colorbar\":{\"outlinewidth\":0,\"ticks\":\"\"}}}],\"scatterpolargl\":[{\"type\":\"scatterpolargl\",\"marker\":{\"colorbar\":{\"outlinewidth\":0,\"ticks\":\"\"}}}],\"bar\":[{\"error_x\":{\"color\":\"#2a3f5f\"},\"error_y\":{\"color\":\"#2a3f5f\"},\"marker\":{\"line\":{\"color\":\"#E5ECF6\",\"width\":0.5},\"pattern\":{\"fillmode\":\"overlay\",\"size\":10,\"solidity\":0.2}},\"type\":\"bar\"}],\"scattergeo\":[{\"type\":\"scattergeo\",\"marker\":{\"colorbar\":{\"outlinewidth\":0,\"ticks\":\"\"}}}],\"scatterpolar\":[{\"type\":\"scatterpolar\",\"marker\":{\"colorbar\":{\"outlinewidth\":0,\"ticks\":\"\"}}}],\"histogram\":[{\"marker\":{\"pattern\":{\"fillmode\":\"overlay\",\"size\":10,\"solidity\":0.2}},\"type\":\"histogram\"}],\"scattergl\":[{\"type\":\"scattergl\",\"marker\":{\"colorbar\":{\"outlinewidth\":0,\"ticks\":\"\"}}}],\"scatter3d\":[{\"type\":\"scatter3d\",\"line\":{\"colorbar\":{\"outlinewidth\":0,\"ticks\":\"\"}},\"marker\":{\"colorbar\":{\"outlinewidth\":0,\"ticks\":\"\"}}}],\"scattermapbox\":[{\"type\":\"scattermapbox\",\"marker\":{\"colorbar\":{\"outlinewidth\":0,\"ticks\":\"\"}}}],\"scatterternary\":[{\"type\":\"scatterternary\",\"marker\":{\"colorbar\":{\"outlinewidth\":0,\"ticks\":\"\"}}}],\"scattercarpet\":[{\"type\":\"scattercarpet\",\"marker\":{\"colorbar\":{\"outlinewidth\":0,\"ticks\":\"\"}}}],\"carpet\":[{\"aaxis\":{\"endlinecolor\":\"#2a3f5f\",\"gridcolor\":\"white\",\"linecolor\":\"white\",\"minorgridcolor\":\"white\",\"startlinecolor\":\"#2a3f5f\"},\"baxis\":{\"endlinecolor\":\"#2a3f5f\",\"gridcolor\":\"white\",\"linecolor\":\"white\",\"minorgridcolor\":\"white\",\"startlinecolor\":\"#2a3f5f\"},\"type\":\"carpet\"}],\"table\":[{\"cells\":{\"fill\":{\"color\":\"#EBF0F8\"},\"line\":{\"color\":\"white\"}},\"header\":{\"fill\":{\"color\":\"#C8D4E3\"},\"line\":{\"color\":\"white\"}},\"type\":\"table\"}],\"barpolar\":[{\"marker\":{\"line\":{\"color\":\"#E5ECF6\",\"width\":0.5},\"pattern\":{\"fillmode\":\"overlay\",\"size\":10,\"solidity\":0.2}},\"type\":\"barpolar\"}],\"pie\":[{\"automargin\":true,\"type\":\"pie\"}]},\"layout\":{\"autotypenumbers\":\"strict\",\"colorway\":[\"#636efa\",\"#EF553B\",\"#00cc96\",\"#ab63fa\",\"#FFA15A\",\"#19d3f3\",\"#FF6692\",\"#B6E880\",\"#FF97FF\",\"#FECB52\"],\"font\":{\"color\":\"#2a3f5f\"},\"hovermode\":\"closest\",\"hoverlabel\":{\"align\":\"left\"},\"paper_bgcolor\":\"white\",\"plot_bgcolor\":\"#E5ECF6\",\"polar\":{\"bgcolor\":\"#E5ECF6\",\"angularaxis\":{\"gridcolor\":\"white\",\"linecolor\":\"white\",\"ticks\":\"\"},\"radialaxis\":{\"gridcolor\":\"white\",\"linecolor\":\"white\",\"ticks\":\"\"}},\"ternary\":{\"bgcolor\":\"#E5ECF6\",\"aaxis\":{\"gridcolor\":\"white\",\"linecolor\":\"white\",\"ticks\":\"\"},\"baxis\":{\"gridcolor\":\"white\",\"linecolor\":\"white\",\"ticks\":\"\"},\"caxis\":{\"gridcolor\":\"white\",\"linecolor\":\"white\",\"ticks\":\"\"}},\"coloraxis\":{\"colorbar\":{\"outlinewidth\":0,\"ticks\":\"\"}},\"colorscale\":{\"sequential\":[[0.0,\"#0d0887\"],[0.1111111111111111,\"#46039f\"],[0.2222222222222222,\"#7201a8\"],[0.3333333333333333,\"#9c179e\"],[0.4444444444444444,\"#bd3786\"],[0.5555555555555556,\"#d8576b\"],[0.6666666666666666,\"#ed7953\"],[0.7777777777777778,\"#fb9f3a\"],[0.8888888888888888,\"#fdca26\"],[1.0,\"#f0f921\"]],\"sequentialminus\":[[0.0,\"#0d0887\"],[0.1111111111111111,\"#46039f\"],[0.2222222222222222,\"#7201a8\"],[0.3333333333333333,\"#9c179e\"],[0.4444444444444444,\"#bd3786\"],[0.5555555555555556,\"#d8576b\"],[0.6666666666666666,\"#ed7953\"],[0.7777777777777778,\"#fb9f3a\"],[0.8888888888888888,\"#fdca26\"],[1.0,\"#f0f921\"]],\"diverging\":[[0,\"#8e0152\"],[0.1,\"#c51b7d\"],[0.2,\"#de77ae\"],[0.3,\"#f1b6da\"],[0.4,\"#fde0ef\"],[0.5,\"#f7f7f7\"],[0.6,\"#e6f5d0\"],[0.7,\"#b8e186\"],[0.8,\"#7fbc41\"],[0.9,\"#4d9221\"],[1,\"#276419\"]]},\"xaxis\":{\"gridcolor\":\"white\",\"linecolor\":\"white\",\"ticks\":\"\",\"title\":{\"standoff\":15},\"zerolinecolor\":\"white\",\"automargin\":true,\"zerolinewidth\":2},\"yaxis\":{\"gridcolor\":\"white\",\"linecolor\":\"white\",\"ticks\":\"\",\"title\":{\"standoff\":15},\"zerolinecolor\":\"white\",\"automargin\":true,\"zerolinewidth\":2},\"scene\":{\"xaxis\":{\"backgroundcolor\":\"#E5ECF6\",\"gridcolor\":\"white\",\"linecolor\":\"white\",\"showbackground\":true,\"ticks\":\"\",\"zerolinecolor\":\"white\",\"gridwidth\":2},\"yaxis\":{\"backgroundcolor\":\"#E5ECF6\",\"gridcolor\":\"white\",\"linecolor\":\"white\",\"showbackground\":true,\"ticks\":\"\",\"zerolinecolor\":\"white\",\"gridwidth\":2},\"zaxis\":{\"backgroundcolor\":\"#E5ECF6\",\"gridcolor\":\"white\",\"linecolor\":\"white\",\"showbackground\":true,\"ticks\":\"\",\"zerolinecolor\":\"white\",\"gridwidth\":2}},\"shapedefaults\":{\"line\":{\"color\":\"#2a3f5f\"}},\"annotationdefaults\":{\"arrowcolor\":\"#2a3f5f\",\"arrowhead\":0,\"arrowwidth\":1},\"geo\":{\"bgcolor\":\"white\",\"landcolor\":\"#E5ECF6\",\"subunitcolor\":\"white\",\"showland\":true,\"showlakes\":true,\"lakecolor\":\"white\"},\"title\":{\"x\":0.05},\"mapbox\":{\"style\":\"light\"}}},\"title\":{\"text\":\"GENDER DISTRIBUTION IN THE DATASET                     GENDER VS DEATH_EVENT\"},\"annotations\":[{\"showarrow\":false,\"text\":\"GENDER\",\"x\":0.19,\"y\":0.5,\"font\":{\"size\":10}},{\"showarrow\":false,\"text\":\"GENDER VS DEATH_EVENT\",\"x\":0.84,\"y\":0.5,\"font\":{\"size\":9}}],\"autosize\":false,\"width\":1200,\"height\":500,\"paper_bgcolor\":\"white\"},                        {\"responsive\": true}                    ).then(function(){\n",
       "                            \n",
       "var gd = document.getElementById('bbcccc70-491f-45d6-be69-ee69b6d24b52');\n",
       "var x = new MutationObserver(function (mutations, observer) {{\n",
       "        var display = window.getComputedStyle(gd).display;\n",
       "        if (!display || display === 'none') {{\n",
       "            console.log([gd, 'removed!']);\n",
       "            Plotly.purge(gd);\n",
       "            observer.disconnect();\n",
       "        }}\n",
       "}});\n",
       "\n",
       "// Listen for the removal of the full notebook cells\n",
       "var notebookContainer = gd.closest('#notebook-container');\n",
       "if (notebookContainer) {{\n",
       "    x.observe(notebookContainer, {childList: true});\n",
       "}}\n",
       "\n",
       "// Listen for the clearing of the current output cell\n",
       "var outputEl = gd.closest('.output');\n",
       "if (outputEl) {{\n",
       "    x.observe(outputEl, {childList: true});\n",
       "}}\n",
       "\n",
       "                        })                };                });            </script>        </div>"
      ]
     },
     "metadata": {},
     "output_type": "display_data"
    }
   ],
   "source": [
    "# Gender Distribution and Categorizing it by Death_Event\n",
    "\n",
    "import plotly.graph_objects as go\n",
    "from plotly.subplots import make_subplots\n",
    "\n",
    "d1 = df[(df[\"DEATH_EVENT\"]==0) & (df[\"sex\"]==1)]\n",
    "d2 = df[(df[\"DEATH_EVENT\"]==1) & (df[\"sex\"]==1)]\n",
    "d3 = df[(df[\"DEATH_EVENT\"]==0) & (df[\"sex\"]==0)]\n",
    "d4 = df[(df[\"DEATH_EVENT\"]==1) & (df[\"sex\"]==0)]\n",
    "\n",
    "label1 = [\"Male\",\"Female\"]\n",
    "label2 = ['Male - Survived','Male - Died', \"Female -  Survived\", \"Female - Died\"]\n",
    "values1 = [(len(d1)+len(d2)), (len(d3)+len(d4))]\n",
    "values2 = [len(d1),len(d2),len(d3),len(d4)]\n",
    "\n",
    "# Create subplots: use 'domain' type for Pie subplot\n",
    "fig = make_subplots(rows=1, cols=2, specs=[[{'type':'domain'}, {'type':'domain'}]])\n",
    "fig.add_trace(go.Pie(labels=label1, values=values1, name=\"GENDER\"),\n",
    "              1, 1)\n",
    "fig.add_trace(go.Pie(labels=label2, values=values2, name=\"GENDER VS DEATH_EVENT\"),\n",
    "              1, 2)\n",
    "\n",
    "# Use `hole` to create a donut-like pie chart\n",
    "fig.update_traces(hole=.4, hoverinfo=\"label+percent\")\n",
    "\n",
    "fig.update_layout(\n",
    "    title_text=\"GENDER DISTRIBUTION IN THE DATASET  \\\n",
    "                   GENDER VS DEATH_EVENT\",\n",
    "    # Add annotations in the center of the donut pies.\n",
    "    annotations=[dict(text='GENDER', x=0.19, y=0.5, font_size=10, showarrow=False),\n",
    "                 dict(text='GENDER VS DEATH_EVENT', x=0.84, y=0.5, font_size=9, showarrow=False)],\n",
    "    autosize=False,width=1200, height=500, paper_bgcolor=\"white\")\n",
    "\n",
    "fig.show()"
   ]
  },
  {
   "cell_type": "code",
   "execution_count": 41,
   "metadata": {},
   "outputs": [
    {
     "data": {
      "application/vnd.plotly.v1+json": {
       "config": {
        "plotlyServerURL": "https://plot.ly"
       },
       "data": [
        {
         "domain": {
          "x": [
           0,
           0.45
          ],
          "y": [
           0,
           1
          ]
         },
         "hole": 0.4,
         "hoverinfo": "label+percent",
         "labels": [
          "No Diabetes",
          "Diabetes"
         ],
         "name": "DIABETES",
         "type": "pie",
         "values": [
          172,
          125
         ]
        },
        {
         "domain": {
          "x": [
           0.55,
           1
          ],
          "y": [
           0,
           1
          ]
         },
         "hole": 0.4,
         "hoverinfo": "label+percent",
         "labels": [
          "No Diabetes - Survived",
          "Diabetes - Survived",
          "No Diabetes -  Died",
          "Diabetes  - Died"
         ],
         "name": "DIABETES VS DEATH_EVENT",
         "type": "pie",
         "values": [
          117,
          85,
          55,
          40
         ]
        }
       ],
       "layout": {
        "annotations": [
         {
          "font": {
           "size": 10
          },
          "showarrow": false,
          "text": "DIABETES",
          "x": 0.2,
          "y": 0.5
         },
         {
          "font": {
           "size": 8
          },
          "showarrow": false,
          "text": "DIABETES VS DEATH_EVENT",
          "x": 0.84,
          "y": 0.5
         }
        ],
        "autosize": false,
        "height": 500,
        "paper_bgcolor": "white",
        "template": {
         "data": {
          "bar": [
           {
            "error_x": {
             "color": "#2a3f5f"
            },
            "error_y": {
             "color": "#2a3f5f"
            },
            "marker": {
             "line": {
              "color": "#E5ECF6",
              "width": 0.5
             },
             "pattern": {
              "fillmode": "overlay",
              "size": 10,
              "solidity": 0.2
             }
            },
            "type": "bar"
           }
          ],
          "barpolar": [
           {
            "marker": {
             "line": {
              "color": "#E5ECF6",
              "width": 0.5
             },
             "pattern": {
              "fillmode": "overlay",
              "size": 10,
              "solidity": 0.2
             }
            },
            "type": "barpolar"
           }
          ],
          "carpet": [
           {
            "aaxis": {
             "endlinecolor": "#2a3f5f",
             "gridcolor": "white",
             "linecolor": "white",
             "minorgridcolor": "white",
             "startlinecolor": "#2a3f5f"
            },
            "baxis": {
             "endlinecolor": "#2a3f5f",
             "gridcolor": "white",
             "linecolor": "white",
             "minorgridcolor": "white",
             "startlinecolor": "#2a3f5f"
            },
            "type": "carpet"
           }
          ],
          "choropleth": [
           {
            "colorbar": {
             "outlinewidth": 0,
             "ticks": ""
            },
            "type": "choropleth"
           }
          ],
          "contour": [
           {
            "colorbar": {
             "outlinewidth": 0,
             "ticks": ""
            },
            "colorscale": [
             [
              0,
              "#0d0887"
             ],
             [
              0.1111111111111111,
              "#46039f"
             ],
             [
              0.2222222222222222,
              "#7201a8"
             ],
             [
              0.3333333333333333,
              "#9c179e"
             ],
             [
              0.4444444444444444,
              "#bd3786"
             ],
             [
              0.5555555555555556,
              "#d8576b"
             ],
             [
              0.6666666666666666,
              "#ed7953"
             ],
             [
              0.7777777777777778,
              "#fb9f3a"
             ],
             [
              0.8888888888888888,
              "#fdca26"
             ],
             [
              1,
              "#f0f921"
             ]
            ],
            "type": "contour"
           }
          ],
          "contourcarpet": [
           {
            "colorbar": {
             "outlinewidth": 0,
             "ticks": ""
            },
            "type": "contourcarpet"
           }
          ],
          "heatmap": [
           {
            "colorbar": {
             "outlinewidth": 0,
             "ticks": ""
            },
            "colorscale": [
             [
              0,
              "#0d0887"
             ],
             [
              0.1111111111111111,
              "#46039f"
             ],
             [
              0.2222222222222222,
              "#7201a8"
             ],
             [
              0.3333333333333333,
              "#9c179e"
             ],
             [
              0.4444444444444444,
              "#bd3786"
             ],
             [
              0.5555555555555556,
              "#d8576b"
             ],
             [
              0.6666666666666666,
              "#ed7953"
             ],
             [
              0.7777777777777778,
              "#fb9f3a"
             ],
             [
              0.8888888888888888,
              "#fdca26"
             ],
             [
              1,
              "#f0f921"
             ]
            ],
            "type": "heatmap"
           }
          ],
          "heatmapgl": [
           {
            "colorbar": {
             "outlinewidth": 0,
             "ticks": ""
            },
            "colorscale": [
             [
              0,
              "#0d0887"
             ],
             [
              0.1111111111111111,
              "#46039f"
             ],
             [
              0.2222222222222222,
              "#7201a8"
             ],
             [
              0.3333333333333333,
              "#9c179e"
             ],
             [
              0.4444444444444444,
              "#bd3786"
             ],
             [
              0.5555555555555556,
              "#d8576b"
             ],
             [
              0.6666666666666666,
              "#ed7953"
             ],
             [
              0.7777777777777778,
              "#fb9f3a"
             ],
             [
              0.8888888888888888,
              "#fdca26"
             ],
             [
              1,
              "#f0f921"
             ]
            ],
            "type": "heatmapgl"
           }
          ],
          "histogram": [
           {
            "marker": {
             "pattern": {
              "fillmode": "overlay",
              "size": 10,
              "solidity": 0.2
             }
            },
            "type": "histogram"
           }
          ],
          "histogram2d": [
           {
            "colorbar": {
             "outlinewidth": 0,
             "ticks": ""
            },
            "colorscale": [
             [
              0,
              "#0d0887"
             ],
             [
              0.1111111111111111,
              "#46039f"
             ],
             [
              0.2222222222222222,
              "#7201a8"
             ],
             [
              0.3333333333333333,
              "#9c179e"
             ],
             [
              0.4444444444444444,
              "#bd3786"
             ],
             [
              0.5555555555555556,
              "#d8576b"
             ],
             [
              0.6666666666666666,
              "#ed7953"
             ],
             [
              0.7777777777777778,
              "#fb9f3a"
             ],
             [
              0.8888888888888888,
              "#fdca26"
             ],
             [
              1,
              "#f0f921"
             ]
            ],
            "type": "histogram2d"
           }
          ],
          "histogram2dcontour": [
           {
            "colorbar": {
             "outlinewidth": 0,
             "ticks": ""
            },
            "colorscale": [
             [
              0,
              "#0d0887"
             ],
             [
              0.1111111111111111,
              "#46039f"
             ],
             [
              0.2222222222222222,
              "#7201a8"
             ],
             [
              0.3333333333333333,
              "#9c179e"
             ],
             [
              0.4444444444444444,
              "#bd3786"
             ],
             [
              0.5555555555555556,
              "#d8576b"
             ],
             [
              0.6666666666666666,
              "#ed7953"
             ],
             [
              0.7777777777777778,
              "#fb9f3a"
             ],
             [
              0.8888888888888888,
              "#fdca26"
             ],
             [
              1,
              "#f0f921"
             ]
            ],
            "type": "histogram2dcontour"
           }
          ],
          "mesh3d": [
           {
            "colorbar": {
             "outlinewidth": 0,
             "ticks": ""
            },
            "type": "mesh3d"
           }
          ],
          "parcoords": [
           {
            "line": {
             "colorbar": {
              "outlinewidth": 0,
              "ticks": ""
             }
            },
            "type": "parcoords"
           }
          ],
          "pie": [
           {
            "automargin": true,
            "type": "pie"
           }
          ],
          "scatter": [
           {
            "fillpattern": {
             "fillmode": "overlay",
             "size": 10,
             "solidity": 0.2
            },
            "type": "scatter"
           }
          ],
          "scatter3d": [
           {
            "line": {
             "colorbar": {
              "outlinewidth": 0,
              "ticks": ""
             }
            },
            "marker": {
             "colorbar": {
              "outlinewidth": 0,
              "ticks": ""
             }
            },
            "type": "scatter3d"
           }
          ],
          "scattercarpet": [
           {
            "marker": {
             "colorbar": {
              "outlinewidth": 0,
              "ticks": ""
             }
            },
            "type": "scattercarpet"
           }
          ],
          "scattergeo": [
           {
            "marker": {
             "colorbar": {
              "outlinewidth": 0,
              "ticks": ""
             }
            },
            "type": "scattergeo"
           }
          ],
          "scattergl": [
           {
            "marker": {
             "colorbar": {
              "outlinewidth": 0,
              "ticks": ""
             }
            },
            "type": "scattergl"
           }
          ],
          "scattermapbox": [
           {
            "marker": {
             "colorbar": {
              "outlinewidth": 0,
              "ticks": ""
             }
            },
            "type": "scattermapbox"
           }
          ],
          "scatterpolar": [
           {
            "marker": {
             "colorbar": {
              "outlinewidth": 0,
              "ticks": ""
             }
            },
            "type": "scatterpolar"
           }
          ],
          "scatterpolargl": [
           {
            "marker": {
             "colorbar": {
              "outlinewidth": 0,
              "ticks": ""
             }
            },
            "type": "scatterpolargl"
           }
          ],
          "scatterternary": [
           {
            "marker": {
             "colorbar": {
              "outlinewidth": 0,
              "ticks": ""
             }
            },
            "type": "scatterternary"
           }
          ],
          "surface": [
           {
            "colorbar": {
             "outlinewidth": 0,
             "ticks": ""
            },
            "colorscale": [
             [
              0,
              "#0d0887"
             ],
             [
              0.1111111111111111,
              "#46039f"
             ],
             [
              0.2222222222222222,
              "#7201a8"
             ],
             [
              0.3333333333333333,
              "#9c179e"
             ],
             [
              0.4444444444444444,
              "#bd3786"
             ],
             [
              0.5555555555555556,
              "#d8576b"
             ],
             [
              0.6666666666666666,
              "#ed7953"
             ],
             [
              0.7777777777777778,
              "#fb9f3a"
             ],
             [
              0.8888888888888888,
              "#fdca26"
             ],
             [
              1,
              "#f0f921"
             ]
            ],
            "type": "surface"
           }
          ],
          "table": [
           {
            "cells": {
             "fill": {
              "color": "#EBF0F8"
             },
             "line": {
              "color": "white"
             }
            },
            "header": {
             "fill": {
              "color": "#C8D4E3"
             },
             "line": {
              "color": "white"
             }
            },
            "type": "table"
           }
          ]
         },
         "layout": {
          "annotationdefaults": {
           "arrowcolor": "#2a3f5f",
           "arrowhead": 0,
           "arrowwidth": 1
          },
          "autotypenumbers": "strict",
          "coloraxis": {
           "colorbar": {
            "outlinewidth": 0,
            "ticks": ""
           }
          },
          "colorscale": {
           "diverging": [
            [
             0,
             "#8e0152"
            ],
            [
             0.1,
             "#c51b7d"
            ],
            [
             0.2,
             "#de77ae"
            ],
            [
             0.3,
             "#f1b6da"
            ],
            [
             0.4,
             "#fde0ef"
            ],
            [
             0.5,
             "#f7f7f7"
            ],
            [
             0.6,
             "#e6f5d0"
            ],
            [
             0.7,
             "#b8e186"
            ],
            [
             0.8,
             "#7fbc41"
            ],
            [
             0.9,
             "#4d9221"
            ],
            [
             1,
             "#276419"
            ]
           ],
           "sequential": [
            [
             0,
             "#0d0887"
            ],
            [
             0.1111111111111111,
             "#46039f"
            ],
            [
             0.2222222222222222,
             "#7201a8"
            ],
            [
             0.3333333333333333,
             "#9c179e"
            ],
            [
             0.4444444444444444,
             "#bd3786"
            ],
            [
             0.5555555555555556,
             "#d8576b"
            ],
            [
             0.6666666666666666,
             "#ed7953"
            ],
            [
             0.7777777777777778,
             "#fb9f3a"
            ],
            [
             0.8888888888888888,
             "#fdca26"
            ],
            [
             1,
             "#f0f921"
            ]
           ],
           "sequentialminus": [
            [
             0,
             "#0d0887"
            ],
            [
             0.1111111111111111,
             "#46039f"
            ],
            [
             0.2222222222222222,
             "#7201a8"
            ],
            [
             0.3333333333333333,
             "#9c179e"
            ],
            [
             0.4444444444444444,
             "#bd3786"
            ],
            [
             0.5555555555555556,
             "#d8576b"
            ],
            [
             0.6666666666666666,
             "#ed7953"
            ],
            [
             0.7777777777777778,
             "#fb9f3a"
            ],
            [
             0.8888888888888888,
             "#fdca26"
            ],
            [
             1,
             "#f0f921"
            ]
           ]
          },
          "colorway": [
           "#636efa",
           "#EF553B",
           "#00cc96",
           "#ab63fa",
           "#FFA15A",
           "#19d3f3",
           "#FF6692",
           "#B6E880",
           "#FF97FF",
           "#FECB52"
          ],
          "font": {
           "color": "#2a3f5f"
          },
          "geo": {
           "bgcolor": "white",
           "lakecolor": "white",
           "landcolor": "#E5ECF6",
           "showlakes": true,
           "showland": true,
           "subunitcolor": "white"
          },
          "hoverlabel": {
           "align": "left"
          },
          "hovermode": "closest",
          "mapbox": {
           "style": "light"
          },
          "paper_bgcolor": "white",
          "plot_bgcolor": "#E5ECF6",
          "polar": {
           "angularaxis": {
            "gridcolor": "white",
            "linecolor": "white",
            "ticks": ""
           },
           "bgcolor": "#E5ECF6",
           "radialaxis": {
            "gridcolor": "white",
            "linecolor": "white",
            "ticks": ""
           }
          },
          "scene": {
           "xaxis": {
            "backgroundcolor": "#E5ECF6",
            "gridcolor": "white",
            "gridwidth": 2,
            "linecolor": "white",
            "showbackground": true,
            "ticks": "",
            "zerolinecolor": "white"
           },
           "yaxis": {
            "backgroundcolor": "#E5ECF6",
            "gridcolor": "white",
            "gridwidth": 2,
            "linecolor": "white",
            "showbackground": true,
            "ticks": "",
            "zerolinecolor": "white"
           },
           "zaxis": {
            "backgroundcolor": "#E5ECF6",
            "gridcolor": "white",
            "gridwidth": 2,
            "linecolor": "white",
            "showbackground": true,
            "ticks": "",
            "zerolinecolor": "white"
           }
          },
          "shapedefaults": {
           "line": {
            "color": "#2a3f5f"
           }
          },
          "ternary": {
           "aaxis": {
            "gridcolor": "white",
            "linecolor": "white",
            "ticks": ""
           },
           "baxis": {
            "gridcolor": "white",
            "linecolor": "white",
            "ticks": ""
           },
           "bgcolor": "#E5ECF6",
           "caxis": {
            "gridcolor": "white",
            "linecolor": "white",
            "ticks": ""
           }
          },
          "title": {
           "x": 0.05
          },
          "xaxis": {
           "automargin": true,
           "gridcolor": "white",
           "linecolor": "white",
           "ticks": "",
           "title": {
            "standoff": 15
           },
           "zerolinecolor": "white",
           "zerolinewidth": 2
          },
          "yaxis": {
           "automargin": true,
           "gridcolor": "white",
           "linecolor": "white",
           "ticks": "",
           "title": {
            "standoff": 15
           },
           "zerolinecolor": "white",
           "zerolinewidth": 2
          }
         }
        },
        "title": {
         "text": "DIABETES DISTRIBUTION IN THE DATASET                   DIABETES VS DEATH_EVENT"
        },
        "width": 1200
       }
      },
      "text/html": [
       "<div>                            <div id=\"f7461767-7978-4794-81dc-f750378ec30c\" class=\"plotly-graph-div\" style=\"height:500px; width:1200px;\"></div>            <script type=\"text/javascript\">                require([\"plotly\"], function(Plotly) {                    window.PLOTLYENV=window.PLOTLYENV || {};                                    if (document.getElementById(\"f7461767-7978-4794-81dc-f750378ec30c\")) {                    Plotly.newPlot(                        \"f7461767-7978-4794-81dc-f750378ec30c\",                        [{\"labels\":[\"No Diabetes\",\"Diabetes\"],\"name\":\"DIABETES\",\"values\":[172,125],\"type\":\"pie\",\"domain\":{\"x\":[0.0,0.45],\"y\":[0.0,1.0]},\"hole\":0.4,\"hoverinfo\":\"label+percent\"},{\"labels\":[\"No Diabetes - Survived\",\"Diabetes - Survived\",\"No Diabetes -  Died\",\"Diabetes  - Died\"],\"name\":\"DIABETES VS DEATH_EVENT\",\"values\":[117,85,55,40],\"type\":\"pie\",\"domain\":{\"x\":[0.55,1.0],\"y\":[0.0,1.0]},\"hole\":0.4,\"hoverinfo\":\"label+percent\"}],                        {\"template\":{\"data\":{\"histogram2dcontour\":[{\"type\":\"histogram2dcontour\",\"colorbar\":{\"outlinewidth\":0,\"ticks\":\"\"},\"colorscale\":[[0.0,\"#0d0887\"],[0.1111111111111111,\"#46039f\"],[0.2222222222222222,\"#7201a8\"],[0.3333333333333333,\"#9c179e\"],[0.4444444444444444,\"#bd3786\"],[0.5555555555555556,\"#d8576b\"],[0.6666666666666666,\"#ed7953\"],[0.7777777777777778,\"#fb9f3a\"],[0.8888888888888888,\"#fdca26\"],[1.0,\"#f0f921\"]]}],\"choropleth\":[{\"type\":\"choropleth\",\"colorbar\":{\"outlinewidth\":0,\"ticks\":\"\"}}],\"histogram2d\":[{\"type\":\"histogram2d\",\"colorbar\":{\"outlinewidth\":0,\"ticks\":\"\"},\"colorscale\":[[0.0,\"#0d0887\"],[0.1111111111111111,\"#46039f\"],[0.2222222222222222,\"#7201a8\"],[0.3333333333333333,\"#9c179e\"],[0.4444444444444444,\"#bd3786\"],[0.5555555555555556,\"#d8576b\"],[0.6666666666666666,\"#ed7953\"],[0.7777777777777778,\"#fb9f3a\"],[0.8888888888888888,\"#fdca26\"],[1.0,\"#f0f921\"]]}],\"heatmap\":[{\"type\":\"heatmap\",\"colorbar\":{\"outlinewidth\":0,\"ticks\":\"\"},\"colorscale\":[[0.0,\"#0d0887\"],[0.1111111111111111,\"#46039f\"],[0.2222222222222222,\"#7201a8\"],[0.3333333333333333,\"#9c179e\"],[0.4444444444444444,\"#bd3786\"],[0.5555555555555556,\"#d8576b\"],[0.6666666666666666,\"#ed7953\"],[0.7777777777777778,\"#fb9f3a\"],[0.8888888888888888,\"#fdca26\"],[1.0,\"#f0f921\"]]}],\"heatmapgl\":[{\"type\":\"heatmapgl\",\"colorbar\":{\"outlinewidth\":0,\"ticks\":\"\"},\"colorscale\":[[0.0,\"#0d0887\"],[0.1111111111111111,\"#46039f\"],[0.2222222222222222,\"#7201a8\"],[0.3333333333333333,\"#9c179e\"],[0.4444444444444444,\"#bd3786\"],[0.5555555555555556,\"#d8576b\"],[0.6666666666666666,\"#ed7953\"],[0.7777777777777778,\"#fb9f3a\"],[0.8888888888888888,\"#fdca26\"],[1.0,\"#f0f921\"]]}],\"contourcarpet\":[{\"type\":\"contourcarpet\",\"colorbar\":{\"outlinewidth\":0,\"ticks\":\"\"}}],\"contour\":[{\"type\":\"contour\",\"colorbar\":{\"outlinewidth\":0,\"ticks\":\"\"},\"colorscale\":[[0.0,\"#0d0887\"],[0.1111111111111111,\"#46039f\"],[0.2222222222222222,\"#7201a8\"],[0.3333333333333333,\"#9c179e\"],[0.4444444444444444,\"#bd3786\"],[0.5555555555555556,\"#d8576b\"],[0.6666666666666666,\"#ed7953\"],[0.7777777777777778,\"#fb9f3a\"],[0.8888888888888888,\"#fdca26\"],[1.0,\"#f0f921\"]]}],\"surface\":[{\"type\":\"surface\",\"colorbar\":{\"outlinewidth\":0,\"ticks\":\"\"},\"colorscale\":[[0.0,\"#0d0887\"],[0.1111111111111111,\"#46039f\"],[0.2222222222222222,\"#7201a8\"],[0.3333333333333333,\"#9c179e\"],[0.4444444444444444,\"#bd3786\"],[0.5555555555555556,\"#d8576b\"],[0.6666666666666666,\"#ed7953\"],[0.7777777777777778,\"#fb9f3a\"],[0.8888888888888888,\"#fdca26\"],[1.0,\"#f0f921\"]]}],\"mesh3d\":[{\"type\":\"mesh3d\",\"colorbar\":{\"outlinewidth\":0,\"ticks\":\"\"}}],\"scatter\":[{\"fillpattern\":{\"fillmode\":\"overlay\",\"size\":10,\"solidity\":0.2},\"type\":\"scatter\"}],\"parcoords\":[{\"type\":\"parcoords\",\"line\":{\"colorbar\":{\"outlinewidth\":0,\"ticks\":\"\"}}}],\"scatterpolargl\":[{\"type\":\"scatterpolargl\",\"marker\":{\"colorbar\":{\"outlinewidth\":0,\"ticks\":\"\"}}}],\"bar\":[{\"error_x\":{\"color\":\"#2a3f5f\"},\"error_y\":{\"color\":\"#2a3f5f\"},\"marker\":{\"line\":{\"color\":\"#E5ECF6\",\"width\":0.5},\"pattern\":{\"fillmode\":\"overlay\",\"size\":10,\"solidity\":0.2}},\"type\":\"bar\"}],\"scattergeo\":[{\"type\":\"scattergeo\",\"marker\":{\"colorbar\":{\"outlinewidth\":0,\"ticks\":\"\"}}}],\"scatterpolar\":[{\"type\":\"scatterpolar\",\"marker\":{\"colorbar\":{\"outlinewidth\":0,\"ticks\":\"\"}}}],\"histogram\":[{\"marker\":{\"pattern\":{\"fillmode\":\"overlay\",\"size\":10,\"solidity\":0.2}},\"type\":\"histogram\"}],\"scattergl\":[{\"type\":\"scattergl\",\"marker\":{\"colorbar\":{\"outlinewidth\":0,\"ticks\":\"\"}}}],\"scatter3d\":[{\"type\":\"scatter3d\",\"line\":{\"colorbar\":{\"outlinewidth\":0,\"ticks\":\"\"}},\"marker\":{\"colorbar\":{\"outlinewidth\":0,\"ticks\":\"\"}}}],\"scattermapbox\":[{\"type\":\"scattermapbox\",\"marker\":{\"colorbar\":{\"outlinewidth\":0,\"ticks\":\"\"}}}],\"scatterternary\":[{\"type\":\"scatterternary\",\"marker\":{\"colorbar\":{\"outlinewidth\":0,\"ticks\":\"\"}}}],\"scattercarpet\":[{\"type\":\"scattercarpet\",\"marker\":{\"colorbar\":{\"outlinewidth\":0,\"ticks\":\"\"}}}],\"carpet\":[{\"aaxis\":{\"endlinecolor\":\"#2a3f5f\",\"gridcolor\":\"white\",\"linecolor\":\"white\",\"minorgridcolor\":\"white\",\"startlinecolor\":\"#2a3f5f\"},\"baxis\":{\"endlinecolor\":\"#2a3f5f\",\"gridcolor\":\"white\",\"linecolor\":\"white\",\"minorgridcolor\":\"white\",\"startlinecolor\":\"#2a3f5f\"},\"type\":\"carpet\"}],\"table\":[{\"cells\":{\"fill\":{\"color\":\"#EBF0F8\"},\"line\":{\"color\":\"white\"}},\"header\":{\"fill\":{\"color\":\"#C8D4E3\"},\"line\":{\"color\":\"white\"}},\"type\":\"table\"}],\"barpolar\":[{\"marker\":{\"line\":{\"color\":\"#E5ECF6\",\"width\":0.5},\"pattern\":{\"fillmode\":\"overlay\",\"size\":10,\"solidity\":0.2}},\"type\":\"barpolar\"}],\"pie\":[{\"automargin\":true,\"type\":\"pie\"}]},\"layout\":{\"autotypenumbers\":\"strict\",\"colorway\":[\"#636efa\",\"#EF553B\",\"#00cc96\",\"#ab63fa\",\"#FFA15A\",\"#19d3f3\",\"#FF6692\",\"#B6E880\",\"#FF97FF\",\"#FECB52\"],\"font\":{\"color\":\"#2a3f5f\"},\"hovermode\":\"closest\",\"hoverlabel\":{\"align\":\"left\"},\"paper_bgcolor\":\"white\",\"plot_bgcolor\":\"#E5ECF6\",\"polar\":{\"bgcolor\":\"#E5ECF6\",\"angularaxis\":{\"gridcolor\":\"white\",\"linecolor\":\"white\",\"ticks\":\"\"},\"radialaxis\":{\"gridcolor\":\"white\",\"linecolor\":\"white\",\"ticks\":\"\"}},\"ternary\":{\"bgcolor\":\"#E5ECF6\",\"aaxis\":{\"gridcolor\":\"white\",\"linecolor\":\"white\",\"ticks\":\"\"},\"baxis\":{\"gridcolor\":\"white\",\"linecolor\":\"white\",\"ticks\":\"\"},\"caxis\":{\"gridcolor\":\"white\",\"linecolor\":\"white\",\"ticks\":\"\"}},\"coloraxis\":{\"colorbar\":{\"outlinewidth\":0,\"ticks\":\"\"}},\"colorscale\":{\"sequential\":[[0.0,\"#0d0887\"],[0.1111111111111111,\"#46039f\"],[0.2222222222222222,\"#7201a8\"],[0.3333333333333333,\"#9c179e\"],[0.4444444444444444,\"#bd3786\"],[0.5555555555555556,\"#d8576b\"],[0.6666666666666666,\"#ed7953\"],[0.7777777777777778,\"#fb9f3a\"],[0.8888888888888888,\"#fdca26\"],[1.0,\"#f0f921\"]],\"sequentialminus\":[[0.0,\"#0d0887\"],[0.1111111111111111,\"#46039f\"],[0.2222222222222222,\"#7201a8\"],[0.3333333333333333,\"#9c179e\"],[0.4444444444444444,\"#bd3786\"],[0.5555555555555556,\"#d8576b\"],[0.6666666666666666,\"#ed7953\"],[0.7777777777777778,\"#fb9f3a\"],[0.8888888888888888,\"#fdca26\"],[1.0,\"#f0f921\"]],\"diverging\":[[0,\"#8e0152\"],[0.1,\"#c51b7d\"],[0.2,\"#de77ae\"],[0.3,\"#f1b6da\"],[0.4,\"#fde0ef\"],[0.5,\"#f7f7f7\"],[0.6,\"#e6f5d0\"],[0.7,\"#b8e186\"],[0.8,\"#7fbc41\"],[0.9,\"#4d9221\"],[1,\"#276419\"]]},\"xaxis\":{\"gridcolor\":\"white\",\"linecolor\":\"white\",\"ticks\":\"\",\"title\":{\"standoff\":15},\"zerolinecolor\":\"white\",\"automargin\":true,\"zerolinewidth\":2},\"yaxis\":{\"gridcolor\":\"white\",\"linecolor\":\"white\",\"ticks\":\"\",\"title\":{\"standoff\":15},\"zerolinecolor\":\"white\",\"automargin\":true,\"zerolinewidth\":2},\"scene\":{\"xaxis\":{\"backgroundcolor\":\"#E5ECF6\",\"gridcolor\":\"white\",\"linecolor\":\"white\",\"showbackground\":true,\"ticks\":\"\",\"zerolinecolor\":\"white\",\"gridwidth\":2},\"yaxis\":{\"backgroundcolor\":\"#E5ECF6\",\"gridcolor\":\"white\",\"linecolor\":\"white\",\"showbackground\":true,\"ticks\":\"\",\"zerolinecolor\":\"white\",\"gridwidth\":2},\"zaxis\":{\"backgroundcolor\":\"#E5ECF6\",\"gridcolor\":\"white\",\"linecolor\":\"white\",\"showbackground\":true,\"ticks\":\"\",\"zerolinecolor\":\"white\",\"gridwidth\":2}},\"shapedefaults\":{\"line\":{\"color\":\"#2a3f5f\"}},\"annotationdefaults\":{\"arrowcolor\":\"#2a3f5f\",\"arrowhead\":0,\"arrowwidth\":1},\"geo\":{\"bgcolor\":\"white\",\"landcolor\":\"#E5ECF6\",\"subunitcolor\":\"white\",\"showland\":true,\"showlakes\":true,\"lakecolor\":\"white\"},\"title\":{\"x\":0.05},\"mapbox\":{\"style\":\"light\"}}},\"title\":{\"text\":\"DIABETES DISTRIBUTION IN THE DATASET                   DIABETES VS DEATH_EVENT\"},\"annotations\":[{\"showarrow\":false,\"text\":\"DIABETES\",\"x\":0.2,\"y\":0.5,\"font\":{\"size\":10}},{\"showarrow\":false,\"text\":\"DIABETES VS DEATH_EVENT\",\"x\":0.84,\"y\":0.5,\"font\":{\"size\":8}}],\"autosize\":false,\"width\":1200,\"height\":500,\"paper_bgcolor\":\"white\"},                        {\"responsive\": true}                    ).then(function(){\n",
       "                            \n",
       "var gd = document.getElementById('f7461767-7978-4794-81dc-f750378ec30c');\n",
       "var x = new MutationObserver(function (mutations, observer) {{\n",
       "        var display = window.getComputedStyle(gd).display;\n",
       "        if (!display || display === 'none') {{\n",
       "            console.log([gd, 'removed!']);\n",
       "            Plotly.purge(gd);\n",
       "            observer.disconnect();\n",
       "        }}\n",
       "}});\n",
       "\n",
       "// Listen for the removal of the full notebook cells\n",
       "var notebookContainer = gd.closest('#notebook-container');\n",
       "if (notebookContainer) {{\n",
       "    x.observe(notebookContainer, {childList: true});\n",
       "}}\n",
       "\n",
       "// Listen for the clearing of the current output cell\n",
       "var outputEl = gd.closest('.output');\n",
       "if (outputEl) {{\n",
       "    x.observe(outputEl, {childList: true});\n",
       "}}\n",
       "\n",
       "                        })                };                });            </script>        </div>"
      ]
     },
     "metadata": {},
     "output_type": "display_data"
    }
   ],
   "source": [
    "# Feautre= Diabetes \n",
    "\n",
    "d1 = df[(df[\"DEATH_EVENT\"]==0) & (df[\"diabetes\"]==0)]\n",
    "d2 = df[(df[\"DEATH_EVENT\"]==0) & (df[\"diabetes\"]==1)]\n",
    "d3 = df[(df[\"DEATH_EVENT\"]==1) & (df[\"diabetes\"]==0)]\n",
    "d4 = df[(df[\"DEATH_EVENT\"]==1) & (df[\"diabetes\"]==1)]\n",
    "\n",
    "label1 = [\"No Diabetes\",\"Diabetes\"]\n",
    "label2 = ['No Diabetes - Survived','Diabetes - Survived', \"No Diabetes -  Died\", \"Diabetes  - Died\"]\n",
    "values1 = [(len(d1)+len(d3)), (len(d2)+len(d4))]\n",
    "values2 = [len(d1),len(d2),len(d3),len(d4)]\n",
    "\n",
    "# Create subplots: use 'domain' type for Pie subplot\n",
    "fig = make_subplots(rows=1, cols=2, specs=[[{'type':'domain'}, {'type':'domain'}]])\n",
    "fig.add_trace(go.Pie(labels=label1, values=values1, name=\"DIABETES\"),\n",
    "              1, 1)\n",
    "fig.add_trace(go.Pie(labels=label2, values=values2, name=\"DIABETES VS DEATH_EVENT\"),\n",
    "              1, 2)\n",
    "\n",
    "# Use `hole` to create a donut-like pie chart\n",
    "fig.update_traces(hole=.4, hoverinfo=\"label+percent\")\n",
    "\n",
    "fig.update_layout(\n",
    "    title_text=\"DIABETES DISTRIBUTION IN THE DATASET \\\n",
    "                  DIABETES VS DEATH_EVENT\",\n",
    "    # Add annotations in the center of the donut pies.\n",
    "    annotations=[dict(text='DIABETES', x=0.20, y=0.5, font_size=10, showarrow=False),\n",
    "                 dict(text='DIABETES VS DEATH_EVENT', x=0.84, y=0.5, font_size=8, showarrow=False)],\n",
    "    autosize=False,width=1200, height=500, paper_bgcolor=\"white\")\n",
    "fig.show()"
   ]
  },
  {
   "cell_type": "code",
   "execution_count": 42,
   "metadata": {},
   "outputs": [
    {
     "data": {
      "application/vnd.plotly.v1+json": {
       "config": {
        "plotlyServerURL": "https://plot.ly"
       },
       "data": [
        {
         "alignmentgroup": "True",
         "bingroup": "x",
         "hovertemplate": "DIABETES=0<br>AGE=%{x}<br>count=%{y}<extra></extra>",
         "legendgroup": "0",
         "marker": {
          "color": "#00cc96",
          "pattern": {
           "shape": ""
          }
         },
         "name": "0",
         "offsetgroup": "0",
         "orientation": "v",
         "showlegend": true,
         "type": "histogram",
         "x": [
          75,
          55,
          65,
          50,
          90,
          75,
          65,
          80,
          75,
          62,
          45,
          50,
          49,
          82,
          87,
          45,
          70,
          65,
          68,
          95,
          58,
          85,
          70,
          51,
          80,
          57,
          68,
          53,
          95,
          70,
          60,
          49,
          50,
          55,
          45,
          60,
          72,
          70,
          41,
          85,
          69,
          60,
          70,
          55,
          70,
          67,
          79,
          51,
          55,
          57,
          42,
          60,
          58,
          70,
          65,
          75,
          80,
          42,
          60,
          72,
          55,
          63,
          85,
          55,
          70,
          58,
          85,
          86,
          60,
          60,
          60,
          43,
          61,
          53,
          46,
          63,
          81,
          75,
          68,
          50,
          80,
          46,
          61,
          72,
          50,
          52,
          64,
          75,
          60,
          72,
          50,
          65,
          52,
          50,
          85,
          59,
          66,
          45,
          63,
          53,
          70,
          52,
          70,
          50,
          60,
          69,
          49,
          55,
          75,
          58,
          50,
          40,
          64,
          45,
          77,
          65,
          63,
          70,
          60,
          78,
          40,
          85,
          50,
          78,
          65,
          73,
          70,
          73,
          65,
          42,
          47,
          58,
          55,
          65,
          72,
          60,
          70,
          40,
          53,
          53,
          77,
          75,
          70,
          55,
          40,
          73,
          55,
          64,
          40,
          50,
          50,
          53,
          65,
          53,
          55,
          62,
          50,
          55,
          67,
          42,
          45,
          70,
          70,
          42,
          65,
          50,
          60,
          90,
          60,
          55,
          45,
          50
         ],
         "xaxis": "x",
         "yaxis": "y"
        },
        {
         "alignmentgroup": "True",
         "customdata": [
          [
           0,
           582,
           0,
           20,
           1,
           265000,
           1.9,
           130,
           1,
           0,
           4,
           1
          ],
          [
           0,
           7861,
           0,
           38,
           0,
           263358.03,
           1.1,
           136,
           1,
           0,
           6,
           1
          ],
          [
           0,
           146,
           0,
           20,
           0,
           162000,
           1.3,
           129,
           1,
           1,
           7,
           1
          ],
          [
           1,
           111,
           0,
           20,
           0,
           210000,
           1.9,
           137,
           1,
           0,
           7,
           1
          ],
          [
           1,
           47,
           0,
           40,
           1,
           204000,
           2.1,
           132,
           1,
           1,
           8,
           1
          ],
          [
           1,
           246,
           0,
           15,
           0,
           127000,
           1.2,
           137,
           1,
           0,
           10,
           1
          ],
          [
           0,
           157,
           0,
           65,
           0,
           263358.03,
           1.5,
           138,
           0,
           0,
           10,
           1
          ],
          [
           1,
           123,
           0,
           35,
           1,
           388000,
           9.4,
           133,
           1,
           1,
           10,
           1
          ],
          [
           1,
           81,
           0,
           38,
           1,
           368000,
           4,
           131,
           1,
           1,
           10,
           1
          ],
          [
           0,
           231,
           0,
           25,
           1,
           253000,
           0.9,
           140,
           1,
           1,
           10,
           1
          ],
          [
           1,
           981,
           0,
           30,
           0,
           136000,
           1.1,
           137,
           1,
           0,
           11,
           1
          ],
          [
           1,
           168,
           0,
           38,
           1,
           276000,
           1.1,
           137,
           1,
           0,
           11,
           1
          ],
          [
           1,
           80,
           0,
           30,
           1,
           427000,
           1,
           138,
           0,
           0,
           12,
           0
          ],
          [
           1,
           379,
           0,
           50,
           0,
           47000,
           1.3,
           136,
           1,
           0,
           13,
           1
          ],
          [
           1,
           149,
           0,
           38,
           0,
           262000,
           0.9,
           140,
           1,
           0,
           14,
           1
          ],
          [
           0,
           582,
           0,
           14,
           0,
           166000,
           0.8,
           127,
           1,
           0,
           14,
           1
          ],
          [
           1,
           125,
           0,
           25,
           1,
           237000,
           1,
           140,
           0,
           0,
           15,
           1
          ],
          [
           1,
           52,
           0,
           25,
           1,
           276000,
           1.3,
           137,
           0,
           0,
           16,
           0
          ],
          [
           1,
           220,
           0,
           35,
           1,
           289000,
           0.9,
           140,
           1,
           1,
           20,
           1
          ],
          [
           1,
           112,
           0,
           40,
           1,
           196000,
           1,
           138,
           0,
           0,
           24,
           1
          ],
          [
           1,
           60,
           0,
           38,
           0,
           153000,
           5.8,
           134,
           1,
           0,
           26,
           1
          ],
          [
           0,
           23,
           0,
           45,
           0,
           360000,
           3,
           132,
           1,
           0,
           28,
           1
          ],
          [
           0,
           582,
           0,
           20,
           1,
           263358.03,
           1.83,
           134,
           1,
           1,
           31,
           1
          ],
          [
           0,
           1380,
           0,
           25,
           1,
           271000,
           0.9,
           130,
           1,
           0,
           38,
           1
          ],
          [
           1,
           553,
           0,
           20,
           1,
           140000,
           4.4,
           133,
           1,
           0,
           41,
           1
          ],
          [
           1,
           129,
           0,
           30,
           0,
           395000,
           1,
           140,
           0,
           0,
           42,
           1
          ],
          [
           1,
           577,
           0,
           25,
           1,
           166000,
           1,
           138,
           1,
           0,
           43,
           1
          ],
          [
           1,
           91,
           0,
           20,
           1,
           418000,
           1.4,
           139,
           0,
           0,
           43,
           1
          ],
          [
           1,
           371,
           0,
           30,
           0,
           461000,
           2,
           132,
           1,
           0,
           50,
           1
          ],
          [
           1,
           75,
           0,
           35,
           0,
           223000,
           2.7,
           138,
           1,
           1,
           54,
           0
          ],
          [
           1,
           607,
           0,
           40,
           0,
           216000,
           0.6,
           138,
           1,
           1,
           54,
           0
          ],
          [
           0,
           789,
           0,
           20,
           1,
           319000,
           1.1,
           136,
           1,
           1,
           55,
           1
          ],
          [
           0,
           318,
           0,
           40,
           1,
           216000,
           2.3,
           131,
           0,
           0,
           60,
           1
          ],
          [
           0,
           109,
           0,
           35,
           0,
           254000,
           1.1,
           139,
           1,
           1,
           60,
           0
          ],
          [
           0,
           582,
           0,
           35,
           0,
           385000,
           1,
           145,
           1,
           0,
           61,
           1
          ],
          [
           0,
           68,
           0,
           20,
           0,
           119000,
           2.9,
           127,
           1,
           1,
           64,
           1
          ],
          [
           1,
           110,
           0,
           25,
           0,
           274000,
           1,
           140,
           1,
           1,
           65,
           1
          ],
          [
           0,
           161,
           0,
           25,
           0,
           244000,
           1.2,
           142,
           0,
           0,
           66,
           1
          ],
          [
           0,
           148,
           0,
           40,
           0,
           374000,
           0.8,
           140,
           1,
           1,
           68,
           0
          ],
          [
           0,
           5882,
           0,
           35,
           0,
           243000,
           1,
           132,
           1,
           1,
           72,
           1
          ],
          [
           0,
           582,
           0,
           20,
           0,
           266000,
           1.2,
           134,
           1,
           1,
           73,
           1
          ],
          [
           1,
           47,
           0,
           20,
           0,
           204000,
           0.7,
           139,
           1,
           1,
           73,
           1
          ],
          [
           0,
           92,
           0,
           60,
           1,
           317000,
           0.8,
           140,
           0,
           1,
           74,
           0
          ],
          [
           0,
           336,
           0,
           45,
           1,
           324000,
           0.9,
           140,
           0,
           0,
           74,
           0
          ],
          [
           0,
           69,
           0,
           40,
           0,
           293000,
           1.7,
           136,
           0,
           0,
           75,
           0
          ],
          [
           0,
           582,
           0,
           50,
           0,
           263358.03,
           1.18,
           137,
           1,
           1,
           76,
           0
          ],
          [
           1,
           55,
           0,
           50,
           1,
           172000,
           1.8,
           133,
           1,
           0,
           78,
           0
          ],
          [
           0,
           78,
           0,
           50,
           0,
           406000,
           0.7,
           140,
           1,
           0,
           79,
           0
          ],
          [
           0,
           47,
           0,
           35,
           1,
           173000,
           1.1,
           137,
           1,
           0,
           79,
           0
          ],
          [
           1,
           115,
           0,
           25,
           1,
           181000,
           1.1,
           144,
           1,
           0,
           79,
           0
          ],
          [
           0,
           582,
           0,
           60,
           0,
           263358.03,
           1.18,
           137,
           0,
           0,
           82,
           0
          ],
          [
           1,
           154,
           0,
           25,
           0,
           210000,
           1.7,
           135,
           1,
           0,
           82,
           1
          ],
          [
           1,
           133,
           0,
           60,
           1,
           219000,
           1,
           141,
           1,
           0,
           83,
           0
          ],
          [
           1,
           59,
           0,
           60,
           0,
           255000,
           1.1,
           136,
           0,
           0,
           85,
           0
          ],
          [
           1,
           305,
           0,
           25,
           0,
           298000,
           1.1,
           141,
           1,
           0,
           87,
           0
          ],
          [
           0,
           582,
           0,
           45,
           1,
           263358.03,
           1.18,
           137,
           1,
           0,
           87,
           0
          ],
          [
           0,
           898,
           0,
           25,
           0,
           149000,
           1.1,
           144,
           1,
           1,
           87,
           0
          ],
          [
           0,
           5209,
           0,
           30,
           0,
           226000,
           1,
           140,
           1,
           1,
           87,
           0
          ],
          [
           0,
           53,
           0,
           50,
           1,
           286000,
           2.3,
           143,
           0,
           0,
           87,
           0
          ],
          [
           1,
           328,
           0,
           30,
           1,
           621000,
           1.7,
           138,
           0,
           1,
           88,
           1
          ],
          [
           0,
           748,
           0,
           45,
           0,
           263000,
           1.3,
           137,
           1,
           0,
           88,
           0
          ],
          [
           0,
           936,
           0,
           38,
           0,
           304000,
           1.1,
           133,
           1,
           1,
           88,
           0
          ],
          [
           0,
           129,
           0,
           60,
           0,
           306000,
           1.2,
           132,
           1,
           1,
           90,
           1
          ],
          [
           0,
           60,
           0,
           35,
           0,
           228000,
           1.2,
           135,
           1,
           1,
           90,
           0
          ],
          [
           1,
           143,
           0,
           60,
           0,
           351000,
           1.3,
           137,
           0,
           0,
           90,
           1
          ],
          [
           1,
           400,
           0,
           40,
           0,
           164000,
           1,
           139,
           0,
           0,
           91,
           0
          ],
          [
           1,
           102,
           0,
           60,
           0,
           507000,
           3.2,
           138,
           0,
           0,
           94,
           0
          ],
          [
           0,
           582,
           0,
           38,
           0,
           263358.03,
           1.83,
           134,
           0,
           0,
           95,
           1
          ],
          [
           1,
           737,
           0,
           60,
           1,
           210000,
           1.5,
           135,
           1,
           1,
           95,
           0
          ],
          [
           1,
           582,
           0,
           30,
           1,
           127000,
           0.9,
           145,
           0,
           0,
           95,
           0
          ],
          [
           0,
           582,
           0,
           40,
           0,
           217000,
           3.7,
           134,
           1,
           0,
           96,
           1
          ],
          [
           1,
           358,
           0,
           50,
           0,
           237000,
           1.3,
           135,
           0,
           0,
           97,
           0
          ],
          [
           0,
           248,
           0,
           30,
           1,
           267000,
           0.7,
           136,
           1,
           1,
           104,
           0
          ],
          [
           1,
           1808,
           0,
           60,
           1,
           249000,
           0.7,
           138,
           1,
           1,
           106,
           0
          ],
          [
           0,
           719,
           0,
           40,
           1,
           263358.03,
           1.18,
           137,
           0,
           0,
           107,
           0
          ],
          [
           0,
           193,
           0,
           60,
           1,
           295000,
           1.3,
           145,
           1,
           1,
           107,
           0
          ],
          [
           0,
           4540,
           0,
           35,
           0,
           231000,
           1.18,
           137,
           1,
           1,
           107,
           0
          ],
          [
           0,
           582,
           0,
           40,
           0,
           263358.03,
           1.18,
           137,
           1,
           0,
           107,
           0
          ],
          [
           1,
           646,
           0,
           25,
           0,
           305000,
           2.1,
           130,
           1,
           0,
           108,
           0
          ],
          [
           0,
           1548,
           0,
           30,
           1,
           211000,
           0.8,
           138,
           1,
           0,
           108,
           0
          ],
          [
           0,
           805,
           0,
           38,
           0,
           263358.03,
           1.1,
           134,
           1,
           0,
           109,
           1
          ],
          [
           1,
           291,
           0,
           35,
           0,
           348000,
           0.9,
           140,
           0,
           0,
           109,
           0
          ],
          [
           1,
           84,
           0,
           40,
           1,
           229000,
           0.9,
           141,
           0,
           0,
           110,
           0
          ],
          [
           1,
           943,
           0,
           25,
           1,
           338000,
           1.7,
           139,
           1,
           1,
           111,
           1
          ],
          [
           0,
           185,
           0,
           30,
           0,
           266000,
           0.7,
           141,
           1,
           1,
           112,
           0
          ],
          [
           0,
           132,
           0,
           30,
           0,
           218000,
           0.7,
           136,
           1,
           1,
           112,
           0
          ],
          [
           0,
           1610,
           0,
           60,
           0,
           242000,
           1,
           137,
           1,
           0,
           113,
           0
          ],
          [
           1,
           582,
           0,
           30,
           0,
           225000,
           1.83,
           134,
           1,
           0,
           113,
           1
          ],
          [
           0,
           2261,
           0,
           35,
           1,
           228000,
           0.9,
           136,
           1,
           0,
           115,
           0
          ],
          [
           0,
           233,
           0,
           45,
           1,
           235000,
           2.5,
           135,
           0,
           0,
           115,
           1
          ],
          [
           0,
           115,
           0,
           45,
           1,
           184000,
           0.9,
           134,
           1,
           1,
           118,
           0
          ],
          [
           1,
           335,
           0,
           35,
           1,
           235000,
           0.8,
           136,
           0,
           0,
           120,
           0
          ],
          [
           1,
           58,
           0,
           35,
           0,
           277000,
           1.4,
           136,
           0,
           0,
           120,
           0
          ],
          [
           0,
           250,
           0,
           25,
           0,
           262000,
           1,
           136,
           1,
           1,
           120,
           0
          ],
          [
           1,
           910,
           0,
           50,
           0,
           235000,
           1.3,
           134,
           1,
           0,
           121,
           0
          ],
          [
           1,
           129,
           0,
           45,
           1,
           362000,
           1.1,
           139,
           1,
           1,
           121,
           0
          ],
          [
           1,
           72,
           0,
           40,
           1,
           242000,
           1.2,
           134,
           1,
           0,
           121,
           0
          ],
          [
           1,
           130,
           0,
           35,
           0,
           174000,
           0.8,
           139,
           1,
           1,
           121,
           0
          ],
          [
           1,
           582,
           0,
           40,
           0,
           448000,
           0.9,
           137,
           1,
           1,
           123,
           0
          ],
          [
           0,
           196,
           0,
           60,
           0,
           220000,
           0.7,
           133,
           1,
           1,
           134,
           0
          ],
          [
           0,
           835,
           0,
           35,
           1,
           305000,
           0.8,
           133,
           0,
           0,
           145,
           0
          ],
          [
           0,
           3966,
           0,
           40,
           0,
           325000,
           0.9,
           140,
           1,
           1,
           146,
           0
          ],
          [
           1,
           171,
           0,
           60,
           1,
           176000,
           1.1,
           145,
           1,
           1,
           146,
           0
          ],
          [
           1,
           115,
           0,
           20,
           0,
           189000,
           0.8,
           139,
           1,
           0,
           146,
           0
          ],
          [
           1,
           95,
           0,
           60,
           0,
           337000,
           1,
           138,
           1,
           1,
           146,
           0
          ],
          [
           0,
           1419,
           0,
           40,
           0,
           105000,
           1,
           135,
           1,
           1,
           147,
           0
          ],
          [
           1,
           69,
           0,
           50,
           0,
           132000,
           1,
           140,
           0,
           0,
           147,
           0
          ],
          [
           0,
           835,
           0,
           40,
           0,
           279000,
           0.7,
           140,
           1,
           1,
           147,
           0
          ],
          [
           0,
           99,
           0,
           38,
           1,
           224000,
           2.5,
           134,
           1,
           0,
           162,
           1
          ],
          [
           1,
           145,
           0,
           25,
           0,
           219000,
           1.2,
           137,
           1,
           1,
           170,
           1
          ],
          [
           0,
           582,
           0,
           50,
           0,
           153000,
           0.6,
           134,
           0,
           0,
           172,
           1
          ],
          [
           0,
           244,
           0,
           45,
           1,
           275000,
           0.9,
           140,
           0,
           0,
           174,
           0
          ],
          [
           1,
           62,
           0,
           60,
           0,
           309000,
           1.5,
           135,
           0,
           0,
           174,
           0
          ],
          [
           0,
           582,
           0,
           20,
           1,
           126000,
           1.6,
           135,
           1,
           0,
           180,
           1
          ],
          [
           1,
           418,
           0,
           45,
           0,
           223000,
           1.8,
           145,
           1,
           0,
           180,
           1
          ],
          [
           0,
           167,
           0,
           30,
           0,
           259000,
           0.8,
           138,
           0,
           0,
           186,
           0
          ],
          [
           1,
           1767,
           0,
           45,
           0,
           73000,
           0.7,
           137,
           1,
           0,
           186,
           0
          ],
          [
           0,
           97,
           0,
           60,
           1,
           220000,
           0.9,
           138,
           1,
           0,
           186,
           0
          ],
          [
           0,
           59,
           0,
           25,
           1,
           212000,
           3.5,
           136,
           1,
           1,
           187,
           0
          ],
          [
           1,
           64,
           0,
           40,
           0,
           277000,
           0.7,
           137,
           1,
           1,
           187,
           0
          ],
          [
           1,
           101,
           0,
           40,
           0,
           226000,
           0.8,
           141,
           0,
           0,
           187,
           0
          ],
          [
           0,
           212,
           0,
           38,
           0,
           186000,
           0.9,
           136,
           1,
           0,
           187,
           0
          ],
          [
           0,
           582,
           0,
           62,
           1,
           147000,
           0.8,
           140,
           1,
           1,
           192,
           0
          ],
          [
           0,
           224,
           0,
           50,
           0,
           481000,
           1.4,
           138,
           1,
           1,
           192,
           0
          ],
          [
           1,
           135,
           0,
           35,
           1,
           290000,
           0.8,
           134,
           1,
           0,
           194,
           0
          ],
          [
           0,
           582,
           0,
           35,
           1,
           203000,
           1.3,
           134,
           1,
           0,
           195,
           0
          ],
          [
           0,
           1202,
           0,
           50,
           1,
           358000,
           0.9,
           141,
           0,
           0,
           196,
           0
          ],
          [
           0,
           582,
           0,
           20,
           0,
           263358.03,
           1.83,
           134,
           1,
           0,
           198,
           1
          ],
          [
           0,
           118,
           0,
           50,
           0,
           194000,
           1.1,
           145,
           1,
           1,
           200,
           0
          ],
          [
           1,
           86,
           0,
           35,
           0,
           365000,
           1.1,
           139,
           1,
           1,
           201,
           0
          ],
          [
           0,
           582,
           0,
           25,
           0,
           130000,
           0.8,
           134,
           1,
           0,
           201,
           0
          ],
          [
           1,
           57,
           0,
           25,
           0,
           189000,
           1.3,
           132,
           1,
           1,
           205,
           0
          ],
          [
           1,
           2794,
           0,
           35,
           1,
           141000,
           1,
           140,
           1,
           0,
           206,
           0
          ],
          [
           0,
           56,
           0,
           25,
           0,
           237000,
           5,
           130,
           0,
           0,
           207,
           0
          ],
          [
           0,
           211,
           0,
           25,
           0,
           274000,
           1.2,
           134,
           0,
           0,
           207,
           0
          ],
          [
           0,
           166,
           0,
           30,
           0,
           62000,
           1.7,
           127,
           0,
           0,
           207,
           1
          ],
          [
           0,
           93,
           0,
           35,
           0,
           185000,
           1.1,
           134,
           1,
           1,
           208,
           0
          ],
          [
           1,
           129,
           0,
           35,
           0,
           255000,
           0.9,
           137,
           1,
           0,
           209,
           0
          ],
          [
           1,
           707,
           0,
           38,
           0,
           330000,
           1.4,
           137,
           1,
           1,
           209,
           0
          ],
          [
           1,
           582,
           0,
           45,
           0,
           305000,
           1.1,
           137,
           1,
           1,
           209,
           0
          ],
          [
           1,
           109,
           0,
           50,
           1,
           406000,
           1.1,
           137,
           1,
           0,
           209,
           0
          ],
          [
           0,
           119,
           0,
           50,
           1,
           248000,
           1.1,
           148,
           1,
           0,
           209,
           0
          ],
          [
           0,
           232,
           0,
           30,
           0,
           173000,
           1.2,
           132,
           1,
           0,
           210,
           0
          ],
          [
           1,
           180,
           0,
           45,
           0,
           263358.03,
           1.18,
           137,
           1,
           1,
           211,
           0
          ],
          [
           0,
           90,
           0,
           35,
           0,
           255000,
           1.1,
           136,
           1,
           1,
           212,
           0
          ],
          [
           1,
           1185,
           0,
           40,
           1,
           220000,
           0.9,
           141,
           0,
           0,
           213,
           0
          ],
          [
           0,
           2017,
           0,
           25,
           0,
           314000,
           1.1,
           138,
           1,
           0,
           214,
           1
          ],
          [
           0,
           143,
           0,
           25,
           0,
           246000,
           2.4,
           135,
           1,
           0,
           214,
           0
          ],
          [
           0,
           624,
           0,
           35,
           0,
           301000,
           1,
           142,
           1,
           1,
           214,
           0
          ],
          [
           0,
           2522,
           0,
           30,
           1,
           404000,
           0.5,
           139,
           0,
           0,
           214,
           0
          ],
          [
           0,
           245,
           0,
           45,
           1,
           274000,
           1,
           133,
           1,
           0,
           215,
           0
          ],
          [
           1,
           446,
           0,
           60,
           1,
           263358.03,
           1,
           139,
           1,
           0,
           215,
           0
          ],
          [
           0,
           326,
           0,
           38,
           0,
           294000,
           1.7,
           139,
           0,
           0,
           220,
           0
          ],
          [
           0,
           56,
           0,
           50,
           0,
           308000,
           0.7,
           135,
           1,
           1,
           231,
           0
          ],
          [
           0,
           66,
           0,
           40,
           0,
           203000,
           1,
           138,
           1,
           0,
           233,
           0
          ],
          [
           1,
           655,
           0,
           40,
           0,
           283000,
           0.7,
           133,
           0,
           0,
           233,
           0
          ],
          [
           1,
           298,
           0,
           35,
           0,
           362000,
           0.9,
           140,
           1,
           1,
           240,
           0
          ],
          [
           0,
           1199,
           0,
           20,
           0,
           263358.03,
           1.83,
           134,
           1,
           1,
           241,
           1
          ],
          [
           0,
           213,
           0,
           38,
           0,
           215000,
           1.2,
           133,
           0,
           0,
           245,
           0
          ],
          [
           0,
           64,
           0,
           40,
           0,
           189000,
           0.7,
           140,
           1,
           0,
           245,
           0
          ],
          [
           0,
           582,
           0,
           38,
           1,
           422000,
           0.8,
           137,
           0,
           0,
           245,
           0
          ],
          [
           0,
           618,
           0,
           35,
           0,
           327000,
           1.1,
           142,
           0,
           0,
           245,
           0
          ],
          [
           0,
           582,
           0,
           40,
           0,
           51000,
           2.7,
           136,
           1,
           1,
           250,
           0
          ],
          [
           0,
           64,
           0,
           30,
           0,
           215000,
           3.8,
           128,
           1,
           1,
           250,
           0
          ],
          [
           0,
           1688,
           0,
           38,
           0,
           263358.03,
           1.1,
           138,
           1,
           1,
           250,
           0
          ],
          [
           1,
           54,
           0,
           40,
           0,
           279000,
           0.8,
           141,
           1,
           0,
           250,
           0
          ],
          [
           0,
           253,
           0,
           35,
           0,
           279000,
           1.7,
           140,
           1,
           0,
           250,
           0
          ],
          [
           1,
           337,
           0,
           38,
           0,
           390000,
           0.9,
           144,
           0,
           0,
           256,
           0
          ],
          [
           0,
           320,
           0,
           35,
           0,
           133000,
           1.4,
           139,
           1,
           0,
           258,
           0
          ],
          [
           0,
           1820,
           0,
           38,
           0,
           270000,
           1.2,
           139,
           0,
           0,
           271,
           0
          ],
          [
           0,
           2413,
           0,
           38,
           0,
           140000,
           1.4,
           140,
           1,
           1,
           280,
           0
          ],
          [
           0,
           196,
           0,
           45,
           0,
           395000,
           1.6,
           136,
           1,
           1,
           285,
           0
          ]
         ],
         "hovertemplate": "DIABETES=%{customdata[2]}<br>AGE=%{x}<br>anaemia=%{customdata[0]}<br>creatinine_phosphokinase=%{customdata[1]}<br>ejection_fraction=%{customdata[3]}<br>high_blood_pressure=%{customdata[4]}<br>platelets=%{customdata[5]}<br>serum_creatinine=%{customdata[6]}<br>serum_sodium=%{customdata[7]}<br>sex=%{customdata[8]}<br>smoking=%{customdata[9]}<br>time=%{customdata[10]}<br>DEATH_EVENT=%{customdata[11]}<extra></extra>",
         "legendgroup": "0",
         "marker": {
          "color": "#00cc96"
         },
         "name": "0",
         "offsetgroup": "0",
         "scalegroup": "x",
         "showlegend": false,
         "type": "violin",
         "x": [
          75,
          55,
          65,
          50,
          90,
          75,
          65,
          80,
          75,
          62,
          45,
          50,
          49,
          82,
          87,
          45,
          70,
          65,
          68,
          95,
          58,
          85,
          70,
          51,
          80,
          57,
          68,
          53,
          95,
          70,
          60,
          49,
          50,
          55,
          45,
          60,
          72,
          70,
          41,
          85,
          69,
          60,
          70,
          55,
          70,
          67,
          79,
          51,
          55,
          57,
          42,
          60,
          58,
          70,
          65,
          75,
          80,
          42,
          60,
          72,
          55,
          63,
          85,
          55,
          70,
          58,
          85,
          86,
          60,
          60,
          60,
          43,
          61,
          53,
          46,
          63,
          81,
          75,
          68,
          50,
          80,
          46,
          61,
          72,
          50,
          52,
          64,
          75,
          60,
          72,
          50,
          65,
          52,
          50,
          85,
          59,
          66,
          45,
          63,
          53,
          70,
          52,
          70,
          50,
          60,
          69,
          49,
          55,
          75,
          58,
          50,
          40,
          64,
          45,
          77,
          65,
          63,
          70,
          60,
          78,
          40,
          85,
          50,
          78,
          65,
          73,
          70,
          73,
          65,
          42,
          47,
          58,
          55,
          65,
          72,
          60,
          70,
          40,
          53,
          53,
          77,
          75,
          70,
          55,
          40,
          73,
          55,
          64,
          40,
          50,
          50,
          53,
          65,
          53,
          55,
          62,
          50,
          55,
          67,
          42,
          45,
          70,
          70,
          42,
          65,
          50,
          60,
          90,
          60,
          55,
          45,
          50
         ],
         "xaxis": "x2",
         "yaxis": "y2"
        },
        {
         "alignmentgroup": "True",
         "bingroup": "x",
         "hovertemplate": "DIABETES=1<br>AGE=%{x}<br>count=%{y}<extra></extra>",
         "legendgroup": "1",
         "marker": {
          "color": "#ab63fa",
          "pattern": {
           "shape": ""
          }
         },
         "name": "1",
         "offsetgroup": "1",
         "orientation": "v",
         "showlegend": true,
         "type": "histogram",
         "x": [
          65,
          60,
          48,
          65,
          53,
          75,
          80,
          70,
          82,
          94,
          50,
          50,
          65,
          69,
          90,
          82,
          60,
          60,
          50,
          70,
          72,
          60,
          50,
          60,
          60,
          70,
          60,
          72,
          45,
          42,
          65,
          58,
          65,
          42,
          75,
          60,
          59,
          65,
          44,
          70,
          60,
          58,
          63,
          60,
          63,
          45,
          45,
          50,
          60,
          60,
          65,
          66,
          60,
          46,
          58,
          53,
          60,
          65,
          62,
          50,
          62,
          50,
          60,
          50,
          45,
          80,
          59,
          65,
          51,
          65,
          63,
          40,
          59,
          65,
          60.667,
          60,
          60.667,
          80,
          50,
          73,
          45,
          50,
          60,
          45,
          50,
          60,
          49,
          70,
          48,
          68,
          55,
          58,
          75,
          65,
          70,
          65,
          54,
          61,
          53,
          55,
          70,
          52,
          58,
          45,
          65,
          68,
          61,
          56,
          45,
          40,
          44,
          51,
          60,
          70,
          50,
          55,
          70,
          55,
          45,
          65,
          45,
          52,
          63,
          62,
          45
         ],
         "xaxis": "x",
         "yaxis": "y"
        },
        {
         "alignmentgroup": "True",
         "customdata": [
          [
           1,
           160,
           1,
           20,
           0,
           327000,
           2.7,
           116,
           0,
           0,
           8,
           1
          ],
          [
           1,
           315,
           1,
           60,
           0,
           454000,
           1.1,
           131,
           1,
           1,
           10,
           1
          ],
          [
           1,
           582,
           1,
           55,
           0,
           87000,
           1.9,
           121,
           0,
           0,
           15,
           1
          ],
          [
           1,
           128,
           1,
           30,
           1,
           297000,
           1.6,
           136,
           0,
           0,
           20,
           1
          ],
          [
           0,
           63,
           1,
           60,
           0,
           368000,
           0.8,
           135,
           1,
           0,
           22,
           0
          ],
          [
           0,
           582,
           1,
           30,
           1,
           263358.03,
           1.83,
           134,
           0,
           0,
           23,
           1
          ],
          [
           0,
           148,
           1,
           38,
           0,
           149000,
           1.9,
           144,
           1,
           1,
           23,
           1
          ],
          [
           0,
           122,
           1,
           45,
           1,
           284000,
           1.3,
           136,
           1,
           1,
           26,
           1
          ],
          [
           0,
           70,
           1,
           30,
           0,
           200000,
           1.2,
           132,
           1,
           1,
           26,
           1
          ],
          [
           0,
           582,
           1,
           38,
           1,
           263358.03,
           1.83,
           134,
           1,
           0,
           27,
           1
          ],
          [
           1,
           249,
           1,
           35,
           1,
           319000,
           1,
           128,
           0,
           0,
           28,
           1
          ],
          [
           1,
           159,
           1,
           30,
           0,
           302000,
           1.2,
           138,
           0,
           0,
           29,
           0
          ],
          [
           0,
           94,
           1,
           50,
           1,
           188000,
           1,
           140,
           1,
           0,
           29,
           1
          ],
          [
           0,
           582,
           1,
           35,
           0,
           228000,
           3.5,
           134,
           1,
           0,
           30,
           1
          ],
          [
           1,
           60,
           1,
           50,
           0,
           226000,
           1,
           134,
           1,
           0,
           30,
           1
          ],
          [
           1,
           855,
           1,
           50,
           1,
           321000,
           1,
           145,
           0,
           0,
           30,
           1
          ],
          [
           0,
           2656,
           1,
           30,
           0,
           305000,
           2.3,
           137,
           1,
           0,
           30,
           0
          ],
          [
           0,
           235,
           1,
           38,
           0,
           329000,
           3,
           142,
           0,
           0,
           30,
           1
          ],
          [
           0,
           124,
           1,
           30,
           1,
           153000,
           1.2,
           136,
           0,
           1,
           32,
           1
          ],
          [
           0,
           571,
           1,
           45,
           1,
           185000,
           1.2,
           139,
           1,
           1,
           33,
           1
          ],
          [
           0,
           127,
           1,
           50,
           1,
           218000,
           1,
           134,
           1,
           0,
           33,
           0
          ],
          [
           1,
           588,
           1,
           60,
           0,
           194000,
           1.1,
           142,
           0,
           0,
           33,
           1
          ],
          [
           0,
           582,
           1,
           38,
           0,
           310000,
           1.9,
           135,
           1,
           1,
           35,
           1
          ],
          [
           0,
           582,
           1,
           38,
           1,
           451000,
           0.6,
           138,
           1,
           1,
           40,
           1
          ],
          [
           0,
           3964,
           1,
           62,
           0,
           263358.03,
           6.8,
           146,
           0,
           0,
           43,
           1
          ],
          [
           1,
           69,
           1,
           50,
           1,
           351000,
           1,
           134,
           0,
           0,
           44,
           1
          ],
          [
           1,
           260,
           1,
           38,
           0,
           255000,
           2.2,
           132,
           0,
           1,
           45,
           1
          ],
          [
           0,
           364,
           1,
           20,
           1,
           254000,
           1.3,
           136,
           1,
           1,
           59,
           1
          ],
          [
           0,
           7702,
           1,
           25,
           1,
           390000,
           1,
           139,
           1,
           0,
           60,
           1
          ],
          [
           1,
           250,
           1,
           15,
           0,
           213000,
           1.3,
           136,
           0,
           0,
           65,
           1
          ],
          [
           0,
           113,
           1,
           25,
           0,
           497000,
           1.83,
           135,
           1,
           0,
           67,
           1
          ],
          [
           0,
           582,
           1,
           35,
           0,
           122000,
           0.9,
           139,
           1,
           1,
           71,
           0
          ],
          [
           0,
           224,
           1,
           50,
           0,
           149000,
           1.3,
           137,
           1,
           1,
           72,
           0
          ],
          [
           0,
           102,
           1,
           40,
           0,
           237000,
           1.2,
           140,
           1,
           0,
           74,
           0
          ],
          [
           1,
           203,
           1,
           38,
           1,
           283000,
           0.6,
           131,
           1,
           1,
           74,
           0
          ],
          [
           1,
           76,
           1,
           25,
           0,
           196000,
           2.5,
           132,
           0,
           0,
           77,
           1
          ],
          [
           1,
           280,
           1,
           25,
           1,
           302000,
           1,
           141,
           0,
           0,
           78,
           1
          ],
          [
           1,
           68,
           1,
           60,
           1,
           304000,
           0.8,
           140,
           1,
           0,
           79,
           0
          ],
          [
           0,
           84,
           1,
           40,
           1,
           235000,
           0.7,
           139,
           1,
           0,
           79,
           0
          ],
          [
           0,
           66,
           1,
           45,
           0,
           249000,
           0.8,
           136,
           1,
           1,
           80,
           0
          ],
          [
           0,
           897,
           1,
           45,
           0,
           297000,
           1,
           133,
           1,
           0,
           80,
           0
          ],
          [
           0,
           144,
           1,
           38,
           1,
           327000,
           0.7,
           142,
           0,
           0,
           83,
           0
          ],
          [
           1,
           514,
           1,
           25,
           1,
           254000,
           1.3,
           134,
           1,
           0,
           83,
           0
          ],
          [
           1,
           156,
           1,
           25,
           1,
           318000,
           1.2,
           137,
           0,
           0,
           85,
           0
          ],
          [
           1,
           61,
           1,
           40,
           0,
           221000,
           1.1,
           140,
           0,
           0,
           86,
           0
          ],
          [
           1,
           1876,
           1,
           35,
           0,
           226000,
           0.9,
           138,
           1,
           0,
           88,
           0
          ],
          [
           0,
           292,
           1,
           35,
           0,
           850000,
           1.3,
           142,
           1,
           1,
           88,
           0
          ],
          [
           0,
           369,
           1,
           25,
           0,
           252000,
           1.6,
           136,
           1,
           0,
           90,
           0
          ],
          [
           1,
           754,
           1,
           40,
           1,
           328000,
           1.2,
           126,
           1,
           0,
           91,
           0
          ],
          [
           1,
           96,
           1,
           60,
           1,
           271000,
           0.7,
           136,
           0,
           0,
           94,
           0
          ],
          [
           1,
           113,
           1,
           60,
           1,
           203000,
           0.9,
           140,
           0,
           0,
           94,
           0
          ],
          [
           1,
           68,
           1,
           38,
           1,
           162000,
           1,
           136,
           0,
           0,
           95,
           0
          ],
          [
           0,
           96,
           1,
           38,
           0,
           228000,
           0.75,
           140,
           0,
           0,
           95,
           0
          ],
          [
           0,
           168,
           1,
           17,
           1,
           271000,
           2.1,
           124,
           0,
           0,
           100,
           1
          ],
          [
           1,
           200,
           1,
           60,
           0,
           300000,
           0.8,
           137,
           0,
           0,
           104,
           0
          ],
          [
           1,
           270,
           1,
           35,
           0,
           227000,
           3.4,
           145,
           1,
           0,
           105,
           0
          ],
          [
           1,
           1082,
           1,
           45,
           0,
           250000,
           6.1,
           131,
           1,
           0,
           107,
           0
          ],
          [
           1,
           59,
           1,
           60,
           0,
           172000,
           0.9,
           137,
           0,
           0,
           107,
           0
          ],
          [
           0,
           281,
           1,
           35,
           0,
           221000,
           1,
           136,
           0,
           0,
           108,
           0
          ],
          [
           0,
           482,
           1,
           30,
           0,
           329000,
           0.9,
           132,
           0,
           0,
           109,
           0
          ],
          [
           0,
           30,
           1,
           60,
           1,
           244000,
           0.9,
           139,
           1,
           0,
           117,
           0
          ],
          [
           0,
           1846,
           1,
           35,
           0,
           263358.03,
           1.18,
           137,
           1,
           1,
           119,
           0
          ],
          [
           1,
           231,
           1,
           25,
           0,
           194000,
           1.7,
           140,
           1,
           0,
           120,
           0
          ],
          [
           1,
           2334,
           1,
           35,
           0,
           75000,
           0.9,
           142,
           0,
           0,
           126,
           1
          ],
          [
           0,
           2442,
           1,
           30,
           0,
           334000,
           1.1,
           139,
           1,
           0,
           129,
           1
          ],
          [
           0,
           776,
           1,
           38,
           1,
           192000,
           1.3,
           135,
           0,
           0,
           130,
           1
          ],
          [
           0,
           66,
           1,
           20,
           0,
           70000,
           2.4,
           134,
           1,
           0,
           135,
           1
          ],
          [
           0,
           582,
           1,
           40,
           0,
           270000,
           1,
           138,
           0,
           0,
           140,
           0
          ],
          [
           1,
           582,
           1,
           35,
           0,
           263358.03,
           1.5,
           136,
           1,
           1,
           145,
           0
          ],
          [
           0,
           198,
           1,
           35,
           1,
           281000,
           0.9,
           137,
           1,
           1,
           146,
           0
          ],
          [
           1,
           122,
           1,
           60,
           0,
           267000,
           1.2,
           145,
           1,
           0,
           147,
           0
          ],
          [
           0,
           478,
           1,
           30,
           0,
           303000,
           0.9,
           136,
           1,
           0,
           148,
           0
          ],
          [
           1,
           176,
           1,
           25,
           0,
           221000,
           1,
           136,
           1,
           1,
           150,
           1
          ],
          [
           0,
           395,
           1,
           25,
           0,
           265000,
           1.2,
           136,
           1,
           1,
           154,
           1
          ],
          [
           1,
           104,
           1,
           30,
           0,
           389000,
           1.5,
           136,
           1,
           0,
           171,
           1
          ],
          [
           0,
           1896,
           1,
           25,
           0,
           365000,
           2.1,
           144,
           0,
           0,
           172,
           1
          ],
          [
           1,
           151,
           1,
           40,
           1,
           201000,
           1,
           136,
           0,
           0,
           172,
           0
          ],
          [
           0,
           582,
           1,
           35,
           0,
           350000,
           2.1,
           134,
           1,
           0,
           174,
           0
          ],
          [
           1,
           121,
           1,
           40,
           0,
           260000,
           0.7,
           130,
           1,
           0,
           175,
           0
          ],
          [
           1,
           231,
           1,
           30,
           0,
           160000,
           1.18,
           142,
           1,
           1,
           180,
           0
          ],
          [
           0,
           582,
           1,
           38,
           1,
           263358.03,
           1.18,
           137,
           0,
           0,
           185,
           0
          ],
          [
           1,
           582,
           1,
           20,
           1,
           279000,
           1,
           134,
           0,
           0,
           186,
           0
          ],
          [
           0,
           1211,
           1,
           35,
           0,
           263358.03,
           1.8,
           113,
           1,
           1,
           186,
           0
          ],
          [
           0,
           308,
           1,
           60,
           1,
           377000,
           1,
           136,
           1,
           0,
           186,
           0
          ],
          [
           1,
           167,
           1,
           45,
           0,
           362000,
           1,
           136,
           0,
           0,
           187,
           0
          ],
          [
           1,
           2281,
           1,
           40,
           0,
           283000,
           1,
           141,
           0,
           0,
           187,
           0
          ],
          [
           0,
           972,
           1,
           35,
           1,
           268000,
           0.8,
           130,
           0,
           0,
           187,
           0
          ],
          [
           0,
           212,
           1,
           17,
           1,
           389000,
           1,
           136,
           1,
           1,
           188,
           0
          ],
          [
           1,
           131,
           1,
           30,
           1,
           244000,
           1.6,
           130,
           0,
           0,
           193,
           1
          ],
          [
           1,
           1021,
           1,
           35,
           0,
           271000,
           1.1,
           134,
           1,
           0,
           197,
           0
          ],
          [
           0,
           582,
           1,
           35,
           1,
           371000,
           0.7,
           140,
           0,
           0,
           197,
           0
          ],
          [
           0,
           582,
           1,
           25,
           0,
           504000,
           1,
           138,
           1,
           0,
           205,
           0
          ],
          [
           0,
           675,
           1,
           60,
           0,
           265000,
           1.4,
           125,
           0,
           0,
           205,
           0
          ],
          [
           1,
           720,
           1,
           40,
           0,
           257000,
           1,
           136,
           0,
           0,
           210,
           0
          ],
          [
           0,
           81,
           1,
           35,
           1,
           533000,
           1.3,
           139,
           0,
           0,
           212,
           0
          ],
          [
           0,
           582,
           1,
           30,
           0,
           249000,
           1.3,
           136,
           1,
           1,
           212,
           0
          ],
          [
           0,
           582,
           1,
           38,
           0,
           264000,
           1.8,
           134,
           1,
           0,
           213,
           0
          ],
          [
           1,
           80,
           1,
           38,
           0,
           282000,
           1.4,
           137,
           1,
           0,
           213,
           0
          ],
          [
           0,
           207,
           1,
           40,
           0,
           223000,
           1.2,
           130,
           0,
           0,
           214,
           0
          ],
          [
           0,
           572,
           1,
           35,
           0,
           231000,
           0.8,
           143,
           0,
           0,
           215,
           0
          ],
          [
           0,
           88,
           1,
           35,
           1,
           236000,
           1.2,
           132,
           0,
           0,
           215,
           0
          ],
          [
           1,
           191,
           1,
           30,
           1,
           334000,
           1,
           142,
           1,
           1,
           216,
           0
          ],
          [
           0,
           132,
           1,
           38,
           1,
           253000,
           1,
           139,
           1,
           0,
           230,
           0
          ],
          [
           1,
           66,
           1,
           25,
           0,
           233000,
           0.8,
           135,
           1,
           0,
           230,
           0
          ],
          [
           1,
           258,
           1,
           25,
           0,
           198000,
           1.4,
           129,
           1,
           0,
           235,
           1
          ],
          [
           1,
           157,
           1,
           60,
           0,
           208000,
           1,
           140,
           0,
           0,
           237,
           0
          ],
          [
           0,
           582,
           1,
           38,
           0,
           147000,
           1.2,
           141,
           1,
           0,
           237,
           0
          ],
          [
           1,
           135,
           1,
           38,
           0,
           133000,
           1.7,
           140,
           1,
           0,
           244,
           0
          ],
          [
           0,
           582,
           1,
           38,
           0,
           302000,
           0.9,
           140,
           0,
           0,
           244,
           0
          ],
          [
           0,
           582,
           1,
           35,
           0,
           222000,
           1,
           132,
           1,
           0,
           244,
           0
          ],
          [
           0,
           582,
           1,
           30,
           1,
           263358.03,
           1.6,
           130,
           1,
           1,
           244,
           0
          ],
          [
           0,
           582,
           1,
           40,
           0,
           221000,
           0.9,
           134,
           0,
           0,
           244,
           0
          ],
          [
           1,
           257,
           1,
           30,
           0,
           150000,
           1,
           137,
           1,
           1,
           245,
           0
          ],
          [
           0,
           582,
           1,
           38,
           0,
           25100,
           1.1,
           140,
           1,
           0,
           246,
           0
          ],
          [
           1,
           1051,
           1,
           30,
           0,
           232000,
           0.7,
           136,
           0,
           0,
           246,
           0
          ],
          [
           0,
           84,
           1,
           38,
           0,
           451000,
           1.3,
           136,
           0,
           0,
           246,
           0
          ],
          [
           0,
           2695,
           1,
           40,
           0,
           241000,
           1,
           137,
           1,
           0,
           247,
           0
          ],
          [
           1,
           170,
           1,
           40,
           0,
           336000,
           1.2,
           135,
           1,
           0,
           250,
           0
          ],
          [
           0,
           582,
           1,
           55,
           0,
           543000,
           1,
           132,
           0,
           0,
           250,
           0
          ],
          [
           0,
           892,
           1,
           35,
           0,
           263358.03,
           1.1,
           142,
           0,
           0,
           256,
           0
          ],
          [
           0,
           615,
           1,
           55,
           0,
           222000,
           0.8,
           141,
           0,
           0,
           257,
           0
          ],
          [
           0,
           190,
           1,
           38,
           0,
           382000,
           1,
           140,
           1,
           1,
           258,
           0
          ],
          [
           1,
           103,
           1,
           35,
           0,
           179000,
           0.9,
           136,
           1,
           1,
           270,
           0
          ],
          [
           0,
           61,
           1,
           38,
           1,
           155000,
           1.1,
           143,
           1,
           1,
           270,
           0
          ],
          [
           0,
           2060,
           1,
           60,
           0,
           742000,
           0.8,
           138,
           0,
           0,
           278,
           0
          ]
         ],
         "hovertemplate": "DIABETES=%{customdata[2]}<br>AGE=%{x}<br>anaemia=%{customdata[0]}<br>creatinine_phosphokinase=%{customdata[1]}<br>ejection_fraction=%{customdata[3]}<br>high_blood_pressure=%{customdata[4]}<br>platelets=%{customdata[5]}<br>serum_creatinine=%{customdata[6]}<br>serum_sodium=%{customdata[7]}<br>sex=%{customdata[8]}<br>smoking=%{customdata[9]}<br>time=%{customdata[10]}<br>DEATH_EVENT=%{customdata[11]}<extra></extra>",
         "legendgroup": "1",
         "marker": {
          "color": "#ab63fa"
         },
         "name": "1",
         "offsetgroup": "1",
         "scalegroup": "x",
         "showlegend": false,
         "type": "violin",
         "x": [
          65,
          60,
          48,
          65,
          53,
          75,
          80,
          70,
          82,
          94,
          50,
          50,
          65,
          69,
          90,
          82,
          60,
          60,
          50,
          70,
          72,
          60,
          50,
          60,
          60,
          70,
          60,
          72,
          45,
          42,
          65,
          58,
          65,
          42,
          75,
          60,
          59,
          65,
          44,
          70,
          60,
          58,
          63,
          60,
          63,
          45,
          45,
          50,
          60,
          60,
          65,
          66,
          60,
          46,
          58,
          53,
          60,
          65,
          62,
          50,
          62,
          50,
          60,
          50,
          45,
          80,
          59,
          65,
          51,
          65,
          63,
          40,
          59,
          65,
          60.667,
          60,
          60.667,
          80,
          50,
          73,
          45,
          50,
          60,
          45,
          50,
          60,
          49,
          70,
          48,
          68,
          55,
          58,
          75,
          65,
          70,
          65,
          54,
          61,
          53,
          55,
          70,
          52,
          58,
          45,
          65,
          68,
          61,
          56,
          45,
          40,
          44,
          51,
          60,
          70,
          50,
          55,
          70,
          55,
          45,
          65,
          45,
          52,
          63,
          62,
          45
         ],
         "xaxis": "x2",
         "yaxis": "y2"
        }
       ],
       "layout": {
        "barmode": "relative",
        "legend": {
         "title": {
          "text": "DIABETES"
         },
         "tracegroupgap": 0
        },
        "template": {
         "data": {
          "bar": [
           {
            "error_x": {
             "color": "#2a3f5f"
            },
            "error_y": {
             "color": "#2a3f5f"
            },
            "marker": {
             "line": {
              "color": "white",
              "width": 0.5
             },
             "pattern": {
              "fillmode": "overlay",
              "size": 10,
              "solidity": 0.2
             }
            },
            "type": "bar"
           }
          ],
          "barpolar": [
           {
            "marker": {
             "line": {
              "color": "white",
              "width": 0.5
             },
             "pattern": {
              "fillmode": "overlay",
              "size": 10,
              "solidity": 0.2
             }
            },
            "type": "barpolar"
           }
          ],
          "carpet": [
           {
            "aaxis": {
             "endlinecolor": "#2a3f5f",
             "gridcolor": "#C8D4E3",
             "linecolor": "#C8D4E3",
             "minorgridcolor": "#C8D4E3",
             "startlinecolor": "#2a3f5f"
            },
            "baxis": {
             "endlinecolor": "#2a3f5f",
             "gridcolor": "#C8D4E3",
             "linecolor": "#C8D4E3",
             "minorgridcolor": "#C8D4E3",
             "startlinecolor": "#2a3f5f"
            },
            "type": "carpet"
           }
          ],
          "choropleth": [
           {
            "colorbar": {
             "outlinewidth": 0,
             "ticks": ""
            },
            "type": "choropleth"
           }
          ],
          "contour": [
           {
            "colorbar": {
             "outlinewidth": 0,
             "ticks": ""
            },
            "colorscale": [
             [
              0,
              "#0d0887"
             ],
             [
              0.1111111111111111,
              "#46039f"
             ],
             [
              0.2222222222222222,
              "#7201a8"
             ],
             [
              0.3333333333333333,
              "#9c179e"
             ],
             [
              0.4444444444444444,
              "#bd3786"
             ],
             [
              0.5555555555555556,
              "#d8576b"
             ],
             [
              0.6666666666666666,
              "#ed7953"
             ],
             [
              0.7777777777777778,
              "#fb9f3a"
             ],
             [
              0.8888888888888888,
              "#fdca26"
             ],
             [
              1,
              "#f0f921"
             ]
            ],
            "type": "contour"
           }
          ],
          "contourcarpet": [
           {
            "colorbar": {
             "outlinewidth": 0,
             "ticks": ""
            },
            "type": "contourcarpet"
           }
          ],
          "heatmap": [
           {
            "colorbar": {
             "outlinewidth": 0,
             "ticks": ""
            },
            "colorscale": [
             [
              0,
              "#0d0887"
             ],
             [
              0.1111111111111111,
              "#46039f"
             ],
             [
              0.2222222222222222,
              "#7201a8"
             ],
             [
              0.3333333333333333,
              "#9c179e"
             ],
             [
              0.4444444444444444,
              "#bd3786"
             ],
             [
              0.5555555555555556,
              "#d8576b"
             ],
             [
              0.6666666666666666,
              "#ed7953"
             ],
             [
              0.7777777777777778,
              "#fb9f3a"
             ],
             [
              0.8888888888888888,
              "#fdca26"
             ],
             [
              1,
              "#f0f921"
             ]
            ],
            "type": "heatmap"
           }
          ],
          "heatmapgl": [
           {
            "colorbar": {
             "outlinewidth": 0,
             "ticks": ""
            },
            "colorscale": [
             [
              0,
              "#0d0887"
             ],
             [
              0.1111111111111111,
              "#46039f"
             ],
             [
              0.2222222222222222,
              "#7201a8"
             ],
             [
              0.3333333333333333,
              "#9c179e"
             ],
             [
              0.4444444444444444,
              "#bd3786"
             ],
             [
              0.5555555555555556,
              "#d8576b"
             ],
             [
              0.6666666666666666,
              "#ed7953"
             ],
             [
              0.7777777777777778,
              "#fb9f3a"
             ],
             [
              0.8888888888888888,
              "#fdca26"
             ],
             [
              1,
              "#f0f921"
             ]
            ],
            "type": "heatmapgl"
           }
          ],
          "histogram": [
           {
            "marker": {
             "pattern": {
              "fillmode": "overlay",
              "size": 10,
              "solidity": 0.2
             }
            },
            "type": "histogram"
           }
          ],
          "histogram2d": [
           {
            "colorbar": {
             "outlinewidth": 0,
             "ticks": ""
            },
            "colorscale": [
             [
              0,
              "#0d0887"
             ],
             [
              0.1111111111111111,
              "#46039f"
             ],
             [
              0.2222222222222222,
              "#7201a8"
             ],
             [
              0.3333333333333333,
              "#9c179e"
             ],
             [
              0.4444444444444444,
              "#bd3786"
             ],
             [
              0.5555555555555556,
              "#d8576b"
             ],
             [
              0.6666666666666666,
              "#ed7953"
             ],
             [
              0.7777777777777778,
              "#fb9f3a"
             ],
             [
              0.8888888888888888,
              "#fdca26"
             ],
             [
              1,
              "#f0f921"
             ]
            ],
            "type": "histogram2d"
           }
          ],
          "histogram2dcontour": [
           {
            "colorbar": {
             "outlinewidth": 0,
             "ticks": ""
            },
            "colorscale": [
             [
              0,
              "#0d0887"
             ],
             [
              0.1111111111111111,
              "#46039f"
             ],
             [
              0.2222222222222222,
              "#7201a8"
             ],
             [
              0.3333333333333333,
              "#9c179e"
             ],
             [
              0.4444444444444444,
              "#bd3786"
             ],
             [
              0.5555555555555556,
              "#d8576b"
             ],
             [
              0.6666666666666666,
              "#ed7953"
             ],
             [
              0.7777777777777778,
              "#fb9f3a"
             ],
             [
              0.8888888888888888,
              "#fdca26"
             ],
             [
              1,
              "#f0f921"
             ]
            ],
            "type": "histogram2dcontour"
           }
          ],
          "mesh3d": [
           {
            "colorbar": {
             "outlinewidth": 0,
             "ticks": ""
            },
            "type": "mesh3d"
           }
          ],
          "parcoords": [
           {
            "line": {
             "colorbar": {
              "outlinewidth": 0,
              "ticks": ""
             }
            },
            "type": "parcoords"
           }
          ],
          "pie": [
           {
            "automargin": true,
            "type": "pie"
           }
          ],
          "scatter": [
           {
            "fillpattern": {
             "fillmode": "overlay",
             "size": 10,
             "solidity": 0.2
            },
            "type": "scatter"
           }
          ],
          "scatter3d": [
           {
            "line": {
             "colorbar": {
              "outlinewidth": 0,
              "ticks": ""
             }
            },
            "marker": {
             "colorbar": {
              "outlinewidth": 0,
              "ticks": ""
             }
            },
            "type": "scatter3d"
           }
          ],
          "scattercarpet": [
           {
            "marker": {
             "colorbar": {
              "outlinewidth": 0,
              "ticks": ""
             }
            },
            "type": "scattercarpet"
           }
          ],
          "scattergeo": [
           {
            "marker": {
             "colorbar": {
              "outlinewidth": 0,
              "ticks": ""
             }
            },
            "type": "scattergeo"
           }
          ],
          "scattergl": [
           {
            "marker": {
             "colorbar": {
              "outlinewidth": 0,
              "ticks": ""
             }
            },
            "type": "scattergl"
           }
          ],
          "scattermapbox": [
           {
            "marker": {
             "colorbar": {
              "outlinewidth": 0,
              "ticks": ""
             }
            },
            "type": "scattermapbox"
           }
          ],
          "scatterpolar": [
           {
            "marker": {
             "colorbar": {
              "outlinewidth": 0,
              "ticks": ""
             }
            },
            "type": "scatterpolar"
           }
          ],
          "scatterpolargl": [
           {
            "marker": {
             "colorbar": {
              "outlinewidth": 0,
              "ticks": ""
             }
            },
            "type": "scatterpolargl"
           }
          ],
          "scatterternary": [
           {
            "marker": {
             "colorbar": {
              "outlinewidth": 0,
              "ticks": ""
             }
            },
            "type": "scatterternary"
           }
          ],
          "surface": [
           {
            "colorbar": {
             "outlinewidth": 0,
             "ticks": ""
            },
            "colorscale": [
             [
              0,
              "#0d0887"
             ],
             [
              0.1111111111111111,
              "#46039f"
             ],
             [
              0.2222222222222222,
              "#7201a8"
             ],
             [
              0.3333333333333333,
              "#9c179e"
             ],
             [
              0.4444444444444444,
              "#bd3786"
             ],
             [
              0.5555555555555556,
              "#d8576b"
             ],
             [
              0.6666666666666666,
              "#ed7953"
             ],
             [
              0.7777777777777778,
              "#fb9f3a"
             ],
             [
              0.8888888888888888,
              "#fdca26"
             ],
             [
              1,
              "#f0f921"
             ]
            ],
            "type": "surface"
           }
          ],
          "table": [
           {
            "cells": {
             "fill": {
              "color": "#EBF0F8"
             },
             "line": {
              "color": "white"
             }
            },
            "header": {
             "fill": {
              "color": "#C8D4E3"
             },
             "line": {
              "color": "white"
             }
            },
            "type": "table"
           }
          ]
         },
         "layout": {
          "annotationdefaults": {
           "arrowcolor": "#2a3f5f",
           "arrowhead": 0,
           "arrowwidth": 1
          },
          "autotypenumbers": "strict",
          "coloraxis": {
           "colorbar": {
            "outlinewidth": 0,
            "ticks": ""
           }
          },
          "colorscale": {
           "diverging": [
            [
             0,
             "#8e0152"
            ],
            [
             0.1,
             "#c51b7d"
            ],
            [
             0.2,
             "#de77ae"
            ],
            [
             0.3,
             "#f1b6da"
            ],
            [
             0.4,
             "#fde0ef"
            ],
            [
             0.5,
             "#f7f7f7"
            ],
            [
             0.6,
             "#e6f5d0"
            ],
            [
             0.7,
             "#b8e186"
            ],
            [
             0.8,
             "#7fbc41"
            ],
            [
             0.9,
             "#4d9221"
            ],
            [
             1,
             "#276419"
            ]
           ],
           "sequential": [
            [
             0,
             "#0d0887"
            ],
            [
             0.1111111111111111,
             "#46039f"
            ],
            [
             0.2222222222222222,
             "#7201a8"
            ],
            [
             0.3333333333333333,
             "#9c179e"
            ],
            [
             0.4444444444444444,
             "#bd3786"
            ],
            [
             0.5555555555555556,
             "#d8576b"
            ],
            [
             0.6666666666666666,
             "#ed7953"
            ],
            [
             0.7777777777777778,
             "#fb9f3a"
            ],
            [
             0.8888888888888888,
             "#fdca26"
            ],
            [
             1,
             "#f0f921"
            ]
           ],
           "sequentialminus": [
            [
             0,
             "#0d0887"
            ],
            [
             0.1111111111111111,
             "#46039f"
            ],
            [
             0.2222222222222222,
             "#7201a8"
            ],
            [
             0.3333333333333333,
             "#9c179e"
            ],
            [
             0.4444444444444444,
             "#bd3786"
            ],
            [
             0.5555555555555556,
             "#d8576b"
            ],
            [
             0.6666666666666666,
             "#ed7953"
            ],
            [
             0.7777777777777778,
             "#fb9f3a"
            ],
            [
             0.8888888888888888,
             "#fdca26"
            ],
            [
             1,
             "#f0f921"
            ]
           ]
          },
          "colorway": [
           "#636efa",
           "#EF553B",
           "#00cc96",
           "#ab63fa",
           "#FFA15A",
           "#19d3f3",
           "#FF6692",
           "#B6E880",
           "#FF97FF",
           "#FECB52"
          ],
          "font": {
           "color": "#2a3f5f"
          },
          "geo": {
           "bgcolor": "white",
           "lakecolor": "white",
           "landcolor": "white",
           "showlakes": true,
           "showland": true,
           "subunitcolor": "#C8D4E3"
          },
          "hoverlabel": {
           "align": "left"
          },
          "hovermode": "closest",
          "mapbox": {
           "style": "light"
          },
          "paper_bgcolor": "white",
          "plot_bgcolor": "white",
          "polar": {
           "angularaxis": {
            "gridcolor": "#EBF0F8",
            "linecolor": "#EBF0F8",
            "ticks": ""
           },
           "bgcolor": "white",
           "radialaxis": {
            "gridcolor": "#EBF0F8",
            "linecolor": "#EBF0F8",
            "ticks": ""
           }
          },
          "scene": {
           "xaxis": {
            "backgroundcolor": "white",
            "gridcolor": "#DFE8F3",
            "gridwidth": 2,
            "linecolor": "#EBF0F8",
            "showbackground": true,
            "ticks": "",
            "zerolinecolor": "#EBF0F8"
           },
           "yaxis": {
            "backgroundcolor": "white",
            "gridcolor": "#DFE8F3",
            "gridwidth": 2,
            "linecolor": "#EBF0F8",
            "showbackground": true,
            "ticks": "",
            "zerolinecolor": "#EBF0F8"
           },
           "zaxis": {
            "backgroundcolor": "white",
            "gridcolor": "#DFE8F3",
            "gridwidth": 2,
            "linecolor": "#EBF0F8",
            "showbackground": true,
            "ticks": "",
            "zerolinecolor": "#EBF0F8"
           }
          },
          "shapedefaults": {
           "line": {
            "color": "#2a3f5f"
           }
          },
          "ternary": {
           "aaxis": {
            "gridcolor": "#DFE8F3",
            "linecolor": "#A2B1C6",
            "ticks": ""
           },
           "baxis": {
            "gridcolor": "#DFE8F3",
            "linecolor": "#A2B1C6",
            "ticks": ""
           },
           "bgcolor": "white",
           "caxis": {
            "gridcolor": "#DFE8F3",
            "linecolor": "#A2B1C6",
            "ticks": ""
           }
          },
          "title": {
           "x": 0.05
          },
          "xaxis": {
           "automargin": true,
           "gridcolor": "#EBF0F8",
           "linecolor": "#EBF0F8",
           "ticks": "",
           "title": {
            "standoff": 15
           },
           "zerolinecolor": "#EBF0F8",
           "zerolinewidth": 2
          },
          "yaxis": {
           "automargin": true,
           "gridcolor": "#EBF0F8",
           "linecolor": "#EBF0F8",
           "ticks": "",
           "title": {
            "standoff": 15
           },
           "zerolinecolor": "#EBF0F8",
           "zerolinewidth": 2
          }
         }
        },
        "title": {
         "text": "Distribution of AGE Vs DIABETES"
        },
        "xaxis": {
         "anchor": "y",
         "domain": [
          0,
          1
         ],
         "title": {
          "text": "AGE"
         }
        },
        "xaxis2": {
         "anchor": "y2",
         "domain": [
          0,
          1
         ],
         "matches": "x",
         "showgrid": true,
         "showticklabels": false
        },
        "yaxis": {
         "anchor": "x",
         "domain": [
          0,
          0.7326
         ],
         "title": {
          "text": "count"
         }
        },
        "yaxis2": {
         "anchor": "x2",
         "domain": [
          0.7426,
          1
         ],
         "matches": "y2",
         "showgrid": false,
         "showline": false,
         "showticklabels": false,
         "ticks": ""
        }
       }
      },
      "text/html": [
       "<div>                            <div id=\"978c8100-288c-4244-a407-2e3d788a0c0c\" class=\"plotly-graph-div\" style=\"height:525px; width:100%;\"></div>            <script type=\"text/javascript\">                require([\"plotly\"], function(Plotly) {                    window.PLOTLYENV=window.PLOTLYENV || {};                                    if (document.getElementById(\"978c8100-288c-4244-a407-2e3d788a0c0c\")) {                    Plotly.newPlot(                        \"978c8100-288c-4244-a407-2e3d788a0c0c\",                        [{\"alignmentgroup\":\"True\",\"bingroup\":\"x\",\"hovertemplate\":\"DIABETES=0<br>AGE=%{x}<br>count=%{y}<extra></extra>\",\"legendgroup\":\"0\",\"marker\":{\"color\":\"#00cc96\",\"pattern\":{\"shape\":\"\"}},\"name\":\"0\",\"offsetgroup\":\"0\",\"orientation\":\"v\",\"showlegend\":true,\"x\":[75.0,55.0,65.0,50.0,90.0,75.0,65.0,80.0,75.0,62.0,45.0,50.0,49.0,82.0,87.0,45.0,70.0,65.0,68.0,95.0,58.0,85.0,70.0,51.0,80.0,57.0,68.0,53.0,95.0,70.0,60.0,49.0,50.0,55.0,45.0,60.0,72.0,70.0,41.0,85.0,69.0,60.0,70.0,55.0,70.0,67.0,79.0,51.0,55.0,57.0,42.0,60.0,58.0,70.0,65.0,75.0,80.0,42.0,60.0,72.0,55.0,63.0,85.0,55.0,70.0,58.0,85.0,86.0,60.0,60.0,60.0,43.0,61.0,53.0,46.0,63.0,81.0,75.0,68.0,50.0,80.0,46.0,61.0,72.0,50.0,52.0,64.0,75.0,60.0,72.0,50.0,65.0,52.0,50.0,85.0,59.0,66.0,45.0,63.0,53.0,70.0,52.0,70.0,50.0,60.0,69.0,49.0,55.0,75.0,58.0,50.0,40.0,64.0,45.0,77.0,65.0,63.0,70.0,60.0,78.0,40.0,85.0,50.0,78.0,65.0,73.0,70.0,73.0,65.0,42.0,47.0,58.0,55.0,65.0,72.0,60.0,70.0,40.0,53.0,53.0,77.0,75.0,70.0,55.0,40.0,73.0,55.0,64.0,40.0,50.0,50.0,53.0,65.0,53.0,55.0,62.0,50.0,55.0,67.0,42.0,45.0,70.0,70.0,42.0,65.0,50.0,60.0,90.0,60.0,55.0,45.0,50.0],\"xaxis\":\"x\",\"yaxis\":\"y\",\"type\":\"histogram\"},{\"alignmentgroup\":\"True\",\"customdata\":[[0.0,582.0,0.0,20.0,1.0,265000.0,1.9,130.0,1.0,0.0,4.0,1.0],[0.0,7861.0,0.0,38.0,0.0,263358.03,1.1,136.0,1.0,0.0,6.0,1.0],[0.0,146.0,0.0,20.0,0.0,162000.0,1.3,129.0,1.0,1.0,7.0,1.0],[1.0,111.0,0.0,20.0,0.0,210000.0,1.9,137.0,1.0,0.0,7.0,1.0],[1.0,47.0,0.0,40.0,1.0,204000.0,2.1,132.0,1.0,1.0,8.0,1.0],[1.0,246.0,0.0,15.0,0.0,127000.0,1.2,137.0,1.0,0.0,10.0,1.0],[0.0,157.0,0.0,65.0,0.0,263358.03,1.5,138.0,0.0,0.0,10.0,1.0],[1.0,123.0,0.0,35.0,1.0,388000.0,9.4,133.0,1.0,1.0,10.0,1.0],[1.0,81.0,0.0,38.0,1.0,368000.0,4.0,131.0,1.0,1.0,10.0,1.0],[0.0,231.0,0.0,25.0,1.0,253000.0,0.9,140.0,1.0,1.0,10.0,1.0],[1.0,981.0,0.0,30.0,0.0,136000.0,1.1,137.0,1.0,0.0,11.0,1.0],[1.0,168.0,0.0,38.0,1.0,276000.0,1.1,137.0,1.0,0.0,11.0,1.0],[1.0,80.0,0.0,30.0,1.0,427000.0,1.0,138.0,0.0,0.0,12.0,0.0],[1.0,379.0,0.0,50.0,0.0,47000.0,1.3,136.0,1.0,0.0,13.0,1.0],[1.0,149.0,0.0,38.0,0.0,262000.0,0.9,140.0,1.0,0.0,14.0,1.0],[0.0,582.0,0.0,14.0,0.0,166000.0,0.8,127.0,1.0,0.0,14.0,1.0],[1.0,125.0,0.0,25.0,1.0,237000.0,1.0,140.0,0.0,0.0,15.0,1.0],[1.0,52.0,0.0,25.0,1.0,276000.0,1.3,137.0,0.0,0.0,16.0,0.0],[1.0,220.0,0.0,35.0,1.0,289000.0,0.9,140.0,1.0,1.0,20.0,1.0],[1.0,112.0,0.0,40.0,1.0,196000.0,1.0,138.0,0.0,0.0,24.0,1.0],[1.0,60.0,0.0,38.0,0.0,153000.0,5.8,134.0,1.0,0.0,26.0,1.0],[0.0,23.0,0.0,45.0,0.0,360000.0,3.0,132.0,1.0,0.0,28.0,1.0],[0.0,582.0,0.0,20.0,1.0,263358.03,1.83,134.0,1.0,1.0,31.0,1.0],[0.0,1380.0,0.0,25.0,1.0,271000.0,0.9,130.0,1.0,0.0,38.0,1.0],[1.0,553.0,0.0,20.0,1.0,140000.0,4.4,133.0,1.0,0.0,41.0,1.0],[1.0,129.0,0.0,30.0,0.0,395000.0,1.0,140.0,0.0,0.0,42.0,1.0],[1.0,577.0,0.0,25.0,1.0,166000.0,1.0,138.0,1.0,0.0,43.0,1.0],[1.0,91.0,0.0,20.0,1.0,418000.0,1.4,139.0,0.0,0.0,43.0,1.0],[1.0,371.0,0.0,30.0,0.0,461000.0,2.0,132.0,1.0,0.0,50.0,1.0],[1.0,75.0,0.0,35.0,0.0,223000.0,2.7,138.0,1.0,1.0,54.0,0.0],[1.0,607.0,0.0,40.0,0.0,216000.0,0.6,138.0,1.0,1.0,54.0,0.0],[0.0,789.0,0.0,20.0,1.0,319000.0,1.1,136.0,1.0,1.0,55.0,1.0],[0.0,318.0,0.0,40.0,1.0,216000.0,2.3,131.0,0.0,0.0,60.0,1.0],[0.0,109.0,0.0,35.0,0.0,254000.0,1.1,139.0,1.0,1.0,60.0,0.0],[0.0,582.0,0.0,35.0,0.0,385000.0,1.0,145.0,1.0,0.0,61.0,1.0],[0.0,68.0,0.0,20.0,0.0,119000.0,2.9,127.0,1.0,1.0,64.0,1.0],[1.0,110.0,0.0,25.0,0.0,274000.0,1.0,140.0,1.0,1.0,65.0,1.0],[0.0,161.0,0.0,25.0,0.0,244000.0,1.2,142.0,0.0,0.0,66.0,1.0],[0.0,148.0,0.0,40.0,0.0,374000.0,0.8,140.0,1.0,1.0,68.0,0.0],[0.0,5882.0,0.0,35.0,0.0,243000.0,1.0,132.0,1.0,1.0,72.0,1.0],[0.0,582.0,0.0,20.0,0.0,266000.0,1.2,134.0,1.0,1.0,73.0,1.0],[1.0,47.0,0.0,20.0,0.0,204000.0,0.7,139.0,1.0,1.0,73.0,1.0],[0.0,92.0,0.0,60.0,1.0,317000.0,0.8,140.0,0.0,1.0,74.0,0.0],[0.0,336.0,0.0,45.0,1.0,324000.0,0.9,140.0,0.0,0.0,74.0,0.0],[0.0,69.0,0.0,40.0,0.0,293000.0,1.7,136.0,0.0,0.0,75.0,0.0],[0.0,582.0,0.0,50.0,0.0,263358.03,1.18,137.0,1.0,1.0,76.0,0.0],[1.0,55.0,0.0,50.0,1.0,172000.0,1.8,133.0,1.0,0.0,78.0,0.0],[0.0,78.0,0.0,50.0,0.0,406000.0,0.7,140.0,1.0,0.0,79.0,0.0],[0.0,47.0,0.0,35.0,1.0,173000.0,1.1,137.0,1.0,0.0,79.0,0.0],[1.0,115.0,0.0,25.0,1.0,181000.0,1.1,144.0,1.0,0.0,79.0,0.0],[0.0,582.0,0.0,60.0,0.0,263358.03,1.18,137.0,0.0,0.0,82.0,0.0],[1.0,154.0,0.0,25.0,0.0,210000.0,1.7,135.0,1.0,0.0,82.0,1.0],[1.0,133.0,0.0,60.0,1.0,219000.0,1.0,141.0,1.0,0.0,83.0,0.0],[1.0,59.0,0.0,60.0,0.0,255000.0,1.1,136.0,0.0,0.0,85.0,0.0],[1.0,305.0,0.0,25.0,0.0,298000.0,1.1,141.0,1.0,0.0,87.0,0.0],[0.0,582.0,0.0,45.0,1.0,263358.03,1.18,137.0,1.0,0.0,87.0,0.0],[0.0,898.0,0.0,25.0,0.0,149000.0,1.1,144.0,1.0,1.0,87.0,0.0],[0.0,5209.0,0.0,30.0,0.0,226000.0,1.0,140.0,1.0,1.0,87.0,0.0],[0.0,53.0,0.0,50.0,1.0,286000.0,2.3,143.0,0.0,0.0,87.0,0.0],[1.0,328.0,0.0,30.0,1.0,621000.0,1.7,138.0,0.0,1.0,88.0,1.0],[0.0,748.0,0.0,45.0,0.0,263000.0,1.3,137.0,1.0,0.0,88.0,0.0],[0.0,936.0,0.0,38.0,0.0,304000.0,1.1,133.0,1.0,1.0,88.0,0.0],[0.0,129.0,0.0,60.0,0.0,306000.0,1.2,132.0,1.0,1.0,90.0,1.0],[0.0,60.0,0.0,35.0,0.0,228000.0,1.2,135.0,1.0,1.0,90.0,0.0],[1.0,143.0,0.0,60.0,0.0,351000.0,1.3,137.0,0.0,0.0,90.0,1.0],[1.0,400.0,0.0,40.0,0.0,164000.0,1.0,139.0,0.0,0.0,91.0,0.0],[1.0,102.0,0.0,60.0,0.0,507000.0,3.2,138.0,0.0,0.0,94.0,0.0],[0.0,582.0,0.0,38.0,0.0,263358.03,1.83,134.0,0.0,0.0,95.0,1.0],[1.0,737.0,0.0,60.0,1.0,210000.0,1.5,135.0,1.0,1.0,95.0,0.0],[1.0,582.0,0.0,30.0,1.0,127000.0,0.9,145.0,0.0,0.0,95.0,0.0],[0.0,582.0,0.0,40.0,0.0,217000.0,3.7,134.0,1.0,0.0,96.0,1.0],[1.0,358.0,0.0,50.0,0.0,237000.0,1.3,135.0,0.0,0.0,97.0,0.0],[0.0,248.0,0.0,30.0,1.0,267000.0,0.7,136.0,1.0,1.0,104.0,0.0],[1.0,1808.0,0.0,60.0,1.0,249000.0,0.7,138.0,1.0,1.0,106.0,0.0],[0.0,719.0,0.0,40.0,1.0,263358.03,1.18,137.0,0.0,0.0,107.0,0.0],[0.0,193.0,0.0,60.0,1.0,295000.0,1.3,145.0,1.0,1.0,107.0,0.0],[0.0,4540.0,0.0,35.0,0.0,231000.0,1.18,137.0,1.0,1.0,107.0,0.0],[0.0,582.0,0.0,40.0,0.0,263358.03,1.18,137.0,1.0,0.0,107.0,0.0],[1.0,646.0,0.0,25.0,0.0,305000.0,2.1,130.0,1.0,0.0,108.0,0.0],[0.0,1548.0,0.0,30.0,1.0,211000.0,0.8,138.0,1.0,0.0,108.0,0.0],[0.0,805.0,0.0,38.0,0.0,263358.03,1.1,134.0,1.0,0.0,109.0,1.0],[1.0,291.0,0.0,35.0,0.0,348000.0,0.9,140.0,0.0,0.0,109.0,0.0],[1.0,84.0,0.0,40.0,1.0,229000.0,0.9,141.0,0.0,0.0,110.0,0.0],[1.0,943.0,0.0,25.0,1.0,338000.0,1.7,139.0,1.0,1.0,111.0,1.0],[0.0,185.0,0.0,30.0,0.0,266000.0,0.7,141.0,1.0,1.0,112.0,0.0],[0.0,132.0,0.0,30.0,0.0,218000.0,0.7,136.0,1.0,1.0,112.0,0.0],[0.0,1610.0,0.0,60.0,0.0,242000.0,1.0,137.0,1.0,0.0,113.0,0.0],[1.0,582.0,0.0,30.0,0.0,225000.0,1.83,134.0,1.0,0.0,113.0,1.0],[0.0,2261.0,0.0,35.0,1.0,228000.0,0.9,136.0,1.0,0.0,115.0,0.0],[0.0,233.0,0.0,45.0,1.0,235000.0,2.5,135.0,0.0,0.0,115.0,1.0],[0.0,115.0,0.0,45.0,1.0,184000.0,0.9,134.0,1.0,1.0,118.0,0.0],[1.0,335.0,0.0,35.0,1.0,235000.0,0.8,136.0,0.0,0.0,120.0,0.0],[1.0,58.0,0.0,35.0,0.0,277000.0,1.4,136.0,0.0,0.0,120.0,0.0],[0.0,250.0,0.0,25.0,0.0,262000.0,1.0,136.0,1.0,1.0,120.0,0.0],[1.0,910.0,0.0,50.0,0.0,235000.0,1.3,134.0,1.0,0.0,121.0,0.0],[1.0,129.0,0.0,45.0,1.0,362000.0,1.1,139.0,1.0,1.0,121.0,0.0],[1.0,72.0,0.0,40.0,1.0,242000.0,1.2,134.0,1.0,0.0,121.0,0.0],[1.0,130.0,0.0,35.0,0.0,174000.0,0.8,139.0,1.0,1.0,121.0,0.0],[1.0,582.0,0.0,40.0,0.0,448000.0,0.9,137.0,1.0,1.0,123.0,0.0],[0.0,196.0,0.0,60.0,0.0,220000.0,0.7,133.0,1.0,1.0,134.0,0.0],[0.0,835.0,0.0,35.0,1.0,305000.0,0.8,133.0,0.0,0.0,145.0,0.0],[0.0,3966.0,0.0,40.0,0.0,325000.0,0.9,140.0,1.0,1.0,146.0,0.0],[1.0,171.0,0.0,60.0,1.0,176000.0,1.1,145.0,1.0,1.0,146.0,0.0],[1.0,115.0,0.0,20.0,0.0,189000.0,0.8,139.0,1.0,0.0,146.0,0.0],[1.0,95.0,0.0,60.0,0.0,337000.0,1.0,138.0,1.0,1.0,146.0,0.0],[0.0,1419.0,0.0,40.0,0.0,105000.0,1.0,135.0,1.0,1.0,147.0,0.0],[1.0,69.0,0.0,50.0,0.0,132000.0,1.0,140.0,0.0,0.0,147.0,0.0],[0.0,835.0,0.0,40.0,0.0,279000.0,0.7,140.0,1.0,1.0,147.0,0.0],[0.0,99.0,0.0,38.0,1.0,224000.0,2.5,134.0,1.0,0.0,162.0,1.0],[1.0,145.0,0.0,25.0,0.0,219000.0,1.2,137.0,1.0,1.0,170.0,1.0],[0.0,582.0,0.0,50.0,0.0,153000.0,0.6,134.0,0.0,0.0,172.0,1.0],[0.0,244.0,0.0,45.0,1.0,275000.0,0.9,140.0,0.0,0.0,174.0,0.0],[1.0,62.0,0.0,60.0,0.0,309000.0,1.5,135.0,0.0,0.0,174.0,0.0],[0.0,582.0,0.0,20.0,1.0,126000.0,1.6,135.0,1.0,0.0,180.0,1.0],[1.0,418.0,0.0,45.0,0.0,223000.0,1.8,145.0,1.0,0.0,180.0,1.0],[0.0,167.0,0.0,30.0,0.0,259000.0,0.8,138.0,0.0,0.0,186.0,0.0],[1.0,1767.0,0.0,45.0,0.0,73000.0,0.7,137.0,1.0,0.0,186.0,0.0],[0.0,97.0,0.0,60.0,1.0,220000.0,0.9,138.0,1.0,0.0,186.0,0.0],[0.0,59.0,0.0,25.0,1.0,212000.0,3.5,136.0,1.0,1.0,187.0,0.0],[1.0,64.0,0.0,40.0,0.0,277000.0,0.7,137.0,1.0,1.0,187.0,0.0],[1.0,101.0,0.0,40.0,0.0,226000.0,0.8,141.0,0.0,0.0,187.0,0.0],[0.0,212.0,0.0,38.0,0.0,186000.0,0.9,136.0,1.0,0.0,187.0,0.0],[0.0,582.0,0.0,62.0,1.0,147000.0,0.8,140.0,1.0,1.0,192.0,0.0],[0.0,224.0,0.0,50.0,0.0,481000.0,1.4,138.0,1.0,1.0,192.0,0.0],[1.0,135.0,0.0,35.0,1.0,290000.0,0.8,134.0,1.0,0.0,194.0,0.0],[0.0,582.0,0.0,35.0,1.0,203000.0,1.3,134.0,1.0,0.0,195.0,0.0],[0.0,1202.0,0.0,50.0,1.0,358000.0,0.9,141.0,0.0,0.0,196.0,0.0],[0.0,582.0,0.0,20.0,0.0,263358.03,1.83,134.0,1.0,0.0,198.0,1.0],[0.0,118.0,0.0,50.0,0.0,194000.0,1.1,145.0,1.0,1.0,200.0,0.0],[1.0,86.0,0.0,35.0,0.0,365000.0,1.1,139.0,1.0,1.0,201.0,0.0],[0.0,582.0,0.0,25.0,0.0,130000.0,0.8,134.0,1.0,0.0,201.0,0.0],[1.0,57.0,0.0,25.0,0.0,189000.0,1.3,132.0,1.0,1.0,205.0,0.0],[1.0,2794.0,0.0,35.0,1.0,141000.0,1.0,140.0,1.0,0.0,206.0,0.0],[0.0,56.0,0.0,25.0,0.0,237000.0,5.0,130.0,0.0,0.0,207.0,0.0],[0.0,211.0,0.0,25.0,0.0,274000.0,1.2,134.0,0.0,0.0,207.0,0.0],[0.0,166.0,0.0,30.0,0.0,62000.0,1.7,127.0,0.0,0.0,207.0,1.0],[0.0,93.0,0.0,35.0,0.0,185000.0,1.1,134.0,1.0,1.0,208.0,0.0],[1.0,129.0,0.0,35.0,0.0,255000.0,0.9,137.0,1.0,0.0,209.0,0.0],[1.0,707.0,0.0,38.0,0.0,330000.0,1.4,137.0,1.0,1.0,209.0,0.0],[1.0,582.0,0.0,45.0,0.0,305000.0,1.1,137.0,1.0,1.0,209.0,0.0],[1.0,109.0,0.0,50.0,1.0,406000.0,1.1,137.0,1.0,0.0,209.0,0.0],[0.0,119.0,0.0,50.0,1.0,248000.0,1.1,148.0,1.0,0.0,209.0,0.0],[0.0,232.0,0.0,30.0,0.0,173000.0,1.2,132.0,1.0,0.0,210.0,0.0],[1.0,180.0,0.0,45.0,0.0,263358.03,1.18,137.0,1.0,1.0,211.0,0.0],[0.0,90.0,0.0,35.0,0.0,255000.0,1.1,136.0,1.0,1.0,212.0,0.0],[1.0,1185.0,0.0,40.0,1.0,220000.0,0.9,141.0,0.0,0.0,213.0,0.0],[0.0,2017.0,0.0,25.0,0.0,314000.0,1.1,138.0,1.0,0.0,214.0,1.0],[0.0,143.0,0.0,25.0,0.0,246000.0,2.4,135.0,1.0,0.0,214.0,0.0],[0.0,624.0,0.0,35.0,0.0,301000.0,1.0,142.0,1.0,1.0,214.0,0.0],[0.0,2522.0,0.0,30.0,1.0,404000.0,0.5,139.0,0.0,0.0,214.0,0.0],[0.0,245.0,0.0,45.0,1.0,274000.0,1.0,133.0,1.0,0.0,215.0,0.0],[1.0,446.0,0.0,60.0,1.0,263358.03,1.0,139.0,1.0,0.0,215.0,0.0],[0.0,326.0,0.0,38.0,0.0,294000.0,1.7,139.0,0.0,0.0,220.0,0.0],[0.0,56.0,0.0,50.0,0.0,308000.0,0.7,135.0,1.0,1.0,231.0,0.0],[0.0,66.0,0.0,40.0,0.0,203000.0,1.0,138.0,1.0,0.0,233.0,0.0],[1.0,655.0,0.0,40.0,0.0,283000.0,0.7,133.0,0.0,0.0,233.0,0.0],[1.0,298.0,0.0,35.0,0.0,362000.0,0.9,140.0,1.0,1.0,240.0,0.0],[0.0,1199.0,0.0,20.0,0.0,263358.03,1.83,134.0,1.0,1.0,241.0,1.0],[0.0,213.0,0.0,38.0,0.0,215000.0,1.2,133.0,0.0,0.0,245.0,0.0],[0.0,64.0,0.0,40.0,0.0,189000.0,0.7,140.0,1.0,0.0,245.0,0.0],[0.0,582.0,0.0,38.0,1.0,422000.0,0.8,137.0,0.0,0.0,245.0,0.0],[0.0,618.0,0.0,35.0,0.0,327000.0,1.1,142.0,0.0,0.0,245.0,0.0],[0.0,582.0,0.0,40.0,0.0,51000.0,2.7,136.0,1.0,1.0,250.0,0.0],[0.0,64.0,0.0,30.0,0.0,215000.0,3.8,128.0,1.0,1.0,250.0,0.0],[0.0,1688.0,0.0,38.0,0.0,263358.03,1.1,138.0,1.0,1.0,250.0,0.0],[1.0,54.0,0.0,40.0,0.0,279000.0,0.8,141.0,1.0,0.0,250.0,0.0],[0.0,253.0,0.0,35.0,0.0,279000.0,1.7,140.0,1.0,0.0,250.0,0.0],[1.0,337.0,0.0,38.0,0.0,390000.0,0.9,144.0,0.0,0.0,256.0,0.0],[0.0,320.0,0.0,35.0,0.0,133000.0,1.4,139.0,1.0,0.0,258.0,0.0],[0.0,1820.0,0.0,38.0,0.0,270000.0,1.2,139.0,0.0,0.0,271.0,0.0],[0.0,2413.0,0.0,38.0,0.0,140000.0,1.4,140.0,1.0,1.0,280.0,0.0],[0.0,196.0,0.0,45.0,0.0,395000.0,1.6,136.0,1.0,1.0,285.0,0.0]],\"hovertemplate\":\"DIABETES=%{customdata[2]}<br>AGE=%{x}<br>anaemia=%{customdata[0]}<br>creatinine_phosphokinase=%{customdata[1]}<br>ejection_fraction=%{customdata[3]}<br>high_blood_pressure=%{customdata[4]}<br>platelets=%{customdata[5]}<br>serum_creatinine=%{customdata[6]}<br>serum_sodium=%{customdata[7]}<br>sex=%{customdata[8]}<br>smoking=%{customdata[9]}<br>time=%{customdata[10]}<br>DEATH_EVENT=%{customdata[11]}<extra></extra>\",\"legendgroup\":\"0\",\"marker\":{\"color\":\"#00cc96\"},\"name\":\"0\",\"offsetgroup\":\"0\",\"scalegroup\":\"x\",\"showlegend\":false,\"x\":[75.0,55.0,65.0,50.0,90.0,75.0,65.0,80.0,75.0,62.0,45.0,50.0,49.0,82.0,87.0,45.0,70.0,65.0,68.0,95.0,58.0,85.0,70.0,51.0,80.0,57.0,68.0,53.0,95.0,70.0,60.0,49.0,50.0,55.0,45.0,60.0,72.0,70.0,41.0,85.0,69.0,60.0,70.0,55.0,70.0,67.0,79.0,51.0,55.0,57.0,42.0,60.0,58.0,70.0,65.0,75.0,80.0,42.0,60.0,72.0,55.0,63.0,85.0,55.0,70.0,58.0,85.0,86.0,60.0,60.0,60.0,43.0,61.0,53.0,46.0,63.0,81.0,75.0,68.0,50.0,80.0,46.0,61.0,72.0,50.0,52.0,64.0,75.0,60.0,72.0,50.0,65.0,52.0,50.0,85.0,59.0,66.0,45.0,63.0,53.0,70.0,52.0,70.0,50.0,60.0,69.0,49.0,55.0,75.0,58.0,50.0,40.0,64.0,45.0,77.0,65.0,63.0,70.0,60.0,78.0,40.0,85.0,50.0,78.0,65.0,73.0,70.0,73.0,65.0,42.0,47.0,58.0,55.0,65.0,72.0,60.0,70.0,40.0,53.0,53.0,77.0,75.0,70.0,55.0,40.0,73.0,55.0,64.0,40.0,50.0,50.0,53.0,65.0,53.0,55.0,62.0,50.0,55.0,67.0,42.0,45.0,70.0,70.0,42.0,65.0,50.0,60.0,90.0,60.0,55.0,45.0,50.0],\"xaxis\":\"x2\",\"yaxis\":\"y2\",\"type\":\"violin\"},{\"alignmentgroup\":\"True\",\"bingroup\":\"x\",\"hovertemplate\":\"DIABETES=1<br>AGE=%{x}<br>count=%{y}<extra></extra>\",\"legendgroup\":\"1\",\"marker\":{\"color\":\"#ab63fa\",\"pattern\":{\"shape\":\"\"}},\"name\":\"1\",\"offsetgroup\":\"1\",\"orientation\":\"v\",\"showlegend\":true,\"x\":[65.0,60.0,48.0,65.0,53.0,75.0,80.0,70.0,82.0,94.0,50.0,50.0,65.0,69.0,90.0,82.0,60.0,60.0,50.0,70.0,72.0,60.0,50.0,60.0,60.0,70.0,60.0,72.0,45.0,42.0,65.0,58.0,65.0,42.0,75.0,60.0,59.0,65.0,44.0,70.0,60.0,58.0,63.0,60.0,63.0,45.0,45.0,50.0,60.0,60.0,65.0,66.0,60.0,46.0,58.0,53.0,60.0,65.0,62.0,50.0,62.0,50.0,60.0,50.0,45.0,80.0,59.0,65.0,51.0,65.0,63.0,40.0,59.0,65.0,60.667,60.0,60.667,80.0,50.0,73.0,45.0,50.0,60.0,45.0,50.0,60.0,49.0,70.0,48.0,68.0,55.0,58.0,75.0,65.0,70.0,65.0,54.0,61.0,53.0,55.0,70.0,52.0,58.0,45.0,65.0,68.0,61.0,56.0,45.0,40.0,44.0,51.0,60.0,70.0,50.0,55.0,70.0,55.0,45.0,65.0,45.0,52.0,63.0,62.0,45.0],\"xaxis\":\"x\",\"yaxis\":\"y\",\"type\":\"histogram\"},{\"alignmentgroup\":\"True\",\"customdata\":[[1.0,160.0,1.0,20.0,0.0,327000.0,2.7,116.0,0.0,0.0,8.0,1.0],[1.0,315.0,1.0,60.0,0.0,454000.0,1.1,131.0,1.0,1.0,10.0,1.0],[1.0,582.0,1.0,55.0,0.0,87000.0,1.9,121.0,0.0,0.0,15.0,1.0],[1.0,128.0,1.0,30.0,1.0,297000.0,1.6,136.0,0.0,0.0,20.0,1.0],[0.0,63.0,1.0,60.0,0.0,368000.0,0.8,135.0,1.0,0.0,22.0,0.0],[0.0,582.0,1.0,30.0,1.0,263358.03,1.83,134.0,0.0,0.0,23.0,1.0],[0.0,148.0,1.0,38.0,0.0,149000.0,1.9,144.0,1.0,1.0,23.0,1.0],[0.0,122.0,1.0,45.0,1.0,284000.0,1.3,136.0,1.0,1.0,26.0,1.0],[0.0,70.0,1.0,30.0,0.0,200000.0,1.2,132.0,1.0,1.0,26.0,1.0],[0.0,582.0,1.0,38.0,1.0,263358.03,1.83,134.0,1.0,0.0,27.0,1.0],[1.0,249.0,1.0,35.0,1.0,319000.0,1.0,128.0,0.0,0.0,28.0,1.0],[1.0,159.0,1.0,30.0,0.0,302000.0,1.2,138.0,0.0,0.0,29.0,0.0],[0.0,94.0,1.0,50.0,1.0,188000.0,1.0,140.0,1.0,0.0,29.0,1.0],[0.0,582.0,1.0,35.0,0.0,228000.0,3.5,134.0,1.0,0.0,30.0,1.0],[1.0,60.0,1.0,50.0,0.0,226000.0,1.0,134.0,1.0,0.0,30.0,1.0],[1.0,855.0,1.0,50.0,1.0,321000.0,1.0,145.0,0.0,0.0,30.0,1.0],[0.0,2656.0,1.0,30.0,0.0,305000.0,2.3,137.0,1.0,0.0,30.0,0.0],[0.0,235.0,1.0,38.0,0.0,329000.0,3.0,142.0,0.0,0.0,30.0,1.0],[0.0,124.0,1.0,30.0,1.0,153000.0,1.2,136.0,0.0,1.0,32.0,1.0],[0.0,571.0,1.0,45.0,1.0,185000.0,1.2,139.0,1.0,1.0,33.0,1.0],[0.0,127.0,1.0,50.0,1.0,218000.0,1.0,134.0,1.0,0.0,33.0,0.0],[1.0,588.0,1.0,60.0,0.0,194000.0,1.1,142.0,0.0,0.0,33.0,1.0],[0.0,582.0,1.0,38.0,0.0,310000.0,1.9,135.0,1.0,1.0,35.0,1.0],[0.0,582.0,1.0,38.0,1.0,451000.0,0.6,138.0,1.0,1.0,40.0,1.0],[0.0,3964.0,1.0,62.0,0.0,263358.03,6.8,146.0,0.0,0.0,43.0,1.0],[1.0,69.0,1.0,50.0,1.0,351000.0,1.0,134.0,0.0,0.0,44.0,1.0],[1.0,260.0,1.0,38.0,0.0,255000.0,2.2,132.0,0.0,1.0,45.0,1.0],[0.0,364.0,1.0,20.0,1.0,254000.0,1.3,136.0,1.0,1.0,59.0,1.0],[0.0,7702.0,1.0,25.0,1.0,390000.0,1.0,139.0,1.0,0.0,60.0,1.0],[1.0,250.0,1.0,15.0,0.0,213000.0,1.3,136.0,0.0,0.0,65.0,1.0],[0.0,113.0,1.0,25.0,0.0,497000.0,1.83,135.0,1.0,0.0,67.0,1.0],[0.0,582.0,1.0,35.0,0.0,122000.0,0.9,139.0,1.0,1.0,71.0,0.0],[0.0,224.0,1.0,50.0,0.0,149000.0,1.3,137.0,1.0,1.0,72.0,0.0],[0.0,102.0,1.0,40.0,0.0,237000.0,1.2,140.0,1.0,0.0,74.0,0.0],[1.0,203.0,1.0,38.0,1.0,283000.0,0.6,131.0,1.0,1.0,74.0,0.0],[1.0,76.0,1.0,25.0,0.0,196000.0,2.5,132.0,0.0,0.0,77.0,1.0],[1.0,280.0,1.0,25.0,1.0,302000.0,1.0,141.0,0.0,0.0,78.0,1.0],[1.0,68.0,1.0,60.0,1.0,304000.0,0.8,140.0,1.0,0.0,79.0,0.0],[0.0,84.0,1.0,40.0,1.0,235000.0,0.7,139.0,1.0,0.0,79.0,0.0],[0.0,66.0,1.0,45.0,0.0,249000.0,0.8,136.0,1.0,1.0,80.0,0.0],[0.0,897.0,1.0,45.0,0.0,297000.0,1.0,133.0,1.0,0.0,80.0,0.0],[0.0,144.0,1.0,38.0,1.0,327000.0,0.7,142.0,0.0,0.0,83.0,0.0],[1.0,514.0,1.0,25.0,1.0,254000.0,1.3,134.0,1.0,0.0,83.0,0.0],[1.0,156.0,1.0,25.0,1.0,318000.0,1.2,137.0,0.0,0.0,85.0,0.0],[1.0,61.0,1.0,40.0,0.0,221000.0,1.1,140.0,0.0,0.0,86.0,0.0],[1.0,1876.0,1.0,35.0,0.0,226000.0,0.9,138.0,1.0,0.0,88.0,0.0],[0.0,292.0,1.0,35.0,0.0,850000.0,1.3,142.0,1.0,1.0,88.0,0.0],[0.0,369.0,1.0,25.0,0.0,252000.0,1.6,136.0,1.0,0.0,90.0,0.0],[1.0,754.0,1.0,40.0,1.0,328000.0,1.2,126.0,1.0,0.0,91.0,0.0],[1.0,96.0,1.0,60.0,1.0,271000.0,0.7,136.0,0.0,0.0,94.0,0.0],[1.0,113.0,1.0,60.0,1.0,203000.0,0.9,140.0,0.0,0.0,94.0,0.0],[1.0,68.0,1.0,38.0,1.0,162000.0,1.0,136.0,0.0,0.0,95.0,0.0],[0.0,96.0,1.0,38.0,0.0,228000.0,0.75,140.0,0.0,0.0,95.0,0.0],[0.0,168.0,1.0,17.0,1.0,271000.0,2.1,124.0,0.0,0.0,100.0,1.0],[1.0,200.0,1.0,60.0,0.0,300000.0,0.8,137.0,0.0,0.0,104.0,0.0],[1.0,270.0,1.0,35.0,0.0,227000.0,3.4,145.0,1.0,0.0,105.0,0.0],[1.0,1082.0,1.0,45.0,0.0,250000.0,6.1,131.0,1.0,0.0,107.0,0.0],[1.0,59.0,1.0,60.0,0.0,172000.0,0.9,137.0,0.0,0.0,107.0,0.0],[0.0,281.0,1.0,35.0,0.0,221000.0,1.0,136.0,0.0,0.0,108.0,0.0],[0.0,482.0,1.0,30.0,0.0,329000.0,0.9,132.0,0.0,0.0,109.0,0.0],[0.0,30.0,1.0,60.0,1.0,244000.0,0.9,139.0,1.0,0.0,117.0,0.0],[0.0,1846.0,1.0,35.0,0.0,263358.03,1.18,137.0,1.0,1.0,119.0,0.0],[1.0,231.0,1.0,25.0,0.0,194000.0,1.7,140.0,1.0,0.0,120.0,0.0],[1.0,2334.0,1.0,35.0,0.0,75000.0,0.9,142.0,0.0,0.0,126.0,1.0],[0.0,2442.0,1.0,30.0,0.0,334000.0,1.1,139.0,1.0,0.0,129.0,1.0],[0.0,776.0,1.0,38.0,1.0,192000.0,1.3,135.0,0.0,0.0,130.0,1.0],[0.0,66.0,1.0,20.0,0.0,70000.0,2.4,134.0,1.0,0.0,135.0,1.0],[0.0,582.0,1.0,40.0,0.0,270000.0,1.0,138.0,0.0,0.0,140.0,0.0],[1.0,582.0,1.0,35.0,0.0,263358.03,1.5,136.0,1.0,1.0,145.0,0.0],[0.0,198.0,1.0,35.0,1.0,281000.0,0.9,137.0,1.0,1.0,146.0,0.0],[1.0,122.0,1.0,60.0,0.0,267000.0,1.2,145.0,1.0,0.0,147.0,0.0],[0.0,478.0,1.0,30.0,0.0,303000.0,0.9,136.0,1.0,0.0,148.0,0.0],[1.0,176.0,1.0,25.0,0.0,221000.0,1.0,136.0,1.0,1.0,150.0,1.0],[0.0,395.0,1.0,25.0,0.0,265000.0,1.2,136.0,1.0,1.0,154.0,1.0],[1.0,104.0,1.0,30.0,0.0,389000.0,1.5,136.0,1.0,0.0,171.0,1.0],[0.0,1896.0,1.0,25.0,0.0,365000.0,2.1,144.0,0.0,0.0,172.0,1.0],[1.0,151.0,1.0,40.0,1.0,201000.0,1.0,136.0,0.0,0.0,172.0,0.0],[0.0,582.0,1.0,35.0,0.0,350000.0,2.1,134.0,1.0,0.0,174.0,0.0],[1.0,121.0,1.0,40.0,0.0,260000.0,0.7,130.0,1.0,0.0,175.0,0.0],[1.0,231.0,1.0,30.0,0.0,160000.0,1.18,142.0,1.0,1.0,180.0,0.0],[0.0,582.0,1.0,38.0,1.0,263358.03,1.18,137.0,0.0,0.0,185.0,0.0],[1.0,582.0,1.0,20.0,1.0,279000.0,1.0,134.0,0.0,0.0,186.0,0.0],[0.0,1211.0,1.0,35.0,0.0,263358.03,1.8,113.0,1.0,1.0,186.0,0.0],[0.0,308.0,1.0,60.0,1.0,377000.0,1.0,136.0,1.0,0.0,186.0,0.0],[1.0,167.0,1.0,45.0,0.0,362000.0,1.0,136.0,0.0,0.0,187.0,0.0],[1.0,2281.0,1.0,40.0,0.0,283000.0,1.0,141.0,0.0,0.0,187.0,0.0],[0.0,972.0,1.0,35.0,1.0,268000.0,0.8,130.0,0.0,0.0,187.0,0.0],[0.0,212.0,1.0,17.0,1.0,389000.0,1.0,136.0,1.0,1.0,188.0,0.0],[1.0,131.0,1.0,30.0,1.0,244000.0,1.6,130.0,0.0,0.0,193.0,1.0],[1.0,1021.0,1.0,35.0,0.0,271000.0,1.1,134.0,1.0,0.0,197.0,0.0],[0.0,582.0,1.0,35.0,1.0,371000.0,0.7,140.0,0.0,0.0,197.0,0.0],[0.0,582.0,1.0,25.0,0.0,504000.0,1.0,138.0,1.0,0.0,205.0,0.0],[0.0,675.0,1.0,60.0,0.0,265000.0,1.4,125.0,0.0,0.0,205.0,0.0],[1.0,720.0,1.0,40.0,0.0,257000.0,1.0,136.0,0.0,0.0,210.0,0.0],[0.0,81.0,1.0,35.0,1.0,533000.0,1.3,139.0,0.0,0.0,212.0,0.0],[0.0,582.0,1.0,30.0,0.0,249000.0,1.3,136.0,1.0,1.0,212.0,0.0],[0.0,582.0,1.0,38.0,0.0,264000.0,1.8,134.0,1.0,0.0,213.0,0.0],[1.0,80.0,1.0,38.0,0.0,282000.0,1.4,137.0,1.0,0.0,213.0,0.0],[0.0,207.0,1.0,40.0,0.0,223000.0,1.2,130.0,0.0,0.0,214.0,0.0],[0.0,572.0,1.0,35.0,0.0,231000.0,0.8,143.0,0.0,0.0,215.0,0.0],[0.0,88.0,1.0,35.0,1.0,236000.0,1.2,132.0,0.0,0.0,215.0,0.0],[1.0,191.0,1.0,30.0,1.0,334000.0,1.0,142.0,1.0,1.0,216.0,0.0],[0.0,132.0,1.0,38.0,1.0,253000.0,1.0,139.0,1.0,0.0,230.0,0.0],[1.0,66.0,1.0,25.0,0.0,233000.0,0.8,135.0,1.0,0.0,230.0,0.0],[1.0,258.0,1.0,25.0,0.0,198000.0,1.4,129.0,1.0,0.0,235.0,1.0],[1.0,157.0,1.0,60.0,0.0,208000.0,1.0,140.0,0.0,0.0,237.0,0.0],[0.0,582.0,1.0,38.0,0.0,147000.0,1.2,141.0,1.0,0.0,237.0,0.0],[1.0,135.0,1.0,38.0,0.0,133000.0,1.7,140.0,1.0,0.0,244.0,0.0],[0.0,582.0,1.0,38.0,0.0,302000.0,0.9,140.0,0.0,0.0,244.0,0.0],[0.0,582.0,1.0,35.0,0.0,222000.0,1.0,132.0,1.0,0.0,244.0,0.0],[0.0,582.0,1.0,30.0,1.0,263358.03,1.6,130.0,1.0,1.0,244.0,0.0],[0.0,582.0,1.0,40.0,0.0,221000.0,0.9,134.0,0.0,0.0,244.0,0.0],[1.0,257.0,1.0,30.0,0.0,150000.0,1.0,137.0,1.0,1.0,245.0,0.0],[0.0,582.0,1.0,38.0,0.0,25100.0,1.1,140.0,1.0,0.0,246.0,0.0],[1.0,1051.0,1.0,30.0,0.0,232000.0,0.7,136.0,0.0,0.0,246.0,0.0],[0.0,84.0,1.0,38.0,0.0,451000.0,1.3,136.0,0.0,0.0,246.0,0.0],[0.0,2695.0,1.0,40.0,0.0,241000.0,1.0,137.0,1.0,0.0,247.0,0.0],[1.0,170.0,1.0,40.0,0.0,336000.0,1.2,135.0,1.0,0.0,250.0,0.0],[0.0,582.0,1.0,55.0,0.0,543000.0,1.0,132.0,0.0,0.0,250.0,0.0],[0.0,892.0,1.0,35.0,0.0,263358.03,1.1,142.0,0.0,0.0,256.0,0.0],[0.0,615.0,1.0,55.0,0.0,222000.0,0.8,141.0,0.0,0.0,257.0,0.0],[0.0,190.0,1.0,38.0,0.0,382000.0,1.0,140.0,1.0,1.0,258.0,0.0],[1.0,103.0,1.0,35.0,0.0,179000.0,0.9,136.0,1.0,1.0,270.0,0.0],[0.0,61.0,1.0,38.0,1.0,155000.0,1.1,143.0,1.0,1.0,270.0,0.0],[0.0,2060.0,1.0,60.0,0.0,742000.0,0.8,138.0,0.0,0.0,278.0,0.0]],\"hovertemplate\":\"DIABETES=%{customdata[2]}<br>AGE=%{x}<br>anaemia=%{customdata[0]}<br>creatinine_phosphokinase=%{customdata[1]}<br>ejection_fraction=%{customdata[3]}<br>high_blood_pressure=%{customdata[4]}<br>platelets=%{customdata[5]}<br>serum_creatinine=%{customdata[6]}<br>serum_sodium=%{customdata[7]}<br>sex=%{customdata[8]}<br>smoking=%{customdata[9]}<br>time=%{customdata[10]}<br>DEATH_EVENT=%{customdata[11]}<extra></extra>\",\"legendgroup\":\"1\",\"marker\":{\"color\":\"#ab63fa\"},\"name\":\"1\",\"offsetgroup\":\"1\",\"scalegroup\":\"x\",\"showlegend\":false,\"x\":[65.0,60.0,48.0,65.0,53.0,75.0,80.0,70.0,82.0,94.0,50.0,50.0,65.0,69.0,90.0,82.0,60.0,60.0,50.0,70.0,72.0,60.0,50.0,60.0,60.0,70.0,60.0,72.0,45.0,42.0,65.0,58.0,65.0,42.0,75.0,60.0,59.0,65.0,44.0,70.0,60.0,58.0,63.0,60.0,63.0,45.0,45.0,50.0,60.0,60.0,65.0,66.0,60.0,46.0,58.0,53.0,60.0,65.0,62.0,50.0,62.0,50.0,60.0,50.0,45.0,80.0,59.0,65.0,51.0,65.0,63.0,40.0,59.0,65.0,60.667,60.0,60.667,80.0,50.0,73.0,45.0,50.0,60.0,45.0,50.0,60.0,49.0,70.0,48.0,68.0,55.0,58.0,75.0,65.0,70.0,65.0,54.0,61.0,53.0,55.0,70.0,52.0,58.0,45.0,65.0,68.0,61.0,56.0,45.0,40.0,44.0,51.0,60.0,70.0,50.0,55.0,70.0,55.0,45.0,65.0,45.0,52.0,63.0,62.0,45.0],\"xaxis\":\"x2\",\"yaxis\":\"y2\",\"type\":\"violin\"}],                        {\"template\":{\"data\":{\"barpolar\":[{\"marker\":{\"line\":{\"color\":\"white\",\"width\":0.5},\"pattern\":{\"fillmode\":\"overlay\",\"size\":10,\"solidity\":0.2}},\"type\":\"barpolar\"}],\"bar\":[{\"error_x\":{\"color\":\"#2a3f5f\"},\"error_y\":{\"color\":\"#2a3f5f\"},\"marker\":{\"line\":{\"color\":\"white\",\"width\":0.5},\"pattern\":{\"fillmode\":\"overlay\",\"size\":10,\"solidity\":0.2}},\"type\":\"bar\"}],\"carpet\":[{\"aaxis\":{\"endlinecolor\":\"#2a3f5f\",\"gridcolor\":\"#C8D4E3\",\"linecolor\":\"#C8D4E3\",\"minorgridcolor\":\"#C8D4E3\",\"startlinecolor\":\"#2a3f5f\"},\"baxis\":{\"endlinecolor\":\"#2a3f5f\",\"gridcolor\":\"#C8D4E3\",\"linecolor\":\"#C8D4E3\",\"minorgridcolor\":\"#C8D4E3\",\"startlinecolor\":\"#2a3f5f\"},\"type\":\"carpet\"}],\"choropleth\":[{\"colorbar\":{\"outlinewidth\":0,\"ticks\":\"\"},\"type\":\"choropleth\"}],\"contourcarpet\":[{\"colorbar\":{\"outlinewidth\":0,\"ticks\":\"\"},\"type\":\"contourcarpet\"}],\"contour\":[{\"colorbar\":{\"outlinewidth\":0,\"ticks\":\"\"},\"colorscale\":[[0.0,\"#0d0887\"],[0.1111111111111111,\"#46039f\"],[0.2222222222222222,\"#7201a8\"],[0.3333333333333333,\"#9c179e\"],[0.4444444444444444,\"#bd3786\"],[0.5555555555555556,\"#d8576b\"],[0.6666666666666666,\"#ed7953\"],[0.7777777777777778,\"#fb9f3a\"],[0.8888888888888888,\"#fdca26\"],[1.0,\"#f0f921\"]],\"type\":\"contour\"}],\"heatmapgl\":[{\"colorbar\":{\"outlinewidth\":0,\"ticks\":\"\"},\"colorscale\":[[0.0,\"#0d0887\"],[0.1111111111111111,\"#46039f\"],[0.2222222222222222,\"#7201a8\"],[0.3333333333333333,\"#9c179e\"],[0.4444444444444444,\"#bd3786\"],[0.5555555555555556,\"#d8576b\"],[0.6666666666666666,\"#ed7953\"],[0.7777777777777778,\"#fb9f3a\"],[0.8888888888888888,\"#fdca26\"],[1.0,\"#f0f921\"]],\"type\":\"heatmapgl\"}],\"heatmap\":[{\"colorbar\":{\"outlinewidth\":0,\"ticks\":\"\"},\"colorscale\":[[0.0,\"#0d0887\"],[0.1111111111111111,\"#46039f\"],[0.2222222222222222,\"#7201a8\"],[0.3333333333333333,\"#9c179e\"],[0.4444444444444444,\"#bd3786\"],[0.5555555555555556,\"#d8576b\"],[0.6666666666666666,\"#ed7953\"],[0.7777777777777778,\"#fb9f3a\"],[0.8888888888888888,\"#fdca26\"],[1.0,\"#f0f921\"]],\"type\":\"heatmap\"}],\"histogram2dcontour\":[{\"colorbar\":{\"outlinewidth\":0,\"ticks\":\"\"},\"colorscale\":[[0.0,\"#0d0887\"],[0.1111111111111111,\"#46039f\"],[0.2222222222222222,\"#7201a8\"],[0.3333333333333333,\"#9c179e\"],[0.4444444444444444,\"#bd3786\"],[0.5555555555555556,\"#d8576b\"],[0.6666666666666666,\"#ed7953\"],[0.7777777777777778,\"#fb9f3a\"],[0.8888888888888888,\"#fdca26\"],[1.0,\"#f0f921\"]],\"type\":\"histogram2dcontour\"}],\"histogram2d\":[{\"colorbar\":{\"outlinewidth\":0,\"ticks\":\"\"},\"colorscale\":[[0.0,\"#0d0887\"],[0.1111111111111111,\"#46039f\"],[0.2222222222222222,\"#7201a8\"],[0.3333333333333333,\"#9c179e\"],[0.4444444444444444,\"#bd3786\"],[0.5555555555555556,\"#d8576b\"],[0.6666666666666666,\"#ed7953\"],[0.7777777777777778,\"#fb9f3a\"],[0.8888888888888888,\"#fdca26\"],[1.0,\"#f0f921\"]],\"type\":\"histogram2d\"}],\"histogram\":[{\"marker\":{\"pattern\":{\"fillmode\":\"overlay\",\"size\":10,\"solidity\":0.2}},\"type\":\"histogram\"}],\"mesh3d\":[{\"colorbar\":{\"outlinewidth\":0,\"ticks\":\"\"},\"type\":\"mesh3d\"}],\"parcoords\":[{\"line\":{\"colorbar\":{\"outlinewidth\":0,\"ticks\":\"\"}},\"type\":\"parcoords\"}],\"pie\":[{\"automargin\":true,\"type\":\"pie\"}],\"scatter3d\":[{\"line\":{\"colorbar\":{\"outlinewidth\":0,\"ticks\":\"\"}},\"marker\":{\"colorbar\":{\"outlinewidth\":0,\"ticks\":\"\"}},\"type\":\"scatter3d\"}],\"scattercarpet\":[{\"marker\":{\"colorbar\":{\"outlinewidth\":0,\"ticks\":\"\"}},\"type\":\"scattercarpet\"}],\"scattergeo\":[{\"marker\":{\"colorbar\":{\"outlinewidth\":0,\"ticks\":\"\"}},\"type\":\"scattergeo\"}],\"scattergl\":[{\"marker\":{\"colorbar\":{\"outlinewidth\":0,\"ticks\":\"\"}},\"type\":\"scattergl\"}],\"scattermapbox\":[{\"marker\":{\"colorbar\":{\"outlinewidth\":0,\"ticks\":\"\"}},\"type\":\"scattermapbox\"}],\"scatterpolargl\":[{\"marker\":{\"colorbar\":{\"outlinewidth\":0,\"ticks\":\"\"}},\"type\":\"scatterpolargl\"}],\"scatterpolar\":[{\"marker\":{\"colorbar\":{\"outlinewidth\":0,\"ticks\":\"\"}},\"type\":\"scatterpolar\"}],\"scatter\":[{\"fillpattern\":{\"fillmode\":\"overlay\",\"size\":10,\"solidity\":0.2},\"type\":\"scatter\"}],\"scatterternary\":[{\"marker\":{\"colorbar\":{\"outlinewidth\":0,\"ticks\":\"\"}},\"type\":\"scatterternary\"}],\"surface\":[{\"colorbar\":{\"outlinewidth\":0,\"ticks\":\"\"},\"colorscale\":[[0.0,\"#0d0887\"],[0.1111111111111111,\"#46039f\"],[0.2222222222222222,\"#7201a8\"],[0.3333333333333333,\"#9c179e\"],[0.4444444444444444,\"#bd3786\"],[0.5555555555555556,\"#d8576b\"],[0.6666666666666666,\"#ed7953\"],[0.7777777777777778,\"#fb9f3a\"],[0.8888888888888888,\"#fdca26\"],[1.0,\"#f0f921\"]],\"type\":\"surface\"}],\"table\":[{\"cells\":{\"fill\":{\"color\":\"#EBF0F8\"},\"line\":{\"color\":\"white\"}},\"header\":{\"fill\":{\"color\":\"#C8D4E3\"},\"line\":{\"color\":\"white\"}},\"type\":\"table\"}]},\"layout\":{\"annotationdefaults\":{\"arrowcolor\":\"#2a3f5f\",\"arrowhead\":0,\"arrowwidth\":1},\"autotypenumbers\":\"strict\",\"coloraxis\":{\"colorbar\":{\"outlinewidth\":0,\"ticks\":\"\"}},\"colorscale\":{\"diverging\":[[0,\"#8e0152\"],[0.1,\"#c51b7d\"],[0.2,\"#de77ae\"],[0.3,\"#f1b6da\"],[0.4,\"#fde0ef\"],[0.5,\"#f7f7f7\"],[0.6,\"#e6f5d0\"],[0.7,\"#b8e186\"],[0.8,\"#7fbc41\"],[0.9,\"#4d9221\"],[1,\"#276419\"]],\"sequential\":[[0.0,\"#0d0887\"],[0.1111111111111111,\"#46039f\"],[0.2222222222222222,\"#7201a8\"],[0.3333333333333333,\"#9c179e\"],[0.4444444444444444,\"#bd3786\"],[0.5555555555555556,\"#d8576b\"],[0.6666666666666666,\"#ed7953\"],[0.7777777777777778,\"#fb9f3a\"],[0.8888888888888888,\"#fdca26\"],[1.0,\"#f0f921\"]],\"sequentialminus\":[[0.0,\"#0d0887\"],[0.1111111111111111,\"#46039f\"],[0.2222222222222222,\"#7201a8\"],[0.3333333333333333,\"#9c179e\"],[0.4444444444444444,\"#bd3786\"],[0.5555555555555556,\"#d8576b\"],[0.6666666666666666,\"#ed7953\"],[0.7777777777777778,\"#fb9f3a\"],[0.8888888888888888,\"#fdca26\"],[1.0,\"#f0f921\"]]},\"colorway\":[\"#636efa\",\"#EF553B\",\"#00cc96\",\"#ab63fa\",\"#FFA15A\",\"#19d3f3\",\"#FF6692\",\"#B6E880\",\"#FF97FF\",\"#FECB52\"],\"font\":{\"color\":\"#2a3f5f\"},\"geo\":{\"bgcolor\":\"white\",\"lakecolor\":\"white\",\"landcolor\":\"white\",\"showlakes\":true,\"showland\":true,\"subunitcolor\":\"#C8D4E3\"},\"hoverlabel\":{\"align\":\"left\"},\"hovermode\":\"closest\",\"mapbox\":{\"style\":\"light\"},\"paper_bgcolor\":\"white\",\"plot_bgcolor\":\"white\",\"polar\":{\"angularaxis\":{\"gridcolor\":\"#EBF0F8\",\"linecolor\":\"#EBF0F8\",\"ticks\":\"\"},\"bgcolor\":\"white\",\"radialaxis\":{\"gridcolor\":\"#EBF0F8\",\"linecolor\":\"#EBF0F8\",\"ticks\":\"\"}},\"scene\":{\"xaxis\":{\"backgroundcolor\":\"white\",\"gridcolor\":\"#DFE8F3\",\"gridwidth\":2,\"linecolor\":\"#EBF0F8\",\"showbackground\":true,\"ticks\":\"\",\"zerolinecolor\":\"#EBF0F8\"},\"yaxis\":{\"backgroundcolor\":\"white\",\"gridcolor\":\"#DFE8F3\",\"gridwidth\":2,\"linecolor\":\"#EBF0F8\",\"showbackground\":true,\"ticks\":\"\",\"zerolinecolor\":\"#EBF0F8\"},\"zaxis\":{\"backgroundcolor\":\"white\",\"gridcolor\":\"#DFE8F3\",\"gridwidth\":2,\"linecolor\":\"#EBF0F8\",\"showbackground\":true,\"ticks\":\"\",\"zerolinecolor\":\"#EBF0F8\"}},\"shapedefaults\":{\"line\":{\"color\":\"#2a3f5f\"}},\"ternary\":{\"aaxis\":{\"gridcolor\":\"#DFE8F3\",\"linecolor\":\"#A2B1C6\",\"ticks\":\"\"},\"baxis\":{\"gridcolor\":\"#DFE8F3\",\"linecolor\":\"#A2B1C6\",\"ticks\":\"\"},\"bgcolor\":\"white\",\"caxis\":{\"gridcolor\":\"#DFE8F3\",\"linecolor\":\"#A2B1C6\",\"ticks\":\"\"}},\"title\":{\"x\":0.05},\"xaxis\":{\"automargin\":true,\"gridcolor\":\"#EBF0F8\",\"linecolor\":\"#EBF0F8\",\"ticks\":\"\",\"title\":{\"standoff\":15},\"zerolinecolor\":\"#EBF0F8\",\"zerolinewidth\":2},\"yaxis\":{\"automargin\":true,\"gridcolor\":\"#EBF0F8\",\"linecolor\":\"#EBF0F8\",\"ticks\":\"\",\"title\":{\"standoff\":15},\"zerolinecolor\":\"#EBF0F8\",\"zerolinewidth\":2}}},\"xaxis\":{\"anchor\":\"y\",\"domain\":[0.0,1.0],\"title\":{\"text\":\"AGE\"}},\"yaxis\":{\"anchor\":\"x\",\"domain\":[0.0,0.7326],\"title\":{\"text\":\"count\"}},\"xaxis2\":{\"anchor\":\"y2\",\"domain\":[0.0,1.0],\"matches\":\"x\",\"showticklabels\":false,\"showgrid\":true},\"yaxis2\":{\"anchor\":\"x2\",\"domain\":[0.7426,1.0],\"matches\":\"y2\",\"showticklabels\":false,\"showline\":false,\"ticks\":\"\",\"showgrid\":false},\"legend\":{\"title\":{\"text\":\"DIABETES\"},\"tracegroupgap\":0},\"title\":{\"text\":\"Distribution of AGE Vs DIABETES\"},\"barmode\":\"relative\"},                        {\"responsive\": true}                    ).then(function(){\n",
       "                            \n",
       "var gd = document.getElementById('978c8100-288c-4244-a407-2e3d788a0c0c');\n",
       "var x = new MutationObserver(function (mutations, observer) {{\n",
       "        var display = window.getComputedStyle(gd).display;\n",
       "        if (!display || display === 'none') {{\n",
       "            console.log([gd, 'removed!']);\n",
       "            Plotly.purge(gd);\n",
       "            observer.disconnect();\n",
       "        }}\n",
       "}});\n",
       "\n",
       "// Listen for the removal of the full notebook cells\n",
       "var notebookContainer = gd.closest('#notebook-container');\n",
       "if (notebookContainer) {{\n",
       "    x.observe(notebookContainer, {childList: true});\n",
       "}}\n",
       "\n",
       "// Listen for the clearing of the current output cell\n",
       "var outputEl = gd.closest('.output');\n",
       "if (outputEl) {{\n",
       "    x.observe(outputEl, {childList: true});\n",
       "}}\n",
       "\n",
       "                        })                };                });            </script>        </div>"
      ]
     },
     "metadata": {},
     "output_type": "display_data"
    }
   ],
   "source": [
    "# Distribution of AGE Vs DIABETES\n",
    "import plotly.express as px\n",
    "fig = px.histogram(df, x=\"age\", color=\"diabetes\", marginal=\"violin\",hover_data=df.columns,\n",
    "                   title =\"Distribution of AGE Vs DIABETES\", \n",
    "                   labels={\"diabetes\": \"DIABETES\", \"age\": \"AGE\"},\n",
    "                   template=\"plotly_white\",\n",
    "                   color_discrete_map={\"0\": \"RebeccaPurple\", \"1\": \"MediumPurple\"})\n",
    "fig.show()"
   ]
  },
  {
   "cell_type": "markdown",
   "metadata": {},
   "source": [
    "**Dataset spliting for train and test cases**"
   ]
  },
  {
   "cell_type": "code",
   "execution_count": 43,
   "metadata": {},
   "outputs": [],
   "source": [
    "x = df.drop(\"DEATH_EVENT\", axis=1)\n",
    "y = df['DEATH_EVENT']"
   ]
  },
  {
   "cell_type": "code",
   "execution_count": 46,
   "metadata": {},
   "outputs": [],
   "source": [
    "from sklearn.preprocessing import MinMaxScaler\n",
    "\n",
    "scaler = MinMaxScaler()\n",
    "\n",
    "x = scaler.fit_transform(x)\n",
    "y = scaler.fit_transform(y.values.reshape(-1,1))"
   ]
  },
  {
   "cell_type": "code",
   "execution_count": 50,
   "metadata": {},
   "outputs": [
    {
     "name": "stdout",
     "output_type": "stream",
     "text": [
      "Shape of x_train : (237, 12)\n",
      "Shape of x_test : (60, 12)\n",
      "Shape of y_train : (237, 1)\n",
      "Shape of y_test : (60, 1)\n"
     ]
    }
   ],
   "source": [
    "x_train, x_test, y_train, y_test = train_test_split(x, y, test_size = 0.2, shuffle = True, random_state = 42, stratify = y)\n",
    "\n",
    "print(f\"Shape of x_train : {x_train.shape}\")\n",
    "print(f\"Shape of x_test : {x_test.shape}\")\n",
    "print(f\"Shape of y_train : {y_train.shape}\")\n",
    "print(f\"Shape of y_test : {y_test.shape}\")"
   ]
  },
  {
   "cell_type": "markdown",
   "metadata": {},
   "source": [
    "**Model: Logistic Regression**"
   ]
  },
  {
   "cell_type": "code",
   "execution_count": 52,
   "metadata": {},
   "outputs": [
    {
     "data": {
      "text/plain": [
       "LogisticRegression()"
      ]
     },
     "execution_count": 52,
     "metadata": {},
     "output_type": "execute_result"
    }
   ],
   "source": [
    "model = LogisticRegression()\n",
    "model.fit(x_train, y_train)"
   ]
  },
  {
   "cell_type": "code",
   "execution_count": 53,
   "metadata": {},
   "outputs": [],
   "source": [
    "y_pred = model.predict(x_test)"
   ]
  },
  {
   "cell_type": "code",
   "execution_count": 54,
   "metadata": {},
   "outputs": [
    {
     "name": "stdout",
     "output_type": "stream",
     "text": [
      "              precision    recall  f1-score   support\n",
      "\n",
      "         0.0       0.84      0.93      0.88        41\n",
      "         1.0       0.80      0.63      0.71        19\n",
      "\n",
      "    accuracy                           0.83        60\n",
      "   macro avg       0.82      0.78      0.79        60\n",
      "weighted avg       0.83      0.83      0.83        60\n",
      "\n"
     ]
    }
   ],
   "source": [
    "print(classification_report(y_test,y_pred))"
   ]
  },
  {
   "cell_type": "code",
   "execution_count": 93,
   "metadata": {},
   "outputs": [
    {
     "name": "stdout",
     "output_type": "stream",
     "text": [
      "[[38  3]\n",
      " [ 7 12]]\n",
      "0.8333333333333334\n"
     ]
    }
   ],
   "source": [
    "mylist = []\n",
    "\n",
    "cm = confusion_matrix(y_test, y_pred)\n",
    "ac = accuracy_score(y_test, y_pred)\n",
    "mylist.append(ac)\n",
    "print(cm)\n",
    "print(ac)"
   ]
  },
  {
   "cell_type": "markdown",
   "metadata": {},
   "source": [
    "**Model: Decision Tree Classifier**"
   ]
  },
  {
   "cell_type": "code",
   "execution_count": 56,
   "metadata": {},
   "outputs": [
    {
     "data": {
      "text/plain": [
       "DecisionTreeClassifier(criterion='entropy', max_leaf_nodes=3, random_state=0)"
      ]
     },
     "execution_count": 56,
     "metadata": {},
     "output_type": "execute_result"
    }
   ],
   "source": [
    "classifier = DecisionTreeClassifier(max_leaf_nodes = 3, random_state=0, criterion='entropy')\n",
    "classifier.fit(x_train, y_train)"
   ]
  },
  {
   "cell_type": "code",
   "execution_count": 61,
   "metadata": {},
   "outputs": [
    {
     "data": {
      "text/plain": [
       "array([0., 0., 0., 0., 0., 0., 0., 0., 1., 0., 0., 1., 0., 0., 0., 1., 0.,\n",
       "       0., 0., 0., 0., 0., 0., 0., 0., 0., 0., 0., 0., 0., 0., 0., 1., 0.,\n",
       "       0., 1., 1., 0., 0., 0., 0., 1., 0., 0., 0., 0., 0., 1., 0., 1., 0.,\n",
       "       0., 1., 0., 0., 1., 1., 1., 0., 0.])"
      ]
     },
     "execution_count": 61,
     "metadata": {},
     "output_type": "execute_result"
    }
   ],
   "source": [
    "y_pred_dt = classifier.predict(x_test)\n",
    "y_pred_dt"
   ]
  },
  {
   "cell_type": "code",
   "execution_count": 94,
   "metadata": {},
   "outputs": [
    {
     "name": "stdout",
     "output_type": "stream",
     "text": [
      "[[40  1]\n",
      " [ 7 12]]\n",
      "0.8666666666666667\n"
     ]
    }
   ],
   "source": [
    "cm = confusion_matrix(y_test, y_pred_dt)\n",
    "ac = accuracy_score(y_test, y_pred_dt)\n",
    "mylist.append(ac)\n",
    "print(cm)\n",
    "print(ac)"
   ]
  },
  {
   "cell_type": "code",
   "execution_count": 63,
   "metadata": {},
   "outputs": [
    {
     "name": "stdout",
     "output_type": "stream",
     "text": [
      "              precision    recall  f1-score   support\n",
      "\n",
      "         0.0       0.85      0.98      0.91        41\n",
      "         1.0       0.92      0.63      0.75        19\n",
      "\n",
      "    accuracy                           0.87        60\n",
      "   macro avg       0.89      0.80      0.83        60\n",
      "weighted avg       0.87      0.87      0.86        60\n",
      "\n"
     ]
    }
   ],
   "source": [
    "print(classification_report(y_test,y_pred_dt))"
   ]
  },
  {
   "cell_type": "markdown",
   "metadata": {},
   "source": [
    "**Model: SVM Classifier**"
   ]
  },
  {
   "cell_type": "code",
   "execution_count": 64,
   "metadata": {},
   "outputs": [
    {
     "data": {
      "text/plain": [
       "SVC(C=0.6, random_state=42)"
      ]
     },
     "execution_count": 64,
     "metadata": {},
     "output_type": "execute_result"
    }
   ],
   "source": [
    "svm = SVC(C = 0.6, random_state = 42, kernel='rbf')\n",
    "svm.fit(x_train, y_train)"
   ]
  },
  {
   "cell_type": "code",
   "execution_count": 65,
   "metadata": {},
   "outputs": [
    {
     "name": "stdout",
     "output_type": "stream",
     "text": [
      "[0. 0. 0. 0. 0. 0. 0. 0. 1. 0. 0. 0. 0. 0. 0. 1. 0. 0. 0. 0. 0. 0. 0. 0.\n",
      " 1. 0. 0. 0. 0. 0. 0. 0. 1. 0. 0. 1. 1. 0. 0. 0. 0. 0. 0. 0. 0. 0. 0. 0.\n",
      " 0. 1. 0. 0. 0. 0. 0. 1. 0. 0. 0. 0.]\n"
     ]
    }
   ],
   "source": [
    "y_pred_svc = svm.predict(x_test)\n",
    "print(y_pred_svc)"
   ]
  },
  {
   "cell_type": "code",
   "execution_count": 95,
   "metadata": {},
   "outputs": [
    {
     "name": "stdout",
     "output_type": "stream",
     "text": [
      "[[39  2]\n",
      " [13  6]]\n",
      "0.75\n"
     ]
    }
   ],
   "source": [
    "cm = confusion_matrix(y_test, y_pred_svc)\n",
    "ac = accuracy_score(y_test, y_pred_svc)\n",
    "mylist.append(ac)\n",
    "print(cm)\n",
    "print(ac)"
   ]
  },
  {
   "cell_type": "code",
   "execution_count": 68,
   "metadata": {},
   "outputs": [
    {
     "name": "stdout",
     "output_type": "stream",
     "text": [
      "              precision    recall  f1-score   support\n",
      "\n",
      "         0.0       0.75      0.95      0.84        41\n",
      "         1.0       0.75      0.32      0.44        19\n",
      "\n",
      "    accuracy                           0.75        60\n",
      "   macro avg       0.75      0.63      0.64        60\n",
      "weighted avg       0.75      0.75      0.71        60\n",
      "\n"
     ]
    }
   ],
   "source": [
    "print(classification_report(y_test,y_pred_svc))"
   ]
  },
  {
   "cell_type": "markdown",
   "metadata": {},
   "source": [
    "**Model: K Nearest Neighbor**"
   ]
  },
  {
   "cell_type": "code",
   "execution_count": 69,
   "metadata": {},
   "outputs": [
    {
     "data": {
      "text/plain": [
       "KNeighborsClassifier(n_neighbors=6)"
      ]
     },
     "execution_count": 69,
     "metadata": {},
     "output_type": "execute_result"
    }
   ],
   "source": [
    "kn = KNeighborsClassifier(n_neighbors=6)\n",
    "kn.fit(x_train, y_train)"
   ]
  },
  {
   "cell_type": "code",
   "execution_count": 70,
   "metadata": {},
   "outputs": [
    {
     "name": "stdout",
     "output_type": "stream",
     "text": [
      "[0. 0. 0. 0. 0. 0. 0. 0. 1. 0. 0. 0. 0. 0. 0. 0. 0. 0. 0. 0. 0. 0. 0. 0.\n",
      " 0. 0. 0. 0. 0. 0. 0. 0. 0. 0. 0. 0. 1. 0. 0. 0. 0. 0. 0. 0. 0. 1. 0. 0.\n",
      " 0. 0. 0. 0. 0. 0. 0. 0. 0. 0. 0. 0.]\n"
     ]
    }
   ],
   "source": [
    "y_pred_kn = kn.predict(x_test)\n",
    "print(y_pred_kn)"
   ]
  },
  {
   "cell_type": "code",
   "execution_count": 96,
   "metadata": {},
   "outputs": [
    {
     "name": "stdout",
     "output_type": "stream",
     "text": [
      "[[40  1]\n",
      " [17  2]]\n",
      "0.7\n"
     ]
    }
   ],
   "source": [
    "cm = confusion_matrix(y_test, y_pred_kn)\n",
    "ac = accuracy_score(y_test, y_pred_kn)\n",
    "mylist.append(ac)\n",
    "print(cm)\n",
    "print(ac)"
   ]
  },
  {
   "cell_type": "code",
   "execution_count": 72,
   "metadata": {},
   "outputs": [
    {
     "name": "stdout",
     "output_type": "stream",
     "text": [
      "              precision    recall  f1-score   support\n",
      "\n",
      "         0.0       0.70      0.98      0.82        41\n",
      "         1.0       0.67      0.11      0.18        19\n",
      "\n",
      "    accuracy                           0.70        60\n",
      "   macro avg       0.68      0.54      0.50        60\n",
      "weighted avg       0.69      0.70      0.62        60\n",
      "\n"
     ]
    }
   ],
   "source": [
    "print(classification_report(y_test,y_pred_kn))"
   ]
  },
  {
   "cell_type": "markdown",
   "metadata": {},
   "source": [
    "**Model: Random Forest Classifier**"
   ]
  },
  {
   "cell_type": "code",
   "execution_count": 73,
   "metadata": {},
   "outputs": [
    {
     "data": {
      "text/plain": [
       "RandomForestClassifier(criterion='entropy', n_estimators=11, random_state=42)"
      ]
     },
     "execution_count": 73,
     "metadata": {},
     "output_type": "execute_result"
    }
   ],
   "source": [
    "classifier = RandomForestClassifier(n_estimators=11, criterion='entropy', random_state=42)\n",
    "classifier.fit(x_train, y_train)"
   ]
  },
  {
   "cell_type": "code",
   "execution_count": 74,
   "metadata": {},
   "outputs": [
    {
     "name": "stdout",
     "output_type": "stream",
     "text": [
      "[0. 0. 0. 0. 1. 0. 0. 0. 1. 0. 0. 1. 0. 0. 0. 1. 0. 0. 0. 0. 0. 0. 0. 0.\n",
      " 0. 0. 0. 0. 0. 0. 0. 0. 1. 0. 0. 0. 1. 0. 0. 0. 1. 0. 0. 1. 0. 0. 0. 0.\n",
      " 0. 1. 0. 1. 1. 0. 0. 1. 1. 1. 0. 0.]\n"
     ]
    }
   ],
   "source": [
    "y_pred_rf = classifier.predict(x_test)\n",
    "print(y_pred_rf)"
   ]
  },
  {
   "cell_type": "code",
   "execution_count": 97,
   "metadata": {},
   "outputs": [
    {
     "name": "stdout",
     "output_type": "stream",
     "text": [
      "[[39  2]\n",
      " [ 7 12]]\n",
      "0.85\n"
     ]
    }
   ],
   "source": [
    "cm = confusion_matrix(y_test, y_pred_rf)\n",
    "ac = accuracy_score(y_test, y_pred_rf)\n",
    "mylist.append(ac)\n",
    "print(cm)\n",
    "print(ac)"
   ]
  },
  {
   "cell_type": "code",
   "execution_count": 77,
   "metadata": {},
   "outputs": [
    {
     "name": "stdout",
     "output_type": "stream",
     "text": [
      "              precision    recall  f1-score   support\n",
      "\n",
      "         0.0       0.85      0.95      0.90        41\n",
      "         1.0       0.86      0.63      0.73        19\n",
      "\n",
      "    accuracy                           0.85        60\n",
      "   macro avg       0.85      0.79      0.81        60\n",
      "weighted avg       0.85      0.85      0.84        60\n",
      "\n"
     ]
    }
   ],
   "source": [
    "print(classification_report(y_test,y_pred_rf))"
   ]
  },
  {
   "cell_type": "markdown",
   "metadata": {},
   "source": [
    "**Model: XGBoost**"
   ]
  },
  {
   "cell_type": "code",
   "execution_count": 80,
   "metadata": {},
   "outputs": [
    {
     "data": {
      "text/plain": [
       "XGBClassifier(base_score=0.5, booster='gbtree', callbacks=None,\n",
       "              colsample_bylevel=1, colsample_bynode=1, colsample_bytree=1,\n",
       "              early_stopping_rounds=None, enable_categorical=False,\n",
       "              eval_metric=None, gamma=0, gpu_id=-1, grow_policy='depthwise',\n",
       "              importance_type=None, interaction_constraints='',\n",
       "              learning_rate=0.300000012, max_bin=256, max_cat_to_onehot=4,\n",
       "              max_delta_step=0, max_depth=12, max_leaves=0, min_child_weight=1,\n",
       "              missing=nan, monotone_constraints='()', n_estimators=10, n_jobs=0,\n",
       "              num_parallel_tree=1, predictor='auto', random_state=0,\n",
       "              reg_alpha=0, reg_lambda=1, ...)"
      ]
     },
     "execution_count": 80,
     "metadata": {},
     "output_type": "execute_result"
    }
   ],
   "source": [
    "from xgboost import XGBClassifier\n",
    "classifier = XGBClassifier(n_estimators = 10, max_depth=12, subsample=0.7)\n",
    "classifier.fit(x_train,y_train)"
   ]
  },
  {
   "cell_type": "code",
   "execution_count": 81,
   "metadata": {},
   "outputs": [
    {
     "name": "stdout",
     "output_type": "stream",
     "text": [
      "[0 0 0 1 1 0 0 0 1 1 0 1 0 0 0 1 0 0 0 0 0 0 0 0 0 0 0 0 0 0 0 0 1 0 0 1 1\n",
      " 0 0 0 0 1 0 1 0 0 0 1 0 1 0 1 1 0 0 1 1 1 0 0]\n"
     ]
    }
   ],
   "source": [
    "y_pred_xg = classifier.predict(x_test)\n",
    "print(y_pred_xg)"
   ]
  },
  {
   "cell_type": "code",
   "execution_count": 98,
   "metadata": {},
   "outputs": [
    {
     "name": "stdout",
     "output_type": "stream",
     "text": [
      "[[38  3]\n",
      " [ 4 15]]\n",
      "0.8833333333333333\n"
     ]
    }
   ],
   "source": [
    "cm = confusion_matrix(y_test, y_pred_xg)\n",
    "ac = accuracy_score(y_test, y_pred_xg)\n",
    "mylist.append(ac)\n",
    "print(cm)\n",
    "print(ac)"
   ]
  },
  {
   "cell_type": "code",
   "execution_count": 83,
   "metadata": {},
   "outputs": [
    {
     "name": "stdout",
     "output_type": "stream",
     "text": [
      "              precision    recall  f1-score   support\n",
      "\n",
      "         0.0       0.90      0.93      0.92        41\n",
      "         1.0       0.83      0.79      0.81        19\n",
      "\n",
      "    accuracy                           0.88        60\n",
      "   macro avg       0.87      0.86      0.86        60\n",
      "weighted avg       0.88      0.88      0.88        60\n",
      "\n"
     ]
    }
   ],
   "source": [
    "print(classification_report(y_test,y_pred_xg))"
   ]
  },
  {
   "cell_type": "code",
   "execution_count": 99,
   "metadata": {},
   "outputs": [
    {
     "data": {
      "text/plain": [
       "[0.8333333333333334, 0.8666666666666667, 0.75, 0.7, 0.85, 0.8833333333333333]"
      ]
     },
     "execution_count": 99,
     "metadata": {},
     "output_type": "execute_result"
    }
   ],
   "source": [
    "mylist"
   ]
  },
  {
   "cell_type": "markdown",
   "metadata": {},
   "source": [
    "**Evaluation and Model Comparison**"
   ]
  },
  {
   "cell_type": "code",
   "execution_count": 100,
   "metadata": {},
   "outputs": [],
   "source": [
    "mylist2 = [\"LogisticRegression\", \"DecisionTree\", \"SupportVector\", \"KNearestNeighbours\", \"RandomForest\", \"XGBOOST\"]"
   ]
  },
  {
   "cell_type": "code",
   "execution_count": 101,
   "metadata": {},
   "outputs": [
    {
     "data": {
      "image/png": "[encoded data removed]",
      "text/plain": [
       "<Figure size 1080x432 with 1 Axes>"
      ]
     },
     "metadata": {},
     "output_type": "display_data"
    }
   ],
   "source": [
    "plt.rcParams['figure.figsize']=15,6 \n",
    "sns.set_style(\"darkgrid\")\n",
    "ax = sns.barplot(x=mylist2, y=mylist, palette = \"rocket\", saturation =1.5)\n",
    "plt.xlabel(\"Classifier Models\", fontsize = 20 )\n",
    "plt.ylabel(\"% of Accuracy\", fontsize = 20)\n",
    "plt.title(\"Accuracy of different Classifier Models\", fontsize = 20)\n",
    "plt.xticks(fontsize = 12, horizontalalignment = 'center', rotation = 8)\n",
    "plt.yticks(fontsize = 13)\n",
    "for p in ax.patches:\n",
    "    width, height = p.get_width(), p.get_height()\n",
    "    x, y = p.get_xy() \n",
    "    ax.annotate(f'{height:.2%}', (x + width/2, y + height*1.02), ha='center', fontsize = 'x-large')\n",
    "plt.show()"
   ]
  },
  {
   "cell_type": "code",
   "execution_count": null,
   "metadata": {},
   "outputs": [],
   "source": []
  }
 ],
 "metadata": {
  "kernelspec": {
   "display_name": "Python 3",
   "language": "python",
   "name": "python3"
  },
  "language_info": {
   "codemirror_mode": {
    "name": "ipython",
    "version": 3
   },
   "file_extension": ".py",
   "mimetype": "text/x-python",
   "name": "python",
   "nbconvert_exporter": "python",
   "pygments_lexer": "ipython3",
   "version": "3.7.0"
  }
 },
 "nbformat": 4,
 "nbformat_minor": 2
}
